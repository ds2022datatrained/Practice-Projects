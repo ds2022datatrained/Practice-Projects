{
 "cells": [
  {
   "cell_type": "code",
   "execution_count": 1,
   "id": "5f6ece9e",
   "metadata": {},
   "outputs": [],
   "source": [
    "import pandas as pd\n",
    "import numpy as np\n",
    "import seaborn as sns\n",
    "import matplotlib.pyplot as plt\n",
    "import sklearn\n",
    "from sklearn.linear_model import LinearRegression\n",
    "from sklearn.metrics import r2_score\n",
    "from sklearn.ensemble import GradientBoostingRegressor\n",
    "from sklearn.tree import DecisionTreeRegressor\n",
    "from sklearn.neighbors import KNeighborsRegressor\n",
    "from sklearn.model_selection import train_test_split\n",
    "from sklearn.preprocessing import LabelEncoder\n",
    "import warnings\n",
    "warnings.filterwarnings('ignore')\n",
    "from scipy.stats import zscore\n",
    "import pickle"
   ]
  },
  {
   "cell_type": "code",
   "execution_count": 2,
   "id": "b623690a",
   "metadata": {},
   "outputs": [],
   "source": [
    "df=pd.read_csv('https://raw.githubusercontent.com/dsrscientist/dataset4/main/medical_cost_insurance.csv')"
   ]
  },
  {
   "cell_type": "code",
   "execution_count": 3,
   "id": "678c36a1",
   "metadata": {},
   "outputs": [
    {
     "data": {
      "text/html": [
       "<div>\n",
       "<style scoped>\n",
       "    .dataframe tbody tr th:only-of-type {\n",
       "        vertical-align: middle;\n",
       "    }\n",
       "\n",
       "    .dataframe tbody tr th {\n",
       "        vertical-align: top;\n",
       "    }\n",
       "\n",
       "    .dataframe thead th {\n",
       "        text-align: right;\n",
       "    }\n",
       "</style>\n",
       "<table border=\"1\" class=\"dataframe\">\n",
       "  <thead>\n",
       "    <tr style=\"text-align: right;\">\n",
       "      <th></th>\n",
       "      <th>age</th>\n",
       "      <th>sex</th>\n",
       "      <th>bmi</th>\n",
       "      <th>children</th>\n",
       "      <th>smoker</th>\n",
       "      <th>region</th>\n",
       "      <th>charges</th>\n",
       "    </tr>\n",
       "  </thead>\n",
       "  <tbody>\n",
       "    <tr>\n",
       "      <th>0</th>\n",
       "      <td>19</td>\n",
       "      <td>female</td>\n",
       "      <td>27.900</td>\n",
       "      <td>0</td>\n",
       "      <td>yes</td>\n",
       "      <td>southwest</td>\n",
       "      <td>16884.92400</td>\n",
       "    </tr>\n",
       "    <tr>\n",
       "      <th>1</th>\n",
       "      <td>18</td>\n",
       "      <td>male</td>\n",
       "      <td>33.770</td>\n",
       "      <td>1</td>\n",
       "      <td>no</td>\n",
       "      <td>southeast</td>\n",
       "      <td>1725.55230</td>\n",
       "    </tr>\n",
       "    <tr>\n",
       "      <th>2</th>\n",
       "      <td>28</td>\n",
       "      <td>male</td>\n",
       "      <td>33.000</td>\n",
       "      <td>3</td>\n",
       "      <td>no</td>\n",
       "      <td>southeast</td>\n",
       "      <td>4449.46200</td>\n",
       "    </tr>\n",
       "    <tr>\n",
       "      <th>3</th>\n",
       "      <td>33</td>\n",
       "      <td>male</td>\n",
       "      <td>22.705</td>\n",
       "      <td>0</td>\n",
       "      <td>no</td>\n",
       "      <td>northwest</td>\n",
       "      <td>21984.47061</td>\n",
       "    </tr>\n",
       "    <tr>\n",
       "      <th>4</th>\n",
       "      <td>32</td>\n",
       "      <td>male</td>\n",
       "      <td>28.880</td>\n",
       "      <td>0</td>\n",
       "      <td>no</td>\n",
       "      <td>northwest</td>\n",
       "      <td>3866.85520</td>\n",
       "    </tr>\n",
       "    <tr>\n",
       "      <th>...</th>\n",
       "      <td>...</td>\n",
       "      <td>...</td>\n",
       "      <td>...</td>\n",
       "      <td>...</td>\n",
       "      <td>...</td>\n",
       "      <td>...</td>\n",
       "      <td>...</td>\n",
       "    </tr>\n",
       "    <tr>\n",
       "      <th>1333</th>\n",
       "      <td>50</td>\n",
       "      <td>male</td>\n",
       "      <td>30.970</td>\n",
       "      <td>3</td>\n",
       "      <td>no</td>\n",
       "      <td>northwest</td>\n",
       "      <td>10600.54830</td>\n",
       "    </tr>\n",
       "    <tr>\n",
       "      <th>1334</th>\n",
       "      <td>18</td>\n",
       "      <td>female</td>\n",
       "      <td>31.920</td>\n",
       "      <td>0</td>\n",
       "      <td>no</td>\n",
       "      <td>northeast</td>\n",
       "      <td>2205.98080</td>\n",
       "    </tr>\n",
       "    <tr>\n",
       "      <th>1335</th>\n",
       "      <td>18</td>\n",
       "      <td>female</td>\n",
       "      <td>36.850</td>\n",
       "      <td>0</td>\n",
       "      <td>no</td>\n",
       "      <td>southeast</td>\n",
       "      <td>1629.83350</td>\n",
       "    </tr>\n",
       "    <tr>\n",
       "      <th>1336</th>\n",
       "      <td>21</td>\n",
       "      <td>female</td>\n",
       "      <td>25.800</td>\n",
       "      <td>0</td>\n",
       "      <td>no</td>\n",
       "      <td>southwest</td>\n",
       "      <td>2007.94500</td>\n",
       "    </tr>\n",
       "    <tr>\n",
       "      <th>1337</th>\n",
       "      <td>61</td>\n",
       "      <td>female</td>\n",
       "      <td>29.070</td>\n",
       "      <td>0</td>\n",
       "      <td>yes</td>\n",
       "      <td>northwest</td>\n",
       "      <td>29141.36030</td>\n",
       "    </tr>\n",
       "  </tbody>\n",
       "</table>\n",
       "<p>1338 rows × 7 columns</p>\n",
       "</div>"
      ],
      "text/plain": [
       "      age     sex     bmi  children smoker     region      charges\n",
       "0      19  female  27.900         0    yes  southwest  16884.92400\n",
       "1      18    male  33.770         1     no  southeast   1725.55230\n",
       "2      28    male  33.000         3     no  southeast   4449.46200\n",
       "3      33    male  22.705         0     no  northwest  21984.47061\n",
       "4      32    male  28.880         0     no  northwest   3866.85520\n",
       "...   ...     ...     ...       ...    ...        ...          ...\n",
       "1333   50    male  30.970         3     no  northwest  10600.54830\n",
       "1334   18  female  31.920         0     no  northeast   2205.98080\n",
       "1335   18  female  36.850         0     no  southeast   1629.83350\n",
       "1336   21  female  25.800         0     no  southwest   2007.94500\n",
       "1337   61  female  29.070         0    yes  northwest  29141.36030\n",
       "\n",
       "[1338 rows x 7 columns]"
      ]
     },
     "execution_count": 3,
     "metadata": {},
     "output_type": "execute_result"
    }
   ],
   "source": [
    "df"
   ]
  },
  {
   "cell_type": "code",
   "execution_count": 4,
   "id": "914b5316",
   "metadata": {},
   "outputs": [
    {
     "data": {
      "text/plain": [
       "age         0\n",
       "sex         0\n",
       "bmi         0\n",
       "children    0\n",
       "smoker      0\n",
       "region      0\n",
       "charges     0\n",
       "dtype: int64"
      ]
     },
     "execution_count": 4,
     "metadata": {},
     "output_type": "execute_result"
    }
   ],
   "source": [
    "df.isnull().sum()"
   ]
  },
  {
   "cell_type": "code",
   "execution_count": 5,
   "id": "2331b169",
   "metadata": {},
   "outputs": [
    {
     "data": {
      "text/plain": [
       "age           int64\n",
       "sex          object\n",
       "bmi         float64\n",
       "children      int64\n",
       "smoker       object\n",
       "region       object\n",
       "charges     float64\n",
       "dtype: object"
      ]
     },
     "execution_count": 5,
     "metadata": {},
     "output_type": "execute_result"
    }
   ],
   "source": [
    "df.dtypes"
   ]
  },
  {
   "cell_type": "code",
   "execution_count": 6,
   "id": "3200d649",
   "metadata": {},
   "outputs": [
    {
     "data": {
      "text/plain": [
       "(1338, 7)"
      ]
     },
     "execution_count": 6,
     "metadata": {},
     "output_type": "execute_result"
    }
   ],
   "source": [
    "df.shape"
   ]
  },
  {
   "cell_type": "code",
   "execution_count": 7,
   "id": "13224a04",
   "metadata": {},
   "outputs": [
    {
     "name": "stdout",
     "output_type": "stream",
     "text": [
      "<class 'pandas.core.frame.DataFrame'>\n",
      "RangeIndex: 1338 entries, 0 to 1337\n",
      "Data columns (total 7 columns):\n",
      " #   Column    Non-Null Count  Dtype  \n",
      "---  ------    --------------  -----  \n",
      " 0   age       1338 non-null   int64  \n",
      " 1   sex       1338 non-null   object \n",
      " 2   bmi       1338 non-null   float64\n",
      " 3   children  1338 non-null   int64  \n",
      " 4   smoker    1338 non-null   object \n",
      " 5   region    1338 non-null   object \n",
      " 6   charges   1338 non-null   float64\n",
      "dtypes: float64(2), int64(2), object(3)\n",
      "memory usage: 73.3+ KB\n"
     ]
    }
   ],
   "source": [
    "df.info()"
   ]
  },
  {
   "cell_type": "code",
   "execution_count": 8,
   "id": "94b2b4a9",
   "metadata": {},
   "outputs": [
    {
     "data": {
      "text/html": [
       "<div>\n",
       "<style scoped>\n",
       "    .dataframe tbody tr th:only-of-type {\n",
       "        vertical-align: middle;\n",
       "    }\n",
       "\n",
       "    .dataframe tbody tr th {\n",
       "        vertical-align: top;\n",
       "    }\n",
       "\n",
       "    .dataframe thead th {\n",
       "        text-align: right;\n",
       "    }\n",
       "</style>\n",
       "<table border=\"1\" class=\"dataframe\">\n",
       "  <thead>\n",
       "    <tr style=\"text-align: right;\">\n",
       "      <th></th>\n",
       "      <th>age</th>\n",
       "      <th>bmi</th>\n",
       "      <th>children</th>\n",
       "      <th>charges</th>\n",
       "    </tr>\n",
       "  </thead>\n",
       "  <tbody>\n",
       "    <tr>\n",
       "      <th>count</th>\n",
       "      <td>1338.000000</td>\n",
       "      <td>1338.000000</td>\n",
       "      <td>1338.000000</td>\n",
       "      <td>1338.000000</td>\n",
       "    </tr>\n",
       "    <tr>\n",
       "      <th>mean</th>\n",
       "      <td>39.207025</td>\n",
       "      <td>30.663397</td>\n",
       "      <td>1.094918</td>\n",
       "      <td>13270.422265</td>\n",
       "    </tr>\n",
       "    <tr>\n",
       "      <th>std</th>\n",
       "      <td>14.049960</td>\n",
       "      <td>6.098187</td>\n",
       "      <td>1.205493</td>\n",
       "      <td>12110.011237</td>\n",
       "    </tr>\n",
       "    <tr>\n",
       "      <th>min</th>\n",
       "      <td>18.000000</td>\n",
       "      <td>15.960000</td>\n",
       "      <td>0.000000</td>\n",
       "      <td>1121.873900</td>\n",
       "    </tr>\n",
       "    <tr>\n",
       "      <th>25%</th>\n",
       "      <td>27.000000</td>\n",
       "      <td>26.296250</td>\n",
       "      <td>0.000000</td>\n",
       "      <td>4740.287150</td>\n",
       "    </tr>\n",
       "    <tr>\n",
       "      <th>50%</th>\n",
       "      <td>39.000000</td>\n",
       "      <td>30.400000</td>\n",
       "      <td>1.000000</td>\n",
       "      <td>9382.033000</td>\n",
       "    </tr>\n",
       "    <tr>\n",
       "      <th>75%</th>\n",
       "      <td>51.000000</td>\n",
       "      <td>34.693750</td>\n",
       "      <td>2.000000</td>\n",
       "      <td>16639.912515</td>\n",
       "    </tr>\n",
       "    <tr>\n",
       "      <th>max</th>\n",
       "      <td>64.000000</td>\n",
       "      <td>53.130000</td>\n",
       "      <td>5.000000</td>\n",
       "      <td>63770.428010</td>\n",
       "    </tr>\n",
       "  </tbody>\n",
       "</table>\n",
       "</div>"
      ],
      "text/plain": [
       "               age          bmi     children       charges\n",
       "count  1338.000000  1338.000000  1338.000000   1338.000000\n",
       "mean     39.207025    30.663397     1.094918  13270.422265\n",
       "std      14.049960     6.098187     1.205493  12110.011237\n",
       "min      18.000000    15.960000     0.000000   1121.873900\n",
       "25%      27.000000    26.296250     0.000000   4740.287150\n",
       "50%      39.000000    30.400000     1.000000   9382.033000\n",
       "75%      51.000000    34.693750     2.000000  16639.912515\n",
       "max      64.000000    53.130000     5.000000  63770.428010"
      ]
     },
     "execution_count": 8,
     "metadata": {},
     "output_type": "execute_result"
    }
   ],
   "source": [
    "df.describe()"
   ]
  },
  {
   "cell_type": "markdown",
   "id": "d03cdd77",
   "metadata": {},
   "source": [
    "Observations:\n",
    "(1) The Mean & Median (50% Percentile) values are appoximately same of age, bmi & children so No Skewness are there. But in charges column the mean median difference is high so this coulumn data is having right sided skewness.\n",
    "(2) By using isnull method above, we have found that no NaN values are there in this dataset.\n",
    "(3) We are getting the difference between 75% Percentile and Maximum value, so OUtliers are there, especially in the charges column."
   ]
  },
  {
   "cell_type": "markdown",
   "id": "5312a647",
   "metadata": {},
   "source": [
    "As we have to predict the Insurance Costs, so the charges column is our Target (Label) column. And because of the charges colomn is the continueous value data, we are using Linear Regression for this prediction."
   ]
  },
  {
   "cell_type": "code",
   "execution_count": 9,
   "id": "e2cc7471",
   "metadata": {},
   "outputs": [
    {
     "data": {
      "text/plain": [
       "<AxesSubplot:>"
      ]
     },
     "execution_count": 9,
     "metadata": {},
     "output_type": "execute_result"
    },
    {
     "data": {
      "image/png": "[encoded data removed]",
      "text/plain": [
       "<Figure size 500x500 with 2 Axes>"
      ]
     },
     "metadata": {},
     "output_type": "display_data"
    }
   ],
   "source": [
    "plt.figure(figsize=(5,5))\n",
    "sns.heatmap(df.corr(),annot=True,cmap='Blues')"
   ]
  },
  {
   "cell_type": "markdown",
   "id": "c47628c4",
   "metadata": {},
   "source": [
    "Observation:\n",
    "(1) By the above Heatmap it is found that there is Negative relation between age & bmi, children & bmi and children & charges.\n"
   ]
  },
  {
   "cell_type": "code",
   "execution_count": 10,
   "id": "6b6dc414",
   "metadata": {},
   "outputs": [
    {
     "data": {
      "text/plain": [
       "age            AxesSubplot(0.125,0.11;0.168478x0.77)\n",
       "bmi         AxesSubplot(0.327174,0.11;0.168478x0.77)\n",
       "children    AxesSubplot(0.529348,0.11;0.168478x0.77)\n",
       "charges     AxesSubplot(0.731522,0.11;0.168478x0.77)\n",
       "dtype: object"
      ]
     },
     "execution_count": 10,
     "metadata": {},
     "output_type": "execute_result"
    },
    {
     "data": {
      "image/png": "[encoded data removed]",
      "text/plain": [
       "<Figure size 1200x1200 with 4 Axes>"
      ]
     },
     "metadata": {},
     "output_type": "display_data"
    }
   ],
   "source": [
    "df.plot(kind='box',figsize=(12,12),layout=(1,4),subplots=True)"
   ]
  },
  {
   "cell_type": "markdown",
   "id": "294ea7f3",
   "metadata": {},
   "source": [
    "It is observed that bmi is having some outliers but charges column is having much amount of outliers data"
   ]
  },
  {
   "cell_type": "code",
   "execution_count": 11,
   "id": "20aa7599",
   "metadata": {},
   "outputs": [
    {
     "data": {
      "text/plain": [
       "Index(['age', 'sex', 'bmi', 'children', 'smoker', 'region', 'charges'], dtype='object')"
      ]
     },
     "execution_count": 11,
     "metadata": {},
     "output_type": "execute_result"
    }
   ],
   "source": [
    "df.columns"
   ]
  },
  {
   "cell_type": "code",
   "execution_count": 12,
   "id": "38d236ac",
   "metadata": {},
   "outputs": [
    {
     "data": {
      "text/plain": [
       "<AxesSubplot:xlabel='sex', ylabel='charges'>"
      ]
     },
     "execution_count": 12,
     "metadata": {},
     "output_type": "execute_result"
    },
    {
     "data": {
      "image/png": "[encoded data removed]",
      "text/plain": [
       "<Figure size 640x480 with 1 Axes>"
      ]
     },
     "metadata": {},
     "output_type": "display_data"
    }
   ],
   "source": [
    "sns.scatterplot(df['sex'],df['charges'])"
   ]
  },
  {
   "cell_type": "code",
   "execution_count": 13,
   "id": "4343555a",
   "metadata": {},
   "outputs": [
    {
     "data": {
      "text/plain": [
       "<AxesSubplot:xlabel='region', ylabel='charges'>"
      ]
     },
     "execution_count": 13,
     "metadata": {},
     "output_type": "execute_result"
    },
    {
     "data": {
      "image/png": "[encoded data removed]",
      "text/plain": [
       "<Figure size 640x480 with 1 Axes>"
      ]
     },
     "metadata": {},
     "output_type": "display_data"
    }
   ],
   "source": [
    "sns.scatterplot(df['region'],df['charges'])"
   ]
  },
  {
   "cell_type": "code",
   "execution_count": 14,
   "id": "5d85642d",
   "metadata": {},
   "outputs": [
    {
     "data": {
      "text/plain": [
       "<AxesSubplot:xlabel='smoker', ylabel='charges'>"
      ]
     },
     "execution_count": 14,
     "metadata": {},
     "output_type": "execute_result"
    },
    {
     "data": {
      "image/png": "[encoded data removed]",
      "text/plain": [
       "<Figure size 640x480 with 1 Axes>"
      ]
     },
     "metadata": {},
     "output_type": "display_data"
    }
   ],
   "source": [
    "sns.scatterplot(df['smoker'],df['charges'])"
   ]
  },
  {
   "cell_type": "markdown",
   "id": "dbb467e8",
   "metadata": {},
   "source": [
    "Observation:\n",
    "(1) Male medical charges are little greater than Female.\n",
    "(2) Region wise medical costs are almost same, in southeast it is a little higher.\n",
    "(3) Smoker persons medical charges are higher that the Non Smoker persons."
   ]
  },
  {
   "cell_type": "code",
   "execution_count": 15,
   "id": "8373619e",
   "metadata": {},
   "outputs": [
    {
     "data": {
      "text/plain": [
       "Index(['age', 'sex', 'bmi', 'children', 'smoker', 'region', 'charges'], dtype='object')"
      ]
     },
     "execution_count": 15,
     "metadata": {},
     "output_type": "execute_result"
    }
   ],
   "source": [
    "df.columns"
   ]
  },
  {
   "cell_type": "code",
   "execution_count": 16,
   "id": "bfd566b8",
   "metadata": {},
   "outputs": [],
   "source": [
    "le=sklearn.preprocessing.LabelEncoder()"
   ]
  },
  {
   "cell_type": "code",
   "execution_count": 17,
   "id": "b2514295",
   "metadata": {},
   "outputs": [],
   "source": [
    "df['sex']=le.fit_transform(df['sex'])"
   ]
  },
  {
   "cell_type": "code",
   "execution_count": 18,
   "id": "13a58df7",
   "metadata": {},
   "outputs": [
    {
     "data": {
      "text/plain": [
       "0       0\n",
       "1       1\n",
       "2       1\n",
       "3       1\n",
       "4       1\n",
       "       ..\n",
       "1333    1\n",
       "1334    0\n",
       "1335    0\n",
       "1336    0\n",
       "1337    0\n",
       "Name: sex, Length: 1338, dtype: int32"
      ]
     },
     "execution_count": 18,
     "metadata": {},
     "output_type": "execute_result"
    }
   ],
   "source": [
    "df['sex']"
   ]
  },
  {
   "cell_type": "code",
   "execution_count": 19,
   "id": "7be64107",
   "metadata": {},
   "outputs": [],
   "source": [
    "df['smoker']=le.fit_transform(df['smoker'])"
   ]
  },
  {
   "cell_type": "code",
   "execution_count": 20,
   "id": "0c605af5",
   "metadata": {},
   "outputs": [
    {
     "data": {
      "text/plain": [
       "0       1\n",
       "1       0\n",
       "2       0\n",
       "3       0\n",
       "4       0\n",
       "       ..\n",
       "1333    0\n",
       "1334    0\n",
       "1335    0\n",
       "1336    0\n",
       "1337    1\n",
       "Name: smoker, Length: 1338, dtype: int32"
      ]
     },
     "execution_count": 20,
     "metadata": {},
     "output_type": "execute_result"
    }
   ],
   "source": [
    "df['smoker']"
   ]
  },
  {
   "cell_type": "code",
   "execution_count": 21,
   "id": "f6b8e8ee",
   "metadata": {},
   "outputs": [],
   "source": [
    "df['region']=le.fit_transform(df['region'])"
   ]
  },
  {
   "cell_type": "code",
   "execution_count": 22,
   "id": "098886a2",
   "metadata": {},
   "outputs": [
    {
     "data": {
      "text/plain": [
       "0       3\n",
       "1       2\n",
       "2       2\n",
       "3       1\n",
       "4       1\n",
       "       ..\n",
       "1333    1\n",
       "1334    0\n",
       "1335    2\n",
       "1336    3\n",
       "1337    1\n",
       "Name: region, Length: 1338, dtype: int32"
      ]
     },
     "execution_count": 22,
     "metadata": {},
     "output_type": "execute_result"
    }
   ],
   "source": [
    "df['region']"
   ]
  },
  {
   "cell_type": "code",
   "execution_count": 23,
   "id": "f52def73",
   "metadata": {},
   "outputs": [],
   "source": [
    "absz=np.abs(zscore(df))"
   ]
  },
  {
   "cell_type": "code",
   "execution_count": 24,
   "id": "4370f41e",
   "metadata": {},
   "outputs": [
    {
     "data": {
      "text/html": [
       "<div>\n",
       "<style scoped>\n",
       "    .dataframe tbody tr th:only-of-type {\n",
       "        vertical-align: middle;\n",
       "    }\n",
       "\n",
       "    .dataframe tbody tr th {\n",
       "        vertical-align: top;\n",
       "    }\n",
       "\n",
       "    .dataframe thead th {\n",
       "        text-align: right;\n",
       "    }\n",
       "</style>\n",
       "<table border=\"1\" class=\"dataframe\">\n",
       "  <thead>\n",
       "    <tr style=\"text-align: right;\">\n",
       "      <th></th>\n",
       "      <th>age</th>\n",
       "      <th>sex</th>\n",
       "      <th>bmi</th>\n",
       "      <th>children</th>\n",
       "      <th>smoker</th>\n",
       "      <th>region</th>\n",
       "      <th>charges</th>\n",
       "    </tr>\n",
       "  </thead>\n",
       "  <tbody>\n",
       "    <tr>\n",
       "      <th>0</th>\n",
       "      <td>1.438764</td>\n",
       "      <td>1.010519</td>\n",
       "      <td>0.453320</td>\n",
       "      <td>0.908614</td>\n",
       "      <td>1.970587</td>\n",
       "      <td>1.343905</td>\n",
       "      <td>0.298584</td>\n",
       "    </tr>\n",
       "    <tr>\n",
       "      <th>1</th>\n",
       "      <td>1.509965</td>\n",
       "      <td>0.989591</td>\n",
       "      <td>0.509621</td>\n",
       "      <td>0.078767</td>\n",
       "      <td>0.507463</td>\n",
       "      <td>0.438495</td>\n",
       "      <td>0.953689</td>\n",
       "    </tr>\n",
       "    <tr>\n",
       "      <th>2</th>\n",
       "      <td>0.797954</td>\n",
       "      <td>0.989591</td>\n",
       "      <td>0.383307</td>\n",
       "      <td>1.580926</td>\n",
       "      <td>0.507463</td>\n",
       "      <td>0.438495</td>\n",
       "      <td>0.728675</td>\n",
       "    </tr>\n",
       "    <tr>\n",
       "      <th>3</th>\n",
       "      <td>0.441948</td>\n",
       "      <td>0.989591</td>\n",
       "      <td>1.305531</td>\n",
       "      <td>0.908614</td>\n",
       "      <td>0.507463</td>\n",
       "      <td>0.466915</td>\n",
       "      <td>0.719843</td>\n",
       "    </tr>\n",
       "    <tr>\n",
       "      <th>4</th>\n",
       "      <td>0.513149</td>\n",
       "      <td>0.989591</td>\n",
       "      <td>0.292556</td>\n",
       "      <td>0.908614</td>\n",
       "      <td>0.507463</td>\n",
       "      <td>0.466915</td>\n",
       "      <td>0.776802</td>\n",
       "    </tr>\n",
       "    <tr>\n",
       "      <th>...</th>\n",
       "      <td>...</td>\n",
       "      <td>...</td>\n",
       "      <td>...</td>\n",
       "      <td>...</td>\n",
       "      <td>...</td>\n",
       "      <td>...</td>\n",
       "      <td>...</td>\n",
       "    </tr>\n",
       "    <tr>\n",
       "      <th>1333</th>\n",
       "      <td>0.768473</td>\n",
       "      <td>0.989591</td>\n",
       "      <td>0.050297</td>\n",
       "      <td>1.580926</td>\n",
       "      <td>0.507463</td>\n",
       "      <td>0.466915</td>\n",
       "      <td>0.220551</td>\n",
       "    </tr>\n",
       "    <tr>\n",
       "      <th>1334</th>\n",
       "      <td>1.509965</td>\n",
       "      <td>1.010519</td>\n",
       "      <td>0.206139</td>\n",
       "      <td>0.908614</td>\n",
       "      <td>0.507463</td>\n",
       "      <td>1.372326</td>\n",
       "      <td>0.914002</td>\n",
       "    </tr>\n",
       "    <tr>\n",
       "      <th>1335</th>\n",
       "      <td>1.509965</td>\n",
       "      <td>1.010519</td>\n",
       "      <td>1.014878</td>\n",
       "      <td>0.908614</td>\n",
       "      <td>0.507463</td>\n",
       "      <td>0.438495</td>\n",
       "      <td>0.961596</td>\n",
       "    </tr>\n",
       "    <tr>\n",
       "      <th>1336</th>\n",
       "      <td>1.296362</td>\n",
       "      <td>1.010519</td>\n",
       "      <td>0.797813</td>\n",
       "      <td>0.908614</td>\n",
       "      <td>0.507463</td>\n",
       "      <td>1.343905</td>\n",
       "      <td>0.930362</td>\n",
       "    </tr>\n",
       "    <tr>\n",
       "      <th>1337</th>\n",
       "      <td>1.551686</td>\n",
       "      <td>1.010519</td>\n",
       "      <td>0.261388</td>\n",
       "      <td>0.908614</td>\n",
       "      <td>1.970587</td>\n",
       "      <td>0.466915</td>\n",
       "      <td>1.311053</td>\n",
       "    </tr>\n",
       "  </tbody>\n",
       "</table>\n",
       "<p>1338 rows × 7 columns</p>\n",
       "</div>"
      ],
      "text/plain": [
       "           age       sex       bmi  children    smoker    region   charges\n",
       "0     1.438764  1.010519  0.453320  0.908614  1.970587  1.343905  0.298584\n",
       "1     1.509965  0.989591  0.509621  0.078767  0.507463  0.438495  0.953689\n",
       "2     0.797954  0.989591  0.383307  1.580926  0.507463  0.438495  0.728675\n",
       "3     0.441948  0.989591  1.305531  0.908614  0.507463  0.466915  0.719843\n",
       "4     0.513149  0.989591  0.292556  0.908614  0.507463  0.466915  0.776802\n",
       "...        ...       ...       ...       ...       ...       ...       ...\n",
       "1333  0.768473  0.989591  0.050297  1.580926  0.507463  0.466915  0.220551\n",
       "1334  1.509965  1.010519  0.206139  0.908614  0.507463  1.372326  0.914002\n",
       "1335  1.509965  1.010519  1.014878  0.908614  0.507463  0.438495  0.961596\n",
       "1336  1.296362  1.010519  0.797813  0.908614  0.507463  1.343905  0.930362\n",
       "1337  1.551686  1.010519  0.261388  0.908614  1.970587  0.466915  1.311053\n",
       "\n",
       "[1338 rows x 7 columns]"
      ]
     },
     "execution_count": 24,
     "metadata": {},
     "output_type": "execute_result"
    }
   ],
   "source": [
    "absz"
   ]
  },
  {
   "cell_type": "code",
   "execution_count": 25,
   "id": "1150e50f",
   "metadata": {},
   "outputs": [],
   "source": [
    "cleaned_df=df[(absz<3).all(axis=1)]"
   ]
  },
  {
   "cell_type": "code",
   "execution_count": 26,
   "id": "e6cce2cd",
   "metadata": {},
   "outputs": [
    {
     "data": {
      "text/html": [
       "<div>\n",
       "<style scoped>\n",
       "    .dataframe tbody tr th:only-of-type {\n",
       "        vertical-align: middle;\n",
       "    }\n",
       "\n",
       "    .dataframe tbody tr th {\n",
       "        vertical-align: top;\n",
       "    }\n",
       "\n",
       "    .dataframe thead th {\n",
       "        text-align: right;\n",
       "    }\n",
       "</style>\n",
       "<table border=\"1\" class=\"dataframe\">\n",
       "  <thead>\n",
       "    <tr style=\"text-align: right;\">\n",
       "      <th></th>\n",
       "      <th>age</th>\n",
       "      <th>sex</th>\n",
       "      <th>bmi</th>\n",
       "      <th>children</th>\n",
       "      <th>smoker</th>\n",
       "      <th>region</th>\n",
       "      <th>charges</th>\n",
       "    </tr>\n",
       "  </thead>\n",
       "  <tbody>\n",
       "    <tr>\n",
       "      <th>0</th>\n",
       "      <td>19</td>\n",
       "      <td>0</td>\n",
       "      <td>27.900</td>\n",
       "      <td>0</td>\n",
       "      <td>1</td>\n",
       "      <td>3</td>\n",
       "      <td>16884.92400</td>\n",
       "    </tr>\n",
       "    <tr>\n",
       "      <th>1</th>\n",
       "      <td>18</td>\n",
       "      <td>1</td>\n",
       "      <td>33.770</td>\n",
       "      <td>1</td>\n",
       "      <td>0</td>\n",
       "      <td>2</td>\n",
       "      <td>1725.55230</td>\n",
       "    </tr>\n",
       "    <tr>\n",
       "      <th>2</th>\n",
       "      <td>28</td>\n",
       "      <td>1</td>\n",
       "      <td>33.000</td>\n",
       "      <td>3</td>\n",
       "      <td>0</td>\n",
       "      <td>2</td>\n",
       "      <td>4449.46200</td>\n",
       "    </tr>\n",
       "    <tr>\n",
       "      <th>3</th>\n",
       "      <td>33</td>\n",
       "      <td>1</td>\n",
       "      <td>22.705</td>\n",
       "      <td>0</td>\n",
       "      <td>0</td>\n",
       "      <td>1</td>\n",
       "      <td>21984.47061</td>\n",
       "    </tr>\n",
       "    <tr>\n",
       "      <th>4</th>\n",
       "      <td>32</td>\n",
       "      <td>1</td>\n",
       "      <td>28.880</td>\n",
       "      <td>0</td>\n",
       "      <td>0</td>\n",
       "      <td>1</td>\n",
       "      <td>3866.85520</td>\n",
       "    </tr>\n",
       "    <tr>\n",
       "      <th>...</th>\n",
       "      <td>...</td>\n",
       "      <td>...</td>\n",
       "      <td>...</td>\n",
       "      <td>...</td>\n",
       "      <td>...</td>\n",
       "      <td>...</td>\n",
       "      <td>...</td>\n",
       "    </tr>\n",
       "    <tr>\n",
       "      <th>1333</th>\n",
       "      <td>50</td>\n",
       "      <td>1</td>\n",
       "      <td>30.970</td>\n",
       "      <td>3</td>\n",
       "      <td>0</td>\n",
       "      <td>1</td>\n",
       "      <td>10600.54830</td>\n",
       "    </tr>\n",
       "    <tr>\n",
       "      <th>1334</th>\n",
       "      <td>18</td>\n",
       "      <td>0</td>\n",
       "      <td>31.920</td>\n",
       "      <td>0</td>\n",
       "      <td>0</td>\n",
       "      <td>0</td>\n",
       "      <td>2205.98080</td>\n",
       "    </tr>\n",
       "    <tr>\n",
       "      <th>1335</th>\n",
       "      <td>18</td>\n",
       "      <td>0</td>\n",
       "      <td>36.850</td>\n",
       "      <td>0</td>\n",
       "      <td>0</td>\n",
       "      <td>2</td>\n",
       "      <td>1629.83350</td>\n",
       "    </tr>\n",
       "    <tr>\n",
       "      <th>1336</th>\n",
       "      <td>21</td>\n",
       "      <td>0</td>\n",
       "      <td>25.800</td>\n",
       "      <td>0</td>\n",
       "      <td>0</td>\n",
       "      <td>3</td>\n",
       "      <td>2007.94500</td>\n",
       "    </tr>\n",
       "    <tr>\n",
       "      <th>1337</th>\n",
       "      <td>61</td>\n",
       "      <td>0</td>\n",
       "      <td>29.070</td>\n",
       "      <td>0</td>\n",
       "      <td>1</td>\n",
       "      <td>1</td>\n",
       "      <td>29141.36030</td>\n",
       "    </tr>\n",
       "  </tbody>\n",
       "</table>\n",
       "<p>1309 rows × 7 columns</p>\n",
       "</div>"
      ],
      "text/plain": [
       "      age  sex     bmi  children  smoker  region      charges\n",
       "0      19    0  27.900         0       1       3  16884.92400\n",
       "1      18    1  33.770         1       0       2   1725.55230\n",
       "2      28    1  33.000         3       0       2   4449.46200\n",
       "3      33    1  22.705         0       0       1  21984.47061\n",
       "4      32    1  28.880         0       0       1   3866.85520\n",
       "...   ...  ...     ...       ...     ...     ...          ...\n",
       "1333   50    1  30.970         3       0       1  10600.54830\n",
       "1334   18    0  31.920         0       0       0   2205.98080\n",
       "1335   18    0  36.850         0       0       2   1629.83350\n",
       "1336   21    0  25.800         0       0       3   2007.94500\n",
       "1337   61    0  29.070         0       1       1  29141.36030\n",
       "\n",
       "[1309 rows x 7 columns]"
      ]
     },
     "execution_count": 26,
     "metadata": {},
     "output_type": "execute_result"
    }
   ],
   "source": [
    "cleaned_df"
   ]
  },
  {
   "cell_type": "code",
   "execution_count": 27,
   "id": "0b4f4f39",
   "metadata": {},
   "outputs": [],
   "source": [
    "x=cleaned_df.iloc[:,0:-1]"
   ]
  },
  {
   "cell_type": "code",
   "execution_count": 28,
   "id": "1a608b5d",
   "metadata": {},
   "outputs": [
    {
     "data": {
      "text/plain": [
       "(1309, 6)"
      ]
     },
     "execution_count": 28,
     "metadata": {},
     "output_type": "execute_result"
    }
   ],
   "source": [
    "x.shape"
   ]
  },
  {
   "cell_type": "code",
   "execution_count": 29,
   "id": "131d45e9",
   "metadata": {},
   "outputs": [],
   "source": [
    "y=cleaned_df.iloc[:,-1]"
   ]
  },
  {
   "cell_type": "code",
   "execution_count": 30,
   "id": "87be083e",
   "metadata": {},
   "outputs": [
    {
     "data": {
      "text/plain": [
       "(1309,)"
      ]
     },
     "execution_count": 30,
     "metadata": {},
     "output_type": "execute_result"
    }
   ],
   "source": [
    "y.shape"
   ]
  },
  {
   "cell_type": "code",
   "execution_count": 31,
   "id": "5b814a23",
   "metadata": {},
   "outputs": [],
   "source": [
    "xtrain,xtest,ytrain,ytest=train_test_split(x,y,test_size=0.30,random_state=43)"
   ]
  },
  {
   "cell_type": "code",
   "execution_count": 32,
   "id": "ad877405",
   "metadata": {},
   "outputs": [
    {
     "data": {
      "text/plain": [
       "(916, 6)"
      ]
     },
     "execution_count": 32,
     "metadata": {},
     "output_type": "execute_result"
    }
   ],
   "source": [
    "xtrain.shape"
   ]
  },
  {
   "cell_type": "code",
   "execution_count": 33,
   "id": "bb6ed5db",
   "metadata": {},
   "outputs": [
    {
     "data": {
      "text/plain": [
       "(916,)"
      ]
     },
     "execution_count": 33,
     "metadata": {},
     "output_type": "execute_result"
    }
   ],
   "source": [
    "ytrain.shape"
   ]
  },
  {
   "cell_type": "code",
   "execution_count": 34,
   "id": "2a976ea3",
   "metadata": {},
   "outputs": [
    {
     "data": {
      "text/plain": [
       "(393, 6)"
      ]
     },
     "execution_count": 34,
     "metadata": {},
     "output_type": "execute_result"
    }
   ],
   "source": [
    "xtest.shape"
   ]
  },
  {
   "cell_type": "code",
   "execution_count": 35,
   "id": "0ac375b0",
   "metadata": {},
   "outputs": [
    {
     "data": {
      "text/plain": [
       "(393,)"
      ]
     },
     "execution_count": 35,
     "metadata": {},
     "output_type": "execute_result"
    }
   ],
   "source": [
    "ytest.shape"
   ]
  },
  {
   "cell_type": "code",
   "execution_count": 36,
   "id": "066f4982",
   "metadata": {},
   "outputs": [],
   "source": [
    "lir=LinearRegression()"
   ]
  },
  {
   "cell_type": "code",
   "execution_count": 37,
   "id": "9b6c27a7",
   "metadata": {},
   "outputs": [
    {
     "data": {
      "text/plain": [
       "LinearRegression()"
      ]
     },
     "execution_count": 37,
     "metadata": {},
     "output_type": "execute_result"
    }
   ],
   "source": [
    "lir.fit(xtrain,ytrain)"
   ]
  },
  {
   "cell_type": "code",
   "execution_count": 38,
   "id": "7128e8f5",
   "metadata": {},
   "outputs": [],
   "source": [
    "pred1=lir.predict(xtest)"
   ]
  },
  {
   "cell_type": "code",
   "execution_count": 39,
   "id": "57e6a2d6",
   "metadata": {},
   "outputs": [
    {
     "data": {
      "text/plain": [
       "array([ 1.47382659e+04, -4.01527138e+02,  1.95119833e+03,  3.26806669e+04,\n",
       "        2.66388517e+04,  5.62713357e+03,  7.14903018e+03,  1.37021421e+04,\n",
       "        1.14535458e+04,  7.90302868e+01,  2.94214780e+04,  9.96353097e+03,\n",
       "        1.07116972e+04,  4.23371352e+03,  3.85474026e+04,  2.52400477e+04,\n",
       "        2.76946149e+04,  1.76240040e+04,  8.81906167e+03,  1.13431212e+04,\n",
       "       -1.02636864e+03,  3.90754060e+04,  1.11626811e+04,  7.39304318e+03,\n",
       "        3.57446543e+04,  8.07089669e+03,  1.35306735e+04,  5.94714113e+03,\n",
       "        5.19679721e+03,  2.95513882e+04,  9.77891647e+03,  3.45558395e+04,\n",
       "        1.11975035e+03,  1.87633672e+03,  1.01837941e+04,  1.20224163e+04,\n",
       "        3.11841922e+04,  2.89791809e+03,  3.31896190e+04,  1.20183757e+04,\n",
       "        9.01329693e+02,  1.10610362e+04,  3.66968852e+04,  1.28814022e+04,\n",
       "        2.77427898e+04,  3.31536234e+03,  1.13985828e+04,  1.71616717e+04,\n",
       "        3.04598457e+04,  2.16657179e+03,  1.53705732e+04,  1.16839518e+04,\n",
       "        1.13000423e+04,  8.09605692e+03,  1.37208636e+04,  9.37395756e+03,\n",
       "        1.46499202e+04,  1.02531033e+04,  3.74835421e+03,  2.89830099e+04,\n",
       "        3.04395760e+04,  5.22465456e+03,  1.06305401e+04,  2.90318413e+04,\n",
       "        1.22265028e+04,  3.52571594e+04,  6.65516838e+03,  2.72802392e+04,\n",
       "        3.18469189e+04,  8.78907689e+03,  3.22209569e+03,  1.09380699e+04,\n",
       "        2.96092238e+03,  9.73790188e+03,  1.05081317e+04,  4.69807290e+03,\n",
       "        2.81646978e+03,  1.87982317e+03,  7.59150760e+02,  5.59739798e+03,\n",
       "        9.55069663e+03,  8.22089710e+03,  6.45021538e+03,  4.02531358e+03,\n",
       "        4.99552695e+03, -1.04576770e+03,  1.38887602e+04,  2.46106287e+04,\n",
       "        1.37451004e+04,  1.01354792e+04,  8.91431247e+03,  3.87873402e+03,\n",
       "        1.82634046e+03,  9.91056147e+03,  9.54811276e+03,  6.11749170e+03,\n",
       "        1.14185695e+04,  1.58768239e+04,  2.43646741e+00,  3.39975303e+04,\n",
       "        1.45551889e+04,  2.61953591e+04,  2.82608321e+04,  2.48961436e+04,\n",
       "        2.87361587e+04,  7.23368428e+03,  9.93564334e+02,  1.63714929e+04,\n",
       "        8.32719803e+03,  2.16369715e+03,  8.10781870e+03,  8.18359819e+03,\n",
       "        5.64456379e+03,  4.58359968e+03,  5.47778293e+03,  6.26404537e+03,\n",
       "        1.47516098e+04,  1.29346646e+04,  2.62635895e+04,  3.42557718e+04,\n",
       "        1.38838144e+04,  1.27779381e+04,  7.81525369e+03,  2.25402303e+04,\n",
       "        2.54157157e+04,  2.33135124e+03,  7.70153787e+03,  5.63158255e+03,\n",
       "        1.31984731e+04,  1.16954672e+04,  1.15803218e+04,  3.42467649e+04,\n",
       "        1.24717221e+04,  2.82397692e+04,  4.31256069e+03,  1.45568434e+04,\n",
       "        1.46758870e+04,  1.20561203e+04,  2.66297436e+04,  9.08698803e+03,\n",
       "        4.08955258e+03,  4.00783718e+04,  1.34078566e+04,  2.94170599e+03,\n",
       "        3.06392752e+04,  1.20672953e+04,  1.35677862e+04,  1.55434321e+04,\n",
       "        1.11323667e+04,  3.14181141e+04, -1.64207006e+02,  2.78471460e+04,\n",
       "        7.93853532e+03,  3.14510126e+04,  3.12464095e+04,  7.29864793e+03,\n",
       "        3.08107432e+04,  3.31656342e+04,  2.28355408e+04,  1.44663431e+04,\n",
       "        2.34632829e+03,  1.39909168e+04,  3.29357943e+04,  1.15616983e+04,\n",
       "        9.54514167e+03,  1.22577738e+04,  1.87860539e+00,  1.38620834e+04,\n",
       "        1.31691321e+04,  6.18256254e+03,  1.35781905e+04,  9.19521602e+03,\n",
       "        3.09570257e+04,  5.13291906e+03,  9.58458200e+03,  2.90489981e+03,\n",
       "        9.77151500e+03,  2.02842335e+03,  7.01907319e+03,  9.44338375e+03,\n",
       "        7.63428098e+03,  1.16389422e+04,  3.33352554e+04,  1.25393185e+04,\n",
       "        8.97814616e+03,  9.05465175e+03,  3.34429156e+04,  7.22220315e+03,\n",
       "        1.28334861e+04,  1.02202061e+04,  3.28514265e+04,  1.53101438e+04,\n",
       "        9.56646969e+03,  6.00982419e+03,  1.28092079e+04,  3.01242271e+04,\n",
       "        1.00589483e+04,  7.82280491e+03,  1.27027143e+04,  2.97366649e+04,\n",
       "        1.61850071e+04,  9.47427602e+03,  1.04988190e+04,  5.31142291e+03,\n",
       "        3.95844321e+04,  8.85652124e+03,  9.82231350e+03,  1.19997066e+04,\n",
       "        2.66339253e+04,  8.76790313e+03,  2.15842346e+03,  1.12007487e+04,\n",
       "        1.08194435e+04,  4.41301248e+03,  5.25432674e+03,  1.55631593e+04,\n",
       "        1.33315786e+04,  1.11939631e+04,  6.78238660e+03,  3.14566381e+04,\n",
       "        1.13592978e+04,  1.06053022e+04,  5.28610670e+03,  2.80016729e+04,\n",
       "        1.66772055e+04,  1.64094402e+03,  9.48825842e+03,  1.63496349e+04,\n",
       "        1.14301188e+04,  9.22190225e+03,  1.50620607e+03,  4.46018715e+03,\n",
       "        1.13175916e+04,  1.41956372e+04,  5.76644518e+03,  2.82732901e+03,\n",
       "        8.13390784e+03,  3.87835260e+03,  1.51835984e+04,  6.33543435e+03,\n",
       "        1.69903465e+04,  8.40242182e+03,  1.36421236e+04,  3.35353239e+04,\n",
       "        3.74448834e+03,  7.16910726e+03,  1.26844366e+04,  9.98825911e+03,\n",
       "        1.64939562e+03,  3.14167094e+04,  1.18098556e+04,  2.70511420e+04,\n",
       "        3.91974617e+04,  1.42357005e+04, -2.97581611e+02,  1.11333686e+03,\n",
       "        3.28436375e+04,  3.28124933e+04,  1.84024221e+03,  4.21888721e+03,\n",
       "        2.67902972e+04,  1.75030450e+03,  5.14009924e+03,  9.21219798e+03,\n",
       "        3.35776191e+04,  8.36989927e+02,  1.43643063e+04,  2.21528084e+03,\n",
       "        9.89992272e+03,  3.52154003e+04,  6.70362720e+03,  1.07506259e+04,\n",
       "        1.19403629e+04,  1.45820515e+04,  1.87480017e+03,  2.99802274e+02,\n",
       "        2.58979051e+04,  2.55976620e+04,  5.57749003e+03,  3.41586138e+04,\n",
       "        5.91166095e+03,  5.50525435e+03,  1.23855323e+03,  5.47750853e+03,\n",
       "        1.22660462e+03,  7.96947892e+03,  9.70984301e+03,  2.98431693e+03,\n",
       "        1.27012953e+04,  8.98821803e+03,  3.87937867e+04,  8.72930799e+03,\n",
       "        2.63455200e+04,  4.76281086e+03,  4.51309883e+03,  6.50086980e+03,\n",
       "        3.13239919e+04,  5.17881130e+03,  1.04280347e+04,  3.76904990e+04,\n",
       "        2.41011236e+03,  3.63367953e+03,  1.52880942e+04,  2.42232068e+03,\n",
       "        6.05162532e+03,  3.03157919e+03,  8.87572274e+03,  5.65080255e+03,\n",
       "        3.13556554e+04,  1.04762515e+04,  3.13518517e+03,  1.10681231e+02,\n",
       "        3.33872674e+04,  1.50739997e+04,  6.66318184e+03,  2.84508236e+03,\n",
       "        3.09352065e+04,  7.48487098e+03,  1.25411610e+04,  2.45305137e+04,\n",
       "        1.21634062e+04,  1.10344668e+04,  7.59516704e+03,  7.67253422e+03,\n",
       "        1.39096963e+04,  8.09599566e+03,  1.62793879e+04,  9.51228678e+03,\n",
       "        6.03735687e+03,  9.51942205e+03,  9.61205108e+03,  5.19792737e+03,\n",
       "        1.01785571e+04,  9.82661752e+03,  1.00723116e+04,  1.48029773e+04,\n",
       "        2.52692911e+04,  1.16301873e+04,  1.22484218e+04,  1.30768508e+04,\n",
       "        2.33023724e+03,  1.12054684e+04,  9.41605422e+03,  1.43155735e+04,\n",
       "        2.64485945e+04,  8.24101017e+03,  3.29996634e+03,  1.23455041e+04,\n",
       "        1.14993379e+04,  5.28224083e+03,  1.65993564e+04,  2.61170038e+04,\n",
       "        2.94421221e+03,  1.53322615e+04,  7.37613501e+03,  4.65518801e+03,\n",
       "        9.48288252e+03,  1.16731015e+04,  8.96960633e+03,  1.51122525e+04,\n",
       "        1.00187167e+04,  6.87451406e+03,  2.52731569e+04,  3.84317703e+04,\n",
       "        1.15815842e+04,  2.07480052e+02,  2.24355711e+03,  1.18589808e+04,\n",
       "       -9.41225064e+02,  1.16763712e+04,  3.46694164e+04,  1.26528287e+04,\n",
       "        2.91948896e+04,  3.07555921e+04,  3.45394274e+04,  9.52285328e+03,\n",
       "        3.40998518e+03,  9.27754080e+03,  3.53612473e+04,  3.12324228e+04,\n",
       "        3.50459720e+04,  9.62575610e+02,  2.44851500e+04,  1.36870540e+04,\n",
       "        3.87386808e+03,  1.03507624e+04,  2.73119441e+03,  3.20359985e+04,\n",
       "        3.14243555e+04,  1.26217624e+04,  1.07485574e+04,  1.20603852e+04,\n",
       "        9.73649388e+03])"
      ]
     },
     "execution_count": 39,
     "metadata": {},
     "output_type": "execute_result"
    }
   ],
   "source": [
    "pred1"
   ]
  },
  {
   "cell_type": "code",
   "execution_count": 40,
   "id": "8faa8f6c",
   "metadata": {},
   "outputs": [
    {
     "data": {
      "text/plain": [
       "0.7457114426106766"
      ]
     },
     "execution_count": 40,
     "metadata": {},
     "output_type": "execute_result"
    }
   ],
   "source": [
    "r2_score(ytest,pred1)"
   ]
  },
  {
   "cell_type": "code",
   "execution_count": 41,
   "id": "ce6761b4",
   "metadata": {},
   "outputs": [],
   "source": [
    "gbr=GradientBoostingRegressor()"
   ]
  },
  {
   "cell_type": "code",
   "execution_count": 42,
   "id": "ecb1e645",
   "metadata": {},
   "outputs": [
    {
     "data": {
      "text/plain": [
       "GradientBoostingRegressor()"
      ]
     },
     "execution_count": 42,
     "metadata": {},
     "output_type": "execute_result"
    }
   ],
   "source": [
    "gbr.fit(xtrain,ytrain)"
   ]
  },
  {
   "cell_type": "code",
   "execution_count": 43,
   "id": "39ca1f74",
   "metadata": {},
   "outputs": [],
   "source": [
    "pred2=gbr.predict(xtest)"
   ]
  },
  {
   "cell_type": "code",
   "execution_count": 44,
   "id": "1d093c37",
   "metadata": {},
   "outputs": [
    {
     "data": {
      "text/plain": [
       "array([14762.7368168 ,  1725.74085151,  3257.30696166, 40934.26242852,\n",
       "       34453.7958487 ,  5358.00361535,  6036.57345624, 12482.96090717,\n",
       "       14395.34837354,  1570.81833477, 21233.45786508, 10827.88130299,\n",
       "        8367.39560348,  4013.24224936, 45540.14143371, 18560.84203799,\n",
       "       35020.89674387, 23855.19293808,  8006.20167658, 12038.8290054 ,\n",
       "        1476.16430801, 48606.05123247, 14596.55926164,  4486.70505863,\n",
       "       43868.8307133 ,  8253.06752374, 18464.6566994 ,  5024.06993841,\n",
       "        2240.41272357, 18251.3546909 , 10395.25857091, 24862.06800624,\n",
       "        2542.72842222,  1738.29767376,  8180.44272073, 12718.74114105,\n",
       "       27179.97008729,  6880.2247018 , 41305.08224428, 15226.86636256,\n",
       "        4569.49482651, 13709.21976197, 30448.21952905, 14544.24967399,\n",
       "       37594.83413494,  5232.61806709, 11524.24022337, 13875.15697256,\n",
       "       21597.85009509,  5209.56882771, 13449.30916576, 16087.37402997,\n",
       "        9609.87864617,  6766.65925305, 15523.42421463,  5890.93943473,\n",
       "       11422.53479477,  9256.97011279,  6439.47069749, 18199.61137871,\n",
       "       22238.29571229,  6660.96665101,  7909.44882342, 34797.76476415,\n",
       "       15512.34813216, 31961.25881614,  5172.93702054, 35770.69551439,\n",
       "       36075.8430345 ,  5487.88526826,  1859.85062698, 12668.89612466,\n",
       "        4140.32634441,  7683.1015386 , 12107.53458676,  4576.29583344,\n",
       "        3275.53229854,  3927.88100503,  3898.13233132,  6879.96318616,\n",
       "        7305.37351968,  5532.00962148,  7951.12560313,  2681.87575307,\n",
       "        6677.71132853,  1246.48680923, 13382.43127983, 18654.16597067,\n",
       "       16279.15550716, 10879.64576993, 10941.87769964,  4908.81746285,\n",
       "        2457.29063205, 12451.68684318,  6824.70702225,  5106.9421985 ,\n",
       "       12521.47166245, 14501.23281245,  1843.28813162, 41802.86588642,\n",
       "       14787.00855545, 18913.98463169, 17375.62514872, 17096.4011727 ,\n",
       "       17770.35961785,  5200.61032757,  8330.9701168 , 18104.85120137,\n",
       "        8998.39036372,  4747.7792162 ,  7220.05470018,  6092.46926226,\n",
       "        1946.73687443,  6424.61183552,  3996.61007685,  8087.92968706,\n",
       "       15140.60408521, 10588.11203649, 34044.45367688, 42953.02829298,\n",
       "       14768.72062764, 10812.3076275 ,  6693.73881923, 14222.49070942,\n",
       "       33980.71161858,  2813.86517111,  6696.20168881,  2172.16557832,\n",
       "       11546.85069081,  6043.32895211,  7496.43654617, 41854.72661006,\n",
       "       13281.03322683, 34847.74188617,  4596.4007361 , 13487.4874491 ,\n",
       "       12515.74015893,  7230.64545814, 34718.98305148,  7441.40993249,\n",
       "        3803.16825447, 47241.35557403, 13452.61376423,  4408.46804509,\n",
       "       35887.42798894, 11607.62677938, 12926.25307687, 14520.47291263,\n",
       "       10711.66351172, 37148.46884642,  1652.25851843, 18455.95510272,\n",
       "        6380.04277648, 40714.98000659, 23137.53449479, 12011.2862719 ,\n",
       "       38591.33528087, 39810.1960984 , 15586.80049901, 14590.23024483,\n",
       "        3135.7169587 , 12248.7815265 , 40861.59501258, 12309.29963655,\n",
       "        6771.97037893, 15046.31577785,  1885.23242075, 10661.91005097,\n",
       "       12326.26856441,  8109.4990457 , 12693.1260636 ,  7108.12621551,\n",
       "       37140.38258884,  7220.57989216,  7738.48326493,  5587.61818415,\n",
       "        8585.50226448,  2904.64155692,  9349.2918811 , 12239.32027875,\n",
       "        7770.19403702, 15105.48438135, 24172.72353221, 11933.88925753,\n",
       "        7008.28399946,  9002.24072168, 24803.16793266,  7068.56926909,\n",
       "       13182.5688259 ,  9263.45822374, 37996.86077986, 15828.1175619 ,\n",
       "        5904.46494148,  5120.46853618, 13394.39687957, 40377.02806195,\n",
       "       12041.12382603,  7841.57706276, 13021.33134449, 19766.71463502,\n",
       "       17296.26551498,  6998.95205479,  8857.41786984,  6977.78234411,\n",
       "       47351.84681585,  8765.91602564,  6699.04739214, 11355.19384161,\n",
       "       19857.47162984,  9969.03596353,  2698.9120244 ,  7496.43654617,\n",
       "        9112.08937873,  3461.56510349,  4520.35977681, 10104.52043863,\n",
       "       14548.07938447, 11523.5515499 ,  7163.78384388, 21410.34224214,\n",
       "        8339.74699293,  8154.93454722,  6536.49033147, 18021.76218165,\n",
       "       15023.35683513,  2897.67022617,  7826.11382292, 14033.72441652,\n",
       "       13334.47547104,  9143.20106541,  3977.37034662,  2250.90191237,\n",
       "       11777.50969349, 11715.06501483,  6684.17664966,  5826.14968749,\n",
       "        8386.22729763,  2155.20105671, 10765.02868783,  7584.81114161,\n",
       "       16257.37643611,  7839.60755715, 14198.04267243, 24174.38517553,\n",
       "        4474.90937679,  6322.30790496, 11940.71765831, 10453.25546606,\n",
       "        5267.07409655, 36646.43390447, 12763.26146718, 21784.98798663,\n",
       "       47719.06198332, 13391.26877941,  2583.56681677,  2446.20342939,\n",
       "       37976.36001952, 23841.46395869,  2818.08642161,  4156.25274505,\n",
       "       34891.82964027,  2877.01715865,  5055.6408241 , 10794.39788156,\n",
       "       38542.4614993 ,  1968.67790634, 12084.6305564 ,  2425.08628633,\n",
       "       10596.10818063, 42363.47128519,  8674.94718321, 11081.66014586,\n",
       "       16866.0246358 , 15040.92250479,  4422.97785699,  2506.41209431,\n",
       "       16288.36960188, 20723.87430528,  4769.86683253, 26695.69029863,\n",
       "        6103.87336088,  4324.44026618,  4859.75930671,  8183.66165401,\n",
       "        4290.42523436,  5672.79706606,  3725.62495901,  2530.47100741,\n",
       "       12316.51505081, 11262.26195852, 46500.94272734, 11306.60855116,\n",
       "       15724.56855041,  5380.9746103 ,  6145.11366025,  3991.58248855,\n",
       "       22748.48332388,  6003.13786567,  9802.20526717, 44977.32267744,\n",
       "        6179.67751977,  4515.96928087, 18001.61102309,  2153.62803036,\n",
       "        6944.20235574,  3835.48441658, 10444.37434595,  5927.66433004,\n",
       "       24186.38123493,  7957.26130576,  4780.92367497,  3198.63205147,\n",
       "       41150.64979711, 16026.96849271,  6358.14773341,  1739.98378901,\n",
       "       35839.94203348,  8388.22021552, 12168.68458311, 17530.96227538,\n",
       "       10973.02936045, 12141.4058085 ,  6325.38931756, 10180.11727568,\n",
       "       10056.36027994,  5820.72477198, 16548.26410092, 12299.73538292,\n",
       "        6946.63440069, 10255.15555124, 11076.91003961,  5385.53334131,\n",
       "       10674.59765566,  8353.52874754,  7992.4364447 , 15102.26748961,\n",
       "       18206.5336328 , 13018.6495345 , 11259.12439731, 11722.5017708 ,\n",
       "        2393.7644547 , 10116.80183906,  6550.69084892, 16072.58753528,\n",
       "       17452.41395185,  6129.93557918,  3139.86385042, 11510.08176681,\n",
       "        9091.57389452,  6657.61732838, 17583.38407423, 18757.48047983,\n",
       "        1588.21499319, 15227.40179053,  4798.00843166,  6543.00352236,\n",
       "        5783.92524126, 12324.27041146,  6733.64656797, 15102.26748961,\n",
       "        3155.13494368,  5141.75190339, 15679.08353158, 45115.89365216,\n",
       "       15435.8588995 ,  2989.41364007,  2768.16827242, 10509.88646581,\n",
       "        2723.20238351, 15241.11502863, 42363.47128519, 12789.61992163,\n",
       "       20921.76685795, 22276.85703101, 41787.22256058,  6635.69351553,\n",
       "        4458.71995629,  6657.30068979, 44593.73550318, 20448.66686629,\n",
       "       32025.76424295,  3481.40349513, 19188.17220476, 14529.89036405,\n",
       "        2226.31107785,  9584.18657235,  5503.44315691, 38387.72926622,\n",
       "       23315.93696867, 13976.31460216, 14062.28229489, 12621.53597607,\n",
       "       14126.48254359])"
      ]
     },
     "execution_count": 44,
     "metadata": {},
     "output_type": "execute_result"
    }
   ],
   "source": [
    "pred2"
   ]
  },
  {
   "cell_type": "code",
   "execution_count": 45,
   "id": "f8d500c4",
   "metadata": {},
   "outputs": [
    {
     "data": {
      "text/plain": [
       "0.8427911422408421"
      ]
     },
     "execution_count": 45,
     "metadata": {},
     "output_type": "execute_result"
    }
   ],
   "source": [
    "r2_score(ytest,pred2)"
   ]
  },
  {
   "cell_type": "code",
   "execution_count": 46,
   "id": "31271404",
   "metadata": {},
   "outputs": [],
   "source": [
    "dtr=DecisionTreeRegressor()"
   ]
  },
  {
   "cell_type": "code",
   "execution_count": 47,
   "id": "89b7ba70",
   "metadata": {},
   "outputs": [
    {
     "data": {
      "text/plain": [
       "DecisionTreeRegressor()"
      ]
     },
     "execution_count": 47,
     "metadata": {},
     "output_type": "execute_result"
    }
   ],
   "source": [
    "dtr.fit(xtrain,ytrain)"
   ]
  },
  {
   "cell_type": "code",
   "execution_count": 48,
   "id": "dce62480",
   "metadata": {},
   "outputs": [],
   "source": [
    "pred3=dtr.predict(xtest)"
   ]
  },
  {
   "cell_type": "code",
   "execution_count": 49,
   "id": "05bf99c0",
   "metadata": {},
   "outputs": [
    {
     "data": {
      "text/plain": [
       "array([13143.86485, 11884.04858,  1980.07   , 37742.5757 , 34303.1672 ,\n",
       "        4454.40265,  5488.262  , 12105.32   , 28923.13692,  2257.47525,\n",
       "       19107.7796 , 21232.18226,  7726.854  ,  3756.6216 , 46599.1084 ,\n",
       "       18310.742  , 34806.4677 , 14235.072  ,  7337.748  , 10965.446  ,\n",
       "        1621.8827 , 48517.56315, 13012.20865,  3021.80915, 37742.5757 ,\n",
       "        6402.29135, 30166.61817,  2362.22905,  2138.0707 , 18765.87545,\n",
       "        8534.6718 , 24667.419  ,  1253.936  ,  1135.9407 ,  8310.83915,\n",
       "       11150.78   , 37829.7242 ,  3861.20965, 40720.55105, 14449.8544 ,\n",
       "       25081.76784,  8240.5896 , 29141.3603 , 12644.589  , 36149.4835 ,\n",
       "        4894.7533 , 10141.1362 , 12982.8747 , 19107.7796 , 12609.88702,\n",
       "       11150.78   , 24513.09126,  8334.5896 ,  5375.038  , 12928.7911 ,\n",
       "        5246.047  , 10602.385  ,  8347.1643 ,  4564.19145, 17361.7661 ,\n",
       "       19719.6947 ,  5693.4305 ,  7152.6714 , 36124.5737 , 13224.693  ,\n",
       "       27808.7251 ,  4149.736  , 36021.0112 , 37079.372  , 20420.60465,\n",
       "        1137.011  , 10942.13205,  3353.284  ,  7731.85785,  9957.7216 ,\n",
       "        2480.9791 ,  2257.47525,  3176.2877 ,  1980.07   ,  6877.9801 ,\n",
       "        7731.85785,  3471.4096 ,  6203.90175,  1880.487  ,  3180.5101 ,\n",
       "        1728.897  , 11150.78   , 18246.4955 , 14001.1338 ,  8283.6807 ,\n",
       "       12029.2867 ,  4500.33925,  2396.0959 , 22192.43711,  7954.517  ,\n",
       "        4350.5144 , 10325.206  , 14319.031  ,  2128.43105, 41661.602  ,\n",
       "       12557.6053 , 17361.7661 , 15820.699  , 15518.18025, 19040.876  ,\n",
       "        4889.9995 ,  3056.3881 , 27000.98473,  8302.53565,  2632.992  ,\n",
       "        6203.90175,  3277.161  ,  1674.6323 ,  6985.50695,  3062.50825,\n",
       "        7147.105  , 12644.589  ,  8124.4084 , 33907.548  , 42111.6647 ,\n",
       "       12269.68865,  6610.1097 ,  7046.7222 , 14283.4594 , 33907.548  ,\n",
       "        2154.361  ,  5253.524  ,  2166.732  ,  9304.7019 ,  5124.1887 ,\n",
       "        7160.094  , 42856.838  , 12265.5069 , 34806.4677 ,  2699.56835,\n",
       "       12363.547  , 20630.28351,  7153.5539 , 34779.615  ,  7537.1639 ,\n",
       "        3353.284  , 42983.4585 , 11512.405  ,  2137.6536 , 36124.5737 ,\n",
       "       28468.91901, 10118.424  , 12950.0712 ,  9386.1613 , 37133.8982 ,\n",
       "        2045.68525, 17361.7661 ,  5974.3847 , 39611.7577 , 19515.5416 ,\n",
       "        7147.105  , 39125.33225, 39125.33225, 15359.1045 , 13844.7972 ,\n",
       "        2203.47185, 11356.6609 , 39727.614  , 10338.9316 ,  6571.02435,\n",
       "       12928.7911 ,  1627.28245,  9432.9253 , 12231.6136 , 14426.07385,\n",
       "        9872.701  ,  8017.06115, 35491.64   ,  4438.2634 ,  6313.759  ,\n",
       "        3847.674  ,  6128.79745,  3554.203  ,  8627.5411 , 10156.7832 ,\n",
       "        6710.1919 , 13012.20865, 24535.69855, 10601.63225,  5385.3379 ,\n",
       "        7727.2532 , 26109.32905,  6600.361  , 12265.5069 ,  8604.48365,\n",
       "       38126.2465 , 31620.00106,  5400.9805 ,  4350.5144 , 11411.685  ,\n",
       "       37465.34375,  9447.25035,  7421.19455, 10115.00885, 19798.05455,\n",
       "       16455.70785,  7639.41745,  8520.026  ,  4719.73655, 48970.2476 ,\n",
       "        6551.7501 ,  6338.0756 ,  8798.593  , 18310.742  ,  9447.3824 ,\n",
       "        2396.0959 ,  7160.094  ,  7682.67   ,  2138.0707 ,  1981.5819 ,\n",
       "        8068.185  , 13228.84695,  8765.249  ,  4922.9159 , 22412.6485 ,\n",
       "       18806.14547,  6986.697  ,  6985.50695, 18765.87545, 14692.66935,\n",
       "        1632.56445,  8516.829  , 13470.86   , 10807.4863 , 10702.6424 ,\n",
       "        2639.0429 ,  1631.8212 ,  9290.1395 , 11090.7178 ,  4747.0529 ,\n",
       "       18955.22017,  6203.90175,  2741.948  , 10977.2063 ,  6402.29135,\n",
       "       14901.5167 ,  6748.5912 , 11187.6567 , 24869.8368 ,  3353.284  ,\n",
       "        4751.07   ,  9634.538  ,  6551.7501 ,  1969.614  , 37133.8982 ,\n",
       "       11658.11505, 18310.742  , 49577.6624 , 10461.9794 ,  1135.9407 ,\n",
       "        2154.361  , 37742.5757 , 24535.69855,  1743.214  ,  2699.56835,\n",
       "       33907.548  ,  2198.18985,  2103.08   ,  8823.279  , 39125.33225,\n",
       "        1621.8827 , 26392.26029,  1725.5523 , 10702.6424 , 41661.602  ,\n",
       "        3579.8287 ,  9630.397  , 12928.7911 , 26467.09737,  2842.76075,\n",
       "        2302.3    , 15820.699  , 18310.742  ,  3062.50825, 23887.6627 ,\n",
       "        3591.48   ,  2217.6012 ,  2709.1119 , 18804.7524 ,  2457.21115,\n",
       "       12404.8791 ,  3693.428  ,  2396.0959 , 10043.249  ,  8932.084  ,\n",
       "       47291.055  , 10791.96   , 15006.57945,  6373.55735,  5227.98875,\n",
       "        3556.9223 , 19515.5416 ,  4564.19145,  7731.85785, 42983.4585 ,\n",
       "        2842.76075,  3353.284  , 12928.7911 ,  1725.5523 ,  4747.0529 ,\n",
       "        4134.08245,  8932.084  ,  4040.55825, 35069.37452,  7441.053  ,\n",
       "        2137.6536 ,  1704.5681 , 40720.55105, 26467.09737,  4922.9159 ,\n",
       "        1261.442  , 37079.372  ,  8252.2843 , 10807.4863 , 17085.2676 ,\n",
       "        8124.4084 , 11454.0215 ,  5012.471  ,  9855.1314 ,  9872.701  ,\n",
       "        3471.4096 , 14901.5167 , 22192.43711,  4922.9159 ,  6551.7501 ,\n",
       "        8932.084  ,  4889.0368 ,  9249.4952 ,  8211.1002 ,  7726.854  ,\n",
       "       29186.48236, 18310.742  , 10355.641  , 26392.26029,  9386.1613 ,\n",
       "        3167.45585,  7421.19455,  5926.846  , 12648.7034 , 15820.699  ,\n",
       "        6664.68595,  2205.9808 , 28468.91901,  6986.697  ,  4894.7533 ,\n",
       "       27000.98473, 17468.9839 ,  1526.312  , 12363.547  ,  4320.41085,\n",
       "        4340.4409 , 11326.71487, 11938.25595,  5385.3379 , 29186.48236,\n",
       "       17878.90068, 20420.60465, 17560.37975, 46599.1084 , 24513.09126,\n",
       "        1980.07   ,  2396.0959 ,  9872.701  , 11884.04858, 13217.0945 ,\n",
       "       41661.602  , 10564.8845 , 20745.9891 , 21348.706  , 41919.097  ,\n",
       "        6313.759  ,  2483.736  ,  3500.6123 , 48885.13561, 20296.86345,\n",
       "       27808.7251 ,  3353.284  , 16297.846  , 29186.48236,  2020.5523 ,\n",
       "       24915.04626, 18955.22017, 37742.5757 , 19515.5416 , 11244.3769 ,\n",
       "       11244.3769 , 11945.1327 , 13415.0381 ])"
      ]
     },
     "execution_count": 49,
     "metadata": {},
     "output_type": "execute_result"
    }
   ],
   "source": [
    "pred3"
   ]
  },
  {
   "cell_type": "code",
   "execution_count": 50,
   "id": "9a9655b3",
   "metadata": {},
   "outputs": [
    {
     "data": {
      "text/plain": [
       "0.7289060297863261"
      ]
     },
     "execution_count": 50,
     "metadata": {},
     "output_type": "execute_result"
    }
   ],
   "source": [
    "r2_score(ytest,pred3)"
   ]
  },
  {
   "cell_type": "code",
   "execution_count": 51,
   "id": "f3a3d029",
   "metadata": {},
   "outputs": [],
   "source": [
    "knn=KNeighborsRegressor()"
   ]
  },
  {
   "cell_type": "code",
   "execution_count": 52,
   "id": "b9c4ed4f",
   "metadata": {},
   "outputs": [
    {
     "data": {
      "text/plain": [
       "KNeighborsRegressor()"
      ]
     },
     "execution_count": 52,
     "metadata": {},
     "output_type": "execute_result"
    }
   ],
   "source": [
    "knn.fit(xtrain,ytrain)"
   ]
  },
  {
   "cell_type": "code",
   "execution_count": 53,
   "id": "763abb9f",
   "metadata": {},
   "outputs": [],
   "source": [
    "pred4=knn.predict(xtest)"
   ]
  },
  {
   "cell_type": "code",
   "execution_count": 54,
   "id": "50ddff9a",
   "metadata": {},
   "outputs": [
    {
     "data": {
      "text/plain": [
       "array([19952.70864  ,  3682.877486 ,  4700.3718   , 10641.172382 ,\n",
       "        8374.54386  ,  4446.04495  ,  6095.1057   , 15111.326802 ,\n",
       "       15489.020394 , 10081.81997  ,  4917.72427  , 17369.425912 ,\n",
       "        8457.12752  ,  4115.30659  , 20534.35178  ,  6327.1672338,\n",
       "        9174.7268   , 24194.099562 ,  7284.50343  , 19420.291622 ,\n",
       "        1395.87144  , 20071.81093  , 13550.11207  , 20157.475876 ,\n",
       "        9736.434738 ,  6347.96098  , 23163.425484 ,  2102.50743  ,\n",
       "        8968.21236  ,  8127.05272  ,  8966.10505  , 19110.504104 ,\n",
       "        7742.35652  ,  1555.89928  ,  7043.97812  , 16021.150314 ,\n",
       "        6608.41456  , 10544.602636 , 14525.23796  , 17327.194654 ,\n",
       "        7050.679718 ,  8741.25794  , 22931.489982 , 12963.2531   ,\n",
       "       15476.64546  ,  7934.73668  , 22298.69659  , 22529.946568 ,\n",
       "        8855.49676  ,  9746.676298 , 24956.373464 , 18692.502812 ,\n",
       "       11137.790876 ,  4870.18204  , 16493.83375  , 19659.21396  ,\n",
       "       12751.287922 , 11901.7534   ,  4312.08207  ,  7916.25157  ,\n",
       "        6147.48054  , 10982.59364  ,  9950.687094 , 19439.168248 ,\n",
       "       11984.5702   , 20167.199734 ,  7716.13477  , 11995.089078 ,\n",
       "        8050.2545   , 25799.01252  ,  3323.50765  , 11334.4119   ,\n",
       "        6586.92461  , 14830.00464  , 12766.024322 ,  2551.09924  ,\n",
       "        5613.75434  ,  3156.37485  ,  6896.857314 ,  6923.86507  ,\n",
       "        8077.34724  , 19987.033176 ,  9132.24385  ,  2032.55603  ,\n",
       "       13328.04152  ,  1416.19435  , 20914.705024 ,  4700.3718   ,\n",
       "       17035.97865  , 14634.68695  , 13655.98662  ,  8052.34721  ,\n",
       "        1874.27629  , 15945.27573  ,  7497.22307  , 10455.4133   ,\n",
       "       13967.21935  , 20979.4201   ,  6805.90181  , 10908.365026 ,\n",
       "       20020.47217  ,  7052.12445  , 10861.49306  ,  9110.871298 ,\n",
       "        4868.91773  ,  4932.0673   ,  4048.532076 , 31908.666672 ,\n",
       "       10782.85175  ,  5964.87248  ,  6573.97901  , 13744.013664 ,\n",
       "       16622.05672  ,  8444.34808  ,  6279.545746 , 10357.2161   ,\n",
       "       11915.66502  , 15917.75491  ,  1883.58108  , 12152.207138 ,\n",
       "       11611.64229  , 13720.62006  , 10195.90076  ,  4013.13345  ,\n",
       "        1686.67758  ,  8750.050514 ,  8843.83216  , 16356.70171  ,\n",
       "       19838.627462 ,  6756.755974 , 14176.27571  ,  7704.83883  ,\n",
       "       23921.64462  ,  9363.22154  ,  9280.66533  , 18161.31127  ,\n",
       "       11915.16574  ,  5958.76111  , 21544.818356 ,  6486.14435  ,\n",
       "       10131.70937  , 22169.89969  , 11316.35841  ,  8971.4856   ,\n",
       "       30500.80514  , 22902.46948  , 16545.83594  , 27396.96964  ,\n",
       "        9584.51794  , 18118.41188  ,  5545.74966  ,  8178.648562 ,\n",
       "        6259.5699   , 12516.380666 , 10294.36511  , 14542.804534 ,\n",
       "        8604.95344  , 13750.66949  ,  4163.04894  , 20062.11916  ,\n",
       "        3099.7873538, 11768.25695  ,  8045.14057  , 16571.2959   ,\n",
       "        7209.12557  , 15703.449584 ,  4290.33483  , 15609.15973  ,\n",
       "       18477.29593  ,  9338.41344  , 16613.5666   ,  7345.22895  ,\n",
       "       12904.67205  ,  4362.15177  , 19836.30694  ,  6389.61902  ,\n",
       "        9677.952852 ,  8101.837652 , 10648.8674   , 16416.332668 ,\n",
       "        6571.07966  , 15000.547482 , 16693.451848 , 10760.96874  ,\n",
       "        5275.44209  ,  8085.70617  , 12933.391592 ,  6531.17218  ,\n",
       "       23738.74674  , 14912.89669  , 14002.992544 , 11991.55056  ,\n",
       "       19597.07307  ,  7510.46229  , 10078.43948  , 16775.91889  ,\n",
       "       15211.37869  , 10175.19179  , 19070.213468 , 12514.64771  ,\n",
       "       21372.15121  ,  7115.01955  , 14680.50321  ,  4712.79449  ,\n",
       "       29467.033248 ,  6608.59704  , 13566.5825   ,  9163.28034  ,\n",
       "        5000.190644 , 14212.882444 ,  8330.08166  , 23029.150894 ,\n",
       "       13668.80658  ,  1952.07323  ,  2374.47994  ,  9111.03952  ,\n",
       "       19047.60633  , 19136.152998 ,  7444.58117  , 12834.0781   ,\n",
       "       16678.199674 ,  7232.82054  ,  8699.736762 , 10319.80213  ,\n",
       "       14015.26306  ,  8291.25541  ,  8439.60414  , 20241.92032  ,\n",
       "       10629.38137  ,  8366.12306  ,  2078.50851  ,  1651.48482  ,\n",
       "        9288.14907  , 12697.516462 ,  4928.25928  ,  4747.646994 ,\n",
       "        6679.78234  ,  8651.52337  , 25160.46926  ,  9326.88082  ,\n",
       "       17561.822472 ,  6464.1729   , 17246.40472  , 25185.535268 ,\n",
       "        3805.23187  ,  5249.61337  , 16461.10894  ,  5105.62112  ,\n",
       "        9706.756348 ,  6150.28069  , 11198.77694  , 15393.57103  ,\n",
       "       12171.60166  , 20838.184614 ,  1789.91979  ,  6938.656674 ,\n",
       "        5554.50322  , 22303.339528 ,  1692.0624   ,  8881.148698 ,\n",
       "        2860.0474   ,  6181.3214838,  8557.2506   , 16754.437992 ,\n",
       "        7870.89433  ,  5028.68621  , 24229.12554  ,  1644.90622  ,\n",
       "       11065.446052 , 25945.093142 , 13031.937316 , 14199.866652 ,\n",
       "       15882.556614 , 28333.704944 ,  7497.650138 ,  8088.84612  ,\n",
       "        4270.83364  ,  5016.0026   ,  6597.323738 , 12464.68569  ,\n",
       "       16854.87304  ,  4001.84769  ,  2177.12765  , 14451.549818 ,\n",
       "        4956.38157  ,  6502.37251  , 18887.44478  ,  2380.26242  ,\n",
       "       12976.703068 , 15327.34092  , 20491.8118   , 12834.0781   ,\n",
       "        7779.04084  , 10982.59364  ,  8485.254752 , 30135.24864  ,\n",
       "        9978.9962   ,  9394.274948 , 14764.72509  , 24141.51097  ,\n",
       "        2830.06243  ,  9975.53514  , 29757.851486 ,  1555.89928  ,\n",
       "        8041.74852  ,  8138.234102 , 15107.613916 ,  4061.12788  ,\n",
       "       16451.500134 , 14830.00464  ,  7677.980644 ,  4097.56054  ,\n",
       "        8024.87761  , 28333.704944 ,  7717.84335  ,  1626.5264   ,\n",
       "        6505.62297  ,  7421.43162  , 20068.482394 ,  7913.26952  ,\n",
       "       12816.556722 , 14234.31091  ,  5903.31478  ,  9476.6747   ,\n",
       "       16866.24148  , 19987.033176 , 24309.674922 , 19078.070186 ,\n",
       "        7539.88136  , 14458.193984 , 18736.085556 ,  8185.88235  ,\n",
       "       11759.12526  ,  8219.0978   ,  8003.9426   , 18819.46044  ,\n",
       "        8139.18673  , 14373.91898  , 16529.41659  ,  9292.39978  ,\n",
       "       10240.4154418, 16989.305134 , 12162.10646  , 11967.616    ,\n",
       "        7226.95824  , 10007.44852  , 17290.142266 , 23182.09316  ,\n",
       "       13806.10175  ,  5409.78139  , 27856.213958 ,  5613.75434  ,\n",
       "        2002.47245  , 25070.24589  ,  6836.504024 ,  6976.51185  ,\n",
       "        5925.574614 , 15802.572034 , 18599.37022  , 12246.80422  ,\n",
       "        5913.833034 ,  7919.97349  ,  9116.397228 , 13969.28467  ,\n",
       "       18066.605736 ,  1856.8022   ,  5245.59833  , 16195.88416  ,\n",
       "        2204.13404  , 12399.8652   , 19237.654422 , 10787.84814  ,\n",
       "        8134.53284  , 12184.67124  , 19136.152998 , 26625.09654  ,\n",
       "        8924.63508  , 13981.222484 , 22785.158952 , 10064.46881  ,\n",
       "       17235.610634 ,  8510.00168  ,  7742.35652  , 17246.40472  ,\n",
       "        1854.97466  , 33441.47132  , 10772.980538 , 18757.21702  ,\n",
       "        7760.17613  , 13332.135512 , 19410.54508  , 11490.82638  ,\n",
       "       15331.94428  ])"
      ]
     },
     "execution_count": 54,
     "metadata": {},
     "output_type": "execute_result"
    }
   ],
   "source": [
    "pred4"
   ]
  },
  {
   "cell_type": "code",
   "execution_count": 55,
   "id": "9590c550",
   "metadata": {},
   "outputs": [
    {
     "data": {
      "text/plain": [
       "-0.05087465264047042"
      ]
     },
     "execution_count": 55,
     "metadata": {},
     "output_type": "execute_result"
    }
   ],
   "source": [
    "r2_score(ytest,pred4)"
   ]
  },
  {
   "cell_type": "code",
   "execution_count": 56,
   "id": "63134f63",
   "metadata": {},
   "outputs": [
    {
     "name": "stdout",
     "output_type": "stream",
     "text": [
      "0.7457114426106766 0.8427911422408421 0.7289060297863261 -0.05087465264047042\n"
     ]
    }
   ],
   "source": [
    "print(r2_score(ytest,pred1),r2_score(ytest,pred2),r2_score(ytest,pred3),r2_score(ytest,pred4))"
   ]
  },
  {
   "cell_type": "markdown",
   "id": "25454d84",
   "metadata": {},
   "source": [
    "Observation: By the above r2_scores, we have observed the pred2 is giving 84% accurate predictions and which is coming from Gradient Boosting Regressor. So this is the best ML Model more accurate Insurance Cost prediction of this dataset."
   ]
  },
  {
   "cell_type": "code",
   "execution_count": 57,
   "id": "c684739f",
   "metadata": {},
   "outputs": [],
   "source": [
    "pickle.dump(gbr, open('my_gbr_model', 'wb'))"
   ]
  },
  {
   "cell_type": "code",
   "execution_count": 58,
   "id": "9c1f1a1b",
   "metadata": {},
   "outputs": [],
   "source": [
    "gbr_model=pickle.load(open('my_gbr_model', 'rb'))"
   ]
  },
  {
   "cell_type": "code",
   "execution_count": 59,
   "id": "16ea0ad8",
   "metadata": {},
   "outputs": [],
   "source": [
    "model_pred=gbr_model.predict(xtest)"
   ]
  },
  {
   "cell_type": "code",
   "execution_count": 60,
   "id": "4a2dd63e",
   "metadata": {},
   "outputs": [
    {
     "data": {
      "text/plain": [
       "array([14762.7368168 ,  1725.74085151,  3257.30696166, 40934.26242852,\n",
       "       34453.7958487 ,  5358.00361535,  6036.57345624, 12482.96090717,\n",
       "       14395.34837354,  1570.81833477, 21233.45786508, 10827.88130299,\n",
       "        8367.39560348,  4013.24224936, 45540.14143371, 18560.84203799,\n",
       "       35020.89674387, 23855.19293808,  8006.20167658, 12038.8290054 ,\n",
       "        1476.16430801, 48606.05123247, 14596.55926164,  4486.70505863,\n",
       "       43868.8307133 ,  8253.06752374, 18464.6566994 ,  5024.06993841,\n",
       "        2240.41272357, 18251.3546909 , 10395.25857091, 24862.06800624,\n",
       "        2542.72842222,  1738.29767376,  8180.44272073, 12718.74114105,\n",
       "       27179.97008729,  6880.2247018 , 41305.08224428, 15226.86636256,\n",
       "        4569.49482651, 13709.21976197, 30448.21952905, 14544.24967399,\n",
       "       37594.83413494,  5232.61806709, 11524.24022337, 13875.15697256,\n",
       "       21597.85009509,  5209.56882771, 13449.30916576, 16087.37402997,\n",
       "        9609.87864617,  6766.65925305, 15523.42421463,  5890.93943473,\n",
       "       11422.53479477,  9256.97011279,  6439.47069749, 18199.61137871,\n",
       "       22238.29571229,  6660.96665101,  7909.44882342, 34797.76476415,\n",
       "       15512.34813216, 31961.25881614,  5172.93702054, 35770.69551439,\n",
       "       36075.8430345 ,  5487.88526826,  1859.85062698, 12668.89612466,\n",
       "        4140.32634441,  7683.1015386 , 12107.53458676,  4576.29583344,\n",
       "        3275.53229854,  3927.88100503,  3898.13233132,  6879.96318616,\n",
       "        7305.37351968,  5532.00962148,  7951.12560313,  2681.87575307,\n",
       "        6677.71132853,  1246.48680923, 13382.43127983, 18654.16597067,\n",
       "       16279.15550716, 10879.64576993, 10941.87769964,  4908.81746285,\n",
       "        2457.29063205, 12451.68684318,  6824.70702225,  5106.9421985 ,\n",
       "       12521.47166245, 14501.23281245,  1843.28813162, 41802.86588642,\n",
       "       14787.00855545, 18913.98463169, 17375.62514872, 17096.4011727 ,\n",
       "       17770.35961785,  5200.61032757,  8330.9701168 , 18104.85120137,\n",
       "        8998.39036372,  4747.7792162 ,  7220.05470018,  6092.46926226,\n",
       "        1946.73687443,  6424.61183552,  3996.61007685,  8087.92968706,\n",
       "       15140.60408521, 10588.11203649, 34044.45367688, 42953.02829298,\n",
       "       14768.72062764, 10812.3076275 ,  6693.73881923, 14222.49070942,\n",
       "       33980.71161858,  2813.86517111,  6696.20168881,  2172.16557832,\n",
       "       11546.85069081,  6043.32895211,  7496.43654617, 41854.72661006,\n",
       "       13281.03322683, 34847.74188617,  4596.4007361 , 13487.4874491 ,\n",
       "       12515.74015893,  7230.64545814, 34718.98305148,  7441.40993249,\n",
       "        3803.16825447, 47241.35557403, 13452.61376423,  4408.46804509,\n",
       "       35887.42798894, 11607.62677938, 12926.25307687, 14520.47291263,\n",
       "       10711.66351172, 37148.46884642,  1652.25851843, 18455.95510272,\n",
       "        6380.04277648, 40714.98000659, 23137.53449479, 12011.2862719 ,\n",
       "       38591.33528087, 39810.1960984 , 15586.80049901, 14590.23024483,\n",
       "        3135.7169587 , 12248.7815265 , 40861.59501258, 12309.29963655,\n",
       "        6771.97037893, 15046.31577785,  1885.23242075, 10661.91005097,\n",
       "       12326.26856441,  8109.4990457 , 12693.1260636 ,  7108.12621551,\n",
       "       37140.38258884,  7220.57989216,  7738.48326493,  5587.61818415,\n",
       "        8585.50226448,  2904.64155692,  9349.2918811 , 12239.32027875,\n",
       "        7770.19403702, 15105.48438135, 24172.72353221, 11933.88925753,\n",
       "        7008.28399946,  9002.24072168, 24803.16793266,  7068.56926909,\n",
       "       13182.5688259 ,  9263.45822374, 37996.86077986, 15828.1175619 ,\n",
       "        5904.46494148,  5120.46853618, 13394.39687957, 40377.02806195,\n",
       "       12041.12382603,  7841.57706276, 13021.33134449, 19766.71463502,\n",
       "       17296.26551498,  6998.95205479,  8857.41786984,  6977.78234411,\n",
       "       47351.84681585,  8765.91602564,  6699.04739214, 11355.19384161,\n",
       "       19857.47162984,  9969.03596353,  2698.9120244 ,  7496.43654617,\n",
       "        9112.08937873,  3461.56510349,  4520.35977681, 10104.52043863,\n",
       "       14548.07938447, 11523.5515499 ,  7163.78384388, 21410.34224214,\n",
       "        8339.74699293,  8154.93454722,  6536.49033147, 18021.76218165,\n",
       "       15023.35683513,  2897.67022617,  7826.11382292, 14033.72441652,\n",
       "       13334.47547104,  9143.20106541,  3977.37034662,  2250.90191237,\n",
       "       11777.50969349, 11715.06501483,  6684.17664966,  5826.14968749,\n",
       "        8386.22729763,  2155.20105671, 10765.02868783,  7584.81114161,\n",
       "       16257.37643611,  7839.60755715, 14198.04267243, 24174.38517553,\n",
       "        4474.90937679,  6322.30790496, 11940.71765831, 10453.25546606,\n",
       "        5267.07409655, 36646.43390447, 12763.26146718, 21784.98798663,\n",
       "       47719.06198332, 13391.26877941,  2583.56681677,  2446.20342939,\n",
       "       37976.36001952, 23841.46395869,  2818.08642161,  4156.25274505,\n",
       "       34891.82964027,  2877.01715865,  5055.6408241 , 10794.39788156,\n",
       "       38542.4614993 ,  1968.67790634, 12084.6305564 ,  2425.08628633,\n",
       "       10596.10818063, 42363.47128519,  8674.94718321, 11081.66014586,\n",
       "       16866.0246358 , 15040.92250479,  4422.97785699,  2506.41209431,\n",
       "       16288.36960188, 20723.87430528,  4769.86683253, 26695.69029863,\n",
       "        6103.87336088,  4324.44026618,  4859.75930671,  8183.66165401,\n",
       "        4290.42523436,  5672.79706606,  3725.62495901,  2530.47100741,\n",
       "       12316.51505081, 11262.26195852, 46500.94272734, 11306.60855116,\n",
       "       15724.56855041,  5380.9746103 ,  6145.11366025,  3991.58248855,\n",
       "       22748.48332388,  6003.13786567,  9802.20526717, 44977.32267744,\n",
       "        6179.67751977,  4515.96928087, 18001.61102309,  2153.62803036,\n",
       "        6944.20235574,  3835.48441658, 10444.37434595,  5927.66433004,\n",
       "       24186.38123493,  7957.26130576,  4780.92367497,  3198.63205147,\n",
       "       41150.64979711, 16026.96849271,  6358.14773341,  1739.98378901,\n",
       "       35839.94203348,  8388.22021552, 12168.68458311, 17530.96227538,\n",
       "       10973.02936045, 12141.4058085 ,  6325.38931756, 10180.11727568,\n",
       "       10056.36027994,  5820.72477198, 16548.26410092, 12299.73538292,\n",
       "        6946.63440069, 10255.15555124, 11076.91003961,  5385.53334131,\n",
       "       10674.59765566,  8353.52874754,  7992.4364447 , 15102.26748961,\n",
       "       18206.5336328 , 13018.6495345 , 11259.12439731, 11722.5017708 ,\n",
       "        2393.7644547 , 10116.80183906,  6550.69084892, 16072.58753528,\n",
       "       17452.41395185,  6129.93557918,  3139.86385042, 11510.08176681,\n",
       "        9091.57389452,  6657.61732838, 17583.38407423, 18757.48047983,\n",
       "        1588.21499319, 15227.40179053,  4798.00843166,  6543.00352236,\n",
       "        5783.92524126, 12324.27041146,  6733.64656797, 15102.26748961,\n",
       "        3155.13494368,  5141.75190339, 15679.08353158, 45115.89365216,\n",
       "       15435.8588995 ,  2989.41364007,  2768.16827242, 10509.88646581,\n",
       "        2723.20238351, 15241.11502863, 42363.47128519, 12789.61992163,\n",
       "       20921.76685795, 22276.85703101, 41787.22256058,  6635.69351553,\n",
       "        4458.71995629,  6657.30068979, 44593.73550318, 20448.66686629,\n",
       "       32025.76424295,  3481.40349513, 19188.17220476, 14529.89036405,\n",
       "        2226.31107785,  9584.18657235,  5503.44315691, 38387.72926622,\n",
       "       23315.93696867, 13976.31460216, 14062.28229489, 12621.53597607,\n",
       "       14126.48254359])"
      ]
     },
     "execution_count": 60,
     "metadata": {},
     "output_type": "execute_result"
    }
   ],
   "source": [
    "model_pred"
   ]
  },
  {
   "cell_type": "code",
   "execution_count": 61,
   "id": "8ab22d4b",
   "metadata": {},
   "outputs": [
    {
     "data": {
      "text/plain": [
       "0.8427911422408421"
      ]
     },
     "execution_count": 61,
     "metadata": {},
     "output_type": "execute_result"
    }
   ],
   "source": [
    "r2_score(ytest,model_pred)"
   ]
  },
  {
   "cell_type": "markdown",
   "id": "1ab8bf28",
   "metadata": {},
   "source": [
    "We have saved our gbr ML model via pickle dump and used the same by pickle load and got the same output of medical cost prediction with 84% accuracy approximately."
   ]
  },
  {
   "cell_type": "code",
   "execution_count": null,
   "id": "3be74978",
   "metadata": {},
   "outputs": [],
   "source": []
  }
 ],
 "metadata": {
  "kernelspec": {
   "display_name": "Python 3 (ipykernel)",
   "language": "python",
   "name": "python3"
  },
  "language_info": {
   "codemirror_mode": {
    "name": "ipython",
    "version": 3
   },
   "file_extension": ".py",
   "mimetype": "text/x-python",
   "name": "python",
   "nbconvert_exporter": "python",
   "pygments_lexer": "ipython3",
   "version": "3.9.13"
  }
 },
 "nbformat": 4,
 "nbformat_minor": 5
}
