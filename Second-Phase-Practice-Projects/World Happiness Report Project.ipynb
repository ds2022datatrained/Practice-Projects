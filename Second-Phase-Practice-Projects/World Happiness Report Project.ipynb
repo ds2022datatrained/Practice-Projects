{
 "cells": [
  {
   "cell_type": "code",
   "execution_count": 101,
   "id": "6a736acd",
   "metadata": {},
   "outputs": [],
   "source": [
    "import pandas as pd\n",
    "import numpy as np\n",
    "import matplotlib.pyplot as plt\n",
    "import seaborn as sns\n",
    "import sklearn\n",
    "from sklearn.preprocessing import LabelEncoder\n",
    "import warnings\n",
    "warnings.filterwarnings(\"ignore\")\n",
    "from scipy.stats import zscore\n",
    "from scipy.stats import boxcox\n",
    "from sklearn.model_selection import train_test_split\n",
    "from sklearn.linear_model import LinearRegression\n",
    "from sklearn.metrics import r2_score\n",
    "import pickle"
   ]
  },
  {
   "cell_type": "code",
   "execution_count": 102,
   "id": "e585b39a",
   "metadata": {},
   "outputs": [],
   "source": [
    "df=pd.read_csv('https://raw.githubusercontent.com/dsrscientist/DSData/master/happiness_score_dataset.csv')"
   ]
  },
  {
   "cell_type": "code",
   "execution_count": 103,
   "id": "4d7f8625",
   "metadata": {},
   "outputs": [
    {
     "data": {
      "text/html": [
       "<div>\n",
       "<style scoped>\n",
       "    .dataframe tbody tr th:only-of-type {\n",
       "        vertical-align: middle;\n",
       "    }\n",
       "\n",
       "    .dataframe tbody tr th {\n",
       "        vertical-align: top;\n",
       "    }\n",
       "\n",
       "    .dataframe thead th {\n",
       "        text-align: right;\n",
       "    }\n",
       "</style>\n",
       "<table border=\"1\" class=\"dataframe\">\n",
       "  <thead>\n",
       "    <tr style=\"text-align: right;\">\n",
       "      <th></th>\n",
       "      <th>Country</th>\n",
       "      <th>Region</th>\n",
       "      <th>Happiness Rank</th>\n",
       "      <th>Happiness Score</th>\n",
       "      <th>Standard Error</th>\n",
       "      <th>Economy (GDP per Capita)</th>\n",
       "      <th>Family</th>\n",
       "      <th>Health (Life Expectancy)</th>\n",
       "      <th>Freedom</th>\n",
       "      <th>Trust (Government Corruption)</th>\n",
       "      <th>Generosity</th>\n",
       "      <th>Dystopia Residual</th>\n",
       "    </tr>\n",
       "  </thead>\n",
       "  <tbody>\n",
       "    <tr>\n",
       "      <th>0</th>\n",
       "      <td>Switzerland</td>\n",
       "      <td>Western Europe</td>\n",
       "      <td>1</td>\n",
       "      <td>7.587</td>\n",
       "      <td>0.03411</td>\n",
       "      <td>1.39651</td>\n",
       "      <td>1.34951</td>\n",
       "      <td>0.94143</td>\n",
       "      <td>0.66557</td>\n",
       "      <td>0.41978</td>\n",
       "      <td>0.29678</td>\n",
       "      <td>2.51738</td>\n",
       "    </tr>\n",
       "    <tr>\n",
       "      <th>1</th>\n",
       "      <td>Iceland</td>\n",
       "      <td>Western Europe</td>\n",
       "      <td>2</td>\n",
       "      <td>7.561</td>\n",
       "      <td>0.04884</td>\n",
       "      <td>1.30232</td>\n",
       "      <td>1.40223</td>\n",
       "      <td>0.94784</td>\n",
       "      <td>0.62877</td>\n",
       "      <td>0.14145</td>\n",
       "      <td>0.43630</td>\n",
       "      <td>2.70201</td>\n",
       "    </tr>\n",
       "    <tr>\n",
       "      <th>2</th>\n",
       "      <td>Denmark</td>\n",
       "      <td>Western Europe</td>\n",
       "      <td>3</td>\n",
       "      <td>7.527</td>\n",
       "      <td>0.03328</td>\n",
       "      <td>1.32548</td>\n",
       "      <td>1.36058</td>\n",
       "      <td>0.87464</td>\n",
       "      <td>0.64938</td>\n",
       "      <td>0.48357</td>\n",
       "      <td>0.34139</td>\n",
       "      <td>2.49204</td>\n",
       "    </tr>\n",
       "    <tr>\n",
       "      <th>3</th>\n",
       "      <td>Norway</td>\n",
       "      <td>Western Europe</td>\n",
       "      <td>4</td>\n",
       "      <td>7.522</td>\n",
       "      <td>0.03880</td>\n",
       "      <td>1.45900</td>\n",
       "      <td>1.33095</td>\n",
       "      <td>0.88521</td>\n",
       "      <td>0.66973</td>\n",
       "      <td>0.36503</td>\n",
       "      <td>0.34699</td>\n",
       "      <td>2.46531</td>\n",
       "    </tr>\n",
       "    <tr>\n",
       "      <th>4</th>\n",
       "      <td>Canada</td>\n",
       "      <td>North America</td>\n",
       "      <td>5</td>\n",
       "      <td>7.427</td>\n",
       "      <td>0.03553</td>\n",
       "      <td>1.32629</td>\n",
       "      <td>1.32261</td>\n",
       "      <td>0.90563</td>\n",
       "      <td>0.63297</td>\n",
       "      <td>0.32957</td>\n",
       "      <td>0.45811</td>\n",
       "      <td>2.45176</td>\n",
       "    </tr>\n",
       "    <tr>\n",
       "      <th>...</th>\n",
       "      <td>...</td>\n",
       "      <td>...</td>\n",
       "      <td>...</td>\n",
       "      <td>...</td>\n",
       "      <td>...</td>\n",
       "      <td>...</td>\n",
       "      <td>...</td>\n",
       "      <td>...</td>\n",
       "      <td>...</td>\n",
       "      <td>...</td>\n",
       "      <td>...</td>\n",
       "      <td>...</td>\n",
       "    </tr>\n",
       "    <tr>\n",
       "      <th>153</th>\n",
       "      <td>Rwanda</td>\n",
       "      <td>Sub-Saharan Africa</td>\n",
       "      <td>154</td>\n",
       "      <td>3.465</td>\n",
       "      <td>0.03464</td>\n",
       "      <td>0.22208</td>\n",
       "      <td>0.77370</td>\n",
       "      <td>0.42864</td>\n",
       "      <td>0.59201</td>\n",
       "      <td>0.55191</td>\n",
       "      <td>0.22628</td>\n",
       "      <td>0.67042</td>\n",
       "    </tr>\n",
       "    <tr>\n",
       "      <th>154</th>\n",
       "      <td>Benin</td>\n",
       "      <td>Sub-Saharan Africa</td>\n",
       "      <td>155</td>\n",
       "      <td>3.340</td>\n",
       "      <td>0.03656</td>\n",
       "      <td>0.28665</td>\n",
       "      <td>0.35386</td>\n",
       "      <td>0.31910</td>\n",
       "      <td>0.48450</td>\n",
       "      <td>0.08010</td>\n",
       "      <td>0.18260</td>\n",
       "      <td>1.63328</td>\n",
       "    </tr>\n",
       "    <tr>\n",
       "      <th>155</th>\n",
       "      <td>Syria</td>\n",
       "      <td>Middle East and Northern Africa</td>\n",
       "      <td>156</td>\n",
       "      <td>3.006</td>\n",
       "      <td>0.05015</td>\n",
       "      <td>0.66320</td>\n",
       "      <td>0.47489</td>\n",
       "      <td>0.72193</td>\n",
       "      <td>0.15684</td>\n",
       "      <td>0.18906</td>\n",
       "      <td>0.47179</td>\n",
       "      <td>0.32858</td>\n",
       "    </tr>\n",
       "    <tr>\n",
       "      <th>156</th>\n",
       "      <td>Burundi</td>\n",
       "      <td>Sub-Saharan Africa</td>\n",
       "      <td>157</td>\n",
       "      <td>2.905</td>\n",
       "      <td>0.08658</td>\n",
       "      <td>0.01530</td>\n",
       "      <td>0.41587</td>\n",
       "      <td>0.22396</td>\n",
       "      <td>0.11850</td>\n",
       "      <td>0.10062</td>\n",
       "      <td>0.19727</td>\n",
       "      <td>1.83302</td>\n",
       "    </tr>\n",
       "    <tr>\n",
       "      <th>157</th>\n",
       "      <td>Togo</td>\n",
       "      <td>Sub-Saharan Africa</td>\n",
       "      <td>158</td>\n",
       "      <td>2.839</td>\n",
       "      <td>0.06727</td>\n",
       "      <td>0.20868</td>\n",
       "      <td>0.13995</td>\n",
       "      <td>0.28443</td>\n",
       "      <td>0.36453</td>\n",
       "      <td>0.10731</td>\n",
       "      <td>0.16681</td>\n",
       "      <td>1.56726</td>\n",
       "    </tr>\n",
       "  </tbody>\n",
       "</table>\n",
       "<p>158 rows × 12 columns</p>\n",
       "</div>"
      ],
      "text/plain": [
       "         Country                           Region  Happiness Rank  \\\n",
       "0    Switzerland                   Western Europe               1   \n",
       "1        Iceland                   Western Europe               2   \n",
       "2        Denmark                   Western Europe               3   \n",
       "3         Norway                   Western Europe               4   \n",
       "4         Canada                    North America               5   \n",
       "..           ...                              ...             ...   \n",
       "153       Rwanda               Sub-Saharan Africa             154   \n",
       "154        Benin               Sub-Saharan Africa             155   \n",
       "155        Syria  Middle East and Northern Africa             156   \n",
       "156      Burundi               Sub-Saharan Africa             157   \n",
       "157         Togo               Sub-Saharan Africa             158   \n",
       "\n",
       "     Happiness Score  Standard Error  Economy (GDP per Capita)   Family  \\\n",
       "0              7.587         0.03411                   1.39651  1.34951   \n",
       "1              7.561         0.04884                   1.30232  1.40223   \n",
       "2              7.527         0.03328                   1.32548  1.36058   \n",
       "3              7.522         0.03880                   1.45900  1.33095   \n",
       "4              7.427         0.03553                   1.32629  1.32261   \n",
       "..               ...             ...                       ...      ...   \n",
       "153            3.465         0.03464                   0.22208  0.77370   \n",
       "154            3.340         0.03656                   0.28665  0.35386   \n",
       "155            3.006         0.05015                   0.66320  0.47489   \n",
       "156            2.905         0.08658                   0.01530  0.41587   \n",
       "157            2.839         0.06727                   0.20868  0.13995   \n",
       "\n",
       "     Health (Life Expectancy)  Freedom  Trust (Government Corruption)  \\\n",
       "0                     0.94143  0.66557                        0.41978   \n",
       "1                     0.94784  0.62877                        0.14145   \n",
       "2                     0.87464  0.64938                        0.48357   \n",
       "3                     0.88521  0.66973                        0.36503   \n",
       "4                     0.90563  0.63297                        0.32957   \n",
       "..                        ...      ...                            ...   \n",
       "153                   0.42864  0.59201                        0.55191   \n",
       "154                   0.31910  0.48450                        0.08010   \n",
       "155                   0.72193  0.15684                        0.18906   \n",
       "156                   0.22396  0.11850                        0.10062   \n",
       "157                   0.28443  0.36453                        0.10731   \n",
       "\n",
       "     Generosity  Dystopia Residual  \n",
       "0       0.29678            2.51738  \n",
       "1       0.43630            2.70201  \n",
       "2       0.34139            2.49204  \n",
       "3       0.34699            2.46531  \n",
       "4       0.45811            2.45176  \n",
       "..          ...                ...  \n",
       "153     0.22628            0.67042  \n",
       "154     0.18260            1.63328  \n",
       "155     0.47179            0.32858  \n",
       "156     0.19727            1.83302  \n",
       "157     0.16681            1.56726  \n",
       "\n",
       "[158 rows x 12 columns]"
      ]
     },
     "execution_count": 103,
     "metadata": {},
     "output_type": "execute_result"
    }
   ],
   "source": [
    "df"
   ]
  },
  {
   "cell_type": "code",
   "execution_count": 104,
   "id": "107787fe",
   "metadata": {},
   "outputs": [
    {
     "data": {
      "text/plain": [
       "(158, 12)"
      ]
     },
     "execution_count": 104,
     "metadata": {},
     "output_type": "execute_result"
    }
   ],
   "source": [
    "df.shape"
   ]
  },
  {
   "cell_type": "markdown",
   "id": "3f17fa98",
   "metadata": {},
   "source": [
    "As we have to predict the \"Happiness Score\", we are setting the same label as (y) and shifting to the last column for our further process."
   ]
  },
  {
   "cell_type": "code",
   "execution_count": 105,
   "id": "99a74e56",
   "metadata": {},
   "outputs": [],
   "source": [
    "label=df.pop('Happiness Score')"
   ]
  },
  {
   "cell_type": "code",
   "execution_count": 106,
   "id": "911696e8",
   "metadata": {},
   "outputs": [],
   "source": [
    "df.insert(11, 'Happiness Score', label)"
   ]
  },
  {
   "cell_type": "code",
   "execution_count": 107,
   "id": "1133f3f3",
   "metadata": {},
   "outputs": [
    {
     "data": {
      "text/html": [
       "<div>\n",
       "<style scoped>\n",
       "    .dataframe tbody tr th:only-of-type {\n",
       "        vertical-align: middle;\n",
       "    }\n",
       "\n",
       "    .dataframe tbody tr th {\n",
       "        vertical-align: top;\n",
       "    }\n",
       "\n",
       "    .dataframe thead th {\n",
       "        text-align: right;\n",
       "    }\n",
       "</style>\n",
       "<table border=\"1\" class=\"dataframe\">\n",
       "  <thead>\n",
       "    <tr style=\"text-align: right;\">\n",
       "      <th></th>\n",
       "      <th>Country</th>\n",
       "      <th>Region</th>\n",
       "      <th>Happiness Rank</th>\n",
       "      <th>Standard Error</th>\n",
       "      <th>Economy (GDP per Capita)</th>\n",
       "      <th>Family</th>\n",
       "      <th>Health (Life Expectancy)</th>\n",
       "      <th>Freedom</th>\n",
       "      <th>Trust (Government Corruption)</th>\n",
       "      <th>Generosity</th>\n",
       "      <th>Dystopia Residual</th>\n",
       "      <th>Happiness Score</th>\n",
       "    </tr>\n",
       "  </thead>\n",
       "  <tbody>\n",
       "    <tr>\n",
       "      <th>0</th>\n",
       "      <td>Switzerland</td>\n",
       "      <td>Western Europe</td>\n",
       "      <td>1</td>\n",
       "      <td>0.03411</td>\n",
       "      <td>1.39651</td>\n",
       "      <td>1.34951</td>\n",
       "      <td>0.94143</td>\n",
       "      <td>0.66557</td>\n",
       "      <td>0.41978</td>\n",
       "      <td>0.29678</td>\n",
       "      <td>2.51738</td>\n",
       "      <td>7.587</td>\n",
       "    </tr>\n",
       "    <tr>\n",
       "      <th>1</th>\n",
       "      <td>Iceland</td>\n",
       "      <td>Western Europe</td>\n",
       "      <td>2</td>\n",
       "      <td>0.04884</td>\n",
       "      <td>1.30232</td>\n",
       "      <td>1.40223</td>\n",
       "      <td>0.94784</td>\n",
       "      <td>0.62877</td>\n",
       "      <td>0.14145</td>\n",
       "      <td>0.43630</td>\n",
       "      <td>2.70201</td>\n",
       "      <td>7.561</td>\n",
       "    </tr>\n",
       "    <tr>\n",
       "      <th>2</th>\n",
       "      <td>Denmark</td>\n",
       "      <td>Western Europe</td>\n",
       "      <td>3</td>\n",
       "      <td>0.03328</td>\n",
       "      <td>1.32548</td>\n",
       "      <td>1.36058</td>\n",
       "      <td>0.87464</td>\n",
       "      <td>0.64938</td>\n",
       "      <td>0.48357</td>\n",
       "      <td>0.34139</td>\n",
       "      <td>2.49204</td>\n",
       "      <td>7.527</td>\n",
       "    </tr>\n",
       "    <tr>\n",
       "      <th>3</th>\n",
       "      <td>Norway</td>\n",
       "      <td>Western Europe</td>\n",
       "      <td>4</td>\n",
       "      <td>0.03880</td>\n",
       "      <td>1.45900</td>\n",
       "      <td>1.33095</td>\n",
       "      <td>0.88521</td>\n",
       "      <td>0.66973</td>\n",
       "      <td>0.36503</td>\n",
       "      <td>0.34699</td>\n",
       "      <td>2.46531</td>\n",
       "      <td>7.522</td>\n",
       "    </tr>\n",
       "    <tr>\n",
       "      <th>4</th>\n",
       "      <td>Canada</td>\n",
       "      <td>North America</td>\n",
       "      <td>5</td>\n",
       "      <td>0.03553</td>\n",
       "      <td>1.32629</td>\n",
       "      <td>1.32261</td>\n",
       "      <td>0.90563</td>\n",
       "      <td>0.63297</td>\n",
       "      <td>0.32957</td>\n",
       "      <td>0.45811</td>\n",
       "      <td>2.45176</td>\n",
       "      <td>7.427</td>\n",
       "    </tr>\n",
       "    <tr>\n",
       "      <th>...</th>\n",
       "      <td>...</td>\n",
       "      <td>...</td>\n",
       "      <td>...</td>\n",
       "      <td>...</td>\n",
       "      <td>...</td>\n",
       "      <td>...</td>\n",
       "      <td>...</td>\n",
       "      <td>...</td>\n",
       "      <td>...</td>\n",
       "      <td>...</td>\n",
       "      <td>...</td>\n",
       "      <td>...</td>\n",
       "    </tr>\n",
       "    <tr>\n",
       "      <th>153</th>\n",
       "      <td>Rwanda</td>\n",
       "      <td>Sub-Saharan Africa</td>\n",
       "      <td>154</td>\n",
       "      <td>0.03464</td>\n",
       "      <td>0.22208</td>\n",
       "      <td>0.77370</td>\n",
       "      <td>0.42864</td>\n",
       "      <td>0.59201</td>\n",
       "      <td>0.55191</td>\n",
       "      <td>0.22628</td>\n",
       "      <td>0.67042</td>\n",
       "      <td>3.465</td>\n",
       "    </tr>\n",
       "    <tr>\n",
       "      <th>154</th>\n",
       "      <td>Benin</td>\n",
       "      <td>Sub-Saharan Africa</td>\n",
       "      <td>155</td>\n",
       "      <td>0.03656</td>\n",
       "      <td>0.28665</td>\n",
       "      <td>0.35386</td>\n",
       "      <td>0.31910</td>\n",
       "      <td>0.48450</td>\n",
       "      <td>0.08010</td>\n",
       "      <td>0.18260</td>\n",
       "      <td>1.63328</td>\n",
       "      <td>3.340</td>\n",
       "    </tr>\n",
       "    <tr>\n",
       "      <th>155</th>\n",
       "      <td>Syria</td>\n",
       "      <td>Middle East and Northern Africa</td>\n",
       "      <td>156</td>\n",
       "      <td>0.05015</td>\n",
       "      <td>0.66320</td>\n",
       "      <td>0.47489</td>\n",
       "      <td>0.72193</td>\n",
       "      <td>0.15684</td>\n",
       "      <td>0.18906</td>\n",
       "      <td>0.47179</td>\n",
       "      <td>0.32858</td>\n",
       "      <td>3.006</td>\n",
       "    </tr>\n",
       "    <tr>\n",
       "      <th>156</th>\n",
       "      <td>Burundi</td>\n",
       "      <td>Sub-Saharan Africa</td>\n",
       "      <td>157</td>\n",
       "      <td>0.08658</td>\n",
       "      <td>0.01530</td>\n",
       "      <td>0.41587</td>\n",
       "      <td>0.22396</td>\n",
       "      <td>0.11850</td>\n",
       "      <td>0.10062</td>\n",
       "      <td>0.19727</td>\n",
       "      <td>1.83302</td>\n",
       "      <td>2.905</td>\n",
       "    </tr>\n",
       "    <tr>\n",
       "      <th>157</th>\n",
       "      <td>Togo</td>\n",
       "      <td>Sub-Saharan Africa</td>\n",
       "      <td>158</td>\n",
       "      <td>0.06727</td>\n",
       "      <td>0.20868</td>\n",
       "      <td>0.13995</td>\n",
       "      <td>0.28443</td>\n",
       "      <td>0.36453</td>\n",
       "      <td>0.10731</td>\n",
       "      <td>0.16681</td>\n",
       "      <td>1.56726</td>\n",
       "      <td>2.839</td>\n",
       "    </tr>\n",
       "  </tbody>\n",
       "</table>\n",
       "<p>158 rows × 12 columns</p>\n",
       "</div>"
      ],
      "text/plain": [
       "         Country                           Region  Happiness Rank  \\\n",
       "0    Switzerland                   Western Europe               1   \n",
       "1        Iceland                   Western Europe               2   \n",
       "2        Denmark                   Western Europe               3   \n",
       "3         Norway                   Western Europe               4   \n",
       "4         Canada                    North America               5   \n",
       "..           ...                              ...             ...   \n",
       "153       Rwanda               Sub-Saharan Africa             154   \n",
       "154        Benin               Sub-Saharan Africa             155   \n",
       "155        Syria  Middle East and Northern Africa             156   \n",
       "156      Burundi               Sub-Saharan Africa             157   \n",
       "157         Togo               Sub-Saharan Africa             158   \n",
       "\n",
       "     Standard Error  Economy (GDP per Capita)   Family  \\\n",
       "0           0.03411                   1.39651  1.34951   \n",
       "1           0.04884                   1.30232  1.40223   \n",
       "2           0.03328                   1.32548  1.36058   \n",
       "3           0.03880                   1.45900  1.33095   \n",
       "4           0.03553                   1.32629  1.32261   \n",
       "..              ...                       ...      ...   \n",
       "153         0.03464                   0.22208  0.77370   \n",
       "154         0.03656                   0.28665  0.35386   \n",
       "155         0.05015                   0.66320  0.47489   \n",
       "156         0.08658                   0.01530  0.41587   \n",
       "157         0.06727                   0.20868  0.13995   \n",
       "\n",
       "     Health (Life Expectancy)  Freedom  Trust (Government Corruption)  \\\n",
       "0                     0.94143  0.66557                        0.41978   \n",
       "1                     0.94784  0.62877                        0.14145   \n",
       "2                     0.87464  0.64938                        0.48357   \n",
       "3                     0.88521  0.66973                        0.36503   \n",
       "4                     0.90563  0.63297                        0.32957   \n",
       "..                        ...      ...                            ...   \n",
       "153                   0.42864  0.59201                        0.55191   \n",
       "154                   0.31910  0.48450                        0.08010   \n",
       "155                   0.72193  0.15684                        0.18906   \n",
       "156                   0.22396  0.11850                        0.10062   \n",
       "157                   0.28443  0.36453                        0.10731   \n",
       "\n",
       "     Generosity  Dystopia Residual  Happiness Score  \n",
       "0       0.29678            2.51738            7.587  \n",
       "1       0.43630            2.70201            7.561  \n",
       "2       0.34139            2.49204            7.527  \n",
       "3       0.34699            2.46531            7.522  \n",
       "4       0.45811            2.45176            7.427  \n",
       "..          ...                ...              ...  \n",
       "153     0.22628            0.67042            3.465  \n",
       "154     0.18260            1.63328            3.340  \n",
       "155     0.47179            0.32858            3.006  \n",
       "156     0.19727            1.83302            2.905  \n",
       "157     0.16681            1.56726            2.839  \n",
       "\n",
       "[158 rows x 12 columns]"
      ]
     },
     "execution_count": 107,
     "metadata": {},
     "output_type": "execute_result"
    }
   ],
   "source": [
    "df"
   ]
  },
  {
   "cell_type": "code",
   "execution_count": 108,
   "id": "94563661",
   "metadata": {},
   "outputs": [
    {
     "data": {
      "text/plain": [
       "Country                          0\n",
       "Region                           0\n",
       "Happiness Rank                   0\n",
       "Standard Error                   0\n",
       "Economy (GDP per Capita)         0\n",
       "Family                           0\n",
       "Health (Life Expectancy)         0\n",
       "Freedom                          0\n",
       "Trust (Government Corruption)    0\n",
       "Generosity                       0\n",
       "Dystopia Residual                0\n",
       "Happiness Score                  0\n",
       "dtype: int64"
      ]
     },
     "execution_count": 108,
     "metadata": {},
     "output_type": "execute_result"
    }
   ],
   "source": [
    "df.isnull().sum()"
   ]
  },
  {
   "cell_type": "code",
   "execution_count": 109,
   "id": "b304403f",
   "metadata": {},
   "outputs": [
    {
     "data": {
      "text/plain": [
       "Country                           object\n",
       "Region                            object\n",
       "Happiness Rank                     int64\n",
       "Standard Error                   float64\n",
       "Economy (GDP per Capita)         float64\n",
       "Family                           float64\n",
       "Health (Life Expectancy)         float64\n",
       "Freedom                          float64\n",
       "Trust (Government Corruption)    float64\n",
       "Generosity                       float64\n",
       "Dystopia Residual                float64\n",
       "Happiness Score                  float64\n",
       "dtype: object"
      ]
     },
     "execution_count": 109,
     "metadata": {},
     "output_type": "execute_result"
    }
   ],
   "source": [
    "df.dtypes"
   ]
  },
  {
   "cell_type": "code",
   "execution_count": 110,
   "id": "58b64968",
   "metadata": {},
   "outputs": [
    {
     "data": {
      "text/html": [
       "<div>\n",
       "<style scoped>\n",
       "    .dataframe tbody tr th:only-of-type {\n",
       "        vertical-align: middle;\n",
       "    }\n",
       "\n",
       "    .dataframe tbody tr th {\n",
       "        vertical-align: top;\n",
       "    }\n",
       "\n",
       "    .dataframe thead th {\n",
       "        text-align: right;\n",
       "    }\n",
       "</style>\n",
       "<table border=\"1\" class=\"dataframe\">\n",
       "  <thead>\n",
       "    <tr style=\"text-align: right;\">\n",
       "      <th></th>\n",
       "      <th>Happiness Rank</th>\n",
       "      <th>Standard Error</th>\n",
       "      <th>Economy (GDP per Capita)</th>\n",
       "      <th>Family</th>\n",
       "      <th>Health (Life Expectancy)</th>\n",
       "      <th>Freedom</th>\n",
       "      <th>Trust (Government Corruption)</th>\n",
       "      <th>Generosity</th>\n",
       "      <th>Dystopia Residual</th>\n",
       "      <th>Happiness Score</th>\n",
       "    </tr>\n",
       "  </thead>\n",
       "  <tbody>\n",
       "    <tr>\n",
       "      <th>count</th>\n",
       "      <td>158.000000</td>\n",
       "      <td>158.000000</td>\n",
       "      <td>158.000000</td>\n",
       "      <td>158.000000</td>\n",
       "      <td>158.000000</td>\n",
       "      <td>158.000000</td>\n",
       "      <td>158.000000</td>\n",
       "      <td>158.000000</td>\n",
       "      <td>158.000000</td>\n",
       "      <td>158.000000</td>\n",
       "    </tr>\n",
       "    <tr>\n",
       "      <th>mean</th>\n",
       "      <td>79.493671</td>\n",
       "      <td>0.047885</td>\n",
       "      <td>0.846137</td>\n",
       "      <td>0.991046</td>\n",
       "      <td>0.630259</td>\n",
       "      <td>0.428615</td>\n",
       "      <td>0.143422</td>\n",
       "      <td>0.237296</td>\n",
       "      <td>2.098977</td>\n",
       "      <td>5.375734</td>\n",
       "    </tr>\n",
       "    <tr>\n",
       "      <th>std</th>\n",
       "      <td>45.754363</td>\n",
       "      <td>0.017146</td>\n",
       "      <td>0.403121</td>\n",
       "      <td>0.272369</td>\n",
       "      <td>0.247078</td>\n",
       "      <td>0.150693</td>\n",
       "      <td>0.120034</td>\n",
       "      <td>0.126685</td>\n",
       "      <td>0.553550</td>\n",
       "      <td>1.145010</td>\n",
       "    </tr>\n",
       "    <tr>\n",
       "      <th>min</th>\n",
       "      <td>1.000000</td>\n",
       "      <td>0.018480</td>\n",
       "      <td>0.000000</td>\n",
       "      <td>0.000000</td>\n",
       "      <td>0.000000</td>\n",
       "      <td>0.000000</td>\n",
       "      <td>0.000000</td>\n",
       "      <td>0.000000</td>\n",
       "      <td>0.328580</td>\n",
       "      <td>2.839000</td>\n",
       "    </tr>\n",
       "    <tr>\n",
       "      <th>25%</th>\n",
       "      <td>40.250000</td>\n",
       "      <td>0.037268</td>\n",
       "      <td>0.545808</td>\n",
       "      <td>0.856823</td>\n",
       "      <td>0.439185</td>\n",
       "      <td>0.328330</td>\n",
       "      <td>0.061675</td>\n",
       "      <td>0.150553</td>\n",
       "      <td>1.759410</td>\n",
       "      <td>4.526000</td>\n",
       "    </tr>\n",
       "    <tr>\n",
       "      <th>50%</th>\n",
       "      <td>79.500000</td>\n",
       "      <td>0.043940</td>\n",
       "      <td>0.910245</td>\n",
       "      <td>1.029510</td>\n",
       "      <td>0.696705</td>\n",
       "      <td>0.435515</td>\n",
       "      <td>0.107220</td>\n",
       "      <td>0.216130</td>\n",
       "      <td>2.095415</td>\n",
       "      <td>5.232500</td>\n",
       "    </tr>\n",
       "    <tr>\n",
       "      <th>75%</th>\n",
       "      <td>118.750000</td>\n",
       "      <td>0.052300</td>\n",
       "      <td>1.158448</td>\n",
       "      <td>1.214405</td>\n",
       "      <td>0.811013</td>\n",
       "      <td>0.549092</td>\n",
       "      <td>0.180255</td>\n",
       "      <td>0.309883</td>\n",
       "      <td>2.462415</td>\n",
       "      <td>6.243750</td>\n",
       "    </tr>\n",
       "    <tr>\n",
       "      <th>max</th>\n",
       "      <td>158.000000</td>\n",
       "      <td>0.136930</td>\n",
       "      <td>1.690420</td>\n",
       "      <td>1.402230</td>\n",
       "      <td>1.025250</td>\n",
       "      <td>0.669730</td>\n",
       "      <td>0.551910</td>\n",
       "      <td>0.795880</td>\n",
       "      <td>3.602140</td>\n",
       "      <td>7.587000</td>\n",
       "    </tr>\n",
       "  </tbody>\n",
       "</table>\n",
       "</div>"
      ],
      "text/plain": [
       "       Happiness Rank  Standard Error  Economy (GDP per Capita)      Family  \\\n",
       "count      158.000000      158.000000                158.000000  158.000000   \n",
       "mean        79.493671        0.047885                  0.846137    0.991046   \n",
       "std         45.754363        0.017146                  0.403121    0.272369   \n",
       "min          1.000000        0.018480                  0.000000    0.000000   \n",
       "25%         40.250000        0.037268                  0.545808    0.856823   \n",
       "50%         79.500000        0.043940                  0.910245    1.029510   \n",
       "75%        118.750000        0.052300                  1.158448    1.214405   \n",
       "max        158.000000        0.136930                  1.690420    1.402230   \n",
       "\n",
       "       Health (Life Expectancy)     Freedom  Trust (Government Corruption)  \\\n",
       "count                158.000000  158.000000                     158.000000   \n",
       "mean                   0.630259    0.428615                       0.143422   \n",
       "std                    0.247078    0.150693                       0.120034   \n",
       "min                    0.000000    0.000000                       0.000000   \n",
       "25%                    0.439185    0.328330                       0.061675   \n",
       "50%                    0.696705    0.435515                       0.107220   \n",
       "75%                    0.811013    0.549092                       0.180255   \n",
       "max                    1.025250    0.669730                       0.551910   \n",
       "\n",
       "       Generosity  Dystopia Residual  Happiness Score  \n",
       "count  158.000000         158.000000       158.000000  \n",
       "mean     0.237296           2.098977         5.375734  \n",
       "std      0.126685           0.553550         1.145010  \n",
       "min      0.000000           0.328580         2.839000  \n",
       "25%      0.150553           1.759410         4.526000  \n",
       "50%      0.216130           2.095415         5.232500  \n",
       "75%      0.309883           2.462415         6.243750  \n",
       "max      0.795880           3.602140         7.587000  "
      ]
     },
     "execution_count": 110,
     "metadata": {},
     "output_type": "execute_result"
    }
   ],
   "source": [
    "df.describe()"
   ]
  },
  {
   "cell_type": "markdown",
   "id": "830b7cb0",
   "metadata": {},
   "source": [
    "Observations: (1) There is no null value in the above dataset.\n",
    "(2) The Mean of the \"Trust (Government Corruption)\" 0.143 is greater than its Median (50% Percentile) 0.107, which means this column is Right Sided Skewed, rest are very nearby and very less skewed some where.\n",
    "(3) In the \"Happiness Rank\" the difference between 75% (Percentile) 118.75 and Maximum Value 158.00 is high, so Outliers are their, rest columns are also having the same but little diferences, So Outliers possibilities are there.\n",
    "(4) In many of the columns their are lager differences between Mean & Standard Deviation, so these are the spreaded data and not normally distributed.\n",
    "(5) As our Target columns \"Happiness Score\" is the continuous data, we have to use Linear Regression models for prediction of this dataset."
   ]
  },
  {
   "cell_type": "code",
   "execution_count": 111,
   "id": "4991a098",
   "metadata": {},
   "outputs": [],
   "source": [
    "dfcor=df.corr()"
   ]
  },
  {
   "cell_type": "code",
   "execution_count": 112,
   "id": "4897a844",
   "metadata": {},
   "outputs": [
    {
     "data": {
      "text/html": [
       "<div>\n",
       "<style scoped>\n",
       "    .dataframe tbody tr th:only-of-type {\n",
       "        vertical-align: middle;\n",
       "    }\n",
       "\n",
       "    .dataframe tbody tr th {\n",
       "        vertical-align: top;\n",
       "    }\n",
       "\n",
       "    .dataframe thead th {\n",
       "        text-align: right;\n",
       "    }\n",
       "</style>\n",
       "<table border=\"1\" class=\"dataframe\">\n",
       "  <thead>\n",
       "    <tr style=\"text-align: right;\">\n",
       "      <th></th>\n",
       "      <th>Happiness Rank</th>\n",
       "      <th>Standard Error</th>\n",
       "      <th>Economy (GDP per Capita)</th>\n",
       "      <th>Family</th>\n",
       "      <th>Health (Life Expectancy)</th>\n",
       "      <th>Freedom</th>\n",
       "      <th>Trust (Government Corruption)</th>\n",
       "      <th>Generosity</th>\n",
       "      <th>Dystopia Residual</th>\n",
       "      <th>Happiness Score</th>\n",
       "    </tr>\n",
       "  </thead>\n",
       "  <tbody>\n",
       "    <tr>\n",
       "      <th>Happiness Rank</th>\n",
       "      <td>1.000000</td>\n",
       "      <td>0.158516</td>\n",
       "      <td>-0.785267</td>\n",
       "      <td>-0.733644</td>\n",
       "      <td>-0.735613</td>\n",
       "      <td>-0.556886</td>\n",
       "      <td>-0.372315</td>\n",
       "      <td>-0.160142</td>\n",
       "      <td>-0.521999</td>\n",
       "      <td>-0.992105</td>\n",
       "    </tr>\n",
       "    <tr>\n",
       "      <th>Standard Error</th>\n",
       "      <td>0.158516</td>\n",
       "      <td>1.000000</td>\n",
       "      <td>-0.217651</td>\n",
       "      <td>-0.120728</td>\n",
       "      <td>-0.310287</td>\n",
       "      <td>-0.129773</td>\n",
       "      <td>-0.178325</td>\n",
       "      <td>-0.088439</td>\n",
       "      <td>0.083981</td>\n",
       "      <td>-0.177254</td>\n",
       "    </tr>\n",
       "    <tr>\n",
       "      <th>Economy (GDP per Capita)</th>\n",
       "      <td>-0.785267</td>\n",
       "      <td>-0.217651</td>\n",
       "      <td>1.000000</td>\n",
       "      <td>0.645299</td>\n",
       "      <td>0.816478</td>\n",
       "      <td>0.370300</td>\n",
       "      <td>0.307885</td>\n",
       "      <td>-0.010465</td>\n",
       "      <td>0.040059</td>\n",
       "      <td>0.780966</td>\n",
       "    </tr>\n",
       "    <tr>\n",
       "      <th>Family</th>\n",
       "      <td>-0.733644</td>\n",
       "      <td>-0.120728</td>\n",
       "      <td>0.645299</td>\n",
       "      <td>1.000000</td>\n",
       "      <td>0.531104</td>\n",
       "      <td>0.441518</td>\n",
       "      <td>0.205605</td>\n",
       "      <td>0.087513</td>\n",
       "      <td>0.148117</td>\n",
       "      <td>0.740605</td>\n",
       "    </tr>\n",
       "    <tr>\n",
       "      <th>Health (Life Expectancy)</th>\n",
       "      <td>-0.735613</td>\n",
       "      <td>-0.310287</td>\n",
       "      <td>0.816478</td>\n",
       "      <td>0.531104</td>\n",
       "      <td>1.000000</td>\n",
       "      <td>0.360477</td>\n",
       "      <td>0.248335</td>\n",
       "      <td>0.108335</td>\n",
       "      <td>0.018979</td>\n",
       "      <td>0.724200</td>\n",
       "    </tr>\n",
       "    <tr>\n",
       "      <th>Freedom</th>\n",
       "      <td>-0.556886</td>\n",
       "      <td>-0.129773</td>\n",
       "      <td>0.370300</td>\n",
       "      <td>0.441518</td>\n",
       "      <td>0.360477</td>\n",
       "      <td>1.000000</td>\n",
       "      <td>0.493524</td>\n",
       "      <td>0.373916</td>\n",
       "      <td>0.062783</td>\n",
       "      <td>0.568211</td>\n",
       "    </tr>\n",
       "    <tr>\n",
       "      <th>Trust (Government Corruption)</th>\n",
       "      <td>-0.372315</td>\n",
       "      <td>-0.178325</td>\n",
       "      <td>0.307885</td>\n",
       "      <td>0.205605</td>\n",
       "      <td>0.248335</td>\n",
       "      <td>0.493524</td>\n",
       "      <td>1.000000</td>\n",
       "      <td>0.276123</td>\n",
       "      <td>-0.033105</td>\n",
       "      <td>0.395199</td>\n",
       "    </tr>\n",
       "    <tr>\n",
       "      <th>Generosity</th>\n",
       "      <td>-0.160142</td>\n",
       "      <td>-0.088439</td>\n",
       "      <td>-0.010465</td>\n",
       "      <td>0.087513</td>\n",
       "      <td>0.108335</td>\n",
       "      <td>0.373916</td>\n",
       "      <td>0.276123</td>\n",
       "      <td>1.000000</td>\n",
       "      <td>-0.101301</td>\n",
       "      <td>0.180319</td>\n",
       "    </tr>\n",
       "    <tr>\n",
       "      <th>Dystopia Residual</th>\n",
       "      <td>-0.521999</td>\n",
       "      <td>0.083981</td>\n",
       "      <td>0.040059</td>\n",
       "      <td>0.148117</td>\n",
       "      <td>0.018979</td>\n",
       "      <td>0.062783</td>\n",
       "      <td>-0.033105</td>\n",
       "      <td>-0.101301</td>\n",
       "      <td>1.000000</td>\n",
       "      <td>0.530474</td>\n",
       "    </tr>\n",
       "    <tr>\n",
       "      <th>Happiness Score</th>\n",
       "      <td>-0.992105</td>\n",
       "      <td>-0.177254</td>\n",
       "      <td>0.780966</td>\n",
       "      <td>0.740605</td>\n",
       "      <td>0.724200</td>\n",
       "      <td>0.568211</td>\n",
       "      <td>0.395199</td>\n",
       "      <td>0.180319</td>\n",
       "      <td>0.530474</td>\n",
       "      <td>1.000000</td>\n",
       "    </tr>\n",
       "  </tbody>\n",
       "</table>\n",
       "</div>"
      ],
      "text/plain": [
       "                               Happiness Rank  Standard Error  \\\n",
       "Happiness Rank                       1.000000        0.158516   \n",
       "Standard Error                       0.158516        1.000000   \n",
       "Economy (GDP per Capita)            -0.785267       -0.217651   \n",
       "Family                              -0.733644       -0.120728   \n",
       "Health (Life Expectancy)            -0.735613       -0.310287   \n",
       "Freedom                             -0.556886       -0.129773   \n",
       "Trust (Government Corruption)       -0.372315       -0.178325   \n",
       "Generosity                          -0.160142       -0.088439   \n",
       "Dystopia Residual                   -0.521999        0.083981   \n",
       "Happiness Score                     -0.992105       -0.177254   \n",
       "\n",
       "                               Economy (GDP per Capita)    Family  \\\n",
       "Happiness Rank                                -0.785267 -0.733644   \n",
       "Standard Error                                -0.217651 -0.120728   \n",
       "Economy (GDP per Capita)                       1.000000  0.645299   \n",
       "Family                                         0.645299  1.000000   \n",
       "Health (Life Expectancy)                       0.816478  0.531104   \n",
       "Freedom                                        0.370300  0.441518   \n",
       "Trust (Government Corruption)                  0.307885  0.205605   \n",
       "Generosity                                    -0.010465  0.087513   \n",
       "Dystopia Residual                              0.040059  0.148117   \n",
       "Happiness Score                                0.780966  0.740605   \n",
       "\n",
       "                               Health (Life Expectancy)   Freedom  \\\n",
       "Happiness Rank                                -0.735613 -0.556886   \n",
       "Standard Error                                -0.310287 -0.129773   \n",
       "Economy (GDP per Capita)                       0.816478  0.370300   \n",
       "Family                                         0.531104  0.441518   \n",
       "Health (Life Expectancy)                       1.000000  0.360477   \n",
       "Freedom                                        0.360477  1.000000   \n",
       "Trust (Government Corruption)                  0.248335  0.493524   \n",
       "Generosity                                     0.108335  0.373916   \n",
       "Dystopia Residual                              0.018979  0.062783   \n",
       "Happiness Score                                0.724200  0.568211   \n",
       "\n",
       "                               Trust (Government Corruption)  Generosity  \\\n",
       "Happiness Rank                                     -0.372315   -0.160142   \n",
       "Standard Error                                     -0.178325   -0.088439   \n",
       "Economy (GDP per Capita)                            0.307885   -0.010465   \n",
       "Family                                              0.205605    0.087513   \n",
       "Health (Life Expectancy)                            0.248335    0.108335   \n",
       "Freedom                                             0.493524    0.373916   \n",
       "Trust (Government Corruption)                       1.000000    0.276123   \n",
       "Generosity                                          0.276123    1.000000   \n",
       "Dystopia Residual                                  -0.033105   -0.101301   \n",
       "Happiness Score                                     0.395199    0.180319   \n",
       "\n",
       "                               Dystopia Residual  Happiness Score  \n",
       "Happiness Rank                         -0.521999        -0.992105  \n",
       "Standard Error                          0.083981        -0.177254  \n",
       "Economy (GDP per Capita)                0.040059         0.780966  \n",
       "Family                                  0.148117         0.740605  \n",
       "Health (Life Expectancy)                0.018979         0.724200  \n",
       "Freedom                                 0.062783         0.568211  \n",
       "Trust (Government Corruption)          -0.033105         0.395199  \n",
       "Generosity                             -0.101301         0.180319  \n",
       "Dystopia Residual                       1.000000         0.530474  \n",
       "Happiness Score                         0.530474         1.000000  "
      ]
     },
     "execution_count": 112,
     "metadata": {},
     "output_type": "execute_result"
    }
   ],
   "source": [
    "dfcor"
   ]
  },
  {
   "cell_type": "code",
   "execution_count": 113,
   "id": "1808ee1a",
   "metadata": {},
   "outputs": [
    {
     "data": {
      "text/plain": [
       "<AxesSubplot:>"
      ]
     },
     "execution_count": 113,
     "metadata": {},
     "output_type": "execute_result"
    },
    {
     "data": {
      "image/png": "[encoded data removed]",
      "text/plain": [
       "<Figure size 1000x1000 with 2 Axes>"
      ]
     },
     "metadata": {},
     "output_type": "display_data"
    }
   ],
   "source": [
    "plt.figure(figsize=(10,10))\n",
    "sns.heatmap(dfcor,annot=True,cmap='Greens')"
   ]
  },
  {
   "cell_type": "markdown",
   "id": "804b56c5",
   "metadata": {},
   "source": [
    "By the above Heatmap, we have considered that (1) \"Generosity\" and \"Dystopia Residual\" are negatively related.\n",
    "(2) \"Economy (GDP per Capita)\" & \"Family\" and \"Dystopia\" & \"Happness Score\" are positively related."
   ]
  },
  {
   "cell_type": "code",
   "execution_count": 114,
   "id": "6b651a17",
   "metadata": {},
   "outputs": [
    {
     "data": {
      "text/plain": [
       "Country                           object\n",
       "Region                            object\n",
       "Happiness Rank                     int64\n",
       "Standard Error                   float64\n",
       "Economy (GDP per Capita)         float64\n",
       "Family                           float64\n",
       "Health (Life Expectancy)         float64\n",
       "Freedom                          float64\n",
       "Trust (Government Corruption)    float64\n",
       "Generosity                       float64\n",
       "Dystopia Residual                float64\n",
       "Happiness Score                  float64\n",
       "dtype: object"
      ]
     },
     "execution_count": 114,
     "metadata": {},
     "output_type": "execute_result"
    }
   ],
   "source": [
    "df.dtypes"
   ]
  },
  {
   "cell_type": "code",
   "execution_count": 115,
   "id": "c17274b8",
   "metadata": {},
   "outputs": [
    {
     "data": {
      "text/plain": [
       "<AxesSubplot:xlabel='Region', ylabel='Happiness Score'>"
      ]
     },
     "execution_count": 115,
     "metadata": {},
     "output_type": "execute_result"
    },
    {
     "data": {
      "image/png": "[encoded data removed]",
      "text/plain": [
       "<Figure size 1500x1500 with 1 Axes>"
      ]
     },
     "metadata": {},
     "output_type": "display_data"
    }
   ],
   "source": [
    "plt.figure(figsize=(15,15))\n",
    "sns.scatterplot(df['Region'],df['Happiness Score'])"
   ]
  },
  {
   "cell_type": "markdown",
   "id": "b61670f1",
   "metadata": {},
   "source": [
    "By using the above Scatter Plot, we have observed that most of the Happiest Countries are located at Western Europe, North America and Austrilia and the least Happiest Countires are lacated at African continent."
   ]
  },
  {
   "cell_type": "markdown",
   "id": "a44d5354",
   "metadata": {},
   "source": [
    "As the Country & Region both are of Object data type, we are using Label Encoder to convert the same as Interger Values, so that we can train our ML Model with the Country & Region Columns also."
   ]
  },
  {
   "cell_type": "code",
   "execution_count": 116,
   "id": "d0d3b15f",
   "metadata": {},
   "outputs": [],
   "source": [
    "le=sklearn.preprocessing.LabelEncoder()\n",
    "df['Country']=le.fit_transform(df['Country'])\n",
    "df['Region']=le.fit_transform(df['Region'])"
   ]
  },
  {
   "cell_type": "code",
   "execution_count": 117,
   "id": "55120c33",
   "metadata": {},
   "outputs": [
    {
     "data": {
      "text/html": [
       "<div>\n",
       "<style scoped>\n",
       "    .dataframe tbody tr th:only-of-type {\n",
       "        vertical-align: middle;\n",
       "    }\n",
       "\n",
       "    .dataframe tbody tr th {\n",
       "        vertical-align: top;\n",
       "    }\n",
       "\n",
       "    .dataframe thead th {\n",
       "        text-align: right;\n",
       "    }\n",
       "</style>\n",
       "<table border=\"1\" class=\"dataframe\">\n",
       "  <thead>\n",
       "    <tr style=\"text-align: right;\">\n",
       "      <th></th>\n",
       "      <th>Country</th>\n",
       "      <th>Region</th>\n",
       "      <th>Happiness Rank</th>\n",
       "      <th>Standard Error</th>\n",
       "      <th>Economy (GDP per Capita)</th>\n",
       "      <th>Family</th>\n",
       "      <th>Health (Life Expectancy)</th>\n",
       "      <th>Freedom</th>\n",
       "      <th>Trust (Government Corruption)</th>\n",
       "      <th>Generosity</th>\n",
       "      <th>Dystopia Residual</th>\n",
       "      <th>Happiness Score</th>\n",
       "    </tr>\n",
       "  </thead>\n",
       "  <tbody>\n",
       "    <tr>\n",
       "      <th>0</th>\n",
       "      <td>135</td>\n",
       "      <td>9</td>\n",
       "      <td>1</td>\n",
       "      <td>0.03411</td>\n",
       "      <td>1.39651</td>\n",
       "      <td>1.34951</td>\n",
       "      <td>0.94143</td>\n",
       "      <td>0.66557</td>\n",
       "      <td>0.41978</td>\n",
       "      <td>0.29678</td>\n",
       "      <td>2.51738</td>\n",
       "      <td>7.587</td>\n",
       "    </tr>\n",
       "    <tr>\n",
       "      <th>1</th>\n",
       "      <td>58</td>\n",
       "      <td>9</td>\n",
       "      <td>2</td>\n",
       "      <td>0.04884</td>\n",
       "      <td>1.30232</td>\n",
       "      <td>1.40223</td>\n",
       "      <td>0.94784</td>\n",
       "      <td>0.62877</td>\n",
       "      <td>0.14145</td>\n",
       "      <td>0.43630</td>\n",
       "      <td>2.70201</td>\n",
       "      <td>7.561</td>\n",
       "    </tr>\n",
       "    <tr>\n",
       "      <th>2</th>\n",
       "      <td>37</td>\n",
       "      <td>9</td>\n",
       "      <td>3</td>\n",
       "      <td>0.03328</td>\n",
       "      <td>1.32548</td>\n",
       "      <td>1.36058</td>\n",
       "      <td>0.87464</td>\n",
       "      <td>0.64938</td>\n",
       "      <td>0.48357</td>\n",
       "      <td>0.34139</td>\n",
       "      <td>2.49204</td>\n",
       "      <td>7.527</td>\n",
       "    </tr>\n",
       "    <tr>\n",
       "      <th>3</th>\n",
       "      <td>105</td>\n",
       "      <td>9</td>\n",
       "      <td>4</td>\n",
       "      <td>0.03880</td>\n",
       "      <td>1.45900</td>\n",
       "      <td>1.33095</td>\n",
       "      <td>0.88521</td>\n",
       "      <td>0.66973</td>\n",
       "      <td>0.36503</td>\n",
       "      <td>0.34699</td>\n",
       "      <td>2.46531</td>\n",
       "      <td>7.522</td>\n",
       "    </tr>\n",
       "    <tr>\n",
       "      <th>4</th>\n",
       "      <td>24</td>\n",
       "      <td>5</td>\n",
       "      <td>5</td>\n",
       "      <td>0.03553</td>\n",
       "      <td>1.32629</td>\n",
       "      <td>1.32261</td>\n",
       "      <td>0.90563</td>\n",
       "      <td>0.63297</td>\n",
       "      <td>0.32957</td>\n",
       "      <td>0.45811</td>\n",
       "      <td>2.45176</td>\n",
       "      <td>7.427</td>\n",
       "    </tr>\n",
       "    <tr>\n",
       "      <th>...</th>\n",
       "      <td>...</td>\n",
       "      <td>...</td>\n",
       "      <td>...</td>\n",
       "      <td>...</td>\n",
       "      <td>...</td>\n",
       "      <td>...</td>\n",
       "      <td>...</td>\n",
       "      <td>...</td>\n",
       "      <td>...</td>\n",
       "      <td>...</td>\n",
       "      <td>...</td>\n",
       "      <td>...</td>\n",
       "    </tr>\n",
       "    <tr>\n",
       "      <th>153</th>\n",
       "      <td>118</td>\n",
       "      <td>8</td>\n",
       "      <td>154</td>\n",
       "      <td>0.03464</td>\n",
       "      <td>0.22208</td>\n",
       "      <td>0.77370</td>\n",
       "      <td>0.42864</td>\n",
       "      <td>0.59201</td>\n",
       "      <td>0.55191</td>\n",
       "      <td>0.22628</td>\n",
       "      <td>0.67042</td>\n",
       "      <td>3.465</td>\n",
       "    </tr>\n",
       "    <tr>\n",
       "      <th>154</th>\n",
       "      <td>13</td>\n",
       "      <td>8</td>\n",
       "      <td>155</td>\n",
       "      <td>0.03656</td>\n",
       "      <td>0.28665</td>\n",
       "      <td>0.35386</td>\n",
       "      <td>0.31910</td>\n",
       "      <td>0.48450</td>\n",
       "      <td>0.08010</td>\n",
       "      <td>0.18260</td>\n",
       "      <td>1.63328</td>\n",
       "      <td>3.340</td>\n",
       "    </tr>\n",
       "    <tr>\n",
       "      <th>155</th>\n",
       "      <td>136</td>\n",
       "      <td>4</td>\n",
       "      <td>156</td>\n",
       "      <td>0.05015</td>\n",
       "      <td>0.66320</td>\n",
       "      <td>0.47489</td>\n",
       "      <td>0.72193</td>\n",
       "      <td>0.15684</td>\n",
       "      <td>0.18906</td>\n",
       "      <td>0.47179</td>\n",
       "      <td>0.32858</td>\n",
       "      <td>3.006</td>\n",
       "    </tr>\n",
       "    <tr>\n",
       "      <th>156</th>\n",
       "      <td>21</td>\n",
       "      <td>8</td>\n",
       "      <td>157</td>\n",
       "      <td>0.08658</td>\n",
       "      <td>0.01530</td>\n",
       "      <td>0.41587</td>\n",
       "      <td>0.22396</td>\n",
       "      <td>0.11850</td>\n",
       "      <td>0.10062</td>\n",
       "      <td>0.19727</td>\n",
       "      <td>1.83302</td>\n",
       "      <td>2.905</td>\n",
       "    </tr>\n",
       "    <tr>\n",
       "      <th>157</th>\n",
       "      <td>141</td>\n",
       "      <td>8</td>\n",
       "      <td>158</td>\n",
       "      <td>0.06727</td>\n",
       "      <td>0.20868</td>\n",
       "      <td>0.13995</td>\n",
       "      <td>0.28443</td>\n",
       "      <td>0.36453</td>\n",
       "      <td>0.10731</td>\n",
       "      <td>0.16681</td>\n",
       "      <td>1.56726</td>\n",
       "      <td>2.839</td>\n",
       "    </tr>\n",
       "  </tbody>\n",
       "</table>\n",
       "<p>158 rows × 12 columns</p>\n",
       "</div>"
      ],
      "text/plain": [
       "     Country  Region  Happiness Rank  Standard Error  \\\n",
       "0        135       9               1         0.03411   \n",
       "1         58       9               2         0.04884   \n",
       "2         37       9               3         0.03328   \n",
       "3        105       9               4         0.03880   \n",
       "4         24       5               5         0.03553   \n",
       "..       ...     ...             ...             ...   \n",
       "153      118       8             154         0.03464   \n",
       "154       13       8             155         0.03656   \n",
       "155      136       4             156         0.05015   \n",
       "156       21       8             157         0.08658   \n",
       "157      141       8             158         0.06727   \n",
       "\n",
       "     Economy (GDP per Capita)   Family  Health (Life Expectancy)  Freedom  \\\n",
       "0                     1.39651  1.34951                   0.94143  0.66557   \n",
       "1                     1.30232  1.40223                   0.94784  0.62877   \n",
       "2                     1.32548  1.36058                   0.87464  0.64938   \n",
       "3                     1.45900  1.33095                   0.88521  0.66973   \n",
       "4                     1.32629  1.32261                   0.90563  0.63297   \n",
       "..                        ...      ...                       ...      ...   \n",
       "153                   0.22208  0.77370                   0.42864  0.59201   \n",
       "154                   0.28665  0.35386                   0.31910  0.48450   \n",
       "155                   0.66320  0.47489                   0.72193  0.15684   \n",
       "156                   0.01530  0.41587                   0.22396  0.11850   \n",
       "157                   0.20868  0.13995                   0.28443  0.36453   \n",
       "\n",
       "     Trust (Government Corruption)  Generosity  Dystopia Residual  \\\n",
       "0                          0.41978     0.29678            2.51738   \n",
       "1                          0.14145     0.43630            2.70201   \n",
       "2                          0.48357     0.34139            2.49204   \n",
       "3                          0.36503     0.34699            2.46531   \n",
       "4                          0.32957     0.45811            2.45176   \n",
       "..                             ...         ...                ...   \n",
       "153                        0.55191     0.22628            0.67042   \n",
       "154                        0.08010     0.18260            1.63328   \n",
       "155                        0.18906     0.47179            0.32858   \n",
       "156                        0.10062     0.19727            1.83302   \n",
       "157                        0.10731     0.16681            1.56726   \n",
       "\n",
       "     Happiness Score  \n",
       "0              7.587  \n",
       "1              7.561  \n",
       "2              7.527  \n",
       "3              7.522  \n",
       "4              7.427  \n",
       "..               ...  \n",
       "153            3.465  \n",
       "154            3.340  \n",
       "155            3.006  \n",
       "156            2.905  \n",
       "157            2.839  \n",
       "\n",
       "[158 rows x 12 columns]"
      ]
     },
     "execution_count": 117,
     "metadata": {},
     "output_type": "execute_result"
    }
   ],
   "source": [
    "df"
   ]
  },
  {
   "cell_type": "code",
   "execution_count": 118,
   "id": "06ad6fcd",
   "metadata": {},
   "outputs": [
    {
     "data": {
      "text/plain": [
       "Country                            int32\n",
       "Region                             int32\n",
       "Happiness Rank                     int64\n",
       "Standard Error                   float64\n",
       "Economy (GDP per Capita)         float64\n",
       "Family                           float64\n",
       "Health (Life Expectancy)         float64\n",
       "Freedom                          float64\n",
       "Trust (Government Corruption)    float64\n",
       "Generosity                       float64\n",
       "Dystopia Residual                float64\n",
       "Happiness Score                  float64\n",
       "dtype: object"
      ]
     },
     "execution_count": 118,
     "metadata": {},
     "output_type": "execute_result"
    }
   ],
   "source": [
    "df.dtypes"
   ]
  },
  {
   "cell_type": "code",
   "execution_count": 119,
   "id": "46cd7ca8",
   "metadata": {},
   "outputs": [
    {
     "data": {
      "text/plain": [
       "Country                             AxesSubplot(0.125,0.653529;0.168478x0.226471)\n",
       "Region                           AxesSubplot(0.327174,0.653529;0.168478x0.226471)\n",
       "Happiness Rank                   AxesSubplot(0.529348,0.653529;0.168478x0.226471)\n",
       "Standard Error                   AxesSubplot(0.731522,0.653529;0.168478x0.226471)\n",
       "Economy (GDP per Capita)            AxesSubplot(0.125,0.381765;0.168478x0.226471)\n",
       "Family                           AxesSubplot(0.327174,0.381765;0.168478x0.226471)\n",
       "Health (Life Expectancy)         AxesSubplot(0.529348,0.381765;0.168478x0.226471)\n",
       "Freedom                          AxesSubplot(0.731522,0.381765;0.168478x0.226471)\n",
       "Trust (Government Corruption)           AxesSubplot(0.125,0.11;0.168478x0.226471)\n",
       "Generosity                           AxesSubplot(0.327174,0.11;0.168478x0.226471)\n",
       "Dystopia Residual                    AxesSubplot(0.529348,0.11;0.168478x0.226471)\n",
       "Happiness Score                      AxesSubplot(0.731522,0.11;0.168478x0.226471)\n",
       "dtype: object"
      ]
     },
     "execution_count": 119,
     "metadata": {},
     "output_type": "execute_result"
    },
    {
     "data": {
      "image/png": "[encoded data removed]",
      "text/plain": [
       "<Figure size 1200x1200 with 12 Axes>"
      ]
     },
     "metadata": {},
     "output_type": "display_data"
    }
   ],
   "source": [
    "df.plot(kind='box',figsize=(12,12),layout=(3,4),subplots=True)"
   ]
  },
  {
   "cell_type": "markdown",
   "id": "45f7fa25",
   "metadata": {},
   "source": [
    "By using the Boxplot, it is showing that \"Standard Error\" & \"Trust (Government Corruption)\" are having the larger amount of Outliers"
   ]
  },
  {
   "cell_type": "code",
   "execution_count": 120,
   "id": "304bf108",
   "metadata": {},
   "outputs": [
    {
     "data": {
      "text/plain": [
       "Country                          0.000000\n",
       "Region                          -0.116119\n",
       "Happiness Rank                   0.000418\n",
       "Standard Error                   1.983439\n",
       "Economy (GDP per Capita)        -0.317575\n",
       "Family                          -1.006893\n",
       "Health (Life Expectancy)        -0.705328\n",
       "Freedom                         -0.413462\n",
       "Trust (Government Corruption)    1.385463\n",
       "Generosity                       1.001961\n",
       "Dystopia Residual               -0.238911\n",
       "Happiness Score                  0.097769\n",
       "dtype: float64"
      ]
     },
     "execution_count": 120,
     "metadata": {},
     "output_type": "execute_result"
    }
   ],
   "source": [
    "df.skew()"
   ]
  },
  {
   "cell_type": "code",
   "execution_count": 121,
   "id": "dc3df3cb",
   "metadata": {},
   "outputs": [
    {
     "data": {
      "text/plain": [
       "<AxesSubplot:ylabel='Frequency'>"
      ]
     },
     "execution_count": 121,
     "metadata": {},
     "output_type": "execute_result"
    },
    {
     "data": {
      "image/png": "[encoded data removed]",
      "text/plain": [
       "<Figure size 640x480 with 1 Axes>"
      ]
     },
     "metadata": {},
     "output_type": "display_data"
    }
   ],
   "source": [
    "df['Standard Error'].plot.hist()"
   ]
  },
  {
   "cell_type": "code",
   "execution_count": 122,
   "id": "7c22a830",
   "metadata": {},
   "outputs": [
    {
     "data": {
      "text/plain": [
       "<AxesSubplot:ylabel='Frequency'>"
      ]
     },
     "execution_count": 122,
     "metadata": {},
     "output_type": "execute_result"
    },
    {
     "data": {
      "image/png": "[encoded data removed]",
      "text/plain": [
       "<Figure size 640x480 with 1 Axes>"
      ]
     },
     "metadata": {},
     "output_type": "display_data"
    }
   ],
   "source": [
    "df['Trust (Government Corruption)'].plot.hist()"
   ]
  },
  {
   "cell_type": "markdown",
   "id": "c2f952fa",
   "metadata": {},
   "source": [
    "By using the Skewness Checking method and Histogram, it is showing that \"Standard Error\" & \"Trust (Government Corruption)\" are having also having Right Sided Skeness."
   ]
  },
  {
   "cell_type": "markdown",
   "id": "11322741",
   "metadata": {},
   "source": [
    "So by boxcox method, we are overcoming on the Skewness, which would effect to reduce the Outliers also."
   ]
  },
  {
   "cell_type": "code",
   "execution_count": 123,
   "id": "4b400c50",
   "metadata": {},
   "outputs": [],
   "source": [
    "df['Trust (Government Corruption)']=boxcox(df['Trust (Government Corruption)'],.5)"
   ]
  },
  {
   "cell_type": "code",
   "execution_count": 124,
   "id": "ca3d84a6",
   "metadata": {},
   "outputs": [
    {
     "data": {
      "text/plain": [
       "<AxesSubplot:>"
      ]
     },
     "execution_count": 124,
     "metadata": {},
     "output_type": "execute_result"
    },
    {
     "data": {
      "image/png": "[encoded data removed]",
      "text/plain": [
       "<Figure size 640x480 with 1 Axes>"
      ]
     },
     "metadata": {},
     "output_type": "display_data"
    }
   ],
   "source": [
    "df['Trust (Government Corruption)'].plot.box()"
   ]
  },
  {
   "cell_type": "code",
   "execution_count": 125,
   "id": "b1e25da0",
   "metadata": {},
   "outputs": [
    {
     "data": {
      "text/plain": [
       "<AxesSubplot:ylabel='Frequency'>"
      ]
     },
     "execution_count": 125,
     "metadata": {},
     "output_type": "execute_result"
    },
    {
     "data": {
      "image/png": "[encoded data removed]",
      "text/plain": [
       "<Figure size 640x480 with 1 Axes>"
      ]
     },
     "metadata": {},
     "output_type": "display_data"
    }
   ],
   "source": [
    "df['Trust (Government Corruption)'].plot.hist()"
   ]
  },
  {
   "cell_type": "code",
   "execution_count": 126,
   "id": "3dad0dc5",
   "metadata": {},
   "outputs": [],
   "source": [
    "df['Standard Error']=boxcox(df['Standard Error'],.5)"
   ]
  },
  {
   "cell_type": "code",
   "execution_count": 127,
   "id": "993b34d8",
   "metadata": {},
   "outputs": [
    {
     "data": {
      "text/plain": [
       "<AxesSubplot:>"
      ]
     },
     "execution_count": 127,
     "metadata": {},
     "output_type": "execute_result"
    },
    {
     "data": {
      "image/png": "[encoded data removed]",
      "text/plain": [
       "<Figure size 640x480 with 1 Axes>"
      ]
     },
     "metadata": {},
     "output_type": "display_data"
    }
   ],
   "source": [
    "df['Standard Error'].plot.box()"
   ]
  },
  {
   "cell_type": "code",
   "execution_count": 128,
   "id": "c33ec0fa",
   "metadata": {},
   "outputs": [
    {
     "data": {
      "text/plain": [
       "<AxesSubplot:ylabel='Frequency'>"
      ]
     },
     "execution_count": 128,
     "metadata": {},
     "output_type": "execute_result"
    },
    {
     "data": {
      "image/png": "[encoded data removed]",
      "text/plain": [
       "<Figure size 640x480 with 1 Axes>"
      ]
     },
     "metadata": {},
     "output_type": "display_data"
    }
   ],
   "source": [
    "df['Standard Error'].plot.hist()"
   ]
  },
  {
   "cell_type": "markdown",
   "id": "56d48e4f",
   "metadata": {},
   "source": [
    "As the outliers are reduced, now absolute zscore method will eleminate less data beyond 3 standard deviation both side, so we will keep more enough data for our further ML predictions."
   ]
  },
  {
   "cell_type": "code",
   "execution_count": 129,
   "id": "8a7d7d90",
   "metadata": {},
   "outputs": [
    {
     "data": {
      "text/html": [
       "<div>\n",
       "<style scoped>\n",
       "    .dataframe tbody tr th:only-of-type {\n",
       "        vertical-align: middle;\n",
       "    }\n",
       "\n",
       "    .dataframe tbody tr th {\n",
       "        vertical-align: top;\n",
       "    }\n",
       "\n",
       "    .dataframe thead th {\n",
       "        text-align: right;\n",
       "    }\n",
       "</style>\n",
       "<table border=\"1\" class=\"dataframe\">\n",
       "  <thead>\n",
       "    <tr style=\"text-align: right;\">\n",
       "      <th></th>\n",
       "      <th>Country</th>\n",
       "      <th>Region</th>\n",
       "      <th>Happiness Rank</th>\n",
       "      <th>Standard Error</th>\n",
       "      <th>Economy (GDP per Capita)</th>\n",
       "      <th>Family</th>\n",
       "      <th>Health (Life Expectancy)</th>\n",
       "      <th>Freedom</th>\n",
       "      <th>Trust (Government Corruption)</th>\n",
       "      <th>Generosity</th>\n",
       "      <th>Dystopia Residual</th>\n",
       "      <th>Happiness Score</th>\n",
       "    </tr>\n",
       "  </thead>\n",
       "  <tbody>\n",
       "    <tr>\n",
       "      <th>0</th>\n",
       "      <td>1.238770</td>\n",
       "      <td>1.300256</td>\n",
       "      <td>1.721000</td>\n",
       "      <td>0.875515</td>\n",
       "      <td>1.369621</td>\n",
       "      <td>1.320281</td>\n",
       "      <td>1.263408</td>\n",
       "      <td>1.577438</td>\n",
       "      <td>1.994534</td>\n",
       "      <td>0.471040</td>\n",
       "      <td>0.758258</td>\n",
       "      <td>1.937360</td>\n",
       "    </tr>\n",
       "    <tr>\n",
       "      <th>1</th>\n",
       "      <td>0.449465</td>\n",
       "      <td>1.300256</td>\n",
       "      <td>1.699075</td>\n",
       "      <td>0.142929</td>\n",
       "      <td>1.135226</td>\n",
       "      <td>1.514458</td>\n",
       "      <td>1.289434</td>\n",
       "      <td>1.332456</td>\n",
       "      <td>0.190088</td>\n",
       "      <td>1.575856</td>\n",
       "      <td>1.092857</td>\n",
       "      <td>1.914581</td>\n",
       "    </tr>\n",
       "    <tr>\n",
       "      <th>2</th>\n",
       "      <td>0.909893</td>\n",
       "      <td>1.300256</td>\n",
       "      <td>1.677149</td>\n",
       "      <td>0.938931</td>\n",
       "      <td>1.192861</td>\n",
       "      <td>1.361054</td>\n",
       "      <td>0.992229</td>\n",
       "      <td>1.469659</td>\n",
       "      <td>2.309792</td>\n",
       "      <td>0.824293</td>\n",
       "      <td>0.712335</td>\n",
       "      <td>1.884792</td>\n",
       "    </tr>\n",
       "    <tr>\n",
       "      <th>3</th>\n",
       "      <td>0.581016</td>\n",
       "      <td>1.300256</td>\n",
       "      <td>1.655224</td>\n",
       "      <td>0.530836</td>\n",
       "      <td>1.525130</td>\n",
       "      <td>1.251922</td>\n",
       "      <td>1.035145</td>\n",
       "      <td>1.605131</td>\n",
       "      <td>1.704241</td>\n",
       "      <td>0.868638</td>\n",
       "      <td>0.663893</td>\n",
       "      <td>1.880411</td>\n",
       "    </tr>\n",
       "    <tr>\n",
       "      <th>4</th>\n",
       "      <td>1.194920</td>\n",
       "      <td>0.040302</td>\n",
       "      <td>1.633299</td>\n",
       "      <td>0.768784</td>\n",
       "      <td>1.194876</td>\n",
       "      <td>1.221204</td>\n",
       "      <td>1.118054</td>\n",
       "      <td>1.360416</td>\n",
       "      <td>1.504447</td>\n",
       "      <td>1.748563</td>\n",
       "      <td>0.639337</td>\n",
       "      <td>1.797179</td>\n",
       "    </tr>\n",
       "    <tr>\n",
       "      <th>...</th>\n",
       "      <td>...</td>\n",
       "      <td>...</td>\n",
       "      <td>...</td>\n",
       "      <td>...</td>\n",
       "      <td>...</td>\n",
       "      <td>...</td>\n",
       "      <td>...</td>\n",
       "      <td>...</td>\n",
       "      <td>...</td>\n",
       "      <td>...</td>\n",
       "      <td>...</td>\n",
       "      <td>...</td>\n",
       "    </tr>\n",
       "    <tr>\n",
       "      <th>153</th>\n",
       "      <td>0.866043</td>\n",
       "      <td>0.965117</td>\n",
       "      <td>1.633576</td>\n",
       "      <td>0.835423</td>\n",
       "      <td>1.552987</td>\n",
       "      <td>0.800520</td>\n",
       "      <td>0.818610</td>\n",
       "      <td>1.087740</td>\n",
       "      <td>2.625227</td>\n",
       "      <td>0.087228</td>\n",
       "      <td>2.588925</td>\n",
       "      <td>1.674055</td>\n",
       "    </tr>\n",
       "    <tr>\n",
       "      <th>154</th>\n",
       "      <td>1.436096</td>\n",
       "      <td>0.965117</td>\n",
       "      <td>1.655501</td>\n",
       "      <td>0.692695</td>\n",
       "      <td>1.392303</td>\n",
       "      <td>2.346860</td>\n",
       "      <td>1.263362</td>\n",
       "      <td>0.372033</td>\n",
       "      <td>0.427838</td>\n",
       "      <td>0.433117</td>\n",
       "      <td>0.843967</td>\n",
       "      <td>1.783571</td>\n",
       "    </tr>\n",
       "    <tr>\n",
       "      <th>155</th>\n",
       "      <td>1.260695</td>\n",
       "      <td>0.375441</td>\n",
       "      <td>1.677427</td>\n",
       "      <td>0.225513</td>\n",
       "      <td>0.455245</td>\n",
       "      <td>1.901086</td>\n",
       "      <td>0.372199</td>\n",
       "      <td>1.809238</td>\n",
       "      <td>0.579860</td>\n",
       "      <td>1.856891</td>\n",
       "      <td>3.208430</td>\n",
       "      <td>2.076199</td>\n",
       "    </tr>\n",
       "    <tr>\n",
       "      <th>156</th>\n",
       "      <td>1.260695</td>\n",
       "      <td>0.965117</td>\n",
       "      <td>1.699352</td>\n",
       "      <td>2.197472</td>\n",
       "      <td>2.067566</td>\n",
       "      <td>2.118467</td>\n",
       "      <td>1.649648</td>\n",
       "      <td>2.064472</td>\n",
       "      <td>0.200879</td>\n",
       "      <td>0.316950</td>\n",
       "      <td>0.481985</td>\n",
       "      <td>2.164688</td>\n",
       "    </tr>\n",
       "    <tr>\n",
       "      <th>157</th>\n",
       "      <td>1.370321</td>\n",
       "      <td>0.965117</td>\n",
       "      <td>1.721277</td>\n",
       "      <td>1.219100</td>\n",
       "      <td>1.586334</td>\n",
       "      <td>3.134725</td>\n",
       "      <td>1.404129</td>\n",
       "      <td>0.426621</td>\n",
       "      <td>0.131999</td>\n",
       "      <td>0.558153</td>\n",
       "      <td>0.963612</td>\n",
       "      <td>2.222513</td>\n",
       "    </tr>\n",
       "  </tbody>\n",
       "</table>\n",
       "<p>158 rows × 12 columns</p>\n",
       "</div>"
      ],
      "text/plain": [
       "      Country    Region  Happiness Rank  Standard Error  \\\n",
       "0    1.238770  1.300256        1.721000        0.875515   \n",
       "1    0.449465  1.300256        1.699075        0.142929   \n",
       "2    0.909893  1.300256        1.677149        0.938931   \n",
       "3    0.581016  1.300256        1.655224        0.530836   \n",
       "4    1.194920  0.040302        1.633299        0.768784   \n",
       "..        ...       ...             ...             ...   \n",
       "153  0.866043  0.965117        1.633576        0.835423   \n",
       "154  1.436096  0.965117        1.655501        0.692695   \n",
       "155  1.260695  0.375441        1.677427        0.225513   \n",
       "156  1.260695  0.965117        1.699352        2.197472   \n",
       "157  1.370321  0.965117        1.721277        1.219100   \n",
       "\n",
       "     Economy (GDP per Capita)    Family  Health (Life Expectancy)   Freedom  \\\n",
       "0                    1.369621  1.320281                  1.263408  1.577438   \n",
       "1                    1.135226  1.514458                  1.289434  1.332456   \n",
       "2                    1.192861  1.361054                  0.992229  1.469659   \n",
       "3                    1.525130  1.251922                  1.035145  1.605131   \n",
       "4                    1.194876  1.221204                  1.118054  1.360416   \n",
       "..                        ...       ...                       ...       ...   \n",
       "153                  1.552987  0.800520                  0.818610  1.087740   \n",
       "154                  1.392303  2.346860                  1.263362  0.372033   \n",
       "155                  0.455245  1.901086                  0.372199  1.809238   \n",
       "156                  2.067566  2.118467                  1.649648  2.064472   \n",
       "157                  1.586334  3.134725                  1.404129  0.426621   \n",
       "\n",
       "     Trust (Government Corruption)  Generosity  Dystopia Residual  \\\n",
       "0                         1.994534    0.471040           0.758258   \n",
       "1                         0.190088    1.575856           1.092857   \n",
       "2                         2.309792    0.824293           0.712335   \n",
       "3                         1.704241    0.868638           0.663893   \n",
       "4                         1.504447    1.748563           0.639337   \n",
       "..                             ...         ...                ...   \n",
       "153                       2.625227    0.087228           2.588925   \n",
       "154                       0.427838    0.433117           0.843967   \n",
       "155                       0.579860    1.856891           3.208430   \n",
       "156                       0.200879    0.316950           0.481985   \n",
       "157                       0.131999    0.558153           0.963612   \n",
       "\n",
       "     Happiness Score  \n",
       "0           1.937360  \n",
       "1           1.914581  \n",
       "2           1.884792  \n",
       "3           1.880411  \n",
       "4           1.797179  \n",
       "..               ...  \n",
       "153         1.674055  \n",
       "154         1.783571  \n",
       "155         2.076199  \n",
       "156         2.164688  \n",
       "157         2.222513  \n",
       "\n",
       "[158 rows x 12 columns]"
      ]
     },
     "execution_count": 129,
     "metadata": {},
     "output_type": "execute_result"
    }
   ],
   "source": [
    "z=np.abs(zscore(df))\n",
    "z"
   ]
  },
  {
   "cell_type": "code",
   "execution_count": 130,
   "id": "5725520b",
   "metadata": {},
   "outputs": [
    {
     "data": {
      "text/html": [
       "<div>\n",
       "<style scoped>\n",
       "    .dataframe tbody tr th:only-of-type {\n",
       "        vertical-align: middle;\n",
       "    }\n",
       "\n",
       "    .dataframe tbody tr th {\n",
       "        vertical-align: top;\n",
       "    }\n",
       "\n",
       "    .dataframe thead th {\n",
       "        text-align: right;\n",
       "    }\n",
       "</style>\n",
       "<table border=\"1\" class=\"dataframe\">\n",
       "  <thead>\n",
       "    <tr style=\"text-align: right;\">\n",
       "      <th></th>\n",
       "      <th>Country</th>\n",
       "      <th>Region</th>\n",
       "      <th>Happiness Rank</th>\n",
       "      <th>Standard Error</th>\n",
       "      <th>Economy (GDP per Capita)</th>\n",
       "      <th>Family</th>\n",
       "      <th>Health (Life Expectancy)</th>\n",
       "      <th>Freedom</th>\n",
       "      <th>Trust (Government Corruption)</th>\n",
       "      <th>Generosity</th>\n",
       "      <th>Dystopia Residual</th>\n",
       "      <th>Happiness Score</th>\n",
       "    </tr>\n",
       "  </thead>\n",
       "  <tbody>\n",
       "    <tr>\n",
       "      <th>0</th>\n",
       "      <td>135</td>\n",
       "      <td>9</td>\n",
       "      <td>1</td>\n",
       "      <td>-1.630622</td>\n",
       "      <td>1.39651</td>\n",
       "      <td>1.34951</td>\n",
       "      <td>0.94143</td>\n",
       "      <td>0.66557</td>\n",
       "      <td>-0.704191</td>\n",
       "      <td>0.29678</td>\n",
       "      <td>2.51738</td>\n",
       "      <td>7.587</td>\n",
       "    </tr>\n",
       "    <tr>\n",
       "      <th>1</th>\n",
       "      <td>58</td>\n",
       "      <td>9</td>\n",
       "      <td>2</td>\n",
       "      <td>-1.558005</td>\n",
       "      <td>1.30232</td>\n",
       "      <td>1.40223</td>\n",
       "      <td>0.94784</td>\n",
       "      <td>0.62877</td>\n",
       "      <td>-1.247803</td>\n",
       "      <td>0.43630</td>\n",
       "      <td>2.70201</td>\n",
       "      <td>7.561</td>\n",
       "    </tr>\n",
       "    <tr>\n",
       "      <th>2</th>\n",
       "      <td>37</td>\n",
       "      <td>9</td>\n",
       "      <td>3</td>\n",
       "      <td>-1.635144</td>\n",
       "      <td>1.32548</td>\n",
       "      <td>1.36058</td>\n",
       "      <td>0.87464</td>\n",
       "      <td>0.64938</td>\n",
       "      <td>-0.609216</td>\n",
       "      <td>0.34139</td>\n",
       "      <td>2.49204</td>\n",
       "      <td>7.527</td>\n",
       "    </tr>\n",
       "    <tr>\n",
       "      <th>3</th>\n",
       "      <td>105</td>\n",
       "      <td>9</td>\n",
       "      <td>4</td>\n",
       "      <td>-1.606046</td>\n",
       "      <td>1.45900</td>\n",
       "      <td>1.33095</td>\n",
       "      <td>0.88521</td>\n",
       "      <td>0.66973</td>\n",
       "      <td>-0.791646</td>\n",
       "      <td>0.34699</td>\n",
       "      <td>2.46531</td>\n",
       "      <td>7.522</td>\n",
       "    </tr>\n",
       "    <tr>\n",
       "      <th>4</th>\n",
       "      <td>24</td>\n",
       "      <td>5</td>\n",
       "      <td>5</td>\n",
       "      <td>-1.623012</td>\n",
       "      <td>1.32629</td>\n",
       "      <td>1.32261</td>\n",
       "      <td>0.90563</td>\n",
       "      <td>0.63297</td>\n",
       "      <td>-0.851836</td>\n",
       "      <td>0.45811</td>\n",
       "      <td>2.45176</td>\n",
       "      <td>7.427</td>\n",
       "    </tr>\n",
       "    <tr>\n",
       "      <th>...</th>\n",
       "      <td>...</td>\n",
       "      <td>...</td>\n",
       "      <td>...</td>\n",
       "      <td>...</td>\n",
       "      <td>...</td>\n",
       "      <td>...</td>\n",
       "      <td>...</td>\n",
       "      <td>...</td>\n",
       "      <td>...</td>\n",
       "      <td>...</td>\n",
       "      <td>...</td>\n",
       "      <td>...</td>\n",
       "    </tr>\n",
       "    <tr>\n",
       "      <th>151</th>\n",
       "      <td>20</td>\n",
       "      <td>8</td>\n",
       "      <td>152</td>\n",
       "      <td>-1.584115</td>\n",
       "      <td>0.25812</td>\n",
       "      <td>0.85188</td>\n",
       "      <td>0.27125</td>\n",
       "      <td>0.39493</td>\n",
       "      <td>-1.283564</td>\n",
       "      <td>0.21747</td>\n",
       "      <td>1.46494</td>\n",
       "      <td>3.587</td>\n",
       "    </tr>\n",
       "    <tr>\n",
       "      <th>152</th>\n",
       "      <td>0</td>\n",
       "      <td>7</td>\n",
       "      <td>153</td>\n",
       "      <td>-1.648774</td>\n",
       "      <td>0.31982</td>\n",
       "      <td>0.30285</td>\n",
       "      <td>0.30335</td>\n",
       "      <td>0.23414</td>\n",
       "      <td>-1.376494</td>\n",
       "      <td>0.36510</td>\n",
       "      <td>1.95210</td>\n",
       "      <td>3.575</td>\n",
       "    </tr>\n",
       "    <tr>\n",
       "      <th>153</th>\n",
       "      <td>118</td>\n",
       "      <td>8</td>\n",
       "      <td>154</td>\n",
       "      <td>-1.627764</td>\n",
       "      <td>0.22208</td>\n",
       "      <td>0.77370</td>\n",
       "      <td>0.42864</td>\n",
       "      <td>0.59201</td>\n",
       "      <td>-0.514187</td>\n",
       "      <td>0.22628</td>\n",
       "      <td>0.67042</td>\n",
       "      <td>3.465</td>\n",
       "    </tr>\n",
       "    <tr>\n",
       "      <th>154</th>\n",
       "      <td>13</td>\n",
       "      <td>8</td>\n",
       "      <td>155</td>\n",
       "      <td>-1.617587</td>\n",
       "      <td>0.28665</td>\n",
       "      <td>0.35386</td>\n",
       "      <td>0.31910</td>\n",
       "      <td>0.48450</td>\n",
       "      <td>-1.433961</td>\n",
       "      <td>0.18260</td>\n",
       "      <td>1.63328</td>\n",
       "      <td>3.340</td>\n",
       "    </tr>\n",
       "    <tr>\n",
       "      <th>156</th>\n",
       "      <td>21</td>\n",
       "      <td>8</td>\n",
       "      <td>157</td>\n",
       "      <td>-1.411510</td>\n",
       "      <td>0.01530</td>\n",
       "      <td>0.41587</td>\n",
       "      <td>0.22396</td>\n",
       "      <td>0.11850</td>\n",
       "      <td>-1.365587</td>\n",
       "      <td>0.19727</td>\n",
       "      <td>1.83302</td>\n",
       "      <td>2.905</td>\n",
       "    </tr>\n",
       "  </tbody>\n",
       "</table>\n",
       "<p>151 rows × 12 columns</p>\n",
       "</div>"
      ],
      "text/plain": [
       "     Country  Region  Happiness Rank  Standard Error  \\\n",
       "0        135       9               1       -1.630622   \n",
       "1         58       9               2       -1.558005   \n",
       "2         37       9               3       -1.635144   \n",
       "3        105       9               4       -1.606046   \n",
       "4         24       5               5       -1.623012   \n",
       "..       ...     ...             ...             ...   \n",
       "151       20       8             152       -1.584115   \n",
       "152        0       7             153       -1.648774   \n",
       "153      118       8             154       -1.627764   \n",
       "154       13       8             155       -1.617587   \n",
       "156       21       8             157       -1.411510   \n",
       "\n",
       "     Economy (GDP per Capita)   Family  Health (Life Expectancy)  Freedom  \\\n",
       "0                     1.39651  1.34951                   0.94143  0.66557   \n",
       "1                     1.30232  1.40223                   0.94784  0.62877   \n",
       "2                     1.32548  1.36058                   0.87464  0.64938   \n",
       "3                     1.45900  1.33095                   0.88521  0.66973   \n",
       "4                     1.32629  1.32261                   0.90563  0.63297   \n",
       "..                        ...      ...                       ...      ...   \n",
       "151                   0.25812  0.85188                   0.27125  0.39493   \n",
       "152                   0.31982  0.30285                   0.30335  0.23414   \n",
       "153                   0.22208  0.77370                   0.42864  0.59201   \n",
       "154                   0.28665  0.35386                   0.31910  0.48450   \n",
       "156                   0.01530  0.41587                   0.22396  0.11850   \n",
       "\n",
       "     Trust (Government Corruption)  Generosity  Dystopia Residual  \\\n",
       "0                        -0.704191     0.29678            2.51738   \n",
       "1                        -1.247803     0.43630            2.70201   \n",
       "2                        -0.609216     0.34139            2.49204   \n",
       "3                        -0.791646     0.34699            2.46531   \n",
       "4                        -0.851836     0.45811            2.45176   \n",
       "..                             ...         ...                ...   \n",
       "151                      -1.283564     0.21747            1.46494   \n",
       "152                      -1.376494     0.36510            1.95210   \n",
       "153                      -0.514187     0.22628            0.67042   \n",
       "154                      -1.433961     0.18260            1.63328   \n",
       "156                      -1.365587     0.19727            1.83302   \n",
       "\n",
       "     Happiness Score  \n",
       "0              7.587  \n",
       "1              7.561  \n",
       "2              7.527  \n",
       "3              7.522  \n",
       "4              7.427  \n",
       "..               ...  \n",
       "151            3.587  \n",
       "152            3.575  \n",
       "153            3.465  \n",
       "154            3.340  \n",
       "156            2.905  \n",
       "\n",
       "[151 rows x 12 columns]"
      ]
     },
     "execution_count": 130,
     "metadata": {},
     "output_type": "execute_result"
    }
   ],
   "source": [
    "cleaned_df=df[(z<3).all(axis=1)]\n",
    "cleaned_df"
   ]
  },
  {
   "cell_type": "code",
   "execution_count": 131,
   "id": "d84616e0",
   "metadata": {},
   "outputs": [
    {
     "data": {
      "text/plain": [
       "(158, 12)"
      ]
     },
     "execution_count": 131,
     "metadata": {},
     "output_type": "execute_result"
    }
   ],
   "source": [
    "df.shape"
   ]
  },
  {
   "cell_type": "code",
   "execution_count": 132,
   "id": "2f263896",
   "metadata": {},
   "outputs": [
    {
     "data": {
      "text/plain": [
       "(151, 12)"
      ]
     },
     "execution_count": 132,
     "metadata": {},
     "output_type": "execute_result"
    }
   ],
   "source": [
    "cleaned_df.shape"
   ]
  },
  {
   "cell_type": "markdown",
   "id": "219f351c",
   "metadata": {},
   "source": [
    "The uncleaned data was of 158 rows and the cleaned data is of 151 rows, so only 7 rows are eleminated due to outliers and we are having very good amount of data to train our Machine Learning Model."
   ]
  },
  {
   "cell_type": "code",
   "execution_count": 133,
   "id": "496cdb82",
   "metadata": {},
   "outputs": [],
   "source": [
    "x=cleaned_df.iloc[:,0:-1]"
   ]
  },
  {
   "cell_type": "code",
   "execution_count": 134,
   "id": "dc60e953",
   "metadata": {},
   "outputs": [
    {
     "data": {
      "text/plain": [
       "(151, 11)"
      ]
     },
     "execution_count": 134,
     "metadata": {},
     "output_type": "execute_result"
    }
   ],
   "source": [
    "x.shape"
   ]
  },
  {
   "cell_type": "code",
   "execution_count": 135,
   "id": "0f529362",
   "metadata": {},
   "outputs": [],
   "source": [
    "y=cleaned_df.iloc[:,-1]"
   ]
  },
  {
   "cell_type": "code",
   "execution_count": 136,
   "id": "ddef1f23",
   "metadata": {},
   "outputs": [
    {
     "data": {
      "text/plain": [
       "(151,)"
      ]
     },
     "execution_count": 136,
     "metadata": {},
     "output_type": "execute_result"
    }
   ],
   "source": [
    "y.shape"
   ]
  },
  {
   "cell_type": "code",
   "execution_count": 137,
   "id": "0711cd1d",
   "metadata": {},
   "outputs": [],
   "source": [
    "xtrain,xtest,ytrain,ytest=train_test_split(x,y,test_size=0.30,random_state=43)"
   ]
  },
  {
   "cell_type": "code",
   "execution_count": 138,
   "id": "2e3f027b",
   "metadata": {},
   "outputs": [
    {
     "data": {
      "text/plain": [
       "(105, 11)"
      ]
     },
     "execution_count": 138,
     "metadata": {},
     "output_type": "execute_result"
    }
   ],
   "source": [
    "xtrain.shape"
   ]
  },
  {
   "cell_type": "code",
   "execution_count": 139,
   "id": "7090f618",
   "metadata": {},
   "outputs": [
    {
     "data": {
      "text/plain": [
       "(105,)"
      ]
     },
     "execution_count": 139,
     "metadata": {},
     "output_type": "execute_result"
    }
   ],
   "source": [
    "ytrain.shape"
   ]
  },
  {
   "cell_type": "code",
   "execution_count": 140,
   "id": "ec28515d",
   "metadata": {},
   "outputs": [
    {
     "data": {
      "text/plain": [
       "(46, 11)"
      ]
     },
     "execution_count": 140,
     "metadata": {},
     "output_type": "execute_result"
    }
   ],
   "source": [
    "xtest.shape"
   ]
  },
  {
   "cell_type": "code",
   "execution_count": 141,
   "id": "07ff7a8e",
   "metadata": {},
   "outputs": [
    {
     "data": {
      "text/plain": [
       "(46,)"
      ]
     },
     "execution_count": 141,
     "metadata": {},
     "output_type": "execute_result"
    }
   ],
   "source": [
    "ytest.shape"
   ]
  },
  {
   "cell_type": "code",
   "execution_count": 142,
   "id": "7a5bd813",
   "metadata": {},
   "outputs": [],
   "source": [
    "lr=LinearRegression()"
   ]
  },
  {
   "cell_type": "code",
   "execution_count": 143,
   "id": "adadf585",
   "metadata": {},
   "outputs": [
    {
     "data": {
      "text/plain": [
       "LinearRegression()"
      ]
     },
     "execution_count": 143,
     "metadata": {},
     "output_type": "execute_result"
    }
   ],
   "source": [
    "lr.fit(xtrain,ytrain)"
   ]
  },
  {
   "cell_type": "code",
   "execution_count": 144,
   "id": "c096e4eb",
   "metadata": {},
   "outputs": [
    {
     "data": {
      "text/plain": [
       "array([3.92029577, 7.54700116, 5.217961  , 4.36128361, 5.2727811 ,\n",
       "       4.81261833, 4.74160324, 4.22697091, 5.14008816, 5.37511565,\n",
       "       6.29176749, 6.88763087, 6.47144946, 7.22568052, 4.9010332 ,\n",
       "       4.83430199, 6.98859594, 7.21036548, 4.3377242 , 4.00294267,\n",
       "       6.31834932, 4.89418502, 7.57638015, 4.71882883, 4.54594517,\n",
       "       5.85060078, 6.95156949, 3.93308384, 4.69850626, 6.329216  ,\n",
       "       7.45431759, 7.28551749, 5.69385477, 3.85114259, 6.01704302,\n",
       "       5.22017194, 5.5881101 , 5.62367613, 5.48802477, 4.78755205,\n",
       "       5.56006239, 5.23937752, 4.57707293, 5.10835955, 5.83705198,\n",
       "       6.82583037])"
      ]
     },
     "execution_count": 144,
     "metadata": {},
     "output_type": "execute_result"
    }
   ],
   "source": [
    "pred1=lr.predict(xtest)\n",
    "pred1"
   ]
  },
  {
   "cell_type": "code",
   "execution_count": 145,
   "id": "2b7905af",
   "metadata": {},
   "outputs": [
    {
     "data": {
      "text/plain": [
       "0.9991635877527877"
      ]
     },
     "execution_count": 145,
     "metadata": {},
     "output_type": "execute_result"
    }
   ],
   "source": [
    "r2_score(ytest,pred1)"
   ]
  },
  {
   "cell_type": "markdown",
   "id": "0ef6d29c",
   "metadata": {},
   "source": [
    "By using the Linear Regression, we are having the best r2_score value of approximately 100%. So there is no need to try any other Algorithm for the ML training of this dataset.\n",
    "And we are saving our above lr Model via pickle method."
   ]
  },
  {
   "cell_type": "code",
   "execution_count": 146,
   "id": "f9e0d12a",
   "metadata": {},
   "outputs": [],
   "source": [
    "pickle.dump(lr, open('lr_model', 'wb'))"
   ]
  },
  {
   "cell_type": "code",
   "execution_count": 147,
   "id": "d972da1b",
   "metadata": {},
   "outputs": [],
   "source": [
    "model=pickle.load(open('lr_model', 'rb'))"
   ]
  },
  {
   "cell_type": "code",
   "execution_count": 148,
   "id": "e426675b",
   "metadata": {},
   "outputs": [],
   "source": [
    "pred_model=model.predict(xtest)"
   ]
  },
  {
   "cell_type": "code",
   "execution_count": 149,
   "id": "53c27ee9",
   "metadata": {},
   "outputs": [
    {
     "data": {
      "text/plain": [
       "0.9991635877527877"
      ]
     },
     "execution_count": 149,
     "metadata": {},
     "output_type": "execute_result"
    }
   ],
   "source": [
    "r2_score(ytest,pred_model)"
   ]
  },
  {
   "cell_type": "markdown",
   "id": "24a5fbdb",
   "metadata": {},
   "source": [
    "The r2_score of our test data is also the best of approximately 100%"
   ]
  },
  {
   "cell_type": "code",
   "execution_count": 150,
   "id": "7fba8b9f",
   "metadata": {},
   "outputs": [],
   "source": [
    "train_model=model.predict(xtrain)"
   ]
  },
  {
   "cell_type": "code",
   "execution_count": 151,
   "id": "c25aebb2",
   "metadata": {},
   "outputs": [
    {
     "data": {
      "text/plain": [
       "0.9994942160403963"
      ]
     },
     "execution_count": 151,
     "metadata": {},
     "output_type": "execute_result"
    }
   ],
   "source": [
    "r2_score(ytrain,train_model)"
   ]
  },
  {
   "cell_type": "markdown",
   "id": "80468dd5",
   "metadata": {},
   "source": [
    "We have tried something different, by applied our model in our xtrain data and compared the Machine predictions with the ytrain data and got the same very best r2_score of 100% approximately."
   ]
  },
  {
   "cell_type": "code",
   "execution_count": null,
   "id": "fca19c56",
   "metadata": {},
   "outputs": [],
   "source": []
  }
 ],
 "metadata": {
  "kernelspec": {
   "display_name": "Python 3 (ipykernel)",
   "language": "python",
   "name": "python3"
  },
  "language_info": {
   "codemirror_mode": {
    "name": "ipython",
    "version": 3
   },
   "file_extension": ".py",
   "mimetype": "text/x-python",
   "name": "python",
   "nbconvert_exporter": "python",
   "pygments_lexer": "ipython3",
   "version": "3.9.13"
  }
 },
 "nbformat": 4,
 "nbformat_minor": 5
}
