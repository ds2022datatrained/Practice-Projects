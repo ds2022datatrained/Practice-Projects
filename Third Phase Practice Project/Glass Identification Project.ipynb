{
 "cells": [
  {
   "cell_type": "code",
   "execution_count": 70,
   "id": "e25cb523",
   "metadata": {},
   "outputs": [],
   "source": [
    "import pandas as pd\n",
    "import numpy as np\n",
    "import matplotlib.pyplot as plt\n",
    "import seaborn as sns\n",
    "import warnings\n",
    "warnings.filterwarnings(\"ignore\")\n",
    "import sklearn\n",
    "from scipy.stats import boxcox\n",
    "from scipy.stats import zscore\n",
    "from sklearn.linear_model import LogisticRegression\n",
    "from sklearn.metrics import accuracy_score, balanced_accuracy_score, confusion_matrix, classification_report\n",
    "from sklearn.model_selection import train_test_split\n",
    "from sklearn.model_selection import KFold\n",
    "from sklearn.model_selection import StratifiedKFold\n",
    "from sklearn.model_selection import LeaveOneOut\n",
    "from sklearn.model_selection import ShuffleSplit\n",
    "from sklearn.model_selection import cross_val_score\n",
    "import pickle\n",
    "from sklearn.model_selection import GridSearchCV"
   ]
  },
  {
   "cell_type": "code",
   "execution_count": 71,
   "id": "c147325a",
   "metadata": {},
   "outputs": [],
   "source": [
    "df=pd.read_csv(\"https://raw.githubusercontent.com/dsrscientist/dataset3/main/glass.csv\")"
   ]
  },
  {
   "cell_type": "code",
   "execution_count": 72,
   "id": "4235926e",
   "metadata": {},
   "outputs": [
    {
     "data": {
      "text/html": [
       "<div>\n",
       "<style scoped>\n",
       "    .dataframe tbody tr th:only-of-type {\n",
       "        vertical-align: middle;\n",
       "    }\n",
       "\n",
       "    .dataframe tbody tr th {\n",
       "        vertical-align: top;\n",
       "    }\n",
       "\n",
       "    .dataframe thead th {\n",
       "        text-align: right;\n",
       "    }\n",
       "</style>\n",
       "<table border=\"1\" class=\"dataframe\">\n",
       "  <thead>\n",
       "    <tr style=\"text-align: right;\">\n",
       "      <th></th>\n",
       "      <th>1</th>\n",
       "      <th>1.52101</th>\n",
       "      <th>13.64</th>\n",
       "      <th>4.49</th>\n",
       "      <th>1.10</th>\n",
       "      <th>71.78</th>\n",
       "      <th>0.06</th>\n",
       "      <th>8.75</th>\n",
       "      <th>0.00</th>\n",
       "      <th>0.00.1</th>\n",
       "      <th>1.1</th>\n",
       "    </tr>\n",
       "  </thead>\n",
       "  <tbody>\n",
       "    <tr>\n",
       "      <th>0</th>\n",
       "      <td>2</td>\n",
       "      <td>1.51761</td>\n",
       "      <td>13.89</td>\n",
       "      <td>3.60</td>\n",
       "      <td>1.36</td>\n",
       "      <td>72.73</td>\n",
       "      <td>0.48</td>\n",
       "      <td>7.83</td>\n",
       "      <td>0.00</td>\n",
       "      <td>0.00</td>\n",
       "      <td>1</td>\n",
       "    </tr>\n",
       "    <tr>\n",
       "      <th>1</th>\n",
       "      <td>3</td>\n",
       "      <td>1.51618</td>\n",
       "      <td>13.53</td>\n",
       "      <td>3.55</td>\n",
       "      <td>1.54</td>\n",
       "      <td>72.99</td>\n",
       "      <td>0.39</td>\n",
       "      <td>7.78</td>\n",
       "      <td>0.00</td>\n",
       "      <td>0.00</td>\n",
       "      <td>1</td>\n",
       "    </tr>\n",
       "    <tr>\n",
       "      <th>2</th>\n",
       "      <td>4</td>\n",
       "      <td>1.51766</td>\n",
       "      <td>13.21</td>\n",
       "      <td>3.69</td>\n",
       "      <td>1.29</td>\n",
       "      <td>72.61</td>\n",
       "      <td>0.57</td>\n",
       "      <td>8.22</td>\n",
       "      <td>0.00</td>\n",
       "      <td>0.00</td>\n",
       "      <td>1</td>\n",
       "    </tr>\n",
       "    <tr>\n",
       "      <th>3</th>\n",
       "      <td>5</td>\n",
       "      <td>1.51742</td>\n",
       "      <td>13.27</td>\n",
       "      <td>3.62</td>\n",
       "      <td>1.24</td>\n",
       "      <td>73.08</td>\n",
       "      <td>0.55</td>\n",
       "      <td>8.07</td>\n",
       "      <td>0.00</td>\n",
       "      <td>0.00</td>\n",
       "      <td>1</td>\n",
       "    </tr>\n",
       "    <tr>\n",
       "      <th>4</th>\n",
       "      <td>6</td>\n",
       "      <td>1.51596</td>\n",
       "      <td>12.79</td>\n",
       "      <td>3.61</td>\n",
       "      <td>1.62</td>\n",
       "      <td>72.97</td>\n",
       "      <td>0.64</td>\n",
       "      <td>8.07</td>\n",
       "      <td>0.00</td>\n",
       "      <td>0.26</td>\n",
       "      <td>1</td>\n",
       "    </tr>\n",
       "    <tr>\n",
       "      <th>...</th>\n",
       "      <td>...</td>\n",
       "      <td>...</td>\n",
       "      <td>...</td>\n",
       "      <td>...</td>\n",
       "      <td>...</td>\n",
       "      <td>...</td>\n",
       "      <td>...</td>\n",
       "      <td>...</td>\n",
       "      <td>...</td>\n",
       "      <td>...</td>\n",
       "      <td>...</td>\n",
       "    </tr>\n",
       "    <tr>\n",
       "      <th>208</th>\n",
       "      <td>210</td>\n",
       "      <td>1.51623</td>\n",
       "      <td>14.14</td>\n",
       "      <td>0.00</td>\n",
       "      <td>2.88</td>\n",
       "      <td>72.61</td>\n",
       "      <td>0.08</td>\n",
       "      <td>9.18</td>\n",
       "      <td>1.06</td>\n",
       "      <td>0.00</td>\n",
       "      <td>7</td>\n",
       "    </tr>\n",
       "    <tr>\n",
       "      <th>209</th>\n",
       "      <td>211</td>\n",
       "      <td>1.51685</td>\n",
       "      <td>14.92</td>\n",
       "      <td>0.00</td>\n",
       "      <td>1.99</td>\n",
       "      <td>73.06</td>\n",
       "      <td>0.00</td>\n",
       "      <td>8.40</td>\n",
       "      <td>1.59</td>\n",
       "      <td>0.00</td>\n",
       "      <td>7</td>\n",
       "    </tr>\n",
       "    <tr>\n",
       "      <th>210</th>\n",
       "      <td>212</td>\n",
       "      <td>1.52065</td>\n",
       "      <td>14.36</td>\n",
       "      <td>0.00</td>\n",
       "      <td>2.02</td>\n",
       "      <td>73.42</td>\n",
       "      <td>0.00</td>\n",
       "      <td>8.44</td>\n",
       "      <td>1.64</td>\n",
       "      <td>0.00</td>\n",
       "      <td>7</td>\n",
       "    </tr>\n",
       "    <tr>\n",
       "      <th>211</th>\n",
       "      <td>213</td>\n",
       "      <td>1.51651</td>\n",
       "      <td>14.38</td>\n",
       "      <td>0.00</td>\n",
       "      <td>1.94</td>\n",
       "      <td>73.61</td>\n",
       "      <td>0.00</td>\n",
       "      <td>8.48</td>\n",
       "      <td>1.57</td>\n",
       "      <td>0.00</td>\n",
       "      <td>7</td>\n",
       "    </tr>\n",
       "    <tr>\n",
       "      <th>212</th>\n",
       "      <td>214</td>\n",
       "      <td>1.51711</td>\n",
       "      <td>14.23</td>\n",
       "      <td>0.00</td>\n",
       "      <td>2.08</td>\n",
       "      <td>73.36</td>\n",
       "      <td>0.00</td>\n",
       "      <td>8.62</td>\n",
       "      <td>1.67</td>\n",
       "      <td>0.00</td>\n",
       "      <td>7</td>\n",
       "    </tr>\n",
       "  </tbody>\n",
       "</table>\n",
       "<p>213 rows × 11 columns</p>\n",
       "</div>"
      ],
      "text/plain": [
       "       1  1.52101  13.64  4.49  1.10  71.78  0.06  8.75  0.00  0.00.1  1.1\n",
       "0      2  1.51761  13.89  3.60  1.36  72.73  0.48  7.83  0.00    0.00    1\n",
       "1      3  1.51618  13.53  3.55  1.54  72.99  0.39  7.78  0.00    0.00    1\n",
       "2      4  1.51766  13.21  3.69  1.29  72.61  0.57  8.22  0.00    0.00    1\n",
       "3      5  1.51742  13.27  3.62  1.24  73.08  0.55  8.07  0.00    0.00    1\n",
       "4      6  1.51596  12.79  3.61  1.62  72.97  0.64  8.07  0.00    0.26    1\n",
       "..   ...      ...    ...   ...   ...    ...   ...   ...   ...     ...  ...\n",
       "208  210  1.51623  14.14  0.00  2.88  72.61  0.08  9.18  1.06    0.00    7\n",
       "209  211  1.51685  14.92  0.00  1.99  73.06  0.00  8.40  1.59    0.00    7\n",
       "210  212  1.52065  14.36  0.00  2.02  73.42  0.00  8.44  1.64    0.00    7\n",
       "211  213  1.51651  14.38  0.00  1.94  73.61  0.00  8.48  1.57    0.00    7\n",
       "212  214  1.51711  14.23  0.00  2.08  73.36  0.00  8.62  1.67    0.00    7\n",
       "\n",
       "[213 rows x 11 columns]"
      ]
     },
     "execution_count": 72,
     "metadata": {},
     "output_type": "execute_result"
    }
   ],
   "source": [
    "df"
   ]
  },
  {
   "cell_type": "markdown",
   "id": "7cc9e434",
   "metadata": {},
   "source": [
    "It has been observed that all the data are numeric, so best for making ML model without encoder. Data Frame is considering first row as columns names, so instead of that we are going to give columns names as below."
   ]
  },
  {
   "cell_type": "code",
   "execution_count": 73,
   "id": "18ec41df",
   "metadata": {},
   "outputs": [],
   "source": [
    "df.columns=['Id','RI','Na','Mg','Al','Si','K','Ca','Ba','Fe','Type']"
   ]
  },
  {
   "cell_type": "code",
   "execution_count": 74,
   "id": "b4c44f9e",
   "metadata": {},
   "outputs": [
    {
     "data": {
      "text/html": [
       "<div>\n",
       "<style scoped>\n",
       "    .dataframe tbody tr th:only-of-type {\n",
       "        vertical-align: middle;\n",
       "    }\n",
       "\n",
       "    .dataframe tbody tr th {\n",
       "        vertical-align: top;\n",
       "    }\n",
       "\n",
       "    .dataframe thead th {\n",
       "        text-align: right;\n",
       "    }\n",
       "</style>\n",
       "<table border=\"1\" class=\"dataframe\">\n",
       "  <thead>\n",
       "    <tr style=\"text-align: right;\">\n",
       "      <th></th>\n",
       "      <th>Id</th>\n",
       "      <th>RI</th>\n",
       "      <th>Na</th>\n",
       "      <th>Mg</th>\n",
       "      <th>Al</th>\n",
       "      <th>Si</th>\n",
       "      <th>K</th>\n",
       "      <th>Ca</th>\n",
       "      <th>Ba</th>\n",
       "      <th>Fe</th>\n",
       "      <th>Type</th>\n",
       "    </tr>\n",
       "  </thead>\n",
       "  <tbody>\n",
       "    <tr>\n",
       "      <th>0</th>\n",
       "      <td>2</td>\n",
       "      <td>1.51761</td>\n",
       "      <td>13.89</td>\n",
       "      <td>3.60</td>\n",
       "      <td>1.36</td>\n",
       "      <td>72.73</td>\n",
       "      <td>0.48</td>\n",
       "      <td>7.83</td>\n",
       "      <td>0.00</td>\n",
       "      <td>0.00</td>\n",
       "      <td>1</td>\n",
       "    </tr>\n",
       "    <tr>\n",
       "      <th>1</th>\n",
       "      <td>3</td>\n",
       "      <td>1.51618</td>\n",
       "      <td>13.53</td>\n",
       "      <td>3.55</td>\n",
       "      <td>1.54</td>\n",
       "      <td>72.99</td>\n",
       "      <td>0.39</td>\n",
       "      <td>7.78</td>\n",
       "      <td>0.00</td>\n",
       "      <td>0.00</td>\n",
       "      <td>1</td>\n",
       "    </tr>\n",
       "    <tr>\n",
       "      <th>2</th>\n",
       "      <td>4</td>\n",
       "      <td>1.51766</td>\n",
       "      <td>13.21</td>\n",
       "      <td>3.69</td>\n",
       "      <td>1.29</td>\n",
       "      <td>72.61</td>\n",
       "      <td>0.57</td>\n",
       "      <td>8.22</td>\n",
       "      <td>0.00</td>\n",
       "      <td>0.00</td>\n",
       "      <td>1</td>\n",
       "    </tr>\n",
       "    <tr>\n",
       "      <th>3</th>\n",
       "      <td>5</td>\n",
       "      <td>1.51742</td>\n",
       "      <td>13.27</td>\n",
       "      <td>3.62</td>\n",
       "      <td>1.24</td>\n",
       "      <td>73.08</td>\n",
       "      <td>0.55</td>\n",
       "      <td>8.07</td>\n",
       "      <td>0.00</td>\n",
       "      <td>0.00</td>\n",
       "      <td>1</td>\n",
       "    </tr>\n",
       "    <tr>\n",
       "      <th>4</th>\n",
       "      <td>6</td>\n",
       "      <td>1.51596</td>\n",
       "      <td>12.79</td>\n",
       "      <td>3.61</td>\n",
       "      <td>1.62</td>\n",
       "      <td>72.97</td>\n",
       "      <td>0.64</td>\n",
       "      <td>8.07</td>\n",
       "      <td>0.00</td>\n",
       "      <td>0.26</td>\n",
       "      <td>1</td>\n",
       "    </tr>\n",
       "    <tr>\n",
       "      <th>...</th>\n",
       "      <td>...</td>\n",
       "      <td>...</td>\n",
       "      <td>...</td>\n",
       "      <td>...</td>\n",
       "      <td>...</td>\n",
       "      <td>...</td>\n",
       "      <td>...</td>\n",
       "      <td>...</td>\n",
       "      <td>...</td>\n",
       "      <td>...</td>\n",
       "      <td>...</td>\n",
       "    </tr>\n",
       "    <tr>\n",
       "      <th>208</th>\n",
       "      <td>210</td>\n",
       "      <td>1.51623</td>\n",
       "      <td>14.14</td>\n",
       "      <td>0.00</td>\n",
       "      <td>2.88</td>\n",
       "      <td>72.61</td>\n",
       "      <td>0.08</td>\n",
       "      <td>9.18</td>\n",
       "      <td>1.06</td>\n",
       "      <td>0.00</td>\n",
       "      <td>7</td>\n",
       "    </tr>\n",
       "    <tr>\n",
       "      <th>209</th>\n",
       "      <td>211</td>\n",
       "      <td>1.51685</td>\n",
       "      <td>14.92</td>\n",
       "      <td>0.00</td>\n",
       "      <td>1.99</td>\n",
       "      <td>73.06</td>\n",
       "      <td>0.00</td>\n",
       "      <td>8.40</td>\n",
       "      <td>1.59</td>\n",
       "      <td>0.00</td>\n",
       "      <td>7</td>\n",
       "    </tr>\n",
       "    <tr>\n",
       "      <th>210</th>\n",
       "      <td>212</td>\n",
       "      <td>1.52065</td>\n",
       "      <td>14.36</td>\n",
       "      <td>0.00</td>\n",
       "      <td>2.02</td>\n",
       "      <td>73.42</td>\n",
       "      <td>0.00</td>\n",
       "      <td>8.44</td>\n",
       "      <td>1.64</td>\n",
       "      <td>0.00</td>\n",
       "      <td>7</td>\n",
       "    </tr>\n",
       "    <tr>\n",
       "      <th>211</th>\n",
       "      <td>213</td>\n",
       "      <td>1.51651</td>\n",
       "      <td>14.38</td>\n",
       "      <td>0.00</td>\n",
       "      <td>1.94</td>\n",
       "      <td>73.61</td>\n",
       "      <td>0.00</td>\n",
       "      <td>8.48</td>\n",
       "      <td>1.57</td>\n",
       "      <td>0.00</td>\n",
       "      <td>7</td>\n",
       "    </tr>\n",
       "    <tr>\n",
       "      <th>212</th>\n",
       "      <td>214</td>\n",
       "      <td>1.51711</td>\n",
       "      <td>14.23</td>\n",
       "      <td>0.00</td>\n",
       "      <td>2.08</td>\n",
       "      <td>73.36</td>\n",
       "      <td>0.00</td>\n",
       "      <td>8.62</td>\n",
       "      <td>1.67</td>\n",
       "      <td>0.00</td>\n",
       "      <td>7</td>\n",
       "    </tr>\n",
       "  </tbody>\n",
       "</table>\n",
       "<p>213 rows × 11 columns</p>\n",
       "</div>"
      ],
      "text/plain": [
       "      Id       RI     Na    Mg    Al     Si     K    Ca    Ba    Fe  Type\n",
       "0      2  1.51761  13.89  3.60  1.36  72.73  0.48  7.83  0.00  0.00     1\n",
       "1      3  1.51618  13.53  3.55  1.54  72.99  0.39  7.78  0.00  0.00     1\n",
       "2      4  1.51766  13.21  3.69  1.29  72.61  0.57  8.22  0.00  0.00     1\n",
       "3      5  1.51742  13.27  3.62  1.24  73.08  0.55  8.07  0.00  0.00     1\n",
       "4      6  1.51596  12.79  3.61  1.62  72.97  0.64  8.07  0.00  0.26     1\n",
       "..   ...      ...    ...   ...   ...    ...   ...   ...   ...   ...   ...\n",
       "208  210  1.51623  14.14  0.00  2.88  72.61  0.08  9.18  1.06  0.00     7\n",
       "209  211  1.51685  14.92  0.00  1.99  73.06  0.00  8.40  1.59  0.00     7\n",
       "210  212  1.52065  14.36  0.00  2.02  73.42  0.00  8.44  1.64  0.00     7\n",
       "211  213  1.51651  14.38  0.00  1.94  73.61  0.00  8.48  1.57  0.00     7\n",
       "212  214  1.51711  14.23  0.00  2.08  73.36  0.00  8.62  1.67  0.00     7\n",
       "\n",
       "[213 rows x 11 columns]"
      ]
     },
     "execution_count": 74,
     "metadata": {},
     "output_type": "execute_result"
    }
   ],
   "source": [
    "df"
   ]
  },
  {
   "cell_type": "code",
   "execution_count": 75,
   "id": "176861c5",
   "metadata": {},
   "outputs": [
    {
     "data": {
      "text/plain": [
       "Id      0\n",
       "RI      0\n",
       "Na      0\n",
       "Mg      0\n",
       "Al      0\n",
       "Si      0\n",
       "K       0\n",
       "Ca      0\n",
       "Ba      0\n",
       "Fe      0\n",
       "Type    0\n",
       "dtype: int64"
      ]
     },
     "execution_count": 75,
     "metadata": {},
     "output_type": "execute_result"
    }
   ],
   "source": [
    "df.isna().sum()"
   ]
  },
  {
   "cell_type": "code",
   "execution_count": 76,
   "id": "7a64b9ea",
   "metadata": {},
   "outputs": [
    {
     "data": {
      "text/plain": [
       "Id        int64\n",
       "RI      float64\n",
       "Na      float64\n",
       "Mg      float64\n",
       "Al      float64\n",
       "Si      float64\n",
       "K       float64\n",
       "Ca      float64\n",
       "Ba      float64\n",
       "Fe      float64\n",
       "Type      int64\n",
       "dtype: object"
      ]
     },
     "execution_count": 76,
     "metadata": {},
     "output_type": "execute_result"
    }
   ],
   "source": [
    "df.dtypes"
   ]
  },
  {
   "cell_type": "markdown",
   "id": "b30b8def",
   "metadata": {},
   "source": [
    "No NaN values are there, also all the data are either float or integer data type."
   ]
  },
  {
   "cell_type": "code",
   "execution_count": 77,
   "id": "be67a4a5",
   "metadata": {},
   "outputs": [
    {
     "data": {
      "text/html": [
       "<div>\n",
       "<style scoped>\n",
       "    .dataframe tbody tr th:only-of-type {\n",
       "        vertical-align: middle;\n",
       "    }\n",
       "\n",
       "    .dataframe tbody tr th {\n",
       "        vertical-align: top;\n",
       "    }\n",
       "\n",
       "    .dataframe thead th {\n",
       "        text-align: right;\n",
       "    }\n",
       "</style>\n",
       "<table border=\"1\" class=\"dataframe\">\n",
       "  <thead>\n",
       "    <tr style=\"text-align: right;\">\n",
       "      <th></th>\n",
       "      <th>Id</th>\n",
       "      <th>RI</th>\n",
       "      <th>Na</th>\n",
       "      <th>Mg</th>\n",
       "      <th>Al</th>\n",
       "      <th>Si</th>\n",
       "      <th>K</th>\n",
       "      <th>Ca</th>\n",
       "      <th>Ba</th>\n",
       "      <th>Fe</th>\n",
       "      <th>Type</th>\n",
       "    </tr>\n",
       "  </thead>\n",
       "  <tbody>\n",
       "    <tr>\n",
       "      <th>count</th>\n",
       "      <td>213.000000</td>\n",
       "      <td>213.000000</td>\n",
       "      <td>213.000000</td>\n",
       "      <td>213.000000</td>\n",
       "      <td>213.000000</td>\n",
       "      <td>213.000000</td>\n",
       "      <td>213.000000</td>\n",
       "      <td>213.000000</td>\n",
       "      <td>213.000000</td>\n",
       "      <td>213.000000</td>\n",
       "      <td>213.000000</td>\n",
       "    </tr>\n",
       "    <tr>\n",
       "      <th>mean</th>\n",
       "      <td>108.000000</td>\n",
       "      <td>1.518353</td>\n",
       "      <td>13.406761</td>\n",
       "      <td>2.676056</td>\n",
       "      <td>1.446526</td>\n",
       "      <td>72.655023</td>\n",
       "      <td>0.499108</td>\n",
       "      <td>8.957934</td>\n",
       "      <td>0.175869</td>\n",
       "      <td>0.057277</td>\n",
       "      <td>2.788732</td>\n",
       "    </tr>\n",
       "    <tr>\n",
       "      <th>std</th>\n",
       "      <td>61.631972</td>\n",
       "      <td>0.003039</td>\n",
       "      <td>0.818371</td>\n",
       "      <td>1.440453</td>\n",
       "      <td>0.499882</td>\n",
       "      <td>0.774052</td>\n",
       "      <td>0.653035</td>\n",
       "      <td>1.426435</td>\n",
       "      <td>0.498245</td>\n",
       "      <td>0.097589</td>\n",
       "      <td>2.105130</td>\n",
       "    </tr>\n",
       "    <tr>\n",
       "      <th>min</th>\n",
       "      <td>2.000000</td>\n",
       "      <td>1.511150</td>\n",
       "      <td>10.730000</td>\n",
       "      <td>0.000000</td>\n",
       "      <td>0.290000</td>\n",
       "      <td>69.810000</td>\n",
       "      <td>0.000000</td>\n",
       "      <td>5.430000</td>\n",
       "      <td>0.000000</td>\n",
       "      <td>0.000000</td>\n",
       "      <td>1.000000</td>\n",
       "    </tr>\n",
       "    <tr>\n",
       "      <th>25%</th>\n",
       "      <td>55.000000</td>\n",
       "      <td>1.516520</td>\n",
       "      <td>12.900000</td>\n",
       "      <td>2.090000</td>\n",
       "      <td>1.190000</td>\n",
       "      <td>72.280000</td>\n",
       "      <td>0.130000</td>\n",
       "      <td>8.240000</td>\n",
       "      <td>0.000000</td>\n",
       "      <td>0.000000</td>\n",
       "      <td>1.000000</td>\n",
       "    </tr>\n",
       "    <tr>\n",
       "      <th>50%</th>\n",
       "      <td>108.000000</td>\n",
       "      <td>1.517680</td>\n",
       "      <td>13.300000</td>\n",
       "      <td>3.480000</td>\n",
       "      <td>1.360000</td>\n",
       "      <td>72.790000</td>\n",
       "      <td>0.560000</td>\n",
       "      <td>8.600000</td>\n",
       "      <td>0.000000</td>\n",
       "      <td>0.000000</td>\n",
       "      <td>2.000000</td>\n",
       "    </tr>\n",
       "    <tr>\n",
       "      <th>75%</th>\n",
       "      <td>161.000000</td>\n",
       "      <td>1.519150</td>\n",
       "      <td>13.830000</td>\n",
       "      <td>3.600000</td>\n",
       "      <td>1.630000</td>\n",
       "      <td>73.090000</td>\n",
       "      <td>0.610000</td>\n",
       "      <td>9.180000</td>\n",
       "      <td>0.000000</td>\n",
       "      <td>0.100000</td>\n",
       "      <td>3.000000</td>\n",
       "    </tr>\n",
       "    <tr>\n",
       "      <th>max</th>\n",
       "      <td>214.000000</td>\n",
       "      <td>1.533930</td>\n",
       "      <td>17.380000</td>\n",
       "      <td>3.980000</td>\n",
       "      <td>3.500000</td>\n",
       "      <td>75.410000</td>\n",
       "      <td>6.210000</td>\n",
       "      <td>16.190000</td>\n",
       "      <td>3.150000</td>\n",
       "      <td>0.510000</td>\n",
       "      <td>7.000000</td>\n",
       "    </tr>\n",
       "  </tbody>\n",
       "</table>\n",
       "</div>"
      ],
      "text/plain": [
       "               Id          RI          Na          Mg          Al          Si  \\\n",
       "count  213.000000  213.000000  213.000000  213.000000  213.000000  213.000000   \n",
       "mean   108.000000    1.518353   13.406761    2.676056    1.446526   72.655023   \n",
       "std     61.631972    0.003039    0.818371    1.440453    0.499882    0.774052   \n",
       "min      2.000000    1.511150   10.730000    0.000000    0.290000   69.810000   \n",
       "25%     55.000000    1.516520   12.900000    2.090000    1.190000   72.280000   \n",
       "50%    108.000000    1.517680   13.300000    3.480000    1.360000   72.790000   \n",
       "75%    161.000000    1.519150   13.830000    3.600000    1.630000   73.090000   \n",
       "max    214.000000    1.533930   17.380000    3.980000    3.500000   75.410000   \n",
       "\n",
       "                K          Ca          Ba          Fe        Type  \n",
       "count  213.000000  213.000000  213.000000  213.000000  213.000000  \n",
       "mean     0.499108    8.957934    0.175869    0.057277    2.788732  \n",
       "std      0.653035    1.426435    0.498245    0.097589    2.105130  \n",
       "min      0.000000    5.430000    0.000000    0.000000    1.000000  \n",
       "25%      0.130000    8.240000    0.000000    0.000000    1.000000  \n",
       "50%      0.560000    8.600000    0.000000    0.000000    2.000000  \n",
       "75%      0.610000    9.180000    0.000000    0.100000    3.000000  \n",
       "max      6.210000   16.190000    3.150000    0.510000    7.000000  "
      ]
     },
     "execution_count": 77,
     "metadata": {},
     "output_type": "execute_result"
    }
   ],
   "source": [
    "df.describe()"
   ]
  },
  {
   "cell_type": "markdown",
   "id": "db61e039",
   "metadata": {},
   "source": [
    "The standard deviations of all the chemical combinations are less than 3 normal distribution of data found with no spreading of data. A little differences between Mean & Median found in Magnesium & Barium etc."
   ]
  },
  {
   "cell_type": "markdown",
   "id": "c38231d5",
   "metadata": {},
   "source": [
    "We are also considering that the full Barium data are outside of the Inter Quartile Range so its as huge Outliers almost 100% of Barium data."
   ]
  },
  {
   "cell_type": "markdown",
   "id": "a0ed57ab",
   "metadata": {},
   "source": [
    "A larger difference between 75% Percentile & Maximum value is showing in Potassium (K), Calcium (Ca) & Iron (Fe), so outliers are there."
   ]
  },
  {
   "cell_type": "code",
   "execution_count": 78,
   "id": "1915b5a2",
   "metadata": {},
   "outputs": [
    {
     "data": {
      "text/plain": [
       "Id         AxesSubplot(0.125,0.712609;0.227941x0.167391)\n",
       "RI      AxesSubplot(0.398529,0.712609;0.227941x0.167391)\n",
       "Na      AxesSubplot(0.672059,0.712609;0.227941x0.167391)\n",
       "Mg         AxesSubplot(0.125,0.511739;0.227941x0.167391)\n",
       "Al      AxesSubplot(0.398529,0.511739;0.227941x0.167391)\n",
       "Si      AxesSubplot(0.672059,0.511739;0.227941x0.167391)\n",
       "K           AxesSubplot(0.125,0.31087;0.227941x0.167391)\n",
       "Ca       AxesSubplot(0.398529,0.31087;0.227941x0.167391)\n",
       "Ba       AxesSubplot(0.672059,0.31087;0.227941x0.167391)\n",
       "Fe             AxesSubplot(0.125,0.11;0.227941x0.167391)\n",
       "Type        AxesSubplot(0.398529,0.11;0.227941x0.167391)\n",
       "dtype: object"
      ]
     },
     "execution_count": 78,
     "metadata": {},
     "output_type": "execute_result"
    },
    {
     "data": {
      "image/png": "[encoded data removed]",
      "text/plain": [
       "<Figure size 1000x1000 with 12 Axes>"
      ]
     },
     "metadata": {},
     "output_type": "display_data"
    }
   ],
   "source": [
    "df.plot(kind='box', subplots=True, layout=(4,3), figsize=(10,10))"
   ]
  },
  {
   "cell_type": "markdown",
   "id": "34efa3a4",
   "metadata": {},
   "source": [
    "As we have found that 100% of Barium data is outlier as per the above box plot also, instead of trying to remove the outliers from this columns, we are totally droping this Barium column, which would be much better for making our ML Model as per my consideration."
   ]
  },
  {
   "cell_type": "code",
   "execution_count": 79,
   "id": "ebc894fc",
   "metadata": {},
   "outputs": [],
   "source": [
    "df.drop(['Ba'],axis=1,inplace=True)"
   ]
  },
  {
   "cell_type": "markdown",
   "id": "c450efa4",
   "metadata": {},
   "source": [
    "Now we are going to get the corelation between the features by below Non Graphical and Graphical Analysis."
   ]
  },
  {
   "cell_type": "code",
   "execution_count": 80,
   "id": "e24982e4",
   "metadata": {},
   "outputs": [],
   "source": [
    "dfcor=df.corr()"
   ]
  },
  {
   "cell_type": "code",
   "execution_count": 81,
   "id": "14c2fa91",
   "metadata": {},
   "outputs": [
    {
     "data": {
      "text/html": [
       "<div>\n",
       "<style scoped>\n",
       "    .dataframe tbody tr th:only-of-type {\n",
       "        vertical-align: middle;\n",
       "    }\n",
       "\n",
       "    .dataframe tbody tr th {\n",
       "        vertical-align: top;\n",
       "    }\n",
       "\n",
       "    .dataframe thead th {\n",
       "        text-align: right;\n",
       "    }\n",
       "</style>\n",
       "<table border=\"1\" class=\"dataframe\">\n",
       "  <thead>\n",
       "    <tr style=\"text-align: right;\">\n",
       "      <th></th>\n",
       "      <th>Id</th>\n",
       "      <th>RI</th>\n",
       "      <th>Na</th>\n",
       "      <th>Mg</th>\n",
       "      <th>Al</th>\n",
       "      <th>Si</th>\n",
       "      <th>K</th>\n",
       "      <th>Ca</th>\n",
       "      <th>Fe</th>\n",
       "      <th>Type</th>\n",
       "    </tr>\n",
       "  </thead>\n",
       "  <tbody>\n",
       "    <tr>\n",
       "      <th>Id</th>\n",
       "      <td>1.000000</td>\n",
       "      <td>-0.065721</td>\n",
       "      <td>0.380767</td>\n",
       "      <td>-0.647082</td>\n",
       "      <td>0.488475</td>\n",
       "      <td>0.052634</td>\n",
       "      <td>-0.002306</td>\n",
       "      <td>0.090257</td>\n",
       "      <td>-0.078151</td>\n",
       "      <td>0.878113</td>\n",
       "    </tr>\n",
       "    <tr>\n",
       "      <th>RI</th>\n",
       "      <td>-0.065721</td>\n",
       "      <td>1.000000</td>\n",
       "      <td>-0.193436</td>\n",
       "      <td>-0.128118</td>\n",
       "      <td>-0.405671</td>\n",
       "      <td>-0.540010</td>\n",
       "      <td>-0.287900</td>\n",
       "      <td>0.812495</td>\n",
       "      <td>0.145791</td>\n",
       "      <td>-0.161322</td>\n",
       "    </tr>\n",
       "    <tr>\n",
       "      <th>Na</th>\n",
       "      <td>0.380767</td>\n",
       "      <td>-0.193436</td>\n",
       "      <td>1.000000</td>\n",
       "      <td>-0.276486</td>\n",
       "      <td>0.157928</td>\n",
       "      <td>-0.068519</td>\n",
       "      <td>-0.265520</td>\n",
       "      <td>-0.275314</td>\n",
       "      <td>-0.240802</td>\n",
       "      <td>0.504983</td>\n",
       "    </tr>\n",
       "    <tr>\n",
       "      <th>Mg</th>\n",
       "      <td>-0.647082</td>\n",
       "      <td>-0.128118</td>\n",
       "      <td>-0.276486</td>\n",
       "      <td>1.000000</td>\n",
       "      <td>-0.480035</td>\n",
       "      <td>-0.160359</td>\n",
       "      <td>0.009397</td>\n",
       "      <td>-0.444559</td>\n",
       "      <td>0.086906</td>\n",
       "      <td>-0.744004</td>\n",
       "    </tr>\n",
       "    <tr>\n",
       "      <th>Al</th>\n",
       "      <td>0.488475</td>\n",
       "      <td>-0.405671</td>\n",
       "      <td>0.157928</td>\n",
       "      <td>-0.480035</td>\n",
       "      <td>1.000000</td>\n",
       "      <td>-0.009226</td>\n",
       "      <td>0.324484</td>\n",
       "      <td>-0.260372</td>\n",
       "      <td>-0.076456</td>\n",
       "      <td>0.597754</td>\n",
       "    </tr>\n",
       "    <tr>\n",
       "      <th>Si</th>\n",
       "      <td>0.052634</td>\n",
       "      <td>-0.540010</td>\n",
       "      <td>-0.068519</td>\n",
       "      <td>-0.160359</td>\n",
       "      <td>-0.009226</td>\n",
       "      <td>1.000000</td>\n",
       "      <td>-0.197684</td>\n",
       "      <td>-0.210141</td>\n",
       "      <td>-0.097674</td>\n",
       "      <td>0.147767</td>\n",
       "    </tr>\n",
       "    <tr>\n",
       "      <th>K</th>\n",
       "      <td>-0.002306</td>\n",
       "      <td>-0.287900</td>\n",
       "      <td>-0.265520</td>\n",
       "      <td>0.009397</td>\n",
       "      <td>0.324484</td>\n",
       "      <td>-0.197684</td>\n",
       "      <td>1.000000</td>\n",
       "      <td>-0.318649</td>\n",
       "      <td>-0.009586</td>\n",
       "      <td>-0.012765</td>\n",
       "    </tr>\n",
       "    <tr>\n",
       "      <th>Ca</th>\n",
       "      <td>0.090257</td>\n",
       "      <td>0.812495</td>\n",
       "      <td>-0.275314</td>\n",
       "      <td>-0.444559</td>\n",
       "      <td>-0.260372</td>\n",
       "      <td>-0.210141</td>\n",
       "      <td>-0.318649</td>\n",
       "      <td>1.000000</td>\n",
       "      <td>0.124674</td>\n",
       "      <td>0.000372</td>\n",
       "    </tr>\n",
       "    <tr>\n",
       "      <th>Fe</th>\n",
       "      <td>-0.078151</td>\n",
       "      <td>0.145791</td>\n",
       "      <td>-0.240802</td>\n",
       "      <td>0.086906</td>\n",
       "      <td>-0.076456</td>\n",
       "      <td>-0.097674</td>\n",
       "      <td>-0.009586</td>\n",
       "      <td>0.124674</td>\n",
       "      <td>1.000000</td>\n",
       "      <td>-0.191090</td>\n",
       "    </tr>\n",
       "    <tr>\n",
       "      <th>Type</th>\n",
       "      <td>0.878113</td>\n",
       "      <td>-0.161322</td>\n",
       "      <td>0.504983</td>\n",
       "      <td>-0.744004</td>\n",
       "      <td>0.597754</td>\n",
       "      <td>0.147767</td>\n",
       "      <td>-0.012765</td>\n",
       "      <td>0.000372</td>\n",
       "      <td>-0.191090</td>\n",
       "      <td>1.000000</td>\n",
       "    </tr>\n",
       "  </tbody>\n",
       "</table>\n",
       "</div>"
      ],
      "text/plain": [
       "            Id        RI        Na        Mg        Al        Si         K  \\\n",
       "Id    1.000000 -0.065721  0.380767 -0.647082  0.488475  0.052634 -0.002306   \n",
       "RI   -0.065721  1.000000 -0.193436 -0.128118 -0.405671 -0.540010 -0.287900   \n",
       "Na    0.380767 -0.193436  1.000000 -0.276486  0.157928 -0.068519 -0.265520   \n",
       "Mg   -0.647082 -0.128118 -0.276486  1.000000 -0.480035 -0.160359  0.009397   \n",
       "Al    0.488475 -0.405671  0.157928 -0.480035  1.000000 -0.009226  0.324484   \n",
       "Si    0.052634 -0.540010 -0.068519 -0.160359 -0.009226  1.000000 -0.197684   \n",
       "K    -0.002306 -0.287900 -0.265520  0.009397  0.324484 -0.197684  1.000000   \n",
       "Ca    0.090257  0.812495 -0.275314 -0.444559 -0.260372 -0.210141 -0.318649   \n",
       "Fe   -0.078151  0.145791 -0.240802  0.086906 -0.076456 -0.097674 -0.009586   \n",
       "Type  0.878113 -0.161322  0.504983 -0.744004  0.597754  0.147767 -0.012765   \n",
       "\n",
       "            Ca        Fe      Type  \n",
       "Id    0.090257 -0.078151  0.878113  \n",
       "RI    0.812495  0.145791 -0.161322  \n",
       "Na   -0.275314 -0.240802  0.504983  \n",
       "Mg   -0.444559  0.086906 -0.744004  \n",
       "Al   -0.260372 -0.076456  0.597754  \n",
       "Si   -0.210141 -0.097674  0.147767  \n",
       "K    -0.318649 -0.009586 -0.012765  \n",
       "Ca    1.000000  0.124674  0.000372  \n",
       "Fe    0.124674  1.000000 -0.191090  \n",
       "Type  0.000372 -0.191090  1.000000  "
      ]
     },
     "execution_count": 81,
     "metadata": {},
     "output_type": "execute_result"
    }
   ],
   "source": [
    "dfcor"
   ]
  },
  {
   "cell_type": "code",
   "execution_count": 82,
   "id": "7bd956e5",
   "metadata": {},
   "outputs": [
    {
     "data": {
      "text/plain": [
       "<AxesSubplot:>"
      ]
     },
     "execution_count": 82,
     "metadata": {},
     "output_type": "execute_result"
    },
    {
     "data": {
      "image/png": "[encoded data removed]",
      "text/plain": [
       "<Figure size 1000x1000 with 2 Axes>"
      ]
     },
     "metadata": {},
     "output_type": "display_data"
    }
   ],
   "source": [
    "plt.figure(figsize=(10,10))\n",
    "sns.heatmap(dfcor,annot=True,cmap='Blues')"
   ]
  },
  {
   "cell_type": "code",
   "execution_count": 83,
   "id": "6fa55966",
   "metadata": {},
   "outputs": [
    {
     "data": {
      "text/plain": [
       "Id      0.000000\n",
       "RI      1.639658\n",
       "Na      0.457318\n",
       "Mg     -1.154323\n",
       "Al      0.900017\n",
       "Si     -0.744546\n",
       "K       6.549276\n",
       "Ca      2.040591\n",
       "Fe      1.747173\n",
       "Type    1.108861\n",
       "dtype: float64"
      ]
     },
     "execution_count": 83,
     "metadata": {},
     "output_type": "execute_result"
    }
   ],
   "source": [
    "df.skew()"
   ]
  },
  {
   "cell_type": "markdown",
   "id": "004e0773",
   "metadata": {},
   "source": [
    "So we have found that Mg is left sided skewed and RI, K, Ca & Fe is Right sided skewed data. We can observe the same via below graphs also."
   ]
  },
  {
   "cell_type": "code",
   "execution_count": 84,
   "id": "e2dffdf2",
   "metadata": {},
   "outputs": [
    {
     "data": {
      "text/plain": [
       "<AxesSubplot:xlabel='Mg', ylabel='Density'>"
      ]
     },
     "execution_count": 84,
     "metadata": {},
     "output_type": "execute_result"
    },
    {
     "data": {
      "image/png": "[encoded data removed]",
      "text/plain": [
       "<Figure size 640x480 with 1 Axes>"
      ]
     },
     "metadata": {},
     "output_type": "display_data"
    }
   ],
   "source": [
    "sns.distplot(df['Mg'])"
   ]
  },
  {
   "cell_type": "code",
   "execution_count": 85,
   "id": "7ffa2fd6",
   "metadata": {},
   "outputs": [
    {
     "data": {
      "text/plain": [
       "<AxesSubplot:xlabel='K', ylabel='Density'>"
      ]
     },
     "execution_count": 85,
     "metadata": {},
     "output_type": "execute_result"
    },
    {
     "data": {
      "image/png": "[encoded data removed]",
      "text/plain": [
       "<Figure size 640x480 with 1 Axes>"
      ]
     },
     "metadata": {},
     "output_type": "display_data"
    }
   ],
   "source": [
    "sns.distplot(df['K'])"
   ]
  },
  {
   "cell_type": "markdown",
   "id": "e558eacc",
   "metadata": {},
   "source": [
    "Right sided skewness is present in Potassium (K)"
   ]
  },
  {
   "cell_type": "code",
   "execution_count": 86,
   "id": "ef1caa03",
   "metadata": {},
   "outputs": [
    {
     "data": {
      "text/plain": [
       "<AxesSubplot:xlabel='Fe', ylabel='Density'>"
      ]
     },
     "execution_count": 86,
     "metadata": {},
     "output_type": "execute_result"
    },
    {
     "data": {
      "image/png": "[encoded data removed]",
      "text/plain": [
       "<Figure size 640x480 with 1 Axes>"
      ]
     },
     "metadata": {},
     "output_type": "display_data"
    }
   ],
   "source": [
    "sns.distplot(df['Fe'])"
   ]
  },
  {
   "cell_type": "code",
   "execution_count": 87,
   "id": "91c316b1",
   "metadata": {},
   "outputs": [
    {
     "data": {
      "text/plain": [
       "<AxesSubplot:xlabel='Ca', ylabel='Density'>"
      ]
     },
     "execution_count": 87,
     "metadata": {},
     "output_type": "execute_result"
    },
    {
     "data": {
      "image/png": "[encoded data removed]",
      "text/plain": [
       "<Figure size 640x480 with 1 Axes>"
      ]
     },
     "metadata": {},
     "output_type": "display_data"
    }
   ],
   "source": [
    "sns.distplot(df['Ca'])"
   ]
  },
  {
   "cell_type": "markdown",
   "id": "77d4bd5a",
   "metadata": {},
   "source": [
    "A little skewness is present in Calcium (Ca)"
   ]
  },
  {
   "cell_type": "markdown",
   "id": "59cff42d",
   "metadata": {},
   "source": [
    "Now we are trying to reduce the skewness & outliers by using the boxcox methods."
   ]
  },
  {
   "cell_type": "code",
   "execution_count": 88,
   "id": "addee6b0",
   "metadata": {},
   "outputs": [],
   "source": [
    "df['Fe']=boxcox(df['Fe'],.5)"
   ]
  },
  {
   "cell_type": "code",
   "execution_count": 89,
   "id": "f4e460a1",
   "metadata": {},
   "outputs": [
    {
     "data": {
      "text/plain": [
       "<AxesSubplot:>"
      ]
     },
     "execution_count": 89,
     "metadata": {},
     "output_type": "execute_result"
    },
    {
     "data": {
      "image/png": "[encoded data removed]",
      "text/plain": [
       "<Figure size 640x480 with 1 Axes>"
      ]
     },
     "metadata": {},
     "output_type": "display_data"
    }
   ],
   "source": [
    "df['Fe'].plot.box()"
   ]
  },
  {
   "cell_type": "code",
   "execution_count": 90,
   "id": "06e80bd6",
   "metadata": {},
   "outputs": [],
   "source": [
    "df['Mg']=boxcox(df['Mg'],.5)"
   ]
  },
  {
   "cell_type": "code",
   "execution_count": 91,
   "id": "46e694f6",
   "metadata": {},
   "outputs": [
    {
     "data": {
      "text/plain": [
       "<AxesSubplot:>"
      ]
     },
     "execution_count": 91,
     "metadata": {},
     "output_type": "execute_result"
    },
    {
     "data": {
      "image/png": "[encoded data removed]",
      "text/plain": [
       "<Figure size 640x480 with 1 Axes>"
      ]
     },
     "metadata": {},
     "output_type": "display_data"
    }
   ],
   "source": [
    "df['Mg'].plot.box()"
   ]
  },
  {
   "cell_type": "code",
   "execution_count": 92,
   "id": "17b05432",
   "metadata": {},
   "outputs": [],
   "source": [
    "df['RI']=boxcox(df['RI'],0)"
   ]
  },
  {
   "cell_type": "code",
   "execution_count": 93,
   "id": "16d6fd89",
   "metadata": {},
   "outputs": [
    {
     "data": {
      "text/plain": [
       "<AxesSubplot:>"
      ]
     },
     "execution_count": 93,
     "metadata": {},
     "output_type": "execute_result"
    },
    {
     "data": {
      "image/png": "[encoded data removed]",
      "text/plain": [
       "<Figure size 640x480 with 1 Axes>"
      ]
     },
     "metadata": {},
     "output_type": "display_data"
    }
   ],
   "source": [
    "df['RI'].plot.box()"
   ]
  },
  {
   "cell_type": "code",
   "execution_count": 94,
   "id": "dc2a5027",
   "metadata": {},
   "outputs": [],
   "source": [
    "df['K']=boxcox(df['K'],.5)"
   ]
  },
  {
   "cell_type": "code",
   "execution_count": 95,
   "id": "017aee6a",
   "metadata": {},
   "outputs": [
    {
     "data": {
      "text/plain": [
       "<AxesSubplot:>"
      ]
     },
     "execution_count": 95,
     "metadata": {},
     "output_type": "execute_result"
    },
    {
     "data": {
      "image/png": "[encoded data removed]",
      "text/plain": [
       "<Figure size 640x480 with 1 Axes>"
      ]
     },
     "metadata": {},
     "output_type": "display_data"
    }
   ],
   "source": [
    "df['K'].plot.box()"
   ]
  },
  {
   "cell_type": "code",
   "execution_count": 96,
   "id": "75284078",
   "metadata": {},
   "outputs": [],
   "source": [
    "df['Ca']=boxcox(df['Ca'],0)"
   ]
  },
  {
   "cell_type": "code",
   "execution_count": 97,
   "id": "fff837fb",
   "metadata": {},
   "outputs": [
    {
     "data": {
      "text/plain": [
       "<AxesSubplot:>"
      ]
     },
     "execution_count": 97,
     "metadata": {},
     "output_type": "execute_result"
    },
    {
     "data": {
      "image/png": "[encoded data removed]",
      "text/plain": [
       "<Figure size 640x480 with 1 Axes>"
      ]
     },
     "metadata": {},
     "output_type": "display_data"
    }
   ],
   "source": [
    "df['Ca'].plot.box()"
   ]
  },
  {
   "cell_type": "code",
   "execution_count": 98,
   "id": "6697c1db",
   "metadata": {},
   "outputs": [
    {
     "data": {
      "text/plain": [
       "Id         AxesSubplot(0.125,0.712609;0.227941x0.167391)\n",
       "RI      AxesSubplot(0.398529,0.712609;0.227941x0.167391)\n",
       "Na      AxesSubplot(0.672059,0.712609;0.227941x0.167391)\n",
       "Mg         AxesSubplot(0.125,0.511739;0.227941x0.167391)\n",
       "Al      AxesSubplot(0.398529,0.511739;0.227941x0.167391)\n",
       "Si      AxesSubplot(0.672059,0.511739;0.227941x0.167391)\n",
       "K           AxesSubplot(0.125,0.31087;0.227941x0.167391)\n",
       "Ca       AxesSubplot(0.398529,0.31087;0.227941x0.167391)\n",
       "Fe       AxesSubplot(0.672059,0.31087;0.227941x0.167391)\n",
       "Type           AxesSubplot(0.125,0.11;0.227941x0.167391)\n",
       "dtype: object"
      ]
     },
     "execution_count": 98,
     "metadata": {},
     "output_type": "execute_result"
    },
    {
     "data": {
      "image/png": "[encoded data removed]",
      "text/plain": [
       "<Figure size 1000x1000 with 12 Axes>"
      ]
     },
     "metadata": {},
     "output_type": "display_data"
    }
   ],
   "source": [
    "df.plot(kind='box', subplots=True, layout=(4,3), figsize=(10,10))"
   ]
  },
  {
   "cell_type": "markdown",
   "id": "2fbb5ada",
   "metadata": {},
   "source": [
    "After reducing the outliers by boxcox method, now we are going to eleminate some outliers via zscore method with below and above zscore value 3 both side of the mean with absolute positive value method."
   ]
  },
  {
   "cell_type": "code",
   "execution_count": 99,
   "id": "33f1c1a4",
   "metadata": {},
   "outputs": [
    {
     "data": {
      "text/html": [
       "<div>\n",
       "<style scoped>\n",
       "    .dataframe tbody tr th:only-of-type {\n",
       "        vertical-align: middle;\n",
       "    }\n",
       "\n",
       "    .dataframe tbody tr th {\n",
       "        vertical-align: top;\n",
       "    }\n",
       "\n",
       "    .dataframe thead th {\n",
       "        text-align: right;\n",
       "    }\n",
       "</style>\n",
       "<table border=\"1\" class=\"dataframe\">\n",
       "  <thead>\n",
       "    <tr style=\"text-align: right;\">\n",
       "      <th></th>\n",
       "      <th>Id</th>\n",
       "      <th>RI</th>\n",
       "      <th>Na</th>\n",
       "      <th>Mg</th>\n",
       "      <th>Al</th>\n",
       "      <th>Si</th>\n",
       "      <th>K</th>\n",
       "      <th>Ca</th>\n",
       "      <th>Fe</th>\n",
       "      <th>Type</th>\n",
       "    </tr>\n",
       "  </thead>\n",
       "  <tbody>\n",
       "    <tr>\n",
       "      <th>0</th>\n",
       "      <td>1.723938</td>\n",
       "      <td>0.244559</td>\n",
       "      <td>0.591880</td>\n",
       "      <td>0.591973</td>\n",
       "      <td>0.173500</td>\n",
       "      <td>0.097091</td>\n",
       "      <td>0.238404</td>\n",
       "      <td>0.857859</td>\n",
       "      <td>0.663130</td>\n",
       "      <td>0.851703</td>\n",
       "    </tr>\n",
       "    <tr>\n",
       "      <th>1</th>\n",
       "      <td>1.707675</td>\n",
       "      <td>0.717500</td>\n",
       "      <td>0.150946</td>\n",
       "      <td>0.574216</td>\n",
       "      <td>0.187433</td>\n",
       "      <td>0.433777</td>\n",
       "      <td>0.049912</td>\n",
       "      <td>0.902321</td>\n",
       "      <td>0.663130</td>\n",
       "      <td>0.851703</td>\n",
       "    </tr>\n",
       "    <tr>\n",
       "      <th>2</th>\n",
       "      <td>1.691411</td>\n",
       "      <td>0.228031</td>\n",
       "      <td>0.240996</td>\n",
       "      <td>0.623627</td>\n",
       "      <td>0.313863</td>\n",
       "      <td>0.058303</td>\n",
       "      <td>0.409908</td>\n",
       "      <td>0.520492</td>\n",
       "      <td>0.663130</td>\n",
       "      <td>0.851703</td>\n",
       "    </tr>\n",
       "    <tr>\n",
       "      <th>3</th>\n",
       "      <td>1.675147</td>\n",
       "      <td>0.307372</td>\n",
       "      <td>0.167507</td>\n",
       "      <td>0.599041</td>\n",
       "      <td>0.414122</td>\n",
       "      <td>0.550322</td>\n",
       "      <td>0.373039</td>\n",
       "      <td>0.648315</td>\n",
       "      <td>0.663130</td>\n",
       "      <td>0.851703</td>\n",
       "    </tr>\n",
       "    <tr>\n",
       "      <th>4</th>\n",
       "      <td>1.658884</td>\n",
       "      <td>0.790300</td>\n",
       "      <td>0.755419</td>\n",
       "      <td>0.595510</td>\n",
       "      <td>0.347848</td>\n",
       "      <td>0.407878</td>\n",
       "      <td>0.534106</td>\n",
       "      <td>0.648315</td>\n",
       "      <td>1.893329</td>\n",
       "      <td>0.851703</td>\n",
       "    </tr>\n",
       "    <tr>\n",
       "      <th>...</th>\n",
       "      <td>...</td>\n",
       "      <td>...</td>\n",
       "      <td>...</td>\n",
       "      <td>...</td>\n",
       "      <td>...</td>\n",
       "      <td>...</td>\n",
       "      <td>...</td>\n",
       "      <td>...</td>\n",
       "      <td>...</td>\n",
       "      <td>...</td>\n",
       "    </tr>\n",
       "    <tr>\n",
       "      <th>208</th>\n",
       "      <td>1.658884</td>\n",
       "      <td>0.700956</td>\n",
       "      <td>0.898085</td>\n",
       "      <td>1.956080</td>\n",
       "      <td>2.874379</td>\n",
       "      <td>0.058303</td>\n",
       "      <td>0.892696</td>\n",
       "      <td>0.246144</td>\n",
       "      <td>0.663130</td>\n",
       "      <td>2.005192</td>\n",
       "    </tr>\n",
       "    <tr>\n",
       "      <th>209</th>\n",
       "      <td>1.675147</td>\n",
       "      <td>0.495857</td>\n",
       "      <td>1.853443</td>\n",
       "      <td>1.956080</td>\n",
       "      <td>1.089766</td>\n",
       "      <td>0.524423</td>\n",
       "      <td>1.673040</td>\n",
       "      <td>0.370149</td>\n",
       "      <td>0.663130</td>\n",
       "      <td>2.005192</td>\n",
       "    </tr>\n",
       "    <tr>\n",
       "      <th>210</th>\n",
       "      <td>1.691411</td>\n",
       "      <td>0.759376</td>\n",
       "      <td>1.167545</td>\n",
       "      <td>1.956080</td>\n",
       "      <td>1.149921</td>\n",
       "      <td>0.990604</td>\n",
       "      <td>1.673040</td>\n",
       "      <td>0.337177</td>\n",
       "      <td>0.663130</td>\n",
       "      <td>2.005192</td>\n",
       "    </tr>\n",
       "    <tr>\n",
       "      <th>211</th>\n",
       "      <td>1.707675</td>\n",
       "      <td>0.608320</td>\n",
       "      <td>1.192041</td>\n",
       "      <td>1.956080</td>\n",
       "      <td>0.989506</td>\n",
       "      <td>1.236644</td>\n",
       "      <td>1.673040</td>\n",
       "      <td>0.304361</td>\n",
       "      <td>0.663130</td>\n",
       "      <td>2.005192</td>\n",
       "    </tr>\n",
       "    <tr>\n",
       "      <th>212</th>\n",
       "      <td>1.723938</td>\n",
       "      <td>0.409872</td>\n",
       "      <td>1.008318</td>\n",
       "      <td>1.956080</td>\n",
       "      <td>1.270232</td>\n",
       "      <td>0.912907</td>\n",
       "      <td>1.673040</td>\n",
       "      <td>0.190711</td>\n",
       "      <td>0.663130</td>\n",
       "      <td>2.005192</td>\n",
       "    </tr>\n",
       "  </tbody>\n",
       "</table>\n",
       "<p>213 rows × 10 columns</p>\n",
       "</div>"
      ],
      "text/plain": [
       "           Id        RI        Na        Mg        Al        Si         K  \\\n",
       "0    1.723938  0.244559  0.591880  0.591973  0.173500  0.097091  0.238404   \n",
       "1    1.707675  0.717500  0.150946  0.574216  0.187433  0.433777  0.049912   \n",
       "2    1.691411  0.228031  0.240996  0.623627  0.313863  0.058303  0.409908   \n",
       "3    1.675147  0.307372  0.167507  0.599041  0.414122  0.550322  0.373039   \n",
       "4    1.658884  0.790300  0.755419  0.595510  0.347848  0.407878  0.534106   \n",
       "..        ...       ...       ...       ...       ...       ...       ...   \n",
       "208  1.658884  0.700956  0.898085  1.956080  2.874379  0.058303  0.892696   \n",
       "209  1.675147  0.495857  1.853443  1.956080  1.089766  0.524423  1.673040   \n",
       "210  1.691411  0.759376  1.167545  1.956080  1.149921  0.990604  1.673040   \n",
       "211  1.707675  0.608320  1.192041  1.956080  0.989506  1.236644  1.673040   \n",
       "212  1.723938  0.409872  1.008318  1.956080  1.270232  0.912907  1.673040   \n",
       "\n",
       "           Ca        Fe      Type  \n",
       "0    0.857859  0.663130  0.851703  \n",
       "1    0.902321  0.663130  0.851703  \n",
       "2    0.520492  0.663130  0.851703  \n",
       "3    0.648315  0.663130  0.851703  \n",
       "4    0.648315  1.893329  0.851703  \n",
       "..        ...       ...       ...  \n",
       "208  0.246144  0.663130  2.005192  \n",
       "209  0.370149  0.663130  2.005192  \n",
       "210  0.337177  0.663130  2.005192  \n",
       "211  0.304361  0.663130  2.005192  \n",
       "212  0.190711  0.663130  2.005192  \n",
       "\n",
       "[213 rows x 10 columns]"
      ]
     },
     "execution_count": 99,
     "metadata": {},
     "output_type": "execute_result"
    }
   ],
   "source": [
    "z=np.abs(zscore(df))\n",
    "z"
   ]
  },
  {
   "cell_type": "code",
   "execution_count": 100,
   "id": "26d44ca4",
   "metadata": {},
   "outputs": [
    {
     "data": {
      "text/html": [
       "<div>\n",
       "<style scoped>\n",
       "    .dataframe tbody tr th:only-of-type {\n",
       "        vertical-align: middle;\n",
       "    }\n",
       "\n",
       "    .dataframe tbody tr th {\n",
       "        vertical-align: top;\n",
       "    }\n",
       "\n",
       "    .dataframe thead th {\n",
       "        text-align: right;\n",
       "    }\n",
       "</style>\n",
       "<table border=\"1\" class=\"dataframe\">\n",
       "  <thead>\n",
       "    <tr style=\"text-align: right;\">\n",
       "      <th></th>\n",
       "      <th>Id</th>\n",
       "      <th>RI</th>\n",
       "      <th>Na</th>\n",
       "      <th>Mg</th>\n",
       "      <th>Al</th>\n",
       "      <th>Si</th>\n",
       "      <th>K</th>\n",
       "      <th>Ca</th>\n",
       "      <th>Fe</th>\n",
       "      <th>Type</th>\n",
       "    </tr>\n",
       "  </thead>\n",
       "  <tbody>\n",
       "    <tr>\n",
       "      <th>0</th>\n",
       "      <td>2</td>\n",
       "      <td>0.417137</td>\n",
       "      <td>13.89</td>\n",
       "      <td>1.794733</td>\n",
       "      <td>1.36</td>\n",
       "      <td>72.73</td>\n",
       "      <td>-0.614359</td>\n",
       "      <td>2.057963</td>\n",
       "      <td>-2.000000</td>\n",
       "      <td>1</td>\n",
       "    </tr>\n",
       "    <tr>\n",
       "      <th>1</th>\n",
       "      <td>3</td>\n",
       "      <td>0.416194</td>\n",
       "      <td>13.53</td>\n",
       "      <td>1.768289</td>\n",
       "      <td>1.54</td>\n",
       "      <td>72.99</td>\n",
       "      <td>-0.751000</td>\n",
       "      <td>2.051556</td>\n",
       "      <td>-2.000000</td>\n",
       "      <td>1</td>\n",
       "    </tr>\n",
       "    <tr>\n",
       "      <th>2</th>\n",
       "      <td>4</td>\n",
       "      <td>0.417170</td>\n",
       "      <td>13.21</td>\n",
       "      <td>1.841875</td>\n",
       "      <td>1.29</td>\n",
       "      <td>72.61</td>\n",
       "      <td>-0.490033</td>\n",
       "      <td>2.106570</td>\n",
       "      <td>-2.000000</td>\n",
       "      <td>1</td>\n",
       "    </tr>\n",
       "    <tr>\n",
       "      <th>3</th>\n",
       "      <td>5</td>\n",
       "      <td>0.417012</td>\n",
       "      <td>13.27</td>\n",
       "      <td>1.805260</td>\n",
       "      <td>1.24</td>\n",
       "      <td>73.08</td>\n",
       "      <td>-0.516760</td>\n",
       "      <td>2.088153</td>\n",
       "      <td>-2.000000</td>\n",
       "      <td>1</td>\n",
       "    </tr>\n",
       "    <tr>\n",
       "      <th>4</th>\n",
       "      <td>6</td>\n",
       "      <td>0.416049</td>\n",
       "      <td>12.79</td>\n",
       "      <td>1.800000</td>\n",
       "      <td>1.62</td>\n",
       "      <td>72.97</td>\n",
       "      <td>-0.400000</td>\n",
       "      <td>2.088153</td>\n",
       "      <td>-0.980196</td>\n",
       "      <td>1</td>\n",
       "    </tr>\n",
       "    <tr>\n",
       "      <th>...</th>\n",
       "      <td>...</td>\n",
       "      <td>...</td>\n",
       "      <td>...</td>\n",
       "      <td>...</td>\n",
       "      <td>...</td>\n",
       "      <td>...</td>\n",
       "      <td>...</td>\n",
       "      <td>...</td>\n",
       "      <td>...</td>\n",
       "      <td>...</td>\n",
       "    </tr>\n",
       "    <tr>\n",
       "      <th>208</th>\n",
       "      <td>210</td>\n",
       "      <td>0.416227</td>\n",
       "      <td>14.14</td>\n",
       "      <td>-2.000000</td>\n",
       "      <td>2.88</td>\n",
       "      <td>72.61</td>\n",
       "      <td>-1.434315</td>\n",
       "      <td>2.217027</td>\n",
       "      <td>-2.000000</td>\n",
       "      <td>7</td>\n",
       "    </tr>\n",
       "    <tr>\n",
       "      <th>209</th>\n",
       "      <td>211</td>\n",
       "      <td>0.416636</td>\n",
       "      <td>14.92</td>\n",
       "      <td>-2.000000</td>\n",
       "      <td>1.99</td>\n",
       "      <td>73.06</td>\n",
       "      <td>-2.000000</td>\n",
       "      <td>2.128232</td>\n",
       "      <td>-2.000000</td>\n",
       "      <td>7</td>\n",
       "    </tr>\n",
       "    <tr>\n",
       "      <th>210</th>\n",
       "      <td>212</td>\n",
       "      <td>0.419138</td>\n",
       "      <td>14.36</td>\n",
       "      <td>-2.000000</td>\n",
       "      <td>2.02</td>\n",
       "      <td>73.42</td>\n",
       "      <td>-2.000000</td>\n",
       "      <td>2.132982</td>\n",
       "      <td>-2.000000</td>\n",
       "      <td>7</td>\n",
       "    </tr>\n",
       "    <tr>\n",
       "      <th>211</th>\n",
       "      <td>213</td>\n",
       "      <td>0.416412</td>\n",
       "      <td>14.38</td>\n",
       "      <td>-2.000000</td>\n",
       "      <td>1.94</td>\n",
       "      <td>73.61</td>\n",
       "      <td>-2.000000</td>\n",
       "      <td>2.137710</td>\n",
       "      <td>-2.000000</td>\n",
       "      <td>7</td>\n",
       "    </tr>\n",
       "    <tr>\n",
       "      <th>212</th>\n",
       "      <td>214</td>\n",
       "      <td>0.416807</td>\n",
       "      <td>14.23</td>\n",
       "      <td>-2.000000</td>\n",
       "      <td>2.08</td>\n",
       "      <td>73.36</td>\n",
       "      <td>-2.000000</td>\n",
       "      <td>2.154085</td>\n",
       "      <td>-2.000000</td>\n",
       "      <td>7</td>\n",
       "    </tr>\n",
       "  </tbody>\n",
       "</table>\n",
       "<p>201 rows × 10 columns</p>\n",
       "</div>"
      ],
      "text/plain": [
       "      Id        RI     Na        Mg    Al     Si         K        Ca  \\\n",
       "0      2  0.417137  13.89  1.794733  1.36  72.73 -0.614359  2.057963   \n",
       "1      3  0.416194  13.53  1.768289  1.54  72.99 -0.751000  2.051556   \n",
       "2      4  0.417170  13.21  1.841875  1.29  72.61 -0.490033  2.106570   \n",
       "3      5  0.417012  13.27  1.805260  1.24  73.08 -0.516760  2.088153   \n",
       "4      6  0.416049  12.79  1.800000  1.62  72.97 -0.400000  2.088153   \n",
       "..   ...       ...    ...       ...   ...    ...       ...       ...   \n",
       "208  210  0.416227  14.14 -2.000000  2.88  72.61 -1.434315  2.217027   \n",
       "209  211  0.416636  14.92 -2.000000  1.99  73.06 -2.000000  2.128232   \n",
       "210  212  0.419138  14.36 -2.000000  2.02  73.42 -2.000000  2.132982   \n",
       "211  213  0.416412  14.38 -2.000000  1.94  73.61 -2.000000  2.137710   \n",
       "212  214  0.416807  14.23 -2.000000  2.08  73.36 -2.000000  2.154085   \n",
       "\n",
       "           Fe  Type  \n",
       "0   -2.000000     1  \n",
       "1   -2.000000     1  \n",
       "2   -2.000000     1  \n",
       "3   -2.000000     1  \n",
       "4   -0.980196     1  \n",
       "..        ...   ...  \n",
       "208 -2.000000     7  \n",
       "209 -2.000000     7  \n",
       "210 -2.000000     7  \n",
       "211 -2.000000     7  \n",
       "212 -2.000000     7  \n",
       "\n",
       "[201 rows x 10 columns]"
      ]
     },
     "execution_count": 100,
     "metadata": {},
     "output_type": "execute_result"
    }
   ],
   "source": [
    "cleaned_df=df[(z<3).all(axis=1)]\n",
    "cleaned_df"
   ]
  },
  {
   "cell_type": "code",
   "execution_count": 101,
   "id": "4a03924b",
   "metadata": {},
   "outputs": [
    {
     "data": {
      "text/plain": [
       "(213, 10)"
      ]
     },
     "execution_count": 101,
     "metadata": {},
     "output_type": "execute_result"
    }
   ],
   "source": [
    "df.shape"
   ]
  },
  {
   "cell_type": "code",
   "execution_count": 102,
   "id": "105fd8f8",
   "metadata": {},
   "outputs": [
    {
     "data": {
      "text/plain": [
       "(201, 10)"
      ]
     },
     "execution_count": 102,
     "metadata": {},
     "output_type": "execute_result"
    }
   ],
   "source": [
    "cleaned_df.shape"
   ]
  },
  {
   "cell_type": "markdown",
   "id": "206498d7",
   "metadata": {},
   "source": [
    "After using Outliers reduction and removal methods, we have lost only 5.64% approximate data i.e. 12 rows from our previous data of 213 rows to our cleaned data of 201 rows"
   ]
  },
  {
   "cell_type": "code",
   "execution_count": 103,
   "id": "905016df",
   "metadata": {},
   "outputs": [
    {
     "data": {
      "text/html": [
       "<div>\n",
       "<style scoped>\n",
       "    .dataframe tbody tr th:only-of-type {\n",
       "        vertical-align: middle;\n",
       "    }\n",
       "\n",
       "    .dataframe tbody tr th {\n",
       "        vertical-align: top;\n",
       "    }\n",
       "\n",
       "    .dataframe thead th {\n",
       "        text-align: right;\n",
       "    }\n",
       "</style>\n",
       "<table border=\"1\" class=\"dataframe\">\n",
       "  <thead>\n",
       "    <tr style=\"text-align: right;\">\n",
       "      <th></th>\n",
       "      <th>Id</th>\n",
       "      <th>RI</th>\n",
       "      <th>Na</th>\n",
       "      <th>Mg</th>\n",
       "      <th>Al</th>\n",
       "      <th>Si</th>\n",
       "      <th>K</th>\n",
       "      <th>Ca</th>\n",
       "      <th>Fe</th>\n",
       "      <th>Type</th>\n",
       "    </tr>\n",
       "  </thead>\n",
       "  <tbody>\n",
       "    <tr>\n",
       "      <th>0</th>\n",
       "      <td>2</td>\n",
       "      <td>0.417137</td>\n",
       "      <td>13.89</td>\n",
       "      <td>1.794733</td>\n",
       "      <td>1.36</td>\n",
       "      <td>72.73</td>\n",
       "      <td>-0.614359</td>\n",
       "      <td>2.057963</td>\n",
       "      <td>-2.000000</td>\n",
       "      <td>1</td>\n",
       "    </tr>\n",
       "    <tr>\n",
       "      <th>1</th>\n",
       "      <td>3</td>\n",
       "      <td>0.416194</td>\n",
       "      <td>13.53</td>\n",
       "      <td>1.768289</td>\n",
       "      <td>1.54</td>\n",
       "      <td>72.99</td>\n",
       "      <td>-0.751000</td>\n",
       "      <td>2.051556</td>\n",
       "      <td>-2.000000</td>\n",
       "      <td>1</td>\n",
       "    </tr>\n",
       "    <tr>\n",
       "      <th>2</th>\n",
       "      <td>4</td>\n",
       "      <td>0.417170</td>\n",
       "      <td>13.21</td>\n",
       "      <td>1.841875</td>\n",
       "      <td>1.29</td>\n",
       "      <td>72.61</td>\n",
       "      <td>-0.490033</td>\n",
       "      <td>2.106570</td>\n",
       "      <td>-2.000000</td>\n",
       "      <td>1</td>\n",
       "    </tr>\n",
       "    <tr>\n",
       "      <th>3</th>\n",
       "      <td>5</td>\n",
       "      <td>0.417012</td>\n",
       "      <td>13.27</td>\n",
       "      <td>1.805260</td>\n",
       "      <td>1.24</td>\n",
       "      <td>73.08</td>\n",
       "      <td>-0.516760</td>\n",
       "      <td>2.088153</td>\n",
       "      <td>-2.000000</td>\n",
       "      <td>1</td>\n",
       "    </tr>\n",
       "    <tr>\n",
       "      <th>4</th>\n",
       "      <td>6</td>\n",
       "      <td>0.416049</td>\n",
       "      <td>12.79</td>\n",
       "      <td>1.800000</td>\n",
       "      <td>1.62</td>\n",
       "      <td>72.97</td>\n",
       "      <td>-0.400000</td>\n",
       "      <td>2.088153</td>\n",
       "      <td>-0.980196</td>\n",
       "      <td>1</td>\n",
       "    </tr>\n",
       "  </tbody>\n",
       "</table>\n",
       "</div>"
      ],
      "text/plain": [
       "   Id        RI     Na        Mg    Al     Si         K        Ca        Fe  \\\n",
       "0   2  0.417137  13.89  1.794733  1.36  72.73 -0.614359  2.057963 -2.000000   \n",
       "1   3  0.416194  13.53  1.768289  1.54  72.99 -0.751000  2.051556 -2.000000   \n",
       "2   4  0.417170  13.21  1.841875  1.29  72.61 -0.490033  2.106570 -2.000000   \n",
       "3   5  0.417012  13.27  1.805260  1.24  73.08 -0.516760  2.088153 -2.000000   \n",
       "4   6  0.416049  12.79  1.800000  1.62  72.97 -0.400000  2.088153 -0.980196   \n",
       "\n",
       "   Type  \n",
       "0     1  \n",
       "1     1  \n",
       "2     1  \n",
       "3     1  \n",
       "4     1  "
      ]
     },
     "execution_count": 103,
     "metadata": {},
     "output_type": "execute_result"
    }
   ],
   "source": [
    "cleaned_df.head()"
   ]
  },
  {
   "cell_type": "markdown",
   "id": "8bbf6e6e",
   "metadata": {},
   "source": [
    "Now spliting Independent Variable in x and Dependent Variable y (Target/Label)"
   ]
  },
  {
   "cell_type": "code",
   "execution_count": 104,
   "id": "be3b9da0",
   "metadata": {},
   "outputs": [],
   "source": [
    "x=cleaned_df.iloc[:,0:-1]"
   ]
  },
  {
   "cell_type": "code",
   "execution_count": 105,
   "id": "60bc1430",
   "metadata": {},
   "outputs": [],
   "source": [
    "y=cleaned_df.iloc[:,-1]"
   ]
  },
  {
   "cell_type": "code",
   "execution_count": 106,
   "id": "aa81542b",
   "metadata": {},
   "outputs": [
    {
     "data": {
      "text/plain": [
       "(201, 9)"
      ]
     },
     "execution_count": 106,
     "metadata": {},
     "output_type": "execute_result"
    }
   ],
   "source": [
    "x.shape"
   ]
  },
  {
   "cell_type": "code",
   "execution_count": 107,
   "id": "f572674d",
   "metadata": {},
   "outputs": [
    {
     "data": {
      "text/plain": [
       "(201,)"
      ]
     },
     "execution_count": 107,
     "metadata": {},
     "output_type": "execute_result"
    }
   ],
   "source": [
    "y.shape"
   ]
  },
  {
   "cell_type": "markdown",
   "id": "81ac7382",
   "metadata": {},
   "source": [
    "Out of 201 rows dataset, we are sending 75% data for training and rest 25% data for testing usage. And using for loop for different random_state ranging from 0 to 50"
   ]
  },
  {
   "cell_type": "code",
   "execution_count": 108,
   "id": "7d94b33d",
   "metadata": {},
   "outputs": [],
   "source": [
    "lr=LogisticRegression()"
   ]
  },
  {
   "cell_type": "code",
   "execution_count": 109,
   "id": "c61545de",
   "metadata": {},
   "outputs": [
    {
     "name": "stdout",
     "output_type": "stream",
     "text": [
      "1.0\n",
      "0.9803921568627451\n",
      "1.0\n",
      "1.0\n",
      "0.9803921568627451\n",
      "1.0\n",
      "1.0\n",
      "0.9803921568627451\n",
      "1.0\n",
      "1.0\n",
      "0.9803921568627451\n",
      "1.0\n",
      "0.9607843137254902\n",
      "1.0\n",
      "0.9803921568627451\n",
      "0.9803921568627451\n",
      "0.9607843137254902\n",
      "0.9803921568627451\n",
      "1.0\n",
      "1.0\n",
      "0.9803921568627451\n",
      "0.9803921568627451\n",
      "1.0\n",
      "0.9803921568627451\n",
      "0.9411764705882353\n",
      "1.0\n",
      "0.9803921568627451\n",
      "1.0\n",
      "0.9803921568627451\n",
      "1.0\n",
      "1.0\n",
      "1.0\n",
      "1.0\n",
      "1.0\n",
      "0.9803921568627451\n",
      "0.9803921568627451\n",
      "1.0\n",
      "0.9803921568627451\n",
      "1.0\n",
      "0.9803921568627451\n",
      "1.0\n",
      "0.9607843137254902\n",
      "0.9607843137254902\n",
      "1.0\n",
      "0.9607843137254902\n",
      "0.9607843137254902\n",
      "0.9803921568627451\n",
      "1.0\n",
      "0.9803921568627451\n",
      "0.9607843137254902\n"
     ]
    }
   ],
   "source": [
    "for i in range(0,50):\n",
    "    xtrain,xtest,ytrain,ytest=train_test_split(x,y,test_size=0.25,random_state=i)\n",
    "    lr.fit(xtrain,ytrain)\n",
    "    pred=lr.predict(xtest)\n",
    "    ascore=accuracy_score(ytest,pred)\n",
    "    print(ascore)"
   ]
  },
  {
   "cell_type": "markdown",
   "id": "e5025da2",
   "metadata": {},
   "source": [
    "By the above loop function, we got that in many radom_state the model is giving 100% accurate predictions. So we are using the random_state 2 for our further process."
   ]
  },
  {
   "cell_type": "code",
   "execution_count": 110,
   "id": "d36276c7",
   "metadata": {},
   "outputs": [],
   "source": [
    "xtrain,xtest,ytrain,ytest=train_test_split(x,y,test_size=0.25,random_state=2)"
   ]
  },
  {
   "cell_type": "code",
   "execution_count": 111,
   "id": "05af6e85",
   "metadata": {},
   "outputs": [
    {
     "data": {
      "text/plain": [
       "LogisticRegression()"
      ]
     },
     "execution_count": 111,
     "metadata": {},
     "output_type": "execute_result"
    }
   ],
   "source": [
    "lr.fit(xtrain,ytrain)"
   ]
  },
  {
   "cell_type": "code",
   "execution_count": 112,
   "id": "f9c36342",
   "metadata": {},
   "outputs": [],
   "source": [
    "pred=lr.predict(xtest)"
   ]
  },
  {
   "cell_type": "code",
   "execution_count": 113,
   "id": "c5ba1f88",
   "metadata": {},
   "outputs": [
    {
     "data": {
      "text/plain": [
       "1.0"
      ]
     },
     "execution_count": 113,
     "metadata": {},
     "output_type": "execute_result"
    }
   ],
   "source": [
    "accuracy_score(ytest,pred)"
   ]
  },
  {
   "cell_type": "code",
   "execution_count": 114,
   "id": "79b09a1b",
   "metadata": {},
   "outputs": [
    {
     "data": {
      "text/plain": [
       "1.0"
      ]
     },
     "execution_count": 114,
     "metadata": {},
     "output_type": "execute_result"
    }
   ],
   "source": [
    "balanced_accuracy_score(ytest,pred)"
   ]
  },
  {
   "cell_type": "code",
   "execution_count": 115,
   "id": "410815d8",
   "metadata": {},
   "outputs": [
    {
     "data": {
      "text/plain": [
       "array([[23,  0,  0,  0,  0,  0],\n",
       "       [ 0, 15,  0,  0,  0,  0],\n",
       "       [ 0,  0,  1,  0,  0,  0],\n",
       "       [ 0,  0,  0,  2,  0,  0],\n",
       "       [ 0,  0,  0,  0,  2,  0],\n",
       "       [ 0,  0,  0,  0,  0,  8]], dtype=int64)"
      ]
     },
     "execution_count": 115,
     "metadata": {},
     "output_type": "execute_result"
    }
   ],
   "source": [
    "confusion_matrix(ytest,pred)"
   ]
  },
  {
   "cell_type": "code",
   "execution_count": 116,
   "id": "9a382e65",
   "metadata": {},
   "outputs": [
    {
     "data": {
      "text/plain": [
       "'              precision    recall  f1-score   support\\n\\n           1       1.00      1.00      1.00        23\\n           2       1.00      1.00      1.00        15\\n           3       1.00      1.00      1.00         1\\n           5       1.00      1.00      1.00         2\\n           6       1.00      1.00      1.00         2\\n           7       1.00      1.00      1.00         8\\n\\n    accuracy                           1.00        51\\n   macro avg       1.00      1.00      1.00        51\\nweighted avg       1.00      1.00      1.00        51\\n'"
      ]
     },
     "execution_count": 116,
     "metadata": {},
     "output_type": "execute_result"
    }
   ],
   "source": [
    "classification_report(ytest,pred)"
   ]
  },
  {
   "cell_type": "markdown",
   "id": "e9917079",
   "metadata": {},
   "source": [
    "By the above, we have found the 100% accurate prediction and the Confusion Matrix is also having all the values in True Positive diagonal way without any confusion."
   ]
  },
  {
   "cell_type": "markdown",
   "id": "8f329faa",
   "metadata": {},
   "source": [
    "As we have got the best ML result with Logistic Regression, there is no need to try any other Classifier Algorithm."
   ]
  },
  {
   "cell_type": "markdown",
   "id": "2c0112bc",
   "metadata": {},
   "source": [
    "So now we are going to test our above best LR Model with various Cross Validation methods as below"
   ]
  },
  {
   "cell_type": "code",
   "execution_count": 117,
   "id": "00304ef3",
   "metadata": {},
   "outputs": [],
   "source": [
    "cv1=cross_val_score(lr,x,y,cv=KFold(n_splits=50))"
   ]
  },
  {
   "cell_type": "code",
   "execution_count": 118,
   "id": "a7ce7291",
   "metadata": {},
   "outputs": [
    {
     "data": {
      "text/plain": [
       "array([1.  , 1.  , 1.  , 1.  , 1.  , 1.  , 1.  , 1.  , 1.  , 1.  , 1.  ,\n",
       "       1.  , 1.  , 1.  , 1.  , 1.  , 0.5 , 0.75, 1.  , 1.  , 1.  , 1.  ,\n",
       "       1.  , 1.  , 1.  , 1.  , 1.  , 1.  , 1.  , 1.  , 1.  , 1.  , 1.  ,\n",
       "       1.  , 0.75, 0.75, 1.  , 1.  , 1.  , 0.75, 1.  , 1.  , 1.  , 0.75,\n",
       "       1.  , 1.  , 1.  , 1.  , 1.  , 1.  ])"
      ]
     },
     "execution_count": 118,
     "metadata": {},
     "output_type": "execute_result"
    }
   ],
   "source": [
    "cv1"
   ]
  },
  {
   "cell_type": "code",
   "execution_count": 119,
   "id": "07595af6",
   "metadata": {},
   "outputs": [
    {
     "name": "stdout",
     "output_type": "stream",
     "text": [
      "Length of CV1 is: 50 Splits And its Average is: 0.965\n"
     ]
    }
   ],
   "source": [
    "print(\"Length of CV1 is:\",len(cv1),\"Splits And its Average is:\", cv1.mean())"
   ]
  },
  {
   "cell_type": "code",
   "execution_count": 120,
   "id": "eb92db57",
   "metadata": {},
   "outputs": [],
   "source": [
    "cv2=cross_val_score(lr,x,y,cv=StratifiedKFold(n_splits=10))"
   ]
  },
  {
   "cell_type": "code",
   "execution_count": 121,
   "id": "bdf28dfc",
   "metadata": {},
   "outputs": [
    {
     "data": {
      "text/plain": [
       "array([0.80952381, 1.        , 1.        , 1.        , 1.        ,\n",
       "       1.        , 1.        , 1.        , 1.        , 0.7       ])"
      ]
     },
     "execution_count": 121,
     "metadata": {},
     "output_type": "execute_result"
    }
   ],
   "source": [
    "cv2"
   ]
  },
  {
   "cell_type": "code",
   "execution_count": 122,
   "id": "12d5ff7a",
   "metadata": {},
   "outputs": [
    {
     "name": "stdout",
     "output_type": "stream",
     "text": [
      "Length of CV2 is: 10 Splits And its Average is: 0.950952380952381\n"
     ]
    }
   ],
   "source": [
    "print(\"Length of CV2 is:\",len(cv2),\"Splits And its Average is:\", cv2.mean())"
   ]
  },
  {
   "cell_type": "code",
   "execution_count": 123,
   "id": "ea351a95",
   "metadata": {},
   "outputs": [],
   "source": [
    "cv3=cross_val_score(lr,x,y,cv=LeaveOneOut())"
   ]
  },
  {
   "cell_type": "code",
   "execution_count": 124,
   "id": "f8120e9d",
   "metadata": {},
   "outputs": [
    {
     "data": {
      "text/plain": [
       "array([1., 1., 1., 1., 1., 1., 1., 1., 1., 1., 1., 1., 1., 1., 1., 1., 1.,\n",
       "       1., 1., 1., 1., 1., 1., 1., 1., 1., 1., 1., 1., 1., 1., 1., 1., 1.,\n",
       "       1., 1., 1., 1., 1., 1., 1., 1., 1., 1., 1., 1., 1., 1., 1., 1., 1.,\n",
       "       1., 1., 1., 1., 1., 1., 1., 1., 1., 1., 1., 1., 1., 1., 1., 1., 1.,\n",
       "       0., 0., 1., 1., 1., 1., 1., 1., 1., 1., 1., 1., 1., 1., 1., 1., 1.,\n",
       "       1., 1., 1., 1., 1., 1., 1., 1., 1., 1., 1., 1., 1., 1., 1., 1., 1.,\n",
       "       1., 1., 1., 1., 1., 1., 1., 1., 1., 1., 1., 1., 1., 1., 1., 1., 1.,\n",
       "       1., 1., 1., 1., 1., 1., 1., 1., 1., 1., 1., 1., 1., 1., 1., 1., 1.,\n",
       "       1., 1., 1., 0., 1., 1., 1., 1., 1., 1., 1., 1., 1., 1., 1., 1., 1.,\n",
       "       1., 1., 1., 1., 1., 1., 1., 1., 1., 1., 1., 1., 1., 1., 1., 1., 1.,\n",
       "       1., 1., 1., 1., 1., 1., 1., 1., 1., 1., 1., 1., 1., 1., 1., 1., 1.,\n",
       "       1., 1., 1., 1., 1., 1., 1., 1., 1., 1., 1., 1., 1., 1.])"
      ]
     },
     "execution_count": 124,
     "metadata": {},
     "output_type": "execute_result"
    }
   ],
   "source": [
    "cv3"
   ]
  },
  {
   "cell_type": "code",
   "execution_count": 125,
   "id": "578c0c4f",
   "metadata": {},
   "outputs": [
    {
     "name": "stdout",
     "output_type": "stream",
     "text": [
      "Length of CV3 is: 201 Splits And its Average is: 0.9850746268656716\n"
     ]
    }
   ],
   "source": [
    "print(\"Length of CV3 is:\",len(cv3),\"Splits And its Average is:\", cv3.mean())"
   ]
  },
  {
   "cell_type": "code",
   "execution_count": 126,
   "id": "1b9263bb",
   "metadata": {},
   "outputs": [],
   "source": [
    "cv4=cross_val_score(lr,x,y,cv=ShuffleSplit(train_size=0.5,test_size=0.5,n_splits=5))"
   ]
  },
  {
   "cell_type": "code",
   "execution_count": 127,
   "id": "56e978a3",
   "metadata": {},
   "outputs": [
    {
     "data": {
      "text/plain": [
       "array([0.95049505, 0.99009901, 0.95049505, 1.        , 0.99009901])"
      ]
     },
     "execution_count": 127,
     "metadata": {},
     "output_type": "execute_result"
    }
   ],
   "source": [
    "cv4"
   ]
  },
  {
   "cell_type": "code",
   "execution_count": 128,
   "id": "c6e2f591",
   "metadata": {},
   "outputs": [
    {
     "name": "stdout",
     "output_type": "stream",
     "text": [
      "Length of CV4 is: 5 Splits And its Average is: 0.9762376237623762\n"
     ]
    }
   ],
   "source": [
    "print(\"Length of CV4 is:\",len(cv4),\"Splits And its Average is:\", cv4.mean())"
   ]
  },
  {
   "cell_type": "markdown",
   "id": "37bd6a8a",
   "metadata": {},
   "source": [
    "As all the Cross Validation Average Scores are between 95% to 100%, we are saving this best Machine Learning Model by the Pickle method."
   ]
  },
  {
   "cell_type": "code",
   "execution_count": 129,
   "id": "379a993b",
   "metadata": {},
   "outputs": [],
   "source": [
    "pickle.dump(lr, open('my_glass_model', 'wb'))"
   ]
  },
  {
   "cell_type": "code",
   "execution_count": 130,
   "id": "800573e1",
   "metadata": {},
   "outputs": [],
   "source": [
    "lr_model=pickle.load(open('my_glass_model', 'rb'))"
   ]
  },
  {
   "cell_type": "code",
   "execution_count": 131,
   "id": "74eda658",
   "metadata": {},
   "outputs": [],
   "source": [
    "model_pred_y=lr_model.predict(xtest)"
   ]
  },
  {
   "cell_type": "code",
   "execution_count": 132,
   "id": "cf6f103f",
   "metadata": {},
   "outputs": [
    {
     "data": {
      "text/plain": [
       "array([1, 7, 1, 2, 1, 2, 1, 1, 7, 1, 7, 1, 1, 2, 1, 1, 1, 5, 2, 7, 1, 1,\n",
       "       1, 1, 1, 7, 6, 1, 1, 2, 2, 2, 1, 2, 2, 7, 1, 2, 1, 7, 2, 2, 6, 1,\n",
       "       2, 3, 5, 7, 2, 2, 1], dtype=int64)"
      ]
     },
     "execution_count": 132,
     "metadata": {},
     "output_type": "execute_result"
    }
   ],
   "source": [
    "model_pred_y"
   ]
  },
  {
   "cell_type": "code",
   "execution_count": 133,
   "id": "9bda000a",
   "metadata": {},
   "outputs": [
    {
     "data": {
      "text/plain": [
       "1.0"
      ]
     },
     "execution_count": 133,
     "metadata": {},
     "output_type": "execute_result"
    }
   ],
   "source": [
    "accuracy_score(ytest,model_pred_y)"
   ]
  },
  {
   "cell_type": "markdown",
   "id": "0ff42a40",
   "metadata": {},
   "source": [
    "After saving our best ML Model, now are checking the same with Hyper Parameter Tunning via Grid Search Cross Validation method below"
   ]
  },
  {
   "cell_type": "code",
   "execution_count": 134,
   "id": "d77322e5",
   "metadata": {},
   "outputs": [],
   "source": [
    "gs=GridSearchCV(estimator=lr,param_grid={'penalty':['l1','l2'],'C':[0.001,0.01,0.1]},scoring='accuracy',cv=10,refit=True,return_train_score=True)"
   ]
  },
  {
   "cell_type": "code",
   "execution_count": 135,
   "id": "b3202816",
   "metadata": {},
   "outputs": [
    {
     "data": {
      "text/plain": [
       "GridSearchCV(cv=10, estimator=LogisticRegression(),\n",
       "             param_grid={'C': [0.001, 0.01, 0.1], 'penalty': ['l1', 'l2']},\n",
       "             return_train_score=True, scoring='accuracy')"
      ]
     },
     "execution_count": 135,
     "metadata": {},
     "output_type": "execute_result"
    }
   ],
   "source": [
    "gs.fit(xtrain,ytrain)"
   ]
  },
  {
   "cell_type": "code",
   "execution_count": 136,
   "id": "decca164",
   "metadata": {},
   "outputs": [],
   "source": [
    "HyPred=gs.best_estimator_.predict(xtest)"
   ]
  },
  {
   "cell_type": "code",
   "execution_count": 137,
   "id": "e33ece6f",
   "metadata": {},
   "outputs": [
    {
     "data": {
      "text/plain": [
       "array([1, 7, 1, 2, 1, 2, 1, 1, 7, 1, 7, 1, 1, 2, 1, 1, 1, 5, 2, 7, 1, 1,\n",
       "       1, 1, 1, 7, 6, 1, 1, 2, 2, 2, 1, 2, 2, 7, 1, 2, 1, 7, 2, 2, 6, 1,\n",
       "       2, 3, 5, 7, 2, 2, 1], dtype=int64)"
      ]
     },
     "execution_count": 137,
     "metadata": {},
     "output_type": "execute_result"
    }
   ],
   "source": [
    "HyPred"
   ]
  },
  {
   "cell_type": "code",
   "execution_count": 138,
   "id": "c5b1a175",
   "metadata": {},
   "outputs": [
    {
     "data": {
      "text/plain": [
       "1.0"
      ]
     },
     "execution_count": 138,
     "metadata": {},
     "output_type": "execute_result"
    }
   ],
   "source": [
    "accuracy_score(HyPred,ytest)"
   ]
  },
  {
   "cell_type": "markdown",
   "id": "528dd973",
   "metadata": {},
   "source": [
    "With Hyper Parameter Tunning also, we got the best 100% accurate predicted results by our saved Machine Learning Model."
   ]
  }
 ],
 "metadata": {
  "kernelspec": {
   "display_name": "Python 3 (ipykernel)",
   "language": "python",
   "name": "python3"
  },
  "language_info": {
   "codemirror_mode": {
    "name": "ipython",
    "version": 3
   },
   "file_extension": ".py",
   "mimetype": "text/x-python",
   "name": "python",
   "nbconvert_exporter": "python",
   "pygments_lexer": "ipython3",
   "version": "3.9.13"
  }
 },
 "nbformat": 4,
 "nbformat_minor": 5
}
