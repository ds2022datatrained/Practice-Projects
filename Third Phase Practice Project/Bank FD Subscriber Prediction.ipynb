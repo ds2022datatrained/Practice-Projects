{
 "cells": [
  {
   "cell_type": "code",
   "execution_count": 1,
   "id": "6a9bf1fd",
   "metadata": {},
   "outputs": [],
   "source": [
    "import pandas as pd\n",
    "import numpy as np\n",
    "import sklearn\n",
    "from sklearn.preprocessing import LabelEncoder\n",
    "import matplotlib.pyplot as plt\n",
    "import seaborn as sns\n",
    "import warnings\n",
    "warnings.filterwarnings('ignore')\n",
    "from scipy.stats import boxcox\n",
    "from scipy.stats import zscore\n",
    "from sklearn.linear_model import LogisticRegression\n",
    "from sklearn.tree import DecisionTreeClassifier\n",
    "from sklearn.naive_bayes import GaussianNB\n",
    "from sklearn.naive_bayes import BernoulliNB\n",
    "from sklearn.ensemble import RandomForestClassifier\n",
    "from sklearn.neighbors import KNeighborsClassifier\n",
    "from sklearn.linear_model import SGDClassifier\n",
    "from sklearn.linear_model import RidgeClassifier\n",
    "from sklearn.metrics import accuracy_score, confusion_matrix, classification_report\n",
    "from sklearn.model_selection import train_test_split\n",
    "from sklearn.model_selection import KFold\n",
    "from sklearn.model_selection import StratifiedKFold\n",
    "from sklearn.model_selection import ShuffleSplit\n",
    "from sklearn.model_selection import cross_val_score\n",
    "import pickle\n",
    "from sklearn.model_selection import GridSearchCV"
   ]
  },
  {
   "cell_type": "markdown",
   "id": "9e192105",
   "metadata": {},
   "source": [
    "First we are importing and making the data frame of our training dataset from github raw data"
   ]
  },
  {
   "cell_type": "code",
   "execution_count": 2,
   "id": "0ba1d3fc",
   "metadata": {},
   "outputs": [],
   "source": [
    "df1=pd.read_csv(\"https://raw.githubusercontent.com/dsrscientist/dataset5/main/termdeposit_train.csv\")"
   ]
  },
  {
   "cell_type": "code",
   "execution_count": 3,
   "id": "8f6ec54e",
   "metadata": {},
   "outputs": [
    {
     "data": {
      "text/html": [
       "<div>\n",
       "<style scoped>\n",
       "    .dataframe tbody tr th:only-of-type {\n",
       "        vertical-align: middle;\n",
       "    }\n",
       "\n",
       "    .dataframe tbody tr th {\n",
       "        vertical-align: top;\n",
       "    }\n",
       "\n",
       "    .dataframe thead th {\n",
       "        text-align: right;\n",
       "    }\n",
       "</style>\n",
       "<table border=\"1\" class=\"dataframe\">\n",
       "  <thead>\n",
       "    <tr style=\"text-align: right;\">\n",
       "      <th></th>\n",
       "      <th>ID</th>\n",
       "      <th>age</th>\n",
       "      <th>job</th>\n",
       "      <th>marital</th>\n",
       "      <th>education</th>\n",
       "      <th>default</th>\n",
       "      <th>balance</th>\n",
       "      <th>housing</th>\n",
       "      <th>loan</th>\n",
       "      <th>contact</th>\n",
       "      <th>day</th>\n",
       "      <th>month</th>\n",
       "      <th>duration</th>\n",
       "      <th>campaign</th>\n",
       "      <th>pdays</th>\n",
       "      <th>previous</th>\n",
       "      <th>poutcome</th>\n",
       "      <th>subscribed</th>\n",
       "    </tr>\n",
       "  </thead>\n",
       "  <tbody>\n",
       "    <tr>\n",
       "      <th>0</th>\n",
       "      <td>26110</td>\n",
       "      <td>56</td>\n",
       "      <td>admin.</td>\n",
       "      <td>married</td>\n",
       "      <td>unknown</td>\n",
       "      <td>no</td>\n",
       "      <td>1933</td>\n",
       "      <td>no</td>\n",
       "      <td>no</td>\n",
       "      <td>telephone</td>\n",
       "      <td>19</td>\n",
       "      <td>nov</td>\n",
       "      <td>44</td>\n",
       "      <td>2</td>\n",
       "      <td>-1</td>\n",
       "      <td>0</td>\n",
       "      <td>unknown</td>\n",
       "      <td>no</td>\n",
       "    </tr>\n",
       "    <tr>\n",
       "      <th>1</th>\n",
       "      <td>40576</td>\n",
       "      <td>31</td>\n",
       "      <td>unknown</td>\n",
       "      <td>married</td>\n",
       "      <td>secondary</td>\n",
       "      <td>no</td>\n",
       "      <td>3</td>\n",
       "      <td>no</td>\n",
       "      <td>no</td>\n",
       "      <td>cellular</td>\n",
       "      <td>20</td>\n",
       "      <td>jul</td>\n",
       "      <td>91</td>\n",
       "      <td>2</td>\n",
       "      <td>-1</td>\n",
       "      <td>0</td>\n",
       "      <td>unknown</td>\n",
       "      <td>no</td>\n",
       "    </tr>\n",
       "    <tr>\n",
       "      <th>2</th>\n",
       "      <td>15320</td>\n",
       "      <td>27</td>\n",
       "      <td>services</td>\n",
       "      <td>married</td>\n",
       "      <td>secondary</td>\n",
       "      <td>no</td>\n",
       "      <td>891</td>\n",
       "      <td>yes</td>\n",
       "      <td>no</td>\n",
       "      <td>cellular</td>\n",
       "      <td>18</td>\n",
       "      <td>jul</td>\n",
       "      <td>240</td>\n",
       "      <td>1</td>\n",
       "      <td>-1</td>\n",
       "      <td>0</td>\n",
       "      <td>unknown</td>\n",
       "      <td>no</td>\n",
       "    </tr>\n",
       "    <tr>\n",
       "      <th>3</th>\n",
       "      <td>43962</td>\n",
       "      <td>57</td>\n",
       "      <td>management</td>\n",
       "      <td>divorced</td>\n",
       "      <td>tertiary</td>\n",
       "      <td>no</td>\n",
       "      <td>3287</td>\n",
       "      <td>no</td>\n",
       "      <td>no</td>\n",
       "      <td>cellular</td>\n",
       "      <td>22</td>\n",
       "      <td>jun</td>\n",
       "      <td>867</td>\n",
       "      <td>1</td>\n",
       "      <td>84</td>\n",
       "      <td>3</td>\n",
       "      <td>success</td>\n",
       "      <td>yes</td>\n",
       "    </tr>\n",
       "    <tr>\n",
       "      <th>4</th>\n",
       "      <td>29842</td>\n",
       "      <td>31</td>\n",
       "      <td>technician</td>\n",
       "      <td>married</td>\n",
       "      <td>secondary</td>\n",
       "      <td>no</td>\n",
       "      <td>119</td>\n",
       "      <td>yes</td>\n",
       "      <td>no</td>\n",
       "      <td>cellular</td>\n",
       "      <td>4</td>\n",
       "      <td>feb</td>\n",
       "      <td>380</td>\n",
       "      <td>1</td>\n",
       "      <td>-1</td>\n",
       "      <td>0</td>\n",
       "      <td>unknown</td>\n",
       "      <td>no</td>\n",
       "    </tr>\n",
       "    <tr>\n",
       "      <th>...</th>\n",
       "      <td>...</td>\n",
       "      <td>...</td>\n",
       "      <td>...</td>\n",
       "      <td>...</td>\n",
       "      <td>...</td>\n",
       "      <td>...</td>\n",
       "      <td>...</td>\n",
       "      <td>...</td>\n",
       "      <td>...</td>\n",
       "      <td>...</td>\n",
       "      <td>...</td>\n",
       "      <td>...</td>\n",
       "      <td>...</td>\n",
       "      <td>...</td>\n",
       "      <td>...</td>\n",
       "      <td>...</td>\n",
       "      <td>...</td>\n",
       "      <td>...</td>\n",
       "    </tr>\n",
       "    <tr>\n",
       "      <th>31642</th>\n",
       "      <td>36483</td>\n",
       "      <td>29</td>\n",
       "      <td>management</td>\n",
       "      <td>single</td>\n",
       "      <td>tertiary</td>\n",
       "      <td>no</td>\n",
       "      <td>0</td>\n",
       "      <td>yes</td>\n",
       "      <td>no</td>\n",
       "      <td>cellular</td>\n",
       "      <td>12</td>\n",
       "      <td>may</td>\n",
       "      <td>116</td>\n",
       "      <td>2</td>\n",
       "      <td>-1</td>\n",
       "      <td>0</td>\n",
       "      <td>unknown</td>\n",
       "      <td>no</td>\n",
       "    </tr>\n",
       "    <tr>\n",
       "      <th>31643</th>\n",
       "      <td>40178</td>\n",
       "      <td>53</td>\n",
       "      <td>management</td>\n",
       "      <td>divorced</td>\n",
       "      <td>tertiary</td>\n",
       "      <td>no</td>\n",
       "      <td>380</td>\n",
       "      <td>no</td>\n",
       "      <td>yes</td>\n",
       "      <td>cellular</td>\n",
       "      <td>5</td>\n",
       "      <td>jun</td>\n",
       "      <td>438</td>\n",
       "      <td>2</td>\n",
       "      <td>-1</td>\n",
       "      <td>0</td>\n",
       "      <td>unknown</td>\n",
       "      <td>yes</td>\n",
       "    </tr>\n",
       "    <tr>\n",
       "      <th>31644</th>\n",
       "      <td>19710</td>\n",
       "      <td>32</td>\n",
       "      <td>management</td>\n",
       "      <td>single</td>\n",
       "      <td>tertiary</td>\n",
       "      <td>no</td>\n",
       "      <td>312</td>\n",
       "      <td>no</td>\n",
       "      <td>no</td>\n",
       "      <td>cellular</td>\n",
       "      <td>7</td>\n",
       "      <td>aug</td>\n",
       "      <td>37</td>\n",
       "      <td>3</td>\n",
       "      <td>-1</td>\n",
       "      <td>0</td>\n",
       "      <td>unknown</td>\n",
       "      <td>no</td>\n",
       "    </tr>\n",
       "    <tr>\n",
       "      <th>31645</th>\n",
       "      <td>38556</td>\n",
       "      <td>57</td>\n",
       "      <td>technician</td>\n",
       "      <td>married</td>\n",
       "      <td>secondary</td>\n",
       "      <td>no</td>\n",
       "      <td>225</td>\n",
       "      <td>yes</td>\n",
       "      <td>no</td>\n",
       "      <td>telephone</td>\n",
       "      <td>15</td>\n",
       "      <td>may</td>\n",
       "      <td>22</td>\n",
       "      <td>7</td>\n",
       "      <td>337</td>\n",
       "      <td>12</td>\n",
       "      <td>failure</td>\n",
       "      <td>no</td>\n",
       "    </tr>\n",
       "    <tr>\n",
       "      <th>31646</th>\n",
       "      <td>14156</td>\n",
       "      <td>55</td>\n",
       "      <td>management</td>\n",
       "      <td>divorced</td>\n",
       "      <td>secondary</td>\n",
       "      <td>no</td>\n",
       "      <td>204</td>\n",
       "      <td>yes</td>\n",
       "      <td>no</td>\n",
       "      <td>cellular</td>\n",
       "      <td>11</td>\n",
       "      <td>jul</td>\n",
       "      <td>1973</td>\n",
       "      <td>2</td>\n",
       "      <td>-1</td>\n",
       "      <td>0</td>\n",
       "      <td>unknown</td>\n",
       "      <td>yes</td>\n",
       "    </tr>\n",
       "  </tbody>\n",
       "</table>\n",
       "<p>31647 rows × 18 columns</p>\n",
       "</div>"
      ],
      "text/plain": [
       "          ID  age         job   marital  education default  balance housing  \\\n",
       "0      26110   56      admin.   married    unknown      no     1933      no   \n",
       "1      40576   31     unknown   married  secondary      no        3      no   \n",
       "2      15320   27    services   married  secondary      no      891     yes   \n",
       "3      43962   57  management  divorced   tertiary      no     3287      no   \n",
       "4      29842   31  technician   married  secondary      no      119     yes   \n",
       "...      ...  ...         ...       ...        ...     ...      ...     ...   \n",
       "31642  36483   29  management    single   tertiary      no        0     yes   \n",
       "31643  40178   53  management  divorced   tertiary      no      380      no   \n",
       "31644  19710   32  management    single   tertiary      no      312      no   \n",
       "31645  38556   57  technician   married  secondary      no      225     yes   \n",
       "31646  14156   55  management  divorced  secondary      no      204     yes   \n",
       "\n",
       "      loan    contact  day month  duration  campaign  pdays  previous  \\\n",
       "0       no  telephone   19   nov        44         2     -1         0   \n",
       "1       no   cellular   20   jul        91         2     -1         0   \n",
       "2       no   cellular   18   jul       240         1     -1         0   \n",
       "3       no   cellular   22   jun       867         1     84         3   \n",
       "4       no   cellular    4   feb       380         1     -1         0   \n",
       "...    ...        ...  ...   ...       ...       ...    ...       ...   \n",
       "31642   no   cellular   12   may       116         2     -1         0   \n",
       "31643  yes   cellular    5   jun       438         2     -1         0   \n",
       "31644   no   cellular    7   aug        37         3     -1         0   \n",
       "31645   no  telephone   15   may        22         7    337        12   \n",
       "31646   no   cellular   11   jul      1973         2     -1         0   \n",
       "\n",
       "      poutcome subscribed  \n",
       "0      unknown         no  \n",
       "1      unknown         no  \n",
       "2      unknown         no  \n",
       "3      success        yes  \n",
       "4      unknown         no  \n",
       "...        ...        ...  \n",
       "31642  unknown         no  \n",
       "31643  unknown        yes  \n",
       "31644  unknown         no  \n",
       "31645  failure         no  \n",
       "31646  unknown        yes  \n",
       "\n",
       "[31647 rows x 18 columns]"
      ]
     },
     "execution_count": 3,
     "metadata": {},
     "output_type": "execute_result"
    }
   ],
   "source": [
    "df1"
   ]
  },
  {
   "cell_type": "markdown",
   "id": "c4d45737",
   "metadata": {},
   "source": [
    "So our training dataset is having 31647 rows with 18 columns, including target variable"
   ]
  },
  {
   "cell_type": "markdown",
   "id": "6e487c5c",
   "metadata": {},
   "source": [
    "Now we are importing our testing dataset from github raw data and making the data frame of the same"
   ]
  },
  {
   "cell_type": "code",
   "execution_count": 4,
   "id": "34817748",
   "metadata": {},
   "outputs": [],
   "source": [
    "df2=pd.read_csv(\"https://raw.githubusercontent.com/dsrscientist/dataset5/main/termdeposit_test.csv\")"
   ]
  },
  {
   "cell_type": "code",
   "execution_count": 5,
   "id": "0fedeac7",
   "metadata": {},
   "outputs": [
    {
     "data": {
      "text/html": [
       "<div>\n",
       "<style scoped>\n",
       "    .dataframe tbody tr th:only-of-type {\n",
       "        vertical-align: middle;\n",
       "    }\n",
       "\n",
       "    .dataframe tbody tr th {\n",
       "        vertical-align: top;\n",
       "    }\n",
       "\n",
       "    .dataframe thead th {\n",
       "        text-align: right;\n",
       "    }\n",
       "</style>\n",
       "<table border=\"1\" class=\"dataframe\">\n",
       "  <thead>\n",
       "    <tr style=\"text-align: right;\">\n",
       "      <th></th>\n",
       "      <th>ID</th>\n",
       "      <th>age</th>\n",
       "      <th>job</th>\n",
       "      <th>marital</th>\n",
       "      <th>education</th>\n",
       "      <th>default</th>\n",
       "      <th>balance</th>\n",
       "      <th>housing</th>\n",
       "      <th>loan</th>\n",
       "      <th>contact</th>\n",
       "      <th>day</th>\n",
       "      <th>month</th>\n",
       "      <th>duration</th>\n",
       "      <th>campaign</th>\n",
       "      <th>pdays</th>\n",
       "      <th>previous</th>\n",
       "      <th>poutcome</th>\n",
       "    </tr>\n",
       "  </thead>\n",
       "  <tbody>\n",
       "    <tr>\n",
       "      <th>0</th>\n",
       "      <td>38441</td>\n",
       "      <td>32</td>\n",
       "      <td>services</td>\n",
       "      <td>married</td>\n",
       "      <td>secondary</td>\n",
       "      <td>no</td>\n",
       "      <td>118</td>\n",
       "      <td>yes</td>\n",
       "      <td>no</td>\n",
       "      <td>cellular</td>\n",
       "      <td>15</td>\n",
       "      <td>may</td>\n",
       "      <td>20</td>\n",
       "      <td>6</td>\n",
       "      <td>-1</td>\n",
       "      <td>0</td>\n",
       "      <td>unknown</td>\n",
       "    </tr>\n",
       "    <tr>\n",
       "      <th>1</th>\n",
       "      <td>40403</td>\n",
       "      <td>78</td>\n",
       "      <td>retired</td>\n",
       "      <td>divorced</td>\n",
       "      <td>primary</td>\n",
       "      <td>no</td>\n",
       "      <td>2787</td>\n",
       "      <td>no</td>\n",
       "      <td>no</td>\n",
       "      <td>telephone</td>\n",
       "      <td>1</td>\n",
       "      <td>jul</td>\n",
       "      <td>372</td>\n",
       "      <td>1</td>\n",
       "      <td>-1</td>\n",
       "      <td>0</td>\n",
       "      <td>unknown</td>\n",
       "    </tr>\n",
       "    <tr>\n",
       "      <th>2</th>\n",
       "      <td>3709</td>\n",
       "      <td>31</td>\n",
       "      <td>self-employed</td>\n",
       "      <td>single</td>\n",
       "      <td>tertiary</td>\n",
       "      <td>no</td>\n",
       "      <td>144</td>\n",
       "      <td>yes</td>\n",
       "      <td>no</td>\n",
       "      <td>unknown</td>\n",
       "      <td>16</td>\n",
       "      <td>may</td>\n",
       "      <td>676</td>\n",
       "      <td>1</td>\n",
       "      <td>-1</td>\n",
       "      <td>0</td>\n",
       "      <td>unknown</td>\n",
       "    </tr>\n",
       "    <tr>\n",
       "      <th>3</th>\n",
       "      <td>37422</td>\n",
       "      <td>57</td>\n",
       "      <td>services</td>\n",
       "      <td>single</td>\n",
       "      <td>primary</td>\n",
       "      <td>no</td>\n",
       "      <td>3777</td>\n",
       "      <td>yes</td>\n",
       "      <td>no</td>\n",
       "      <td>telephone</td>\n",
       "      <td>13</td>\n",
       "      <td>may</td>\n",
       "      <td>65</td>\n",
       "      <td>2</td>\n",
       "      <td>-1</td>\n",
       "      <td>0</td>\n",
       "      <td>unknown</td>\n",
       "    </tr>\n",
       "    <tr>\n",
       "      <th>4</th>\n",
       "      <td>12527</td>\n",
       "      <td>45</td>\n",
       "      <td>blue-collar</td>\n",
       "      <td>divorced</td>\n",
       "      <td>secondary</td>\n",
       "      <td>no</td>\n",
       "      <td>-705</td>\n",
       "      <td>no</td>\n",
       "      <td>yes</td>\n",
       "      <td>unknown</td>\n",
       "      <td>3</td>\n",
       "      <td>jul</td>\n",
       "      <td>111</td>\n",
       "      <td>1</td>\n",
       "      <td>-1</td>\n",
       "      <td>0</td>\n",
       "      <td>unknown</td>\n",
       "    </tr>\n",
       "    <tr>\n",
       "      <th>...</th>\n",
       "      <td>...</td>\n",
       "      <td>...</td>\n",
       "      <td>...</td>\n",
       "      <td>...</td>\n",
       "      <td>...</td>\n",
       "      <td>...</td>\n",
       "      <td>...</td>\n",
       "      <td>...</td>\n",
       "      <td>...</td>\n",
       "      <td>...</td>\n",
       "      <td>...</td>\n",
       "      <td>...</td>\n",
       "      <td>...</td>\n",
       "      <td>...</td>\n",
       "      <td>...</td>\n",
       "      <td>...</td>\n",
       "      <td>...</td>\n",
       "    </tr>\n",
       "    <tr>\n",
       "      <th>13559</th>\n",
       "      <td>23465</td>\n",
       "      <td>39</td>\n",
       "      <td>management</td>\n",
       "      <td>married</td>\n",
       "      <td>tertiary</td>\n",
       "      <td>no</td>\n",
       "      <td>45</td>\n",
       "      <td>no</td>\n",
       "      <td>no</td>\n",
       "      <td>cellular</td>\n",
       "      <td>28</td>\n",
       "      <td>aug</td>\n",
       "      <td>148</td>\n",
       "      <td>4</td>\n",
       "      <td>-1</td>\n",
       "      <td>0</td>\n",
       "      <td>unknown</td>\n",
       "    </tr>\n",
       "    <tr>\n",
       "      <th>13560</th>\n",
       "      <td>11743</td>\n",
       "      <td>54</td>\n",
       "      <td>blue-collar</td>\n",
       "      <td>married</td>\n",
       "      <td>primary</td>\n",
       "      <td>no</td>\n",
       "      <td>2281</td>\n",
       "      <td>yes</td>\n",
       "      <td>no</td>\n",
       "      <td>unknown</td>\n",
       "      <td>20</td>\n",
       "      <td>jun</td>\n",
       "      <td>158</td>\n",
       "      <td>1</td>\n",
       "      <td>-1</td>\n",
       "      <td>0</td>\n",
       "      <td>unknown</td>\n",
       "    </tr>\n",
       "    <tr>\n",
       "      <th>13561</th>\n",
       "      <td>28292</td>\n",
       "      <td>35</td>\n",
       "      <td>retired</td>\n",
       "      <td>married</td>\n",
       "      <td>primary</td>\n",
       "      <td>no</td>\n",
       "      <td>285</td>\n",
       "      <td>yes</td>\n",
       "      <td>no</td>\n",
       "      <td>cellular</td>\n",
       "      <td>29</td>\n",
       "      <td>jan</td>\n",
       "      <td>136</td>\n",
       "      <td>1</td>\n",
       "      <td>-1</td>\n",
       "      <td>0</td>\n",
       "      <td>unknown</td>\n",
       "    </tr>\n",
       "    <tr>\n",
       "      <th>13562</th>\n",
       "      <td>45163</td>\n",
       "      <td>29</td>\n",
       "      <td>admin.</td>\n",
       "      <td>single</td>\n",
       "      <td>secondary</td>\n",
       "      <td>no</td>\n",
       "      <td>464</td>\n",
       "      <td>no</td>\n",
       "      <td>no</td>\n",
       "      <td>cellular</td>\n",
       "      <td>9</td>\n",
       "      <td>nov</td>\n",
       "      <td>208</td>\n",
       "      <td>2</td>\n",
       "      <td>91</td>\n",
       "      <td>3</td>\n",
       "      <td>success</td>\n",
       "    </tr>\n",
       "    <tr>\n",
       "      <th>13563</th>\n",
       "      <td>34839</td>\n",
       "      <td>29</td>\n",
       "      <td>admin.</td>\n",
       "      <td>married</td>\n",
       "      <td>secondary</td>\n",
       "      <td>no</td>\n",
       "      <td>2</td>\n",
       "      <td>yes</td>\n",
       "      <td>no</td>\n",
       "      <td>cellular</td>\n",
       "      <td>6</td>\n",
       "      <td>may</td>\n",
       "      <td>339</td>\n",
       "      <td>1</td>\n",
       "      <td>362</td>\n",
       "      <td>1</td>\n",
       "      <td>failure</td>\n",
       "    </tr>\n",
       "  </tbody>\n",
       "</table>\n",
       "<p>13564 rows × 17 columns</p>\n",
       "</div>"
      ],
      "text/plain": [
       "          ID  age            job   marital  education default  balance  \\\n",
       "0      38441   32       services   married  secondary      no      118   \n",
       "1      40403   78        retired  divorced    primary      no     2787   \n",
       "2       3709   31  self-employed    single   tertiary      no      144   \n",
       "3      37422   57       services    single    primary      no     3777   \n",
       "4      12527   45    blue-collar  divorced  secondary      no     -705   \n",
       "...      ...  ...            ...       ...        ...     ...      ...   \n",
       "13559  23465   39     management   married   tertiary      no       45   \n",
       "13560  11743   54    blue-collar   married    primary      no     2281   \n",
       "13561  28292   35        retired   married    primary      no      285   \n",
       "13562  45163   29         admin.    single  secondary      no      464   \n",
       "13563  34839   29         admin.   married  secondary      no        2   \n",
       "\n",
       "      housing loan    contact  day month  duration  campaign  pdays  previous  \\\n",
       "0         yes   no   cellular   15   may        20         6     -1         0   \n",
       "1          no   no  telephone    1   jul       372         1     -1         0   \n",
       "2         yes   no    unknown   16   may       676         1     -1         0   \n",
       "3         yes   no  telephone   13   may        65         2     -1         0   \n",
       "4          no  yes    unknown    3   jul       111         1     -1         0   \n",
       "...       ...  ...        ...  ...   ...       ...       ...    ...       ...   \n",
       "13559      no   no   cellular   28   aug       148         4     -1         0   \n",
       "13560     yes   no    unknown   20   jun       158         1     -1         0   \n",
       "13561     yes   no   cellular   29   jan       136         1     -1         0   \n",
       "13562      no   no   cellular    9   nov       208         2     91         3   \n",
       "13563     yes   no   cellular    6   may       339         1    362         1   \n",
       "\n",
       "      poutcome  \n",
       "0      unknown  \n",
       "1      unknown  \n",
       "2      unknown  \n",
       "3      unknown  \n",
       "4      unknown  \n",
       "...        ...  \n",
       "13559  unknown  \n",
       "13560  unknown  \n",
       "13561  unknown  \n",
       "13562  success  \n",
       "13563  failure  \n",
       "\n",
       "[13564 rows x 17 columns]"
      ]
     },
     "execution_count": 5,
     "metadata": {},
     "output_type": "execute_result"
    }
   ],
   "source": [
    "df2"
   ]
  },
  {
   "cell_type": "markdown",
   "id": "921dfdab",
   "metadata": {},
   "source": [
    "So our testing dataset is having 13564 rows & 17 columns, without target variable"
   ]
  },
  {
   "cell_type": "code",
   "execution_count": 6,
   "id": "9fa2fe0d",
   "metadata": {},
   "outputs": [
    {
     "data": {
      "text/plain": [
       "ID            0\n",
       "age           0\n",
       "job           0\n",
       "marital       0\n",
       "education     0\n",
       "default       0\n",
       "balance       0\n",
       "housing       0\n",
       "loan          0\n",
       "contact       0\n",
       "day           0\n",
       "month         0\n",
       "duration      0\n",
       "campaign      0\n",
       "pdays         0\n",
       "previous      0\n",
       "poutcome      0\n",
       "subscribed    0\n",
       "dtype: int64"
      ]
     },
     "execution_count": 6,
     "metadata": {},
     "output_type": "execute_result"
    }
   ],
   "source": [
    "df1.isnull().sum()"
   ]
  },
  {
   "cell_type": "code",
   "execution_count": 7,
   "id": "27de8056",
   "metadata": {},
   "outputs": [
    {
     "data": {
      "text/plain": [
       "ID           0\n",
       "age          0\n",
       "job          0\n",
       "marital      0\n",
       "education    0\n",
       "default      0\n",
       "balance      0\n",
       "housing      0\n",
       "loan         0\n",
       "contact      0\n",
       "day          0\n",
       "month        0\n",
       "duration     0\n",
       "campaign     0\n",
       "pdays        0\n",
       "previous     0\n",
       "poutcome     0\n",
       "dtype: int64"
      ]
     },
     "execution_count": 7,
     "metadata": {},
     "output_type": "execute_result"
    }
   ],
   "source": [
    "df2.isnull().sum()"
   ]
  },
  {
   "cell_type": "markdown",
   "id": "4f832269",
   "metadata": {},
   "source": [
    "The good thing is that, there are no Missing Values in both the df1 & df2 datasets of traing & testing respectively"
   ]
  },
  {
   "cell_type": "code",
   "execution_count": 8,
   "id": "dd281898",
   "metadata": {},
   "outputs": [
    {
     "data": {
      "text/plain": [
       "ID             int64\n",
       "age            int64\n",
       "job           object\n",
       "marital       object\n",
       "education     object\n",
       "default       object\n",
       "balance        int64\n",
       "housing       object\n",
       "loan          object\n",
       "contact       object\n",
       "day            int64\n",
       "month         object\n",
       "duration       int64\n",
       "campaign       int64\n",
       "pdays          int64\n",
       "previous       int64\n",
       "poutcome      object\n",
       "subscribed    object\n",
       "dtype: object"
      ]
     },
     "execution_count": 8,
     "metadata": {},
     "output_type": "execute_result"
    }
   ],
   "source": [
    "df1.dtypes"
   ]
  },
  {
   "cell_type": "code",
   "execution_count": 9,
   "id": "7de70a70",
   "metadata": {},
   "outputs": [
    {
     "data": {
      "text/plain": [
       "ID            int64\n",
       "age           int64\n",
       "job          object\n",
       "marital      object\n",
       "education    object\n",
       "default      object\n",
       "balance       int64\n",
       "housing      object\n",
       "loan         object\n",
       "contact      object\n",
       "day           int64\n",
       "month        object\n",
       "duration      int64\n",
       "campaign      int64\n",
       "pdays         int64\n",
       "previous      int64\n",
       "poutcome     object\n",
       "dtype: object"
      ]
     },
     "execution_count": 9,
     "metadata": {},
     "output_type": "execute_result"
    }
   ],
   "source": [
    "df2.dtypes"
   ]
  },
  {
   "cell_type": "markdown",
   "id": "2119be8d",
   "metadata": {},
   "source": [
    "Both the dataset's features are either of integer data type or object data type. So we would have to convert these object data types to numeric type for further ML model making and predictions."
   ]
  },
  {
   "cell_type": "code",
   "execution_count": 10,
   "id": "a7c3fd34",
   "metadata": {},
   "outputs": [
    {
     "data": {
      "text/html": [
       "<div>\n",
       "<style scoped>\n",
       "    .dataframe tbody tr th:only-of-type {\n",
       "        vertical-align: middle;\n",
       "    }\n",
       "\n",
       "    .dataframe tbody tr th {\n",
       "        vertical-align: top;\n",
       "    }\n",
       "\n",
       "    .dataframe thead th {\n",
       "        text-align: right;\n",
       "    }\n",
       "</style>\n",
       "<table border=\"1\" class=\"dataframe\">\n",
       "  <thead>\n",
       "    <tr style=\"text-align: right;\">\n",
       "      <th></th>\n",
       "      <th>ID</th>\n",
       "      <th>age</th>\n",
       "      <th>job</th>\n",
       "      <th>marital</th>\n",
       "      <th>education</th>\n",
       "      <th>default</th>\n",
       "      <th>balance</th>\n",
       "      <th>housing</th>\n",
       "      <th>loan</th>\n",
       "      <th>contact</th>\n",
       "      <th>day</th>\n",
       "      <th>month</th>\n",
       "      <th>duration</th>\n",
       "      <th>campaign</th>\n",
       "      <th>pdays</th>\n",
       "      <th>previous</th>\n",
       "      <th>poutcome</th>\n",
       "      <th>subscribed</th>\n",
       "    </tr>\n",
       "  </thead>\n",
       "  <tbody>\n",
       "    <tr>\n",
       "      <th>14353</th>\n",
       "      <td>13500</td>\n",
       "      <td>35</td>\n",
       "      <td>management</td>\n",
       "      <td>married</td>\n",
       "      <td>tertiary</td>\n",
       "      <td>no</td>\n",
       "      <td>2682</td>\n",
       "      <td>yes</td>\n",
       "      <td>no</td>\n",
       "      <td>cellular</td>\n",
       "      <td>9</td>\n",
       "      <td>jul</td>\n",
       "      <td>156</td>\n",
       "      <td>1</td>\n",
       "      <td>-1</td>\n",
       "      <td>0</td>\n",
       "      <td>unknown</td>\n",
       "      <td>no</td>\n",
       "    </tr>\n",
       "  </tbody>\n",
       "</table>\n",
       "</div>"
      ],
      "text/plain": [
       "          ID  age         job  marital education default  balance housing  \\\n",
       "14353  13500   35  management  married  tertiary      no     2682     yes   \n",
       "\n",
       "      loan   contact  day month  duration  campaign  pdays  previous poutcome  \\\n",
       "14353   no  cellular    9   jul       156         1     -1         0  unknown   \n",
       "\n",
       "      subscribed  \n",
       "14353         no  "
      ]
     },
     "execution_count": 10,
     "metadata": {},
     "output_type": "execute_result"
    }
   ],
   "source": [
    "df1.sample()"
   ]
  },
  {
   "cell_type": "code",
   "execution_count": 11,
   "id": "5e87c7d6",
   "metadata": {},
   "outputs": [
    {
     "data": {
      "text/html": [
       "<div>\n",
       "<style scoped>\n",
       "    .dataframe tbody tr th:only-of-type {\n",
       "        vertical-align: middle;\n",
       "    }\n",
       "\n",
       "    .dataframe tbody tr th {\n",
       "        vertical-align: top;\n",
       "    }\n",
       "\n",
       "    .dataframe thead th {\n",
       "        text-align: right;\n",
       "    }\n",
       "</style>\n",
       "<table border=\"1\" class=\"dataframe\">\n",
       "  <thead>\n",
       "    <tr style=\"text-align: right;\">\n",
       "      <th></th>\n",
       "      <th>ID</th>\n",
       "      <th>age</th>\n",
       "      <th>job</th>\n",
       "      <th>marital</th>\n",
       "      <th>education</th>\n",
       "      <th>default</th>\n",
       "      <th>balance</th>\n",
       "      <th>housing</th>\n",
       "      <th>loan</th>\n",
       "      <th>contact</th>\n",
       "      <th>day</th>\n",
       "      <th>month</th>\n",
       "      <th>duration</th>\n",
       "      <th>campaign</th>\n",
       "      <th>pdays</th>\n",
       "      <th>previous</th>\n",
       "      <th>poutcome</th>\n",
       "    </tr>\n",
       "  </thead>\n",
       "  <tbody>\n",
       "    <tr>\n",
       "      <th>13502</th>\n",
       "      <td>33060</td>\n",
       "      <td>31</td>\n",
       "      <td>technician</td>\n",
       "      <td>single</td>\n",
       "      <td>secondary</td>\n",
       "      <td>no</td>\n",
       "      <td>538</td>\n",
       "      <td>yes</td>\n",
       "      <td>no</td>\n",
       "      <td>cellular</td>\n",
       "      <td>17</td>\n",
       "      <td>apr</td>\n",
       "      <td>660</td>\n",
       "      <td>3</td>\n",
       "      <td>-1</td>\n",
       "      <td>0</td>\n",
       "      <td>unknown</td>\n",
       "    </tr>\n",
       "  </tbody>\n",
       "</table>\n",
       "</div>"
      ],
      "text/plain": [
       "          ID  age         job marital  education default  balance housing  \\\n",
       "13502  33060   31  technician  single  secondary      no      538     yes   \n",
       "\n",
       "      loan   contact  day month  duration  campaign  pdays  previous poutcome  \n",
       "13502   no  cellular   17   apr       660         3     -1         0  unknown  "
      ]
     },
     "execution_count": 11,
     "metadata": {},
     "output_type": "execute_result"
    }
   ],
   "source": [
    "df2.sample()"
   ]
  },
  {
   "cell_type": "markdown",
   "id": "28bd28d5",
   "metadata": {},
   "source": [
    "By the above samples, we have observed that for the binary prediction (Yes/No) of the chances to subscribe for the Term Deposit or not, there are no need of Customer's ID variable, as it is not going to effect our target variable. So we are droping this first columns of ID from both the datasets."
   ]
  },
  {
   "cell_type": "code",
   "execution_count": 12,
   "id": "bf6346fd",
   "metadata": {},
   "outputs": [],
   "source": [
    "df1.drop(['ID'],axis=1,inplace=True)"
   ]
  },
  {
   "cell_type": "code",
   "execution_count": 13,
   "id": "1623653f",
   "metadata": {},
   "outputs": [],
   "source": [
    "df2.drop(['ID'],axis=1,inplace=True)"
   ]
  },
  {
   "cell_type": "code",
   "execution_count": 14,
   "id": "05870b02",
   "metadata": {},
   "outputs": [
    {
     "data": {
      "text/plain": [
       "Index(['age', 'job', 'marital', 'education', 'default', 'balance', 'housing',\n",
       "       'loan', 'contact', 'day', 'month', 'duration', 'campaign', 'pdays',\n",
       "       'previous', 'poutcome', 'subscribed'],\n",
       "      dtype='object')"
      ]
     },
     "execution_count": 14,
     "metadata": {},
     "output_type": "execute_result"
    }
   ],
   "source": [
    "df1.columns"
   ]
  },
  {
   "cell_type": "code",
   "execution_count": 15,
   "id": "9bca3210",
   "metadata": {},
   "outputs": [
    {
     "data": {
      "text/plain": [
       "Index(['age', 'job', 'marital', 'education', 'default', 'balance', 'housing',\n",
       "       'loan', 'contact', 'day', 'month', 'duration', 'campaign', 'pdays',\n",
       "       'previous', 'poutcome'],\n",
       "      dtype='object')"
      ]
     },
     "execution_count": 15,
     "metadata": {},
     "output_type": "execute_result"
    }
   ],
   "source": [
    "df2.columns"
   ]
  },
  {
   "cell_type": "code",
   "execution_count": 16,
   "id": "d48b08bd",
   "metadata": {},
   "outputs": [
    {
     "data": {
      "text/plain": [
       "age            int64\n",
       "job           object\n",
       "marital       object\n",
       "education     object\n",
       "default       object\n",
       "balance        int64\n",
       "housing       object\n",
       "loan          object\n",
       "contact       object\n",
       "day            int64\n",
       "month         object\n",
       "duration       int64\n",
       "campaign       int64\n",
       "pdays          int64\n",
       "previous       int64\n",
       "poutcome      object\n",
       "subscribed    object\n",
       "dtype: object"
      ]
     },
     "execution_count": 16,
     "metadata": {},
     "output_type": "execute_result"
    }
   ],
   "source": [
    "df1.dtypes"
   ]
  },
  {
   "cell_type": "markdown",
   "id": "452a77f7",
   "metadata": {},
   "source": [
    "Now we are going to do data preprocessing and model making works on our df1 traing dataset"
   ]
  },
  {
   "cell_type": "code",
   "execution_count": 17,
   "id": "eecc4c93",
   "metadata": {},
   "outputs": [
    {
     "data": {
      "text/plain": [
       "(31647, 17)"
      ]
     },
     "execution_count": 17,
     "metadata": {},
     "output_type": "execute_result"
    }
   ],
   "source": [
    "df1.shape"
   ]
  },
  {
   "cell_type": "markdown",
   "id": "5f77370e",
   "metadata": {},
   "source": [
    "First we are converting the object types to integer types via label encoder, using for loop"
   ]
  },
  {
   "cell_type": "code",
   "execution_count": 18,
   "id": "d194014c",
   "metadata": {},
   "outputs": [],
   "source": [
    "le=sklearn.preprocessing.LabelEncoder()"
   ]
  },
  {
   "cell_type": "code",
   "execution_count": 19,
   "id": "13c3ff22",
   "metadata": {},
   "outputs": [],
   "source": [
    "for c in df1.select_dtypes(include=\"object\").columns:\n",
    "    df1[c]=le.fit_transform(df1[c].astype(str))"
   ]
  },
  {
   "cell_type": "code",
   "execution_count": 20,
   "id": "446bc063",
   "metadata": {},
   "outputs": [
    {
     "data": {
      "text/html": [
       "<div>\n",
       "<style scoped>\n",
       "    .dataframe tbody tr th:only-of-type {\n",
       "        vertical-align: middle;\n",
       "    }\n",
       "\n",
       "    .dataframe tbody tr th {\n",
       "        vertical-align: top;\n",
       "    }\n",
       "\n",
       "    .dataframe thead th {\n",
       "        text-align: right;\n",
       "    }\n",
       "</style>\n",
       "<table border=\"1\" class=\"dataframe\">\n",
       "  <thead>\n",
       "    <tr style=\"text-align: right;\">\n",
       "      <th></th>\n",
       "      <th>age</th>\n",
       "      <th>job</th>\n",
       "      <th>marital</th>\n",
       "      <th>education</th>\n",
       "      <th>default</th>\n",
       "      <th>balance</th>\n",
       "      <th>housing</th>\n",
       "      <th>loan</th>\n",
       "      <th>contact</th>\n",
       "      <th>day</th>\n",
       "      <th>month</th>\n",
       "      <th>duration</th>\n",
       "      <th>campaign</th>\n",
       "      <th>pdays</th>\n",
       "      <th>previous</th>\n",
       "      <th>poutcome</th>\n",
       "      <th>subscribed</th>\n",
       "    </tr>\n",
       "  </thead>\n",
       "  <tbody>\n",
       "    <tr>\n",
       "      <th>0</th>\n",
       "      <td>56</td>\n",
       "      <td>0</td>\n",
       "      <td>1</td>\n",
       "      <td>3</td>\n",
       "      <td>0</td>\n",
       "      <td>1933</td>\n",
       "      <td>0</td>\n",
       "      <td>0</td>\n",
       "      <td>1</td>\n",
       "      <td>19</td>\n",
       "      <td>9</td>\n",
       "      <td>44</td>\n",
       "      <td>2</td>\n",
       "      <td>-1</td>\n",
       "      <td>0</td>\n",
       "      <td>3</td>\n",
       "      <td>0</td>\n",
       "    </tr>\n",
       "    <tr>\n",
       "      <th>1</th>\n",
       "      <td>31</td>\n",
       "      <td>11</td>\n",
       "      <td>1</td>\n",
       "      <td>1</td>\n",
       "      <td>0</td>\n",
       "      <td>3</td>\n",
       "      <td>0</td>\n",
       "      <td>0</td>\n",
       "      <td>0</td>\n",
       "      <td>20</td>\n",
       "      <td>5</td>\n",
       "      <td>91</td>\n",
       "      <td>2</td>\n",
       "      <td>-1</td>\n",
       "      <td>0</td>\n",
       "      <td>3</td>\n",
       "      <td>0</td>\n",
       "    </tr>\n",
       "    <tr>\n",
       "      <th>2</th>\n",
       "      <td>27</td>\n",
       "      <td>7</td>\n",
       "      <td>1</td>\n",
       "      <td>1</td>\n",
       "      <td>0</td>\n",
       "      <td>891</td>\n",
       "      <td>1</td>\n",
       "      <td>0</td>\n",
       "      <td>0</td>\n",
       "      <td>18</td>\n",
       "      <td>5</td>\n",
       "      <td>240</td>\n",
       "      <td>1</td>\n",
       "      <td>-1</td>\n",
       "      <td>0</td>\n",
       "      <td>3</td>\n",
       "      <td>0</td>\n",
       "    </tr>\n",
       "    <tr>\n",
       "      <th>3</th>\n",
       "      <td>57</td>\n",
       "      <td>4</td>\n",
       "      <td>0</td>\n",
       "      <td>2</td>\n",
       "      <td>0</td>\n",
       "      <td>3287</td>\n",
       "      <td>0</td>\n",
       "      <td>0</td>\n",
       "      <td>0</td>\n",
       "      <td>22</td>\n",
       "      <td>6</td>\n",
       "      <td>867</td>\n",
       "      <td>1</td>\n",
       "      <td>84</td>\n",
       "      <td>3</td>\n",
       "      <td>2</td>\n",
       "      <td>1</td>\n",
       "    </tr>\n",
       "    <tr>\n",
       "      <th>4</th>\n",
       "      <td>31</td>\n",
       "      <td>9</td>\n",
       "      <td>1</td>\n",
       "      <td>1</td>\n",
       "      <td>0</td>\n",
       "      <td>119</td>\n",
       "      <td>1</td>\n",
       "      <td>0</td>\n",
       "      <td>0</td>\n",
       "      <td>4</td>\n",
       "      <td>3</td>\n",
       "      <td>380</td>\n",
       "      <td>1</td>\n",
       "      <td>-1</td>\n",
       "      <td>0</td>\n",
       "      <td>3</td>\n",
       "      <td>0</td>\n",
       "    </tr>\n",
       "    <tr>\n",
       "      <th>...</th>\n",
       "      <td>...</td>\n",
       "      <td>...</td>\n",
       "      <td>...</td>\n",
       "      <td>...</td>\n",
       "      <td>...</td>\n",
       "      <td>...</td>\n",
       "      <td>...</td>\n",
       "      <td>...</td>\n",
       "      <td>...</td>\n",
       "      <td>...</td>\n",
       "      <td>...</td>\n",
       "      <td>...</td>\n",
       "      <td>...</td>\n",
       "      <td>...</td>\n",
       "      <td>...</td>\n",
       "      <td>...</td>\n",
       "      <td>...</td>\n",
       "    </tr>\n",
       "    <tr>\n",
       "      <th>31642</th>\n",
       "      <td>29</td>\n",
       "      <td>4</td>\n",
       "      <td>2</td>\n",
       "      <td>2</td>\n",
       "      <td>0</td>\n",
       "      <td>0</td>\n",
       "      <td>1</td>\n",
       "      <td>0</td>\n",
       "      <td>0</td>\n",
       "      <td>12</td>\n",
       "      <td>8</td>\n",
       "      <td>116</td>\n",
       "      <td>2</td>\n",
       "      <td>-1</td>\n",
       "      <td>0</td>\n",
       "      <td>3</td>\n",
       "      <td>0</td>\n",
       "    </tr>\n",
       "    <tr>\n",
       "      <th>31643</th>\n",
       "      <td>53</td>\n",
       "      <td>4</td>\n",
       "      <td>0</td>\n",
       "      <td>2</td>\n",
       "      <td>0</td>\n",
       "      <td>380</td>\n",
       "      <td>0</td>\n",
       "      <td>1</td>\n",
       "      <td>0</td>\n",
       "      <td>5</td>\n",
       "      <td>6</td>\n",
       "      <td>438</td>\n",
       "      <td>2</td>\n",
       "      <td>-1</td>\n",
       "      <td>0</td>\n",
       "      <td>3</td>\n",
       "      <td>1</td>\n",
       "    </tr>\n",
       "    <tr>\n",
       "      <th>31644</th>\n",
       "      <td>32</td>\n",
       "      <td>4</td>\n",
       "      <td>2</td>\n",
       "      <td>2</td>\n",
       "      <td>0</td>\n",
       "      <td>312</td>\n",
       "      <td>0</td>\n",
       "      <td>0</td>\n",
       "      <td>0</td>\n",
       "      <td>7</td>\n",
       "      <td>1</td>\n",
       "      <td>37</td>\n",
       "      <td>3</td>\n",
       "      <td>-1</td>\n",
       "      <td>0</td>\n",
       "      <td>3</td>\n",
       "      <td>0</td>\n",
       "    </tr>\n",
       "    <tr>\n",
       "      <th>31645</th>\n",
       "      <td>57</td>\n",
       "      <td>9</td>\n",
       "      <td>1</td>\n",
       "      <td>1</td>\n",
       "      <td>0</td>\n",
       "      <td>225</td>\n",
       "      <td>1</td>\n",
       "      <td>0</td>\n",
       "      <td>1</td>\n",
       "      <td>15</td>\n",
       "      <td>8</td>\n",
       "      <td>22</td>\n",
       "      <td>7</td>\n",
       "      <td>337</td>\n",
       "      <td>12</td>\n",
       "      <td>0</td>\n",
       "      <td>0</td>\n",
       "    </tr>\n",
       "    <tr>\n",
       "      <th>31646</th>\n",
       "      <td>55</td>\n",
       "      <td>4</td>\n",
       "      <td>0</td>\n",
       "      <td>1</td>\n",
       "      <td>0</td>\n",
       "      <td>204</td>\n",
       "      <td>1</td>\n",
       "      <td>0</td>\n",
       "      <td>0</td>\n",
       "      <td>11</td>\n",
       "      <td>5</td>\n",
       "      <td>1973</td>\n",
       "      <td>2</td>\n",
       "      <td>-1</td>\n",
       "      <td>0</td>\n",
       "      <td>3</td>\n",
       "      <td>1</td>\n",
       "    </tr>\n",
       "  </tbody>\n",
       "</table>\n",
       "<p>31647 rows × 17 columns</p>\n",
       "</div>"
      ],
      "text/plain": [
       "       age  job  marital  education  default  balance  housing  loan  contact  \\\n",
       "0       56    0        1          3        0     1933        0     0        1   \n",
       "1       31   11        1          1        0        3        0     0        0   \n",
       "2       27    7        1          1        0      891        1     0        0   \n",
       "3       57    4        0          2        0     3287        0     0        0   \n",
       "4       31    9        1          1        0      119        1     0        0   \n",
       "...    ...  ...      ...        ...      ...      ...      ...   ...      ...   \n",
       "31642   29    4        2          2        0        0        1     0        0   \n",
       "31643   53    4        0          2        0      380        0     1        0   \n",
       "31644   32    4        2          2        0      312        0     0        0   \n",
       "31645   57    9        1          1        0      225        1     0        1   \n",
       "31646   55    4        0          1        0      204        1     0        0   \n",
       "\n",
       "       day  month  duration  campaign  pdays  previous  poutcome  subscribed  \n",
       "0       19      9        44         2     -1         0         3           0  \n",
       "1       20      5        91         2     -1         0         3           0  \n",
       "2       18      5       240         1     -1         0         3           0  \n",
       "3       22      6       867         1     84         3         2           1  \n",
       "4        4      3       380         1     -1         0         3           0  \n",
       "...    ...    ...       ...       ...    ...       ...       ...         ...  \n",
       "31642   12      8       116         2     -1         0         3           0  \n",
       "31643    5      6       438         2     -1         0         3           1  \n",
       "31644    7      1        37         3     -1         0         3           0  \n",
       "31645   15      8        22         7    337        12         0           0  \n",
       "31646   11      5      1973         2     -1         0         3           1  \n",
       "\n",
       "[31647 rows x 17 columns]"
      ]
     },
     "execution_count": 20,
     "metadata": {},
     "output_type": "execute_result"
    }
   ],
   "source": [
    "df1"
   ]
  },
  {
   "cell_type": "code",
   "execution_count": 21,
   "id": "c8d1dd7b",
   "metadata": {},
   "outputs": [
    {
     "data": {
      "text/plain": [
       "age           int64\n",
       "job           int32\n",
       "marital       int32\n",
       "education     int32\n",
       "default       int32\n",
       "balance       int64\n",
       "housing       int32\n",
       "loan          int32\n",
       "contact       int32\n",
       "day           int64\n",
       "month         int32\n",
       "duration      int64\n",
       "campaign      int64\n",
       "pdays         int64\n",
       "previous      int64\n",
       "poutcome      int32\n",
       "subscribed    int32\n",
       "dtype: object"
      ]
     },
     "execution_count": 21,
     "metadata": {},
     "output_type": "execute_result"
    }
   ],
   "source": [
    "df1.dtypes"
   ]
  },
  {
   "cell_type": "markdown",
   "id": "59c4bed6",
   "metadata": {},
   "source": [
    "Similarly we are converting the oject data type of our testing dataset df2 to integer data type for its further usage."
   ]
  },
  {
   "cell_type": "code",
   "execution_count": 22,
   "id": "310c8440",
   "metadata": {},
   "outputs": [],
   "source": [
    "for c in df2.select_dtypes(include=\"object\").columns:\n",
    "    df2[c]=le.fit_transform(df2[c].astype(str))"
   ]
  },
  {
   "cell_type": "code",
   "execution_count": 23,
   "id": "07d7f982",
   "metadata": {},
   "outputs": [
    {
     "data": {
      "text/html": [
       "<div>\n",
       "<style scoped>\n",
       "    .dataframe tbody tr th:only-of-type {\n",
       "        vertical-align: middle;\n",
       "    }\n",
       "\n",
       "    .dataframe tbody tr th {\n",
       "        vertical-align: top;\n",
       "    }\n",
       "\n",
       "    .dataframe thead th {\n",
       "        text-align: right;\n",
       "    }\n",
       "</style>\n",
       "<table border=\"1\" class=\"dataframe\">\n",
       "  <thead>\n",
       "    <tr style=\"text-align: right;\">\n",
       "      <th></th>\n",
       "      <th>age</th>\n",
       "      <th>job</th>\n",
       "      <th>marital</th>\n",
       "      <th>education</th>\n",
       "      <th>default</th>\n",
       "      <th>balance</th>\n",
       "      <th>housing</th>\n",
       "      <th>loan</th>\n",
       "      <th>contact</th>\n",
       "      <th>day</th>\n",
       "      <th>month</th>\n",
       "      <th>duration</th>\n",
       "      <th>campaign</th>\n",
       "      <th>pdays</th>\n",
       "      <th>previous</th>\n",
       "      <th>poutcome</th>\n",
       "    </tr>\n",
       "  </thead>\n",
       "  <tbody>\n",
       "    <tr>\n",
       "      <th>0</th>\n",
       "      <td>32</td>\n",
       "      <td>7</td>\n",
       "      <td>1</td>\n",
       "      <td>1</td>\n",
       "      <td>0</td>\n",
       "      <td>118</td>\n",
       "      <td>1</td>\n",
       "      <td>0</td>\n",
       "      <td>0</td>\n",
       "      <td>15</td>\n",
       "      <td>8</td>\n",
       "      <td>20</td>\n",
       "      <td>6</td>\n",
       "      <td>-1</td>\n",
       "      <td>0</td>\n",
       "      <td>3</td>\n",
       "    </tr>\n",
       "    <tr>\n",
       "      <th>1</th>\n",
       "      <td>78</td>\n",
       "      <td>5</td>\n",
       "      <td>0</td>\n",
       "      <td>0</td>\n",
       "      <td>0</td>\n",
       "      <td>2787</td>\n",
       "      <td>0</td>\n",
       "      <td>0</td>\n",
       "      <td>1</td>\n",
       "      <td>1</td>\n",
       "      <td>5</td>\n",
       "      <td>372</td>\n",
       "      <td>1</td>\n",
       "      <td>-1</td>\n",
       "      <td>0</td>\n",
       "      <td>3</td>\n",
       "    </tr>\n",
       "    <tr>\n",
       "      <th>2</th>\n",
       "      <td>31</td>\n",
       "      <td>6</td>\n",
       "      <td>2</td>\n",
       "      <td>2</td>\n",
       "      <td>0</td>\n",
       "      <td>144</td>\n",
       "      <td>1</td>\n",
       "      <td>0</td>\n",
       "      <td>2</td>\n",
       "      <td>16</td>\n",
       "      <td>8</td>\n",
       "      <td>676</td>\n",
       "      <td>1</td>\n",
       "      <td>-1</td>\n",
       "      <td>0</td>\n",
       "      <td>3</td>\n",
       "    </tr>\n",
       "    <tr>\n",
       "      <th>3</th>\n",
       "      <td>57</td>\n",
       "      <td>7</td>\n",
       "      <td>2</td>\n",
       "      <td>0</td>\n",
       "      <td>0</td>\n",
       "      <td>3777</td>\n",
       "      <td>1</td>\n",
       "      <td>0</td>\n",
       "      <td>1</td>\n",
       "      <td>13</td>\n",
       "      <td>8</td>\n",
       "      <td>65</td>\n",
       "      <td>2</td>\n",
       "      <td>-1</td>\n",
       "      <td>0</td>\n",
       "      <td>3</td>\n",
       "    </tr>\n",
       "    <tr>\n",
       "      <th>4</th>\n",
       "      <td>45</td>\n",
       "      <td>1</td>\n",
       "      <td>0</td>\n",
       "      <td>1</td>\n",
       "      <td>0</td>\n",
       "      <td>-705</td>\n",
       "      <td>0</td>\n",
       "      <td>1</td>\n",
       "      <td>2</td>\n",
       "      <td>3</td>\n",
       "      <td>5</td>\n",
       "      <td>111</td>\n",
       "      <td>1</td>\n",
       "      <td>-1</td>\n",
       "      <td>0</td>\n",
       "      <td>3</td>\n",
       "    </tr>\n",
       "    <tr>\n",
       "      <th>...</th>\n",
       "      <td>...</td>\n",
       "      <td>...</td>\n",
       "      <td>...</td>\n",
       "      <td>...</td>\n",
       "      <td>...</td>\n",
       "      <td>...</td>\n",
       "      <td>...</td>\n",
       "      <td>...</td>\n",
       "      <td>...</td>\n",
       "      <td>...</td>\n",
       "      <td>...</td>\n",
       "      <td>...</td>\n",
       "      <td>...</td>\n",
       "      <td>...</td>\n",
       "      <td>...</td>\n",
       "      <td>...</td>\n",
       "    </tr>\n",
       "    <tr>\n",
       "      <th>13559</th>\n",
       "      <td>39</td>\n",
       "      <td>4</td>\n",
       "      <td>1</td>\n",
       "      <td>2</td>\n",
       "      <td>0</td>\n",
       "      <td>45</td>\n",
       "      <td>0</td>\n",
       "      <td>0</td>\n",
       "      <td>0</td>\n",
       "      <td>28</td>\n",
       "      <td>1</td>\n",
       "      <td>148</td>\n",
       "      <td>4</td>\n",
       "      <td>-1</td>\n",
       "      <td>0</td>\n",
       "      <td>3</td>\n",
       "    </tr>\n",
       "    <tr>\n",
       "      <th>13560</th>\n",
       "      <td>54</td>\n",
       "      <td>1</td>\n",
       "      <td>1</td>\n",
       "      <td>0</td>\n",
       "      <td>0</td>\n",
       "      <td>2281</td>\n",
       "      <td>1</td>\n",
       "      <td>0</td>\n",
       "      <td>2</td>\n",
       "      <td>20</td>\n",
       "      <td>6</td>\n",
       "      <td>158</td>\n",
       "      <td>1</td>\n",
       "      <td>-1</td>\n",
       "      <td>0</td>\n",
       "      <td>3</td>\n",
       "    </tr>\n",
       "    <tr>\n",
       "      <th>13561</th>\n",
       "      <td>35</td>\n",
       "      <td>5</td>\n",
       "      <td>1</td>\n",
       "      <td>0</td>\n",
       "      <td>0</td>\n",
       "      <td>285</td>\n",
       "      <td>1</td>\n",
       "      <td>0</td>\n",
       "      <td>0</td>\n",
       "      <td>29</td>\n",
       "      <td>4</td>\n",
       "      <td>136</td>\n",
       "      <td>1</td>\n",
       "      <td>-1</td>\n",
       "      <td>0</td>\n",
       "      <td>3</td>\n",
       "    </tr>\n",
       "    <tr>\n",
       "      <th>13562</th>\n",
       "      <td>29</td>\n",
       "      <td>0</td>\n",
       "      <td>2</td>\n",
       "      <td>1</td>\n",
       "      <td>0</td>\n",
       "      <td>464</td>\n",
       "      <td>0</td>\n",
       "      <td>0</td>\n",
       "      <td>0</td>\n",
       "      <td>9</td>\n",
       "      <td>9</td>\n",
       "      <td>208</td>\n",
       "      <td>2</td>\n",
       "      <td>91</td>\n",
       "      <td>3</td>\n",
       "      <td>2</td>\n",
       "    </tr>\n",
       "    <tr>\n",
       "      <th>13563</th>\n",
       "      <td>29</td>\n",
       "      <td>0</td>\n",
       "      <td>1</td>\n",
       "      <td>1</td>\n",
       "      <td>0</td>\n",
       "      <td>2</td>\n",
       "      <td>1</td>\n",
       "      <td>0</td>\n",
       "      <td>0</td>\n",
       "      <td>6</td>\n",
       "      <td>8</td>\n",
       "      <td>339</td>\n",
       "      <td>1</td>\n",
       "      <td>362</td>\n",
       "      <td>1</td>\n",
       "      <td>0</td>\n",
       "    </tr>\n",
       "  </tbody>\n",
       "</table>\n",
       "<p>13564 rows × 16 columns</p>\n",
       "</div>"
      ],
      "text/plain": [
       "       age  job  marital  education  default  balance  housing  loan  contact  \\\n",
       "0       32    7        1          1        0      118        1     0        0   \n",
       "1       78    5        0          0        0     2787        0     0        1   \n",
       "2       31    6        2          2        0      144        1     0        2   \n",
       "3       57    7        2          0        0     3777        1     0        1   \n",
       "4       45    1        0          1        0     -705        0     1        2   \n",
       "...    ...  ...      ...        ...      ...      ...      ...   ...      ...   \n",
       "13559   39    4        1          2        0       45        0     0        0   \n",
       "13560   54    1        1          0        0     2281        1     0        2   \n",
       "13561   35    5        1          0        0      285        1     0        0   \n",
       "13562   29    0        2          1        0      464        0     0        0   \n",
       "13563   29    0        1          1        0        2        1     0        0   \n",
       "\n",
       "       day  month  duration  campaign  pdays  previous  poutcome  \n",
       "0       15      8        20         6     -1         0         3  \n",
       "1        1      5       372         1     -1         0         3  \n",
       "2       16      8       676         1     -1         0         3  \n",
       "3       13      8        65         2     -1         0         3  \n",
       "4        3      5       111         1     -1         0         3  \n",
       "...    ...    ...       ...       ...    ...       ...       ...  \n",
       "13559   28      1       148         4     -1         0         3  \n",
       "13560   20      6       158         1     -1         0         3  \n",
       "13561   29      4       136         1     -1         0         3  \n",
       "13562    9      9       208         2     91         3         2  \n",
       "13563    6      8       339         1    362         1         0  \n",
       "\n",
       "[13564 rows x 16 columns]"
      ]
     },
     "execution_count": 23,
     "metadata": {},
     "output_type": "execute_result"
    }
   ],
   "source": [
    "df2"
   ]
  },
  {
   "cell_type": "code",
   "execution_count": 24,
   "id": "7a7baf93",
   "metadata": {},
   "outputs": [
    {
     "data": {
      "text/html": [
       "<div>\n",
       "<style scoped>\n",
       "    .dataframe tbody tr th:only-of-type {\n",
       "        vertical-align: middle;\n",
       "    }\n",
       "\n",
       "    .dataframe tbody tr th {\n",
       "        vertical-align: top;\n",
       "    }\n",
       "\n",
       "    .dataframe thead th {\n",
       "        text-align: right;\n",
       "    }\n",
       "</style>\n",
       "<table border=\"1\" class=\"dataframe\">\n",
       "  <thead>\n",
       "    <tr style=\"text-align: right;\">\n",
       "      <th></th>\n",
       "      <th>age</th>\n",
       "      <th>job</th>\n",
       "      <th>marital</th>\n",
       "      <th>education</th>\n",
       "      <th>default</th>\n",
       "      <th>balance</th>\n",
       "      <th>housing</th>\n",
       "      <th>loan</th>\n",
       "      <th>contact</th>\n",
       "      <th>day</th>\n",
       "      <th>month</th>\n",
       "      <th>duration</th>\n",
       "      <th>campaign</th>\n",
       "      <th>pdays</th>\n",
       "      <th>previous</th>\n",
       "      <th>poutcome</th>\n",
       "      <th>subscribed</th>\n",
       "    </tr>\n",
       "  </thead>\n",
       "  <tbody>\n",
       "    <tr>\n",
       "      <th>count</th>\n",
       "      <td>31647.000000</td>\n",
       "      <td>31647.000000</td>\n",
       "      <td>31647.000000</td>\n",
       "      <td>31647.000000</td>\n",
       "      <td>31647.000000</td>\n",
       "      <td>31647.000000</td>\n",
       "      <td>31647.000000</td>\n",
       "      <td>31647.000000</td>\n",
       "      <td>31647.000000</td>\n",
       "      <td>31647.000000</td>\n",
       "      <td>31647.000000</td>\n",
       "      <td>31647.000000</td>\n",
       "      <td>31647.000000</td>\n",
       "      <td>31647.000000</td>\n",
       "      <td>31647.000000</td>\n",
       "      <td>31647.000000</td>\n",
       "      <td>31647.000000</td>\n",
       "    </tr>\n",
       "    <tr>\n",
       "      <th>mean</th>\n",
       "      <td>40.957247</td>\n",
       "      <td>4.332923</td>\n",
       "      <td>1.167220</td>\n",
       "      <td>1.225013</td>\n",
       "      <td>0.018485</td>\n",
       "      <td>1363.890258</td>\n",
       "      <td>0.555629</td>\n",
       "      <td>0.162132</td>\n",
       "      <td>0.644642</td>\n",
       "      <td>15.835466</td>\n",
       "      <td>5.533131</td>\n",
       "      <td>258.113534</td>\n",
       "      <td>2.765697</td>\n",
       "      <td>39.576042</td>\n",
       "      <td>0.574272</td>\n",
       "      <td>2.566152</td>\n",
       "      <td>0.117389</td>\n",
       "    </tr>\n",
       "    <tr>\n",
       "      <th>std</th>\n",
       "      <td>10.625134</td>\n",
       "      <td>3.271868</td>\n",
       "      <td>0.607186</td>\n",
       "      <td>0.749195</td>\n",
       "      <td>0.134700</td>\n",
       "      <td>3028.304293</td>\n",
       "      <td>0.496904</td>\n",
       "      <td>0.368578</td>\n",
       "      <td>0.899480</td>\n",
       "      <td>8.337097</td>\n",
       "      <td>3.004247</td>\n",
       "      <td>257.118973</td>\n",
       "      <td>3.113830</td>\n",
       "      <td>99.317592</td>\n",
       "      <td>2.422529</td>\n",
       "      <td>0.982069</td>\n",
       "      <td>0.321888</td>\n",
       "    </tr>\n",
       "    <tr>\n",
       "      <th>min</th>\n",
       "      <td>18.000000</td>\n",
       "      <td>0.000000</td>\n",
       "      <td>0.000000</td>\n",
       "      <td>0.000000</td>\n",
       "      <td>0.000000</td>\n",
       "      <td>-8019.000000</td>\n",
       "      <td>0.000000</td>\n",
       "      <td>0.000000</td>\n",
       "      <td>0.000000</td>\n",
       "      <td>1.000000</td>\n",
       "      <td>0.000000</td>\n",
       "      <td>0.000000</td>\n",
       "      <td>1.000000</td>\n",
       "      <td>-1.000000</td>\n",
       "      <td>0.000000</td>\n",
       "      <td>0.000000</td>\n",
       "      <td>0.000000</td>\n",
       "    </tr>\n",
       "    <tr>\n",
       "      <th>25%</th>\n",
       "      <td>33.000000</td>\n",
       "      <td>1.000000</td>\n",
       "      <td>1.000000</td>\n",
       "      <td>1.000000</td>\n",
       "      <td>0.000000</td>\n",
       "      <td>73.000000</td>\n",
       "      <td>0.000000</td>\n",
       "      <td>0.000000</td>\n",
       "      <td>0.000000</td>\n",
       "      <td>8.000000</td>\n",
       "      <td>3.000000</td>\n",
       "      <td>104.000000</td>\n",
       "      <td>1.000000</td>\n",
       "      <td>-1.000000</td>\n",
       "      <td>0.000000</td>\n",
       "      <td>3.000000</td>\n",
       "      <td>0.000000</td>\n",
       "    </tr>\n",
       "    <tr>\n",
       "      <th>50%</th>\n",
       "      <td>39.000000</td>\n",
       "      <td>4.000000</td>\n",
       "      <td>1.000000</td>\n",
       "      <td>1.000000</td>\n",
       "      <td>0.000000</td>\n",
       "      <td>450.000000</td>\n",
       "      <td>1.000000</td>\n",
       "      <td>0.000000</td>\n",
       "      <td>0.000000</td>\n",
       "      <td>16.000000</td>\n",
       "      <td>6.000000</td>\n",
       "      <td>180.000000</td>\n",
       "      <td>2.000000</td>\n",
       "      <td>-1.000000</td>\n",
       "      <td>0.000000</td>\n",
       "      <td>3.000000</td>\n",
       "      <td>0.000000</td>\n",
       "    </tr>\n",
       "    <tr>\n",
       "      <th>75%</th>\n",
       "      <td>48.000000</td>\n",
       "      <td>7.000000</td>\n",
       "      <td>2.000000</td>\n",
       "      <td>2.000000</td>\n",
       "      <td>0.000000</td>\n",
       "      <td>1431.000000</td>\n",
       "      <td>1.000000</td>\n",
       "      <td>0.000000</td>\n",
       "      <td>2.000000</td>\n",
       "      <td>21.000000</td>\n",
       "      <td>8.000000</td>\n",
       "      <td>318.500000</td>\n",
       "      <td>3.000000</td>\n",
       "      <td>-1.000000</td>\n",
       "      <td>0.000000</td>\n",
       "      <td>3.000000</td>\n",
       "      <td>0.000000</td>\n",
       "    </tr>\n",
       "    <tr>\n",
       "      <th>max</th>\n",
       "      <td>95.000000</td>\n",
       "      <td>11.000000</td>\n",
       "      <td>2.000000</td>\n",
       "      <td>3.000000</td>\n",
       "      <td>1.000000</td>\n",
       "      <td>102127.000000</td>\n",
       "      <td>1.000000</td>\n",
       "      <td>1.000000</td>\n",
       "      <td>2.000000</td>\n",
       "      <td>31.000000</td>\n",
       "      <td>11.000000</td>\n",
       "      <td>4918.000000</td>\n",
       "      <td>63.000000</td>\n",
       "      <td>871.000000</td>\n",
       "      <td>275.000000</td>\n",
       "      <td>3.000000</td>\n",
       "      <td>1.000000</td>\n",
       "    </tr>\n",
       "  </tbody>\n",
       "</table>\n",
       "</div>"
      ],
      "text/plain": [
       "                age           job       marital     education       default  \\\n",
       "count  31647.000000  31647.000000  31647.000000  31647.000000  31647.000000   \n",
       "mean      40.957247      4.332923      1.167220      1.225013      0.018485   \n",
       "std       10.625134      3.271868      0.607186      0.749195      0.134700   \n",
       "min       18.000000      0.000000      0.000000      0.000000      0.000000   \n",
       "25%       33.000000      1.000000      1.000000      1.000000      0.000000   \n",
       "50%       39.000000      4.000000      1.000000      1.000000      0.000000   \n",
       "75%       48.000000      7.000000      2.000000      2.000000      0.000000   \n",
       "max       95.000000     11.000000      2.000000      3.000000      1.000000   \n",
       "\n",
       "             balance       housing          loan       contact           day  \\\n",
       "count   31647.000000  31647.000000  31647.000000  31647.000000  31647.000000   \n",
       "mean     1363.890258      0.555629      0.162132      0.644642     15.835466   \n",
       "std      3028.304293      0.496904      0.368578      0.899480      8.337097   \n",
       "min     -8019.000000      0.000000      0.000000      0.000000      1.000000   \n",
       "25%        73.000000      0.000000      0.000000      0.000000      8.000000   \n",
       "50%       450.000000      1.000000      0.000000      0.000000     16.000000   \n",
       "75%      1431.000000      1.000000      0.000000      2.000000     21.000000   \n",
       "max    102127.000000      1.000000      1.000000      2.000000     31.000000   \n",
       "\n",
       "              month      duration      campaign         pdays      previous  \\\n",
       "count  31647.000000  31647.000000  31647.000000  31647.000000  31647.000000   \n",
       "mean       5.533131    258.113534      2.765697     39.576042      0.574272   \n",
       "std        3.004247    257.118973      3.113830     99.317592      2.422529   \n",
       "min        0.000000      0.000000      1.000000     -1.000000      0.000000   \n",
       "25%        3.000000    104.000000      1.000000     -1.000000      0.000000   \n",
       "50%        6.000000    180.000000      2.000000     -1.000000      0.000000   \n",
       "75%        8.000000    318.500000      3.000000     -1.000000      0.000000   \n",
       "max       11.000000   4918.000000     63.000000    871.000000    275.000000   \n",
       "\n",
       "           poutcome    subscribed  \n",
       "count  31647.000000  31647.000000  \n",
       "mean       2.566152      0.117389  \n",
       "std        0.982069      0.321888  \n",
       "min        0.000000      0.000000  \n",
       "25%        3.000000      0.000000  \n",
       "50%        3.000000      0.000000  \n",
       "75%        3.000000      0.000000  \n",
       "max        3.000000      1.000000  "
      ]
     },
     "execution_count": 24,
     "metadata": {},
     "output_type": "execute_result"
    }
   ],
   "source": [
    "df1.describe()"
   ]
  },
  {
   "cell_type": "markdown",
   "id": "83d19045",
   "metadata": {},
   "source": [
    "By the above non graphical observation, we found that the \"balance\" column is having huge deviation of Mean from Median (50% Percentile) and the difference between the 75% percentile and maximum value of balance column is also very high, so very large amount of outlier possibility are there."
   ]
  },
  {
   "cell_type": "code",
   "execution_count": 25,
   "id": "dcdf9c97",
   "metadata": {},
   "outputs": [
    {
     "data": {
      "text/plain": [
       "age              AxesSubplot(0.125,0.653529;0.110714x0.226471)\n",
       "job           AxesSubplot(0.257857,0.653529;0.110714x0.226471)\n",
       "marital       AxesSubplot(0.390714,0.653529;0.110714x0.226471)\n",
       "education     AxesSubplot(0.523571,0.653529;0.110714x0.226471)\n",
       "default       AxesSubplot(0.656429,0.653529;0.110714x0.226471)\n",
       "balance       AxesSubplot(0.789286,0.653529;0.110714x0.226471)\n",
       "housing          AxesSubplot(0.125,0.381765;0.110714x0.226471)\n",
       "loan          AxesSubplot(0.257857,0.381765;0.110714x0.226471)\n",
       "contact       AxesSubplot(0.390714,0.381765;0.110714x0.226471)\n",
       "day           AxesSubplot(0.523571,0.381765;0.110714x0.226471)\n",
       "month         AxesSubplot(0.656429,0.381765;0.110714x0.226471)\n",
       "duration      AxesSubplot(0.789286,0.381765;0.110714x0.226471)\n",
       "campaign             AxesSubplot(0.125,0.11;0.110714x0.226471)\n",
       "pdays             AxesSubplot(0.257857,0.11;0.110714x0.226471)\n",
       "previous          AxesSubplot(0.390714,0.11;0.110714x0.226471)\n",
       "poutcome          AxesSubplot(0.523571,0.11;0.110714x0.226471)\n",
       "subscribed        AxesSubplot(0.656429,0.11;0.110714x0.226471)\n",
       "dtype: object"
      ]
     },
     "execution_count": 25,
     "metadata": {},
     "output_type": "execute_result"
    },
    {
     "data": {
      "image/png": "[encoded data removed]",
      "text/plain": [
       "<Figure size 1000x1000 with 18 Axes>"
      ]
     },
     "metadata": {},
     "output_type": "display_data"
    }
   ],
   "source": [
    "df1.plot(kind='box', subplots=True, layout=(3,6), figsize=(10,10))"
   ]
  },
  {
   "cell_type": "markdown",
   "id": "16ffe130",
   "metadata": {},
   "source": [
    "By using the above boxplot graphical presentation, we got that features age, balance, duration, campaign, pdays & previous are having outliers."
   ]
  },
  {
   "cell_type": "markdown",
   "id": "fa91aca2",
   "metadata": {},
   "source": [
    "To see the effect of some of our feature on target variable, we are doing the bivariate graphical analysis via scatter plot here"
   ]
  },
  {
   "cell_type": "code",
   "execution_count": 26,
   "id": "8ad6e0b6",
   "metadata": {},
   "outputs": [
    {
     "data": {
      "text/plain": [
       "<AxesSubplot:xlabel='subscribed', ylabel='balance'>"
      ]
     },
     "execution_count": 26,
     "metadata": {},
     "output_type": "execute_result"
    },
    {
     "data": {
      "image/png": "[encoded data removed]",
      "text/plain": [
       "<Figure size 640x480 with 1 Axes>"
      ]
     },
     "metadata": {},
     "output_type": "display_data"
    }
   ],
   "source": [
    "sns.scatterplot(df1['subscribed'],df1['balance'])"
   ]
  },
  {
   "cell_type": "markdown",
   "id": "76254743",
   "metadata": {},
   "source": [
    "By the above plot, we observed that the bank balance of the customers are not effecting so much for thier chances to be the Subscriber of Term Deposit. Even more Balance in Bank Account reduces the chances of availing Term Deposit as per above scatter plot."
   ]
  },
  {
   "cell_type": "code",
   "execution_count": 27,
   "id": "a5ca6129",
   "metadata": {},
   "outputs": [
    {
     "data": {
      "text/plain": [
       "<AxesSubplot:xlabel='subscribed', ylabel='age'>"
      ]
     },
     "execution_count": 27,
     "metadata": {},
     "output_type": "execute_result"
    },
    {
     "data": {
      "image/png": "[encoded data removed]",
      "text/plain": [
       "<Figure size 640x480 with 1 Axes>"
      ]
     },
     "metadata": {},
     "output_type": "display_data"
    }
   ],
   "source": [
    "sns.scatterplot(df1['subscribed'],df1['age'])"
   ]
  },
  {
   "cell_type": "markdown",
   "id": "3d4a449f",
   "metadata": {},
   "source": [
    "By the above graph, the age is also not very effective to the target variable, as each age group customers between 20 Years to 90 Years has equal chances of both No and Yes for Term Deposit subscription. But above 90 Years of age the more chances is of Yes as per the above graph."
   ]
  },
  {
   "cell_type": "code",
   "execution_count": 28,
   "id": "ccc1bba9",
   "metadata": {},
   "outputs": [
    {
     "data": {
      "text/plain": [
       "<AxesSubplot:xlabel='subscribed', ylabel='duration'>"
      ]
     },
     "execution_count": 28,
     "metadata": {},
     "output_type": "execute_result"
    },
    {
     "data": {
      "image/png": "[encoded data removed]",
      "text/plain": [
       "<Figure size 640x480 with 1 Axes>"
      ]
     },
     "metadata": {},
     "output_type": "display_data"
    }
   ],
   "source": [
    "sns.scatterplot(df1['subscribed'],df1['duration'])"
   ]
  },
  {
   "cell_type": "markdown",
   "id": "5cfc418c",
   "metadata": {},
   "source": [
    "Between a limited duration of Marketing Calls is leading to both the chances of Yes & No for FD. But long duration of calls can lead to a negative effect to get the FD and customers says No as per the graph."
   ]
  },
  {
   "cell_type": "code",
   "execution_count": 29,
   "id": "f197c700",
   "metadata": {},
   "outputs": [
    {
     "data": {
      "text/plain": [
       "<AxesSubplot:xlabel='subscribed', ylabel='loan'>"
      ]
     },
     "execution_count": 29,
     "metadata": {},
     "output_type": "execute_result"
    },
    {
     "data": {
      "image/png": "[encoded data removed]",
      "text/plain": [
       "<Figure size 640x480 with 1 Axes>"
      ]
     },
     "metadata": {},
     "output_type": "display_data"
    }
   ],
   "source": [
    "sns.scatterplot(df1['subscribed'],df1['loan'])"
   ]
  },
  {
   "cell_type": "markdown",
   "id": "721fd410",
   "metadata": {},
   "source": [
    "The loan feature is not effecting our target variable anyway, So it should be droped later."
   ]
  },
  {
   "cell_type": "code",
   "execution_count": 30,
   "id": "03c3f81f",
   "metadata": {},
   "outputs": [
    {
     "data": {
      "text/plain": [
       "<AxesSubplot:xlabel='subscribed', ylabel='campaign'>"
      ]
     },
     "execution_count": 30,
     "metadata": {},
     "output_type": "execute_result"
    },
    {
     "data": {
      "image/png": "[encoded data removed]",
      "text/plain": [
       "<Figure size 640x480 with 1 Axes>"
      ]
     },
     "metadata": {},
     "output_type": "display_data"
    }
   ],
   "source": [
    "sns.scatterplot(df1['subscribed'],df1['campaign'])"
   ]
  },
  {
   "cell_type": "markdown",
   "id": "1ef31c32",
   "metadata": {},
   "source": [
    "The more the campaingin done, the less the chances of getting Term Deposit as per above graph."
   ]
  },
  {
   "cell_type": "code",
   "execution_count": 31,
   "id": "220351a7",
   "metadata": {},
   "outputs": [
    {
     "data": {
      "text/plain": [
       "<AxesSubplot:xlabel='subscribed', ylabel='pdays'>"
      ]
     },
     "execution_count": 31,
     "metadata": {},
     "output_type": "execute_result"
    },
    {
     "data": {
      "image/png": "[encoded data removed]",
      "text/plain": [
       "<Figure size 640x480 with 1 Axes>"
      ]
     },
     "metadata": {},
     "output_type": "display_data"
    }
   ],
   "source": [
    "sns.scatterplot(df1['subscribed'],df1['pdays'])"
   ]
  },
  {
   "cell_type": "markdown",
   "id": "94a9e0b8",
   "metadata": {},
   "source": [
    "No of days past after the last contacted with customer is having almost equal effect to target variable for say Yes or No as per above graph."
   ]
  },
  {
   "cell_type": "code",
   "execution_count": 32,
   "id": "63d3be6d",
   "metadata": {},
   "outputs": [
    {
     "data": {
      "text/plain": [
       "<AxesSubplot:xlabel='subscribed', ylabel='previous'>"
      ]
     },
     "execution_count": 32,
     "metadata": {},
     "output_type": "execute_result"
    },
    {
     "data": {
      "image/png": "[encoded data removed]",
      "text/plain": [
       "<Figure size 640x480 with 1 Axes>"
      ]
     },
     "metadata": {},
     "output_type": "display_data"
    }
   ],
   "source": [
    "sns.scatterplot(df1['subscribed'],df1['previous'])"
   ]
  },
  {
   "cell_type": "markdown",
   "id": "9ca108b7",
   "metadata": {},
   "source": [
    "Previous contact before current campaign is also having the almost equal effect to say Yes or No with the above graph."
   ]
  },
  {
   "cell_type": "code",
   "execution_count": 33,
   "id": "f05a391c",
   "metadata": {},
   "outputs": [
    {
     "data": {
      "text/plain": [
       "<AxesSubplot:xlabel='subscribed', ylabel='default'>"
      ]
     },
     "execution_count": 33,
     "metadata": {},
     "output_type": "execute_result"
    },
    {
     "data": {
      "image/png": "[encoded data removed]",
      "text/plain": [
       "<Figure size 640x480 with 1 Axes>"
      ]
     },
     "metadata": {},
     "output_type": "display_data"
    }
   ],
   "source": [
    "sns.scatterplot(df1['subscribed'],df1['default'])"
   ]
  },
  {
   "cell_type": "markdown",
   "id": "0c1be3af",
   "metadata": {},
   "source": [
    "The credit in default binary feature has both the chances of Yes or No for target binary variable. So not contributing to the target variable anyway."
   ]
  },
  {
   "cell_type": "code",
   "execution_count": 34,
   "id": "2c197dad",
   "metadata": {},
   "outputs": [
    {
     "data": {
      "text/plain": [
       "<AxesSubplot:xlabel='subscribed', ylabel='poutcome'>"
      ]
     },
     "execution_count": 34,
     "metadata": {},
     "output_type": "execute_result"
    },
    {
     "data": {
      "image/png": "[encoded data removed]",
      "text/plain": [
       "<Figure size 640x480 with 1 Axes>"
      ]
     },
     "metadata": {},
     "output_type": "display_data"
    }
   ],
   "source": [
    "sns.scatterplot(df1['subscribed'],df1['poutcome'])"
   ]
  },
  {
   "cell_type": "markdown",
   "id": "680f1bc0",
   "metadata": {},
   "source": [
    "It is showing the parallel effect between the poutcome and subscribed variables in above graph."
   ]
  },
  {
   "cell_type": "markdown",
   "id": "4b1bed4d",
   "metadata": {},
   "source": [
    "Now let's check the corelation between the features via non graphical and graphical analysis below."
   ]
  },
  {
   "cell_type": "code",
   "execution_count": 35,
   "id": "a928e115",
   "metadata": {},
   "outputs": [],
   "source": [
    "df1cor=df1.corr()"
   ]
  },
  {
   "cell_type": "code",
   "execution_count": 36,
   "id": "17b09adc",
   "metadata": {},
   "outputs": [
    {
     "data": {
      "text/html": [
       "<div>\n",
       "<style scoped>\n",
       "    .dataframe tbody tr th:only-of-type {\n",
       "        vertical-align: middle;\n",
       "    }\n",
       "\n",
       "    .dataframe tbody tr th {\n",
       "        vertical-align: top;\n",
       "    }\n",
       "\n",
       "    .dataframe thead th {\n",
       "        text-align: right;\n",
       "    }\n",
       "</style>\n",
       "<table border=\"1\" class=\"dataframe\">\n",
       "  <thead>\n",
       "    <tr style=\"text-align: right;\">\n",
       "      <th></th>\n",
       "      <th>age</th>\n",
       "      <th>job</th>\n",
       "      <th>marital</th>\n",
       "      <th>education</th>\n",
       "      <th>default</th>\n",
       "      <th>balance</th>\n",
       "      <th>housing</th>\n",
       "      <th>loan</th>\n",
       "      <th>contact</th>\n",
       "      <th>day</th>\n",
       "      <th>month</th>\n",
       "      <th>duration</th>\n",
       "      <th>campaign</th>\n",
       "      <th>pdays</th>\n",
       "      <th>previous</th>\n",
       "      <th>poutcome</th>\n",
       "      <th>subscribed</th>\n",
       "    </tr>\n",
       "  </thead>\n",
       "  <tbody>\n",
       "    <tr>\n",
       "      <th>age</th>\n",
       "      <td>1.000000</td>\n",
       "      <td>-0.020765</td>\n",
       "      <td>-0.406024</td>\n",
       "      <td>-0.102356</td>\n",
       "      <td>-0.016117</td>\n",
       "      <td>0.103245</td>\n",
       "      <td>-0.183775</td>\n",
       "      <td>-0.012657</td>\n",
       "      <td>0.026733</td>\n",
       "      <td>-0.011056</td>\n",
       "      <td>-0.038368</td>\n",
       "      <td>-0.003870</td>\n",
       "      <td>0.005733</td>\n",
       "      <td>-0.021947</td>\n",
       "      <td>0.005761</td>\n",
       "      <td>0.006466</td>\n",
       "      <td>0.024538</td>\n",
       "    </tr>\n",
       "    <tr>\n",
       "      <th>job</th>\n",
       "      <td>-0.020765</td>\n",
       "      <td>1.000000</td>\n",
       "      <td>0.066124</td>\n",
       "      <td>0.170347</td>\n",
       "      <td>-0.005217</td>\n",
       "      <td>0.020638</td>\n",
       "      <td>-0.125347</td>\n",
       "      <td>-0.039049</td>\n",
       "      <td>-0.078253</td>\n",
       "      <td>0.020951</td>\n",
       "      <td>-0.089384</td>\n",
       "      <td>0.002694</td>\n",
       "      <td>0.001469</td>\n",
       "      <td>-0.022552</td>\n",
       "      <td>-0.003032</td>\n",
       "      <td>0.007101</td>\n",
       "      <td>0.038921</td>\n",
       "    </tr>\n",
       "    <tr>\n",
       "      <th>marital</th>\n",
       "      <td>-0.406024</td>\n",
       "      <td>0.066124</td>\n",
       "      <td>1.000000</td>\n",
       "      <td>0.107547</td>\n",
       "      <td>-0.009591</td>\n",
       "      <td>0.003487</td>\n",
       "      <td>-0.017846</td>\n",
       "      <td>-0.041654</td>\n",
       "      <td>-0.040180</td>\n",
       "      <td>-0.007686</td>\n",
       "      <td>-0.003834</td>\n",
       "      <td>0.011544</td>\n",
       "      <td>-0.009394</td>\n",
       "      <td>0.019741</td>\n",
       "      <td>0.012717</td>\n",
       "      <td>-0.019770</td>\n",
       "      <td>0.046043</td>\n",
       "    </tr>\n",
       "    <tr>\n",
       "      <th>education</th>\n",
       "      <td>-0.102356</td>\n",
       "      <td>0.170347</td>\n",
       "      <td>0.107547</td>\n",
       "      <td>1.000000</td>\n",
       "      <td>-0.006774</td>\n",
       "      <td>0.065176</td>\n",
       "      <td>-0.095376</td>\n",
       "      <td>-0.045950</td>\n",
       "      <td>-0.112000</td>\n",
       "      <td>0.017902</td>\n",
       "      <td>-0.055967</td>\n",
       "      <td>0.003842</td>\n",
       "      <td>0.006142</td>\n",
       "      <td>-0.001566</td>\n",
       "      <td>0.015280</td>\n",
       "      <td>-0.019007</td>\n",
       "      <td>0.066051</td>\n",
       "    </tr>\n",
       "    <tr>\n",
       "      <th>default</th>\n",
       "      <td>-0.016117</td>\n",
       "      <td>-0.005217</td>\n",
       "      <td>-0.009591</td>\n",
       "      <td>-0.006774</td>\n",
       "      <td>1.000000</td>\n",
       "      <td>-0.069422</td>\n",
       "      <td>-0.011823</td>\n",
       "      <td>0.081567</td>\n",
       "      <td>0.014053</td>\n",
       "      <td>0.009996</td>\n",
       "      <td>0.004694</td>\n",
       "      <td>-0.010849</td>\n",
       "      <td>0.018538</td>\n",
       "      <td>-0.029622</td>\n",
       "      <td>-0.015877</td>\n",
       "      <td>0.035067</td>\n",
       "      <td>-0.020168</td>\n",
       "    </tr>\n",
       "    <tr>\n",
       "      <th>balance</th>\n",
       "      <td>0.103245</td>\n",
       "      <td>0.020638</td>\n",
       "      <td>0.003487</td>\n",
       "      <td>0.065176</td>\n",
       "      <td>-0.069422</td>\n",
       "      <td>1.000000</td>\n",
       "      <td>-0.067466</td>\n",
       "      <td>-0.083631</td>\n",
       "      <td>-0.024083</td>\n",
       "      <td>0.003461</td>\n",
       "      <td>0.023056</td>\n",
       "      <td>0.024274</td>\n",
       "      <td>-0.012032</td>\n",
       "      <td>0.001789</td>\n",
       "      <td>0.013843</td>\n",
       "      <td>-0.019629</td>\n",
       "      <td>0.050807</td>\n",
       "    </tr>\n",
       "    <tr>\n",
       "      <th>housing</th>\n",
       "      <td>-0.183775</td>\n",
       "      <td>-0.125347</td>\n",
       "      <td>-0.017846</td>\n",
       "      <td>-0.095376</td>\n",
       "      <td>-0.011823</td>\n",
       "      <td>-0.067466</td>\n",
       "      <td>1.000000</td>\n",
       "      <td>0.036244</td>\n",
       "      <td>0.195103</td>\n",
       "      <td>-0.025666</td>\n",
       "      <td>0.271442</td>\n",
       "      <td>0.003021</td>\n",
       "      <td>-0.021076</td>\n",
       "      <td>0.118790</td>\n",
       "      <td>0.034231</td>\n",
       "      <td>-0.092677</td>\n",
       "      <td>-0.141092</td>\n",
       "    </tr>\n",
       "    <tr>\n",
       "      <th>loan</th>\n",
       "      <td>-0.012657</td>\n",
       "      <td>-0.039049</td>\n",
       "      <td>-0.041654</td>\n",
       "      <td>-0.045950</td>\n",
       "      <td>0.081567</td>\n",
       "      <td>-0.083631</td>\n",
       "      <td>0.036244</td>\n",
       "      <td>1.000000</td>\n",
       "      <td>-0.009213</td>\n",
       "      <td>0.014769</td>\n",
       "      <td>0.024186</td>\n",
       "      <td>-0.012781</td>\n",
       "      <td>0.009340</td>\n",
       "      <td>-0.020078</td>\n",
       "      <td>-0.009258</td>\n",
       "      <td>0.010919</td>\n",
       "      <td>-0.072266</td>\n",
       "    </tr>\n",
       "    <tr>\n",
       "      <th>contact</th>\n",
       "      <td>0.026733</td>\n",
       "      <td>-0.078253</td>\n",
       "      <td>-0.040180</td>\n",
       "      <td>-0.112000</td>\n",
       "      <td>0.014053</td>\n",
       "      <td>-0.024083</td>\n",
       "      <td>0.195103</td>\n",
       "      <td>-0.009213</td>\n",
       "      <td>1.000000</td>\n",
       "      <td>-0.027046</td>\n",
       "      <td>0.362934</td>\n",
       "      <td>-0.016503</td>\n",
       "      <td>0.022666</td>\n",
       "      <td>-0.245076</td>\n",
       "      <td>-0.141098</td>\n",
       "      <td>0.272083</td>\n",
       "      <td>-0.150051</td>\n",
       "    </tr>\n",
       "    <tr>\n",
       "      <th>day</th>\n",
       "      <td>-0.011056</td>\n",
       "      <td>0.020951</td>\n",
       "      <td>-0.007686</td>\n",
       "      <td>0.017902</td>\n",
       "      <td>0.009996</td>\n",
       "      <td>0.003461</td>\n",
       "      <td>-0.025666</td>\n",
       "      <td>0.014769</td>\n",
       "      <td>-0.027046</td>\n",
       "      <td>1.000000</td>\n",
       "      <td>-0.000604</td>\n",
       "      <td>-0.032288</td>\n",
       "      <td>0.159168</td>\n",
       "      <td>-0.087626</td>\n",
       "      <td>-0.048752</td>\n",
       "      <td>0.077586</td>\n",
       "      <td>-0.029600</td>\n",
       "    </tr>\n",
       "    <tr>\n",
       "      <th>month</th>\n",
       "      <td>-0.038368</td>\n",
       "      <td>-0.089384</td>\n",
       "      <td>-0.003834</td>\n",
       "      <td>-0.055967</td>\n",
       "      <td>0.004694</td>\n",
       "      <td>0.023056</td>\n",
       "      <td>0.271442</td>\n",
       "      <td>0.024186</td>\n",
       "      <td>0.362934</td>\n",
       "      <td>-0.000604</td>\n",
       "      <td>1.000000</td>\n",
       "      <td>0.005943</td>\n",
       "      <td>-0.105428</td>\n",
       "      <td>0.027576</td>\n",
       "      <td>0.020107</td>\n",
       "      <td>-0.029369</td>\n",
       "      <td>-0.028088</td>\n",
       "    </tr>\n",
       "    <tr>\n",
       "      <th>duration</th>\n",
       "      <td>-0.003870</td>\n",
       "      <td>0.002694</td>\n",
       "      <td>0.011544</td>\n",
       "      <td>0.003842</td>\n",
       "      <td>-0.010849</td>\n",
       "      <td>0.024274</td>\n",
       "      <td>0.003021</td>\n",
       "      <td>-0.012781</td>\n",
       "      <td>-0.016503</td>\n",
       "      <td>-0.032288</td>\n",
       "      <td>0.005943</td>\n",
       "      <td>1.000000</td>\n",
       "      <td>-0.080305</td>\n",
       "      <td>0.000529</td>\n",
       "      <td>0.001783</td>\n",
       "      <td>0.009771</td>\n",
       "      <td>0.389838</td>\n",
       "    </tr>\n",
       "    <tr>\n",
       "      <th>campaign</th>\n",
       "      <td>0.005733</td>\n",
       "      <td>0.001469</td>\n",
       "      <td>-0.009394</td>\n",
       "      <td>0.006142</td>\n",
       "      <td>0.018538</td>\n",
       "      <td>-0.012032</td>\n",
       "      <td>-0.021076</td>\n",
       "      <td>0.009340</td>\n",
       "      <td>0.022666</td>\n",
       "      <td>0.159168</td>\n",
       "      <td>-0.105428</td>\n",
       "      <td>-0.080305</td>\n",
       "      <td>1.000000</td>\n",
       "      <td>-0.087570</td>\n",
       "      <td>-0.033151</td>\n",
       "      <td>0.100720</td>\n",
       "      <td>-0.070607</td>\n",
       "    </tr>\n",
       "    <tr>\n",
       "      <th>pdays</th>\n",
       "      <td>-0.021947</td>\n",
       "      <td>-0.022552</td>\n",
       "      <td>0.019741</td>\n",
       "      <td>-0.001566</td>\n",
       "      <td>-0.029622</td>\n",
       "      <td>0.001789</td>\n",
       "      <td>0.118790</td>\n",
       "      <td>-0.020078</td>\n",
       "      <td>-0.245076</td>\n",
       "      <td>-0.087626</td>\n",
       "      <td>0.027576</td>\n",
       "      <td>0.000529</td>\n",
       "      <td>-0.087570</td>\n",
       "      <td>1.000000</td>\n",
       "      <td>0.428938</td>\n",
       "      <td>-0.857716</td>\n",
       "      <td>0.108290</td>\n",
       "    </tr>\n",
       "    <tr>\n",
       "      <th>previous</th>\n",
       "      <td>0.005761</td>\n",
       "      <td>-0.003032</td>\n",
       "      <td>0.012717</td>\n",
       "      <td>0.015280</td>\n",
       "      <td>-0.015877</td>\n",
       "      <td>0.013843</td>\n",
       "      <td>0.034231</td>\n",
       "      <td>-0.009258</td>\n",
       "      <td>-0.141098</td>\n",
       "      <td>-0.048752</td>\n",
       "      <td>0.020107</td>\n",
       "      <td>0.001783</td>\n",
       "      <td>-0.033151</td>\n",
       "      <td>0.428938</td>\n",
       "      <td>1.000000</td>\n",
       "      <td>-0.463034</td>\n",
       "      <td>0.088081</td>\n",
       "    </tr>\n",
       "    <tr>\n",
       "      <th>poutcome</th>\n",
       "      <td>0.006466</td>\n",
       "      <td>0.007101</td>\n",
       "      <td>-0.019770</td>\n",
       "      <td>-0.019007</td>\n",
       "      <td>0.035067</td>\n",
       "      <td>-0.019629</td>\n",
       "      <td>-0.092677</td>\n",
       "      <td>0.010919</td>\n",
       "      <td>0.272083</td>\n",
       "      <td>0.077586</td>\n",
       "      <td>-0.029369</td>\n",
       "      <td>0.009771</td>\n",
       "      <td>0.100720</td>\n",
       "      <td>-0.857716</td>\n",
       "      <td>-0.463034</td>\n",
       "      <td>1.000000</td>\n",
       "      <td>-0.080895</td>\n",
       "    </tr>\n",
       "    <tr>\n",
       "      <th>subscribed</th>\n",
       "      <td>0.024538</td>\n",
       "      <td>0.038921</td>\n",
       "      <td>0.046043</td>\n",
       "      <td>0.066051</td>\n",
       "      <td>-0.020168</td>\n",
       "      <td>0.050807</td>\n",
       "      <td>-0.141092</td>\n",
       "      <td>-0.072266</td>\n",
       "      <td>-0.150051</td>\n",
       "      <td>-0.029600</td>\n",
       "      <td>-0.028088</td>\n",
       "      <td>0.389838</td>\n",
       "      <td>-0.070607</td>\n",
       "      <td>0.108290</td>\n",
       "      <td>0.088081</td>\n",
       "      <td>-0.080895</td>\n",
       "      <td>1.000000</td>\n",
       "    </tr>\n",
       "  </tbody>\n",
       "</table>\n",
       "</div>"
      ],
      "text/plain": [
       "                 age       job   marital  education   default   balance  \\\n",
       "age         1.000000 -0.020765 -0.406024  -0.102356 -0.016117  0.103245   \n",
       "job        -0.020765  1.000000  0.066124   0.170347 -0.005217  0.020638   \n",
       "marital    -0.406024  0.066124  1.000000   0.107547 -0.009591  0.003487   \n",
       "education  -0.102356  0.170347  0.107547   1.000000 -0.006774  0.065176   \n",
       "default    -0.016117 -0.005217 -0.009591  -0.006774  1.000000 -0.069422   \n",
       "balance     0.103245  0.020638  0.003487   0.065176 -0.069422  1.000000   \n",
       "housing    -0.183775 -0.125347 -0.017846  -0.095376 -0.011823 -0.067466   \n",
       "loan       -0.012657 -0.039049 -0.041654  -0.045950  0.081567 -0.083631   \n",
       "contact     0.026733 -0.078253 -0.040180  -0.112000  0.014053 -0.024083   \n",
       "day        -0.011056  0.020951 -0.007686   0.017902  0.009996  0.003461   \n",
       "month      -0.038368 -0.089384 -0.003834  -0.055967  0.004694  0.023056   \n",
       "duration   -0.003870  0.002694  0.011544   0.003842 -0.010849  0.024274   \n",
       "campaign    0.005733  0.001469 -0.009394   0.006142  0.018538 -0.012032   \n",
       "pdays      -0.021947 -0.022552  0.019741  -0.001566 -0.029622  0.001789   \n",
       "previous    0.005761 -0.003032  0.012717   0.015280 -0.015877  0.013843   \n",
       "poutcome    0.006466  0.007101 -0.019770  -0.019007  0.035067 -0.019629   \n",
       "subscribed  0.024538  0.038921  0.046043   0.066051 -0.020168  0.050807   \n",
       "\n",
       "             housing      loan   contact       day     month  duration  \\\n",
       "age        -0.183775 -0.012657  0.026733 -0.011056 -0.038368 -0.003870   \n",
       "job        -0.125347 -0.039049 -0.078253  0.020951 -0.089384  0.002694   \n",
       "marital    -0.017846 -0.041654 -0.040180 -0.007686 -0.003834  0.011544   \n",
       "education  -0.095376 -0.045950 -0.112000  0.017902 -0.055967  0.003842   \n",
       "default    -0.011823  0.081567  0.014053  0.009996  0.004694 -0.010849   \n",
       "balance    -0.067466 -0.083631 -0.024083  0.003461  0.023056  0.024274   \n",
       "housing     1.000000  0.036244  0.195103 -0.025666  0.271442  0.003021   \n",
       "loan        0.036244  1.000000 -0.009213  0.014769  0.024186 -0.012781   \n",
       "contact     0.195103 -0.009213  1.000000 -0.027046  0.362934 -0.016503   \n",
       "day        -0.025666  0.014769 -0.027046  1.000000 -0.000604 -0.032288   \n",
       "month       0.271442  0.024186  0.362934 -0.000604  1.000000  0.005943   \n",
       "duration    0.003021 -0.012781 -0.016503 -0.032288  0.005943  1.000000   \n",
       "campaign   -0.021076  0.009340  0.022666  0.159168 -0.105428 -0.080305   \n",
       "pdays       0.118790 -0.020078 -0.245076 -0.087626  0.027576  0.000529   \n",
       "previous    0.034231 -0.009258 -0.141098 -0.048752  0.020107  0.001783   \n",
       "poutcome   -0.092677  0.010919  0.272083  0.077586 -0.029369  0.009771   \n",
       "subscribed -0.141092 -0.072266 -0.150051 -0.029600 -0.028088  0.389838   \n",
       "\n",
       "            campaign     pdays  previous  poutcome  subscribed  \n",
       "age         0.005733 -0.021947  0.005761  0.006466    0.024538  \n",
       "job         0.001469 -0.022552 -0.003032  0.007101    0.038921  \n",
       "marital    -0.009394  0.019741  0.012717 -0.019770    0.046043  \n",
       "education   0.006142 -0.001566  0.015280 -0.019007    0.066051  \n",
       "default     0.018538 -0.029622 -0.015877  0.035067   -0.020168  \n",
       "balance    -0.012032  0.001789  0.013843 -0.019629    0.050807  \n",
       "housing    -0.021076  0.118790  0.034231 -0.092677   -0.141092  \n",
       "loan        0.009340 -0.020078 -0.009258  0.010919   -0.072266  \n",
       "contact     0.022666 -0.245076 -0.141098  0.272083   -0.150051  \n",
       "day         0.159168 -0.087626 -0.048752  0.077586   -0.029600  \n",
       "month      -0.105428  0.027576  0.020107 -0.029369   -0.028088  \n",
       "duration   -0.080305  0.000529  0.001783  0.009771    0.389838  \n",
       "campaign    1.000000 -0.087570 -0.033151  0.100720   -0.070607  \n",
       "pdays      -0.087570  1.000000  0.428938 -0.857716    0.108290  \n",
       "previous   -0.033151  0.428938  1.000000 -0.463034    0.088081  \n",
       "poutcome    0.100720 -0.857716 -0.463034  1.000000   -0.080895  \n",
       "subscribed -0.070607  0.108290  0.088081 -0.080895    1.000000  "
      ]
     },
     "execution_count": 36,
     "metadata": {},
     "output_type": "execute_result"
    }
   ],
   "source": [
    "df1cor"
   ]
  },
  {
   "cell_type": "code",
   "execution_count": 37,
   "id": "97f699eb",
   "metadata": {},
   "outputs": [
    {
     "data": {
      "text/plain": [
       "<AxesSubplot:>"
      ]
     },
     "execution_count": 37,
     "metadata": {},
     "output_type": "execute_result"
    },
    {
     "data": {
      "image/png": "[encoded data removed]",
      "text/plain": [
       "<Figure size 1500x1500 with 2 Axes>"
      ]
     },
     "metadata": {},
     "output_type": "display_data"
    }
   ],
   "source": [
    "plt.figure(figsize=(15,15))\n",
    "sns.heatmap(df1cor,cmap='magma',annot=True)"
   ]
  },
  {
   "cell_type": "markdown",
   "id": "3cc3c944",
   "metadata": {},
   "source": [
    "By the above heatmap also, we found that the corelation of target variable with default is only -0.02 and with day is only -0.03 so we can drop both of this columns to reduce some noise in dataset."
   ]
  },
  {
   "cell_type": "code",
   "execution_count": 38,
   "id": "36d518af",
   "metadata": {},
   "outputs": [],
   "source": [
    "df1.drop(['default'],axis=1,inplace=True)"
   ]
  },
  {
   "cell_type": "code",
   "execution_count": 39,
   "id": "109a7dc0",
   "metadata": {},
   "outputs": [],
   "source": [
    "df1.drop(['day'],axis=1,inplace=True)"
   ]
  },
  {
   "cell_type": "code",
   "execution_count": 40,
   "id": "014165af",
   "metadata": {},
   "outputs": [
    {
     "data": {
      "text/html": [
       "<div>\n",
       "<style scoped>\n",
       "    .dataframe tbody tr th:only-of-type {\n",
       "        vertical-align: middle;\n",
       "    }\n",
       "\n",
       "    .dataframe tbody tr th {\n",
       "        vertical-align: top;\n",
       "    }\n",
       "\n",
       "    .dataframe thead th {\n",
       "        text-align: right;\n",
       "    }\n",
       "</style>\n",
       "<table border=\"1\" class=\"dataframe\">\n",
       "  <thead>\n",
       "    <tr style=\"text-align: right;\">\n",
       "      <th></th>\n",
       "      <th>age</th>\n",
       "      <th>job</th>\n",
       "      <th>marital</th>\n",
       "      <th>education</th>\n",
       "      <th>balance</th>\n",
       "      <th>housing</th>\n",
       "      <th>loan</th>\n",
       "      <th>contact</th>\n",
       "      <th>month</th>\n",
       "      <th>duration</th>\n",
       "      <th>campaign</th>\n",
       "      <th>pdays</th>\n",
       "      <th>previous</th>\n",
       "      <th>poutcome</th>\n",
       "      <th>subscribed</th>\n",
       "    </tr>\n",
       "  </thead>\n",
       "  <tbody>\n",
       "    <tr>\n",
       "      <th>0</th>\n",
       "      <td>56</td>\n",
       "      <td>0</td>\n",
       "      <td>1</td>\n",
       "      <td>3</td>\n",
       "      <td>1933</td>\n",
       "      <td>0</td>\n",
       "      <td>0</td>\n",
       "      <td>1</td>\n",
       "      <td>9</td>\n",
       "      <td>44</td>\n",
       "      <td>2</td>\n",
       "      <td>-1</td>\n",
       "      <td>0</td>\n",
       "      <td>3</td>\n",
       "      <td>0</td>\n",
       "    </tr>\n",
       "    <tr>\n",
       "      <th>1</th>\n",
       "      <td>31</td>\n",
       "      <td>11</td>\n",
       "      <td>1</td>\n",
       "      <td>1</td>\n",
       "      <td>3</td>\n",
       "      <td>0</td>\n",
       "      <td>0</td>\n",
       "      <td>0</td>\n",
       "      <td>5</td>\n",
       "      <td>91</td>\n",
       "      <td>2</td>\n",
       "      <td>-1</td>\n",
       "      <td>0</td>\n",
       "      <td>3</td>\n",
       "      <td>0</td>\n",
       "    </tr>\n",
       "    <tr>\n",
       "      <th>2</th>\n",
       "      <td>27</td>\n",
       "      <td>7</td>\n",
       "      <td>1</td>\n",
       "      <td>1</td>\n",
       "      <td>891</td>\n",
       "      <td>1</td>\n",
       "      <td>0</td>\n",
       "      <td>0</td>\n",
       "      <td>5</td>\n",
       "      <td>240</td>\n",
       "      <td>1</td>\n",
       "      <td>-1</td>\n",
       "      <td>0</td>\n",
       "      <td>3</td>\n",
       "      <td>0</td>\n",
       "    </tr>\n",
       "    <tr>\n",
       "      <th>3</th>\n",
       "      <td>57</td>\n",
       "      <td>4</td>\n",
       "      <td>0</td>\n",
       "      <td>2</td>\n",
       "      <td>3287</td>\n",
       "      <td>0</td>\n",
       "      <td>0</td>\n",
       "      <td>0</td>\n",
       "      <td>6</td>\n",
       "      <td>867</td>\n",
       "      <td>1</td>\n",
       "      <td>84</td>\n",
       "      <td>3</td>\n",
       "      <td>2</td>\n",
       "      <td>1</td>\n",
       "    </tr>\n",
       "    <tr>\n",
       "      <th>4</th>\n",
       "      <td>31</td>\n",
       "      <td>9</td>\n",
       "      <td>1</td>\n",
       "      <td>1</td>\n",
       "      <td>119</td>\n",
       "      <td>1</td>\n",
       "      <td>0</td>\n",
       "      <td>0</td>\n",
       "      <td>3</td>\n",
       "      <td>380</td>\n",
       "      <td>1</td>\n",
       "      <td>-1</td>\n",
       "      <td>0</td>\n",
       "      <td>3</td>\n",
       "      <td>0</td>\n",
       "    </tr>\n",
       "    <tr>\n",
       "      <th>...</th>\n",
       "      <td>...</td>\n",
       "      <td>...</td>\n",
       "      <td>...</td>\n",
       "      <td>...</td>\n",
       "      <td>...</td>\n",
       "      <td>...</td>\n",
       "      <td>...</td>\n",
       "      <td>...</td>\n",
       "      <td>...</td>\n",
       "      <td>...</td>\n",
       "      <td>...</td>\n",
       "      <td>...</td>\n",
       "      <td>...</td>\n",
       "      <td>...</td>\n",
       "      <td>...</td>\n",
       "    </tr>\n",
       "    <tr>\n",
       "      <th>31642</th>\n",
       "      <td>29</td>\n",
       "      <td>4</td>\n",
       "      <td>2</td>\n",
       "      <td>2</td>\n",
       "      <td>0</td>\n",
       "      <td>1</td>\n",
       "      <td>0</td>\n",
       "      <td>0</td>\n",
       "      <td>8</td>\n",
       "      <td>116</td>\n",
       "      <td>2</td>\n",
       "      <td>-1</td>\n",
       "      <td>0</td>\n",
       "      <td>3</td>\n",
       "      <td>0</td>\n",
       "    </tr>\n",
       "    <tr>\n",
       "      <th>31643</th>\n",
       "      <td>53</td>\n",
       "      <td>4</td>\n",
       "      <td>0</td>\n",
       "      <td>2</td>\n",
       "      <td>380</td>\n",
       "      <td>0</td>\n",
       "      <td>1</td>\n",
       "      <td>0</td>\n",
       "      <td>6</td>\n",
       "      <td>438</td>\n",
       "      <td>2</td>\n",
       "      <td>-1</td>\n",
       "      <td>0</td>\n",
       "      <td>3</td>\n",
       "      <td>1</td>\n",
       "    </tr>\n",
       "    <tr>\n",
       "      <th>31644</th>\n",
       "      <td>32</td>\n",
       "      <td>4</td>\n",
       "      <td>2</td>\n",
       "      <td>2</td>\n",
       "      <td>312</td>\n",
       "      <td>0</td>\n",
       "      <td>0</td>\n",
       "      <td>0</td>\n",
       "      <td>1</td>\n",
       "      <td>37</td>\n",
       "      <td>3</td>\n",
       "      <td>-1</td>\n",
       "      <td>0</td>\n",
       "      <td>3</td>\n",
       "      <td>0</td>\n",
       "    </tr>\n",
       "    <tr>\n",
       "      <th>31645</th>\n",
       "      <td>57</td>\n",
       "      <td>9</td>\n",
       "      <td>1</td>\n",
       "      <td>1</td>\n",
       "      <td>225</td>\n",
       "      <td>1</td>\n",
       "      <td>0</td>\n",
       "      <td>1</td>\n",
       "      <td>8</td>\n",
       "      <td>22</td>\n",
       "      <td>7</td>\n",
       "      <td>337</td>\n",
       "      <td>12</td>\n",
       "      <td>0</td>\n",
       "      <td>0</td>\n",
       "    </tr>\n",
       "    <tr>\n",
       "      <th>31646</th>\n",
       "      <td>55</td>\n",
       "      <td>4</td>\n",
       "      <td>0</td>\n",
       "      <td>1</td>\n",
       "      <td>204</td>\n",
       "      <td>1</td>\n",
       "      <td>0</td>\n",
       "      <td>0</td>\n",
       "      <td>5</td>\n",
       "      <td>1973</td>\n",
       "      <td>2</td>\n",
       "      <td>-1</td>\n",
       "      <td>0</td>\n",
       "      <td>3</td>\n",
       "      <td>1</td>\n",
       "    </tr>\n",
       "  </tbody>\n",
       "</table>\n",
       "<p>31647 rows × 15 columns</p>\n",
       "</div>"
      ],
      "text/plain": [
       "       age  job  marital  education  balance  housing  loan  contact  month  \\\n",
       "0       56    0        1          3     1933        0     0        1      9   \n",
       "1       31   11        1          1        3        0     0        0      5   \n",
       "2       27    7        1          1      891        1     0        0      5   \n",
       "3       57    4        0          2     3287        0     0        0      6   \n",
       "4       31    9        1          1      119        1     0        0      3   \n",
       "...    ...  ...      ...        ...      ...      ...   ...      ...    ...   \n",
       "31642   29    4        2          2        0        1     0        0      8   \n",
       "31643   53    4        0          2      380        0     1        0      6   \n",
       "31644   32    4        2          2      312        0     0        0      1   \n",
       "31645   57    9        1          1      225        1     0        1      8   \n",
       "31646   55    4        0          1      204        1     0        0      5   \n",
       "\n",
       "       duration  campaign  pdays  previous  poutcome  subscribed  \n",
       "0            44         2     -1         0         3           0  \n",
       "1            91         2     -1         0         3           0  \n",
       "2           240         1     -1         0         3           0  \n",
       "3           867         1     84         3         2           1  \n",
       "4           380         1     -1         0         3           0  \n",
       "...         ...       ...    ...       ...       ...         ...  \n",
       "31642       116         2     -1         0         3           0  \n",
       "31643       438         2     -1         0         3           1  \n",
       "31644        37         3     -1         0         3           0  \n",
       "31645        22         7    337        12         0           0  \n",
       "31646      1973         2     -1         0         3           1  \n",
       "\n",
       "[31647 rows x 15 columns]"
      ]
     },
     "execution_count": 40,
     "metadata": {},
     "output_type": "execute_result"
    }
   ],
   "source": [
    "df1"
   ]
  },
  {
   "cell_type": "markdown",
   "id": "2a3620ee",
   "metadata": {},
   "source": [
    "Now checking the skewness of the current dataset"
   ]
  },
  {
   "cell_type": "code",
   "execution_count": 41,
   "id": "54001b48",
   "metadata": {},
   "outputs": [
    {
     "data": {
      "text/plain": [
       "age            0.681607\n",
       "job            0.264817\n",
       "marital       -0.100071\n",
       "education      0.199441\n",
       "balance        7.995696\n",
       "housing       -0.223918\n",
       "loan           1.833474\n",
       "contact        0.758602\n",
       "month         -0.486498\n",
       "duration       3.199766\n",
       "campaign       4.873935\n",
       "pdays          2.642374\n",
       "previous      49.302348\n",
       "poutcome      -1.996421\n",
       "subscribed     2.377445\n",
       "dtype: float64"
      ]
     },
     "execution_count": 41,
     "metadata": {},
     "output_type": "execute_result"
    }
   ],
   "source": [
    "df1.skew()"
   ]
  },
  {
   "cell_type": "code",
   "execution_count": 42,
   "id": "e2949a7f",
   "metadata": {},
   "outputs": [
    {
     "data": {
      "text/plain": [
       "<AxesSubplot:xlabel='previous', ylabel='Density'>"
      ]
     },
     "execution_count": 42,
     "metadata": {},
     "output_type": "execute_result"
    },
    {
     "data": {
      "image/png": "[encoded data removed]",
      "text/plain": [
       "<Figure size 640x480 with 1 Axes>"
      ]
     },
     "metadata": {},
     "output_type": "display_data"
    }
   ],
   "source": [
    "sns.distplot(df1['previous'])"
   ]
  },
  {
   "cell_type": "markdown",
   "id": "2e04c33d",
   "metadata": {},
   "source": [
    "As the feature \"previous\" is totally one sided data with large skewness of over 49 and the corelation of this column with the target variable is only -0.088. In place of handling this huge skewness and outeirs, we are going to simply drop this column also."
   ]
  },
  {
   "cell_type": "code",
   "execution_count": 43,
   "id": "b02638f4",
   "metadata": {},
   "outputs": [],
   "source": [
    "df1.drop(['previous'],axis=1,inplace=True)"
   ]
  },
  {
   "cell_type": "markdown",
   "id": "54c88f57",
   "metadata": {},
   "source": [
    "As loan, campaign & poutcome corelation with target variable are almost nearby 0 (Zero), So istead of reducing its skewness and outliers, we are going to drop these columns also."
   ]
  },
  {
   "cell_type": "code",
   "execution_count": 44,
   "id": "6db979b1",
   "metadata": {},
   "outputs": [],
   "source": [
    "df1.drop(['loan'],axis=1,inplace=True)"
   ]
  },
  {
   "cell_type": "code",
   "execution_count": 45,
   "id": "bee9f3e4",
   "metadata": {},
   "outputs": [],
   "source": [
    "df1.drop(['campaign'],axis=1,inplace=True)"
   ]
  },
  {
   "cell_type": "code",
   "execution_count": 46,
   "id": "1e9ff6b8",
   "metadata": {},
   "outputs": [],
   "source": [
    "df1.drop(['poutcome'],axis=1,inplace=True)"
   ]
  },
  {
   "cell_type": "code",
   "execution_count": 47,
   "id": "d9ce397b",
   "metadata": {},
   "outputs": [
    {
     "data": {
      "text/html": [
       "<div>\n",
       "<style scoped>\n",
       "    .dataframe tbody tr th:only-of-type {\n",
       "        vertical-align: middle;\n",
       "    }\n",
       "\n",
       "    .dataframe tbody tr th {\n",
       "        vertical-align: top;\n",
       "    }\n",
       "\n",
       "    .dataframe thead th {\n",
       "        text-align: right;\n",
       "    }\n",
       "</style>\n",
       "<table border=\"1\" class=\"dataframe\">\n",
       "  <thead>\n",
       "    <tr style=\"text-align: right;\">\n",
       "      <th></th>\n",
       "      <th>age</th>\n",
       "      <th>job</th>\n",
       "      <th>marital</th>\n",
       "      <th>education</th>\n",
       "      <th>balance</th>\n",
       "      <th>housing</th>\n",
       "      <th>contact</th>\n",
       "      <th>month</th>\n",
       "      <th>duration</th>\n",
       "      <th>pdays</th>\n",
       "      <th>subscribed</th>\n",
       "    </tr>\n",
       "  </thead>\n",
       "  <tbody>\n",
       "    <tr>\n",
       "      <th>0</th>\n",
       "      <td>56</td>\n",
       "      <td>0</td>\n",
       "      <td>1</td>\n",
       "      <td>3</td>\n",
       "      <td>1933</td>\n",
       "      <td>0</td>\n",
       "      <td>1</td>\n",
       "      <td>9</td>\n",
       "      <td>44</td>\n",
       "      <td>-1</td>\n",
       "      <td>0</td>\n",
       "    </tr>\n",
       "    <tr>\n",
       "      <th>1</th>\n",
       "      <td>31</td>\n",
       "      <td>11</td>\n",
       "      <td>1</td>\n",
       "      <td>1</td>\n",
       "      <td>3</td>\n",
       "      <td>0</td>\n",
       "      <td>0</td>\n",
       "      <td>5</td>\n",
       "      <td>91</td>\n",
       "      <td>-1</td>\n",
       "      <td>0</td>\n",
       "    </tr>\n",
       "    <tr>\n",
       "      <th>2</th>\n",
       "      <td>27</td>\n",
       "      <td>7</td>\n",
       "      <td>1</td>\n",
       "      <td>1</td>\n",
       "      <td>891</td>\n",
       "      <td>1</td>\n",
       "      <td>0</td>\n",
       "      <td>5</td>\n",
       "      <td>240</td>\n",
       "      <td>-1</td>\n",
       "      <td>0</td>\n",
       "    </tr>\n",
       "    <tr>\n",
       "      <th>3</th>\n",
       "      <td>57</td>\n",
       "      <td>4</td>\n",
       "      <td>0</td>\n",
       "      <td>2</td>\n",
       "      <td>3287</td>\n",
       "      <td>0</td>\n",
       "      <td>0</td>\n",
       "      <td>6</td>\n",
       "      <td>867</td>\n",
       "      <td>84</td>\n",
       "      <td>1</td>\n",
       "    </tr>\n",
       "    <tr>\n",
       "      <th>4</th>\n",
       "      <td>31</td>\n",
       "      <td>9</td>\n",
       "      <td>1</td>\n",
       "      <td>1</td>\n",
       "      <td>119</td>\n",
       "      <td>1</td>\n",
       "      <td>0</td>\n",
       "      <td>3</td>\n",
       "      <td>380</td>\n",
       "      <td>-1</td>\n",
       "      <td>0</td>\n",
       "    </tr>\n",
       "    <tr>\n",
       "      <th>...</th>\n",
       "      <td>...</td>\n",
       "      <td>...</td>\n",
       "      <td>...</td>\n",
       "      <td>...</td>\n",
       "      <td>...</td>\n",
       "      <td>...</td>\n",
       "      <td>...</td>\n",
       "      <td>...</td>\n",
       "      <td>...</td>\n",
       "      <td>...</td>\n",
       "      <td>...</td>\n",
       "    </tr>\n",
       "    <tr>\n",
       "      <th>31642</th>\n",
       "      <td>29</td>\n",
       "      <td>4</td>\n",
       "      <td>2</td>\n",
       "      <td>2</td>\n",
       "      <td>0</td>\n",
       "      <td>1</td>\n",
       "      <td>0</td>\n",
       "      <td>8</td>\n",
       "      <td>116</td>\n",
       "      <td>-1</td>\n",
       "      <td>0</td>\n",
       "    </tr>\n",
       "    <tr>\n",
       "      <th>31643</th>\n",
       "      <td>53</td>\n",
       "      <td>4</td>\n",
       "      <td>0</td>\n",
       "      <td>2</td>\n",
       "      <td>380</td>\n",
       "      <td>0</td>\n",
       "      <td>0</td>\n",
       "      <td>6</td>\n",
       "      <td>438</td>\n",
       "      <td>-1</td>\n",
       "      <td>1</td>\n",
       "    </tr>\n",
       "    <tr>\n",
       "      <th>31644</th>\n",
       "      <td>32</td>\n",
       "      <td>4</td>\n",
       "      <td>2</td>\n",
       "      <td>2</td>\n",
       "      <td>312</td>\n",
       "      <td>0</td>\n",
       "      <td>0</td>\n",
       "      <td>1</td>\n",
       "      <td>37</td>\n",
       "      <td>-1</td>\n",
       "      <td>0</td>\n",
       "    </tr>\n",
       "    <tr>\n",
       "      <th>31645</th>\n",
       "      <td>57</td>\n",
       "      <td>9</td>\n",
       "      <td>1</td>\n",
       "      <td>1</td>\n",
       "      <td>225</td>\n",
       "      <td>1</td>\n",
       "      <td>1</td>\n",
       "      <td>8</td>\n",
       "      <td>22</td>\n",
       "      <td>337</td>\n",
       "      <td>0</td>\n",
       "    </tr>\n",
       "    <tr>\n",
       "      <th>31646</th>\n",
       "      <td>55</td>\n",
       "      <td>4</td>\n",
       "      <td>0</td>\n",
       "      <td>1</td>\n",
       "      <td>204</td>\n",
       "      <td>1</td>\n",
       "      <td>0</td>\n",
       "      <td>5</td>\n",
       "      <td>1973</td>\n",
       "      <td>-1</td>\n",
       "      <td>1</td>\n",
       "    </tr>\n",
       "  </tbody>\n",
       "</table>\n",
       "<p>31647 rows × 11 columns</p>\n",
       "</div>"
      ],
      "text/plain": [
       "       age  job  marital  education  balance  housing  contact  month  \\\n",
       "0       56    0        1          3     1933        0        1      9   \n",
       "1       31   11        1          1        3        0        0      5   \n",
       "2       27    7        1          1      891        1        0      5   \n",
       "3       57    4        0          2     3287        0        0      6   \n",
       "4       31    9        1          1      119        1        0      3   \n",
       "...    ...  ...      ...        ...      ...      ...      ...    ...   \n",
       "31642   29    4        2          2        0        1        0      8   \n",
       "31643   53    4        0          2      380        0        0      6   \n",
       "31644   32    4        2          2      312        0        0      1   \n",
       "31645   57    9        1          1      225        1        1      8   \n",
       "31646   55    4        0          1      204        1        0      5   \n",
       "\n",
       "       duration  pdays  subscribed  \n",
       "0            44     -1           0  \n",
       "1            91     -1           0  \n",
       "2           240     -1           0  \n",
       "3           867     84           1  \n",
       "4           380     -1           0  \n",
       "...         ...    ...         ...  \n",
       "31642       116     -1           0  \n",
       "31643       438     -1           1  \n",
       "31644        37     -1           0  \n",
       "31645        22    337           0  \n",
       "31646      1973     -1           1  \n",
       "\n",
       "[31647 rows x 11 columns]"
      ]
     },
     "execution_count": 47,
     "metadata": {},
     "output_type": "execute_result"
    }
   ],
   "source": [
    "df1"
   ]
  },
  {
   "cell_type": "code",
   "execution_count": 48,
   "id": "9e74a6a6",
   "metadata": {},
   "outputs": [
    {
     "data": {
      "text/plain": [
       "age           0.681607\n",
       "job           0.264817\n",
       "marital      -0.100071\n",
       "education     0.199441\n",
       "balance       7.995696\n",
       "housing      -0.223918\n",
       "contact       0.758602\n",
       "month        -0.486498\n",
       "duration      3.199766\n",
       "pdays         2.642374\n",
       "subscribed    2.377445\n",
       "dtype: float64"
      ]
     },
     "execution_count": 48,
     "metadata": {},
     "output_type": "execute_result"
    }
   ],
   "source": [
    "df1.skew()"
   ]
  },
  {
   "cell_type": "markdown",
   "id": "4b094a4f",
   "metadata": {},
   "source": [
    "Now we are going to handle with the most skewed feature of the remaining dataset"
   ]
  },
  {
   "cell_type": "code",
   "execution_count": 49,
   "id": "e5b8c8aa",
   "metadata": {},
   "outputs": [
    {
     "data": {
      "text/plain": [
       "<AxesSubplot:xlabel='balance', ylabel='Density'>"
      ]
     },
     "execution_count": 49,
     "metadata": {},
     "output_type": "execute_result"
    },
    {
     "data": {
      "image/png": "[encoded data removed]",
      "text/plain": [
       "<Figure size 640x480 with 1 Axes>"
      ]
     },
     "metadata": {},
     "output_type": "display_data"
    }
   ],
   "source": [
    "sns.distplot(df1['balance'])"
   ]
  },
  {
   "cell_type": "code",
   "execution_count": 50,
   "id": "34311403",
   "metadata": {},
   "outputs": [],
   "source": [
    "df1['balance']=boxcox(df1['balance'],.5)"
   ]
  },
  {
   "cell_type": "code",
   "execution_count": 51,
   "id": "cf52e013",
   "metadata": {},
   "outputs": [
    {
     "data": {
      "text/plain": [
       "<AxesSubplot:xlabel='balance', ylabel='Density'>"
      ]
     },
     "execution_count": 51,
     "metadata": {},
     "output_type": "execute_result"
    },
    {
     "data": {
      "image/png": "[encoded data removed]",
      "text/plain": [
       "<Figure size 640x480 with 1 Axes>"
      ]
     },
     "metadata": {},
     "output_type": "display_data"
    }
   ],
   "source": [
    "sns.distplot(df1['balance'])"
   ]
  },
  {
   "cell_type": "code",
   "execution_count": 52,
   "id": "493a703b",
   "metadata": {},
   "outputs": [
    {
     "data": {
      "text/plain": [
       "<AxesSubplot:xlabel='duration', ylabel='Density'>"
      ]
     },
     "execution_count": 52,
     "metadata": {},
     "output_type": "execute_result"
    },
    {
     "data": {
      "image/png": "[encoded data removed]",
      "text/plain": [
       "<Figure size 640x480 with 1 Axes>"
      ]
     },
     "metadata": {},
     "output_type": "display_data"
    }
   ],
   "source": [
    "sns.distplot(df1['duration'])"
   ]
  },
  {
   "cell_type": "code",
   "execution_count": 53,
   "id": "d4cbe7a3",
   "metadata": {},
   "outputs": [],
   "source": [
    "df1['duration']=boxcox(df1['duration'],.5)"
   ]
  },
  {
   "cell_type": "code",
   "execution_count": 54,
   "id": "8dbb9123",
   "metadata": {},
   "outputs": [
    {
     "data": {
      "text/plain": [
       "<AxesSubplot:xlabel='duration', ylabel='Density'>"
      ]
     },
     "execution_count": 54,
     "metadata": {},
     "output_type": "execute_result"
    },
    {
     "data": {
      "image/png": "[encoded data removed]",
      "text/plain": [
       "<Figure size 640x480 with 1 Axes>"
      ]
     },
     "metadata": {},
     "output_type": "display_data"
    }
   ],
   "source": [
    "sns.distplot(df1['duration'])"
   ]
  },
  {
   "cell_type": "code",
   "execution_count": 55,
   "id": "9a12de1f",
   "metadata": {},
   "outputs": [
    {
     "data": {
      "text/plain": [
       "<AxesSubplot:xlabel='pdays', ylabel='Density'>"
      ]
     },
     "execution_count": 55,
     "metadata": {},
     "output_type": "execute_result"
    },
    {
     "data": {
      "image/png": "[encoded data removed]",
      "text/plain": [
       "<Figure size 640x480 with 1 Axes>"
      ]
     },
     "metadata": {},
     "output_type": "display_data"
    }
   ],
   "source": [
    "sns.distplot(df1['pdays'])"
   ]
  },
  {
   "cell_type": "code",
   "execution_count": 56,
   "id": "81160c2f",
   "metadata": {},
   "outputs": [],
   "source": [
    "df1['pdays']=boxcox(df1['pdays'],.5)"
   ]
  },
  {
   "cell_type": "code",
   "execution_count": 57,
   "id": "77f60f89",
   "metadata": {},
   "outputs": [
    {
     "data": {
      "text/plain": [
       "<AxesSubplot:xlabel='pdays', ylabel='Density'>"
      ]
     },
     "execution_count": 57,
     "metadata": {},
     "output_type": "execute_result"
    },
    {
     "data": {
      "image/png": "[encoded data removed]",
      "text/plain": [
       "<Figure size 640x480 with 1 Axes>"
      ]
     },
     "metadata": {},
     "output_type": "display_data"
    }
   ],
   "source": [
    "sns.distplot(df1['pdays'])"
   ]
  },
  {
   "cell_type": "code",
   "execution_count": 58,
   "id": "f81ea708",
   "metadata": {},
   "outputs": [
    {
     "data": {
      "text/plain": [
       "age           0.681607\n",
       "job           0.264817\n",
       "marital      -0.100071\n",
       "education     0.199441\n",
       "balance       1.886565\n",
       "housing      -0.223918\n",
       "contact       0.758602\n",
       "month        -0.486498\n",
       "duration      1.179872\n",
       "pdays        -0.288665\n",
       "subscribed    2.377445\n",
       "dtype: float64"
      ]
     },
     "execution_count": 58,
     "metadata": {},
     "output_type": "execute_result"
    }
   ],
   "source": [
    "df1.skew()"
   ]
  },
  {
   "cell_type": "markdown",
   "id": "b591a67c",
   "metadata": {},
   "source": [
    "Now all the skewness values are above -1 and below 1 which are ok. So we are going to check that whether the zscore value than value 3 both side or in between the normal distribution."
   ]
  },
  {
   "cell_type": "code",
   "execution_count": 59,
   "id": "06edfc6d",
   "metadata": {},
   "outputs": [
    {
     "data": {
      "text/html": [
       "<div>\n",
       "<style scoped>\n",
       "    .dataframe tbody tr th:only-of-type {\n",
       "        vertical-align: middle;\n",
       "    }\n",
       "\n",
       "    .dataframe tbody tr th {\n",
       "        vertical-align: top;\n",
       "    }\n",
       "\n",
       "    .dataframe thead th {\n",
       "        text-align: right;\n",
       "    }\n",
       "</style>\n",
       "<table border=\"1\" class=\"dataframe\">\n",
       "  <thead>\n",
       "    <tr style=\"text-align: right;\">\n",
       "      <th></th>\n",
       "      <th>age</th>\n",
       "      <th>job</th>\n",
       "      <th>marital</th>\n",
       "      <th>education</th>\n",
       "      <th>balance</th>\n",
       "      <th>housing</th>\n",
       "      <th>contact</th>\n",
       "      <th>month</th>\n",
       "      <th>duration</th>\n",
       "      <th>pdays</th>\n",
       "      <th>subscribed</th>\n",
       "    </tr>\n",
       "  </thead>\n",
       "  <tbody>\n",
       "    <tr>\n",
       "      <th>0</th>\n",
       "      <td>1.415793</td>\n",
       "      <td>1.324317</td>\n",
       "      <td>0.275405</td>\n",
       "      <td>2.369229</td>\n",
       "      <td>NaN</td>\n",
       "      <td>1.118201</td>\n",
       "      <td>0.395076</td>\n",
       "      <td>1.154007</td>\n",
       "      <td>1.209649</td>\n",
       "      <td>NaN</td>\n",
       "      <td>0.364694</td>\n",
       "    </tr>\n",
       "    <tr>\n",
       "      <th>1</th>\n",
       "      <td>0.937156</td>\n",
       "      <td>2.037729</td>\n",
       "      <td>0.275405</td>\n",
       "      <td>0.300345</td>\n",
       "      <td>NaN</td>\n",
       "      <td>1.118201</td>\n",
       "      <td>0.716695</td>\n",
       "      <td>0.177462</td>\n",
       "      <td>0.770554</td>\n",
       "      <td>NaN</td>\n",
       "      <td>0.364694</td>\n",
       "    </tr>\n",
       "    <tr>\n",
       "      <th>2</th>\n",
       "      <td>1.313627</td>\n",
       "      <td>0.815167</td>\n",
       "      <td>0.275405</td>\n",
       "      <td>0.300345</td>\n",
       "      <td>NaN</td>\n",
       "      <td>0.894294</td>\n",
       "      <td>0.716695</td>\n",
       "      <td>0.177462</td>\n",
       "      <td>0.128826</td>\n",
       "      <td>NaN</td>\n",
       "      <td>0.364694</td>\n",
       "    </tr>\n",
       "    <tr>\n",
       "      <th>3</th>\n",
       "      <td>1.509911</td>\n",
       "      <td>0.101755</td>\n",
       "      <td>1.922374</td>\n",
       "      <td>1.034442</td>\n",
       "      <td>NaN</td>\n",
       "      <td>1.118201</td>\n",
       "      <td>0.716695</td>\n",
       "      <td>0.155405</td>\n",
       "      <td>2.237000</td>\n",
       "      <td>NaN</td>\n",
       "      <td>2.742026</td>\n",
       "    </tr>\n",
       "    <tr>\n",
       "      <th>4</th>\n",
       "      <td>0.937156</td>\n",
       "      <td>1.426448</td>\n",
       "      <td>0.275405</td>\n",
       "      <td>0.300345</td>\n",
       "      <td>NaN</td>\n",
       "      <td>0.894294</td>\n",
       "      <td>0.716695</td>\n",
       "      <td>0.843197</td>\n",
       "      <td>0.733443</td>\n",
       "      <td>NaN</td>\n",
       "      <td>0.364694</td>\n",
       "    </tr>\n",
       "    <tr>\n",
       "      <th>...</th>\n",
       "      <td>...</td>\n",
       "      <td>...</td>\n",
       "      <td>...</td>\n",
       "      <td>...</td>\n",
       "      <td>...</td>\n",
       "      <td>...</td>\n",
       "      <td>...</td>\n",
       "      <td>...</td>\n",
       "      <td>...</td>\n",
       "      <td>...</td>\n",
       "      <td>...</td>\n",
       "    </tr>\n",
       "    <tr>\n",
       "      <th>31642</th>\n",
       "      <td>1.125392</td>\n",
       "      <td>0.101755</td>\n",
       "      <td>1.371563</td>\n",
       "      <td>1.034442</td>\n",
       "      <td>NaN</td>\n",
       "      <td>0.894294</td>\n",
       "      <td>0.716695</td>\n",
       "      <td>0.821140</td>\n",
       "      <td>0.584570</td>\n",
       "      <td>NaN</td>\n",
       "      <td>0.364694</td>\n",
       "    </tr>\n",
       "    <tr>\n",
       "      <th>31643</th>\n",
       "      <td>1.133439</td>\n",
       "      <td>0.101755</td>\n",
       "      <td>1.922374</td>\n",
       "      <td>1.034442</td>\n",
       "      <td>NaN</td>\n",
       "      <td>1.118201</td>\n",
       "      <td>0.716695</td>\n",
       "      <td>0.155405</td>\n",
       "      <td>0.950239</td>\n",
       "      <td>NaN</td>\n",
       "      <td>2.742026</td>\n",
       "    </tr>\n",
       "    <tr>\n",
       "      <th>31644</th>\n",
       "      <td>0.843038</td>\n",
       "      <td>0.101755</td>\n",
       "      <td>1.371563</td>\n",
       "      <td>1.034442</td>\n",
       "      <td>NaN</td>\n",
       "      <td>1.118201</td>\n",
       "      <td>0.716695</td>\n",
       "      <td>1.508931</td>\n",
       "      <td>1.292823</td>\n",
       "      <td>NaN</td>\n",
       "      <td>0.364694</td>\n",
       "    </tr>\n",
       "    <tr>\n",
       "      <th>31645</th>\n",
       "      <td>1.509911</td>\n",
       "      <td>1.426448</td>\n",
       "      <td>0.275405</td>\n",
       "      <td>0.300345</td>\n",
       "      <td>NaN</td>\n",
       "      <td>0.894294</td>\n",
       "      <td>0.395076</td>\n",
       "      <td>0.821140</td>\n",
       "      <td>1.503195</td>\n",
       "      <td>NaN</td>\n",
       "      <td>0.364694</td>\n",
       "    </tr>\n",
       "    <tr>\n",
       "      <th>31646</th>\n",
       "      <td>1.321675</td>\n",
       "      <td>0.101755</td>\n",
       "      <td>1.922374</td>\n",
       "      <td>0.300345</td>\n",
       "      <td>NaN</td>\n",
       "      <td>0.894294</td>\n",
       "      <td>0.716695</td>\n",
       "      <td>0.177462</td>\n",
       "      <td>4.499388</td>\n",
       "      <td>NaN</td>\n",
       "      <td>2.742026</td>\n",
       "    </tr>\n",
       "  </tbody>\n",
       "</table>\n",
       "<p>31647 rows × 11 columns</p>\n",
       "</div>"
      ],
      "text/plain": [
       "            age       job   marital  education  balance   housing   contact  \\\n",
       "0      1.415793  1.324317  0.275405   2.369229      NaN  1.118201  0.395076   \n",
       "1      0.937156  2.037729  0.275405   0.300345      NaN  1.118201  0.716695   \n",
       "2      1.313627  0.815167  0.275405   0.300345      NaN  0.894294  0.716695   \n",
       "3      1.509911  0.101755  1.922374   1.034442      NaN  1.118201  0.716695   \n",
       "4      0.937156  1.426448  0.275405   0.300345      NaN  0.894294  0.716695   \n",
       "...         ...       ...       ...        ...      ...       ...       ...   \n",
       "31642  1.125392  0.101755  1.371563   1.034442      NaN  0.894294  0.716695   \n",
       "31643  1.133439  0.101755  1.922374   1.034442      NaN  1.118201  0.716695   \n",
       "31644  0.843038  0.101755  1.371563   1.034442      NaN  1.118201  0.716695   \n",
       "31645  1.509911  1.426448  0.275405   0.300345      NaN  0.894294  0.395076   \n",
       "31646  1.321675  0.101755  1.922374   0.300345      NaN  0.894294  0.716695   \n",
       "\n",
       "          month  duration  pdays  subscribed  \n",
       "0      1.154007  1.209649    NaN    0.364694  \n",
       "1      0.177462  0.770554    NaN    0.364694  \n",
       "2      0.177462  0.128826    NaN    0.364694  \n",
       "3      0.155405  2.237000    NaN    2.742026  \n",
       "4      0.843197  0.733443    NaN    0.364694  \n",
       "...         ...       ...    ...         ...  \n",
       "31642  0.821140  0.584570    NaN    0.364694  \n",
       "31643  0.155405  0.950239    NaN    2.742026  \n",
       "31644  1.508931  1.292823    NaN    0.364694  \n",
       "31645  0.821140  1.503195    NaN    0.364694  \n",
       "31646  0.177462  4.499388    NaN    2.742026  \n",
       "\n",
       "[31647 rows x 11 columns]"
      ]
     },
     "execution_count": 59,
     "metadata": {},
     "output_type": "execute_result"
    }
   ],
   "source": [
    "z=np.abs(zscore(df1))\n",
    "z"
   ]
  },
  {
   "cell_type": "code",
   "execution_count": 60,
   "id": "c29ee4c4",
   "metadata": {},
   "outputs": [
    {
     "data": {
      "text/html": [
       "<div>\n",
       "<style scoped>\n",
       "    .dataframe tbody tr th:only-of-type {\n",
       "        vertical-align: middle;\n",
       "    }\n",
       "\n",
       "    .dataframe tbody tr th {\n",
       "        vertical-align: top;\n",
       "    }\n",
       "\n",
       "    .dataframe thead th {\n",
       "        text-align: right;\n",
       "    }\n",
       "</style>\n",
       "<table border=\"1\" class=\"dataframe\">\n",
       "  <thead>\n",
       "    <tr style=\"text-align: right;\">\n",
       "      <th></th>\n",
       "      <th>age</th>\n",
       "      <th>job</th>\n",
       "      <th>marital</th>\n",
       "      <th>education</th>\n",
       "      <th>balance</th>\n",
       "      <th>housing</th>\n",
       "      <th>contact</th>\n",
       "      <th>month</th>\n",
       "      <th>duration</th>\n",
       "      <th>pdays</th>\n",
       "      <th>subscribed</th>\n",
       "    </tr>\n",
       "  </thead>\n",
       "  <tbody>\n",
       "  </tbody>\n",
       "</table>\n",
       "</div>"
      ],
      "text/plain": [
       "Empty DataFrame\n",
       "Columns: [age, job, marital, education, balance, housing, contact, month, duration, pdays, subscribed]\n",
       "Index: []"
      ]
     },
     "execution_count": 60,
     "metadata": {},
     "output_type": "execute_result"
    }
   ],
   "source": [
    "check_below_zscore=df1[(z<3).all(axis=1)]\n",
    "check_below_zscore"
   ]
  },
  {
   "cell_type": "markdown",
   "id": "fdba5966",
   "metadata": {},
   "source": [
    "By above we found that all the data are between 3 value of zscore both sides. So we will use the same df1 for making our ML model."
   ]
  },
  {
   "cell_type": "code",
   "execution_count": 61,
   "id": "9abc5a21",
   "metadata": {},
   "outputs": [
    {
     "data": {
      "text/plain": [
       "age               0\n",
       "job               0\n",
       "marital           0\n",
       "education         0\n",
       "balance        2665\n",
       "housing           0\n",
       "contact           0\n",
       "month             0\n",
       "duration          0\n",
       "pdays         25924\n",
       "subscribed        0\n",
       "dtype: int64"
      ]
     },
     "execution_count": 61,
     "metadata": {},
     "output_type": "execute_result"
    }
   ],
   "source": [
    "df1.isnull().sum()"
   ]
  },
  {
   "cell_type": "markdown",
   "id": "80da7973",
   "metadata": {},
   "source": [
    "By using the boxcox method, 2 columns \"balance\" and \"pday\" again got the missing values. So we are replacing these NaN values with 0 (Zero) for making our ML model predictable."
   ]
  },
  {
   "cell_type": "code",
   "execution_count": 62,
   "id": "6585e1a8",
   "metadata": {},
   "outputs": [],
   "source": [
    "df1['balance']=df1['balance'].fillna(0)"
   ]
  },
  {
   "cell_type": "code",
   "execution_count": 63,
   "id": "8d60082b",
   "metadata": {},
   "outputs": [],
   "source": [
    "df1['pdays']=df1['pdays'].fillna(0)"
   ]
  },
  {
   "cell_type": "code",
   "execution_count": 64,
   "id": "740a6096",
   "metadata": {},
   "outputs": [
    {
     "data": {
      "text/plain": [
       "age           0\n",
       "job           0\n",
       "marital       0\n",
       "education     0\n",
       "balance       0\n",
       "housing       0\n",
       "contact       0\n",
       "month         0\n",
       "duration      0\n",
       "pdays         0\n",
       "subscribed    0\n",
       "dtype: int64"
      ]
     },
     "execution_count": 64,
     "metadata": {},
     "output_type": "execute_result"
    }
   ],
   "source": [
    "df1.isnull().sum()"
   ]
  },
  {
   "cell_type": "code",
   "execution_count": 65,
   "id": "a750d0f1",
   "metadata": {},
   "outputs": [
    {
     "data": {
      "text/html": [
       "<div>\n",
       "<style scoped>\n",
       "    .dataframe tbody tr th:only-of-type {\n",
       "        vertical-align: middle;\n",
       "    }\n",
       "\n",
       "    .dataframe tbody tr th {\n",
       "        vertical-align: top;\n",
       "    }\n",
       "\n",
       "    .dataframe thead th {\n",
       "        text-align: right;\n",
       "    }\n",
       "</style>\n",
       "<table border=\"1\" class=\"dataframe\">\n",
       "  <thead>\n",
       "    <tr style=\"text-align: right;\">\n",
       "      <th></th>\n",
       "      <th>age</th>\n",
       "      <th>job</th>\n",
       "      <th>marital</th>\n",
       "      <th>education</th>\n",
       "      <th>balance</th>\n",
       "      <th>housing</th>\n",
       "      <th>contact</th>\n",
       "      <th>month</th>\n",
       "      <th>duration</th>\n",
       "      <th>pdays</th>\n",
       "      <th>subscribed</th>\n",
       "    </tr>\n",
       "  </thead>\n",
       "  <tbody>\n",
       "    <tr>\n",
       "      <th>0</th>\n",
       "      <td>56</td>\n",
       "      <td>0</td>\n",
       "      <td>1</td>\n",
       "      <td>3</td>\n",
       "      <td>85.931792</td>\n",
       "      <td>0</td>\n",
       "      <td>1</td>\n",
       "      <td>9</td>\n",
       "      <td>11.266499</td>\n",
       "      <td>0.000000</td>\n",
       "      <td>0</td>\n",
       "    </tr>\n",
       "    <tr>\n",
       "      <th>1</th>\n",
       "      <td>31</td>\n",
       "      <td>11</td>\n",
       "      <td>1</td>\n",
       "      <td>1</td>\n",
       "      <td>1.464102</td>\n",
       "      <td>0</td>\n",
       "      <td>0</td>\n",
       "      <td>5</td>\n",
       "      <td>17.078784</td>\n",
       "      <td>0.000000</td>\n",
       "      <td>0</td>\n",
       "    </tr>\n",
       "    <tr>\n",
       "      <th>2</th>\n",
       "      <td>27</td>\n",
       "      <td>7</td>\n",
       "      <td>1</td>\n",
       "      <td>1</td>\n",
       "      <td>57.699246</td>\n",
       "      <td>1</td>\n",
       "      <td>0</td>\n",
       "      <td>5</td>\n",
       "      <td>28.983867</td>\n",
       "      <td>0.000000</td>\n",
       "      <td>0</td>\n",
       "    </tr>\n",
       "    <tr>\n",
       "      <th>3</th>\n",
       "      <td>57</td>\n",
       "      <td>4</td>\n",
       "      <td>0</td>\n",
       "      <td>2</td>\n",
       "      <td>112.664729</td>\n",
       "      <td>0</td>\n",
       "      <td>0</td>\n",
       "      <td>6</td>\n",
       "      <td>56.889727</td>\n",
       "      <td>16.330303</td>\n",
       "      <td>1</td>\n",
       "    </tr>\n",
       "    <tr>\n",
       "      <th>4</th>\n",
       "      <td>31</td>\n",
       "      <td>9</td>\n",
       "      <td>1</td>\n",
       "      <td>1</td>\n",
       "      <td>19.817424</td>\n",
       "      <td>1</td>\n",
       "      <td>0</td>\n",
       "      <td>3</td>\n",
       "      <td>36.987177</td>\n",
       "      <td>0.000000</td>\n",
       "      <td>0</td>\n",
       "    </tr>\n",
       "    <tr>\n",
       "      <th>...</th>\n",
       "      <td>...</td>\n",
       "      <td>...</td>\n",
       "      <td>...</td>\n",
       "      <td>...</td>\n",
       "      <td>...</td>\n",
       "      <td>...</td>\n",
       "      <td>...</td>\n",
       "      <td>...</td>\n",
       "      <td>...</td>\n",
       "      <td>...</td>\n",
       "      <td>...</td>\n",
       "    </tr>\n",
       "    <tr>\n",
       "      <th>31642</th>\n",
       "      <td>29</td>\n",
       "      <td>4</td>\n",
       "      <td>2</td>\n",
       "      <td>2</td>\n",
       "      <td>-2.000000</td>\n",
       "      <td>1</td>\n",
       "      <td>0</td>\n",
       "      <td>8</td>\n",
       "      <td>19.540659</td>\n",
       "      <td>0.000000</td>\n",
       "      <td>0</td>\n",
       "    </tr>\n",
       "    <tr>\n",
       "      <th>31643</th>\n",
       "      <td>53</td>\n",
       "      <td>4</td>\n",
       "      <td>0</td>\n",
       "      <td>2</td>\n",
       "      <td>36.987177</td>\n",
       "      <td>0</td>\n",
       "      <td>0</td>\n",
       "      <td>6</td>\n",
       "      <td>39.856899</td>\n",
       "      <td>0.000000</td>\n",
       "      <td>1</td>\n",
       "    </tr>\n",
       "    <tr>\n",
       "      <th>31644</th>\n",
       "      <td>32</td>\n",
       "      <td>4</td>\n",
       "      <td>2</td>\n",
       "      <td>2</td>\n",
       "      <td>33.327043</td>\n",
       "      <td>0</td>\n",
       "      <td>0</td>\n",
       "      <td>1</td>\n",
       "      <td>10.165525</td>\n",
       "      <td>0.000000</td>\n",
       "      <td>0</td>\n",
       "    </tr>\n",
       "    <tr>\n",
       "      <th>31645</th>\n",
       "      <td>57</td>\n",
       "      <td>9</td>\n",
       "      <td>1</td>\n",
       "      <td>1</td>\n",
       "      <td>28.000000</td>\n",
       "      <td>1</td>\n",
       "      <td>1</td>\n",
       "      <td>8</td>\n",
       "      <td>7.380832</td>\n",
       "      <td>34.715120</td>\n",
       "      <td>0</td>\n",
       "    </tr>\n",
       "    <tr>\n",
       "      <th>31646</th>\n",
       "      <td>55</td>\n",
       "      <td>4</td>\n",
       "      <td>0</td>\n",
       "      <td>1</td>\n",
       "      <td>26.565714</td>\n",
       "      <td>1</td>\n",
       "      <td>0</td>\n",
       "      <td>5</td>\n",
       "      <td>86.836929</td>\n",
       "      <td>0.000000</td>\n",
       "      <td>1</td>\n",
       "    </tr>\n",
       "  </tbody>\n",
       "</table>\n",
       "<p>31647 rows × 11 columns</p>\n",
       "</div>"
      ],
      "text/plain": [
       "       age  job  marital  education     balance  housing  contact  month  \\\n",
       "0       56    0        1          3   85.931792        0        1      9   \n",
       "1       31   11        1          1    1.464102        0        0      5   \n",
       "2       27    7        1          1   57.699246        1        0      5   \n",
       "3       57    4        0          2  112.664729        0        0      6   \n",
       "4       31    9        1          1   19.817424        1        0      3   \n",
       "...    ...  ...      ...        ...         ...      ...      ...    ...   \n",
       "31642   29    4        2          2   -2.000000        1        0      8   \n",
       "31643   53    4        0          2   36.987177        0        0      6   \n",
       "31644   32    4        2          2   33.327043        0        0      1   \n",
       "31645   57    9        1          1   28.000000        1        1      8   \n",
       "31646   55    4        0          1   26.565714        1        0      5   \n",
       "\n",
       "        duration      pdays  subscribed  \n",
       "0      11.266499   0.000000           0  \n",
       "1      17.078784   0.000000           0  \n",
       "2      28.983867   0.000000           0  \n",
       "3      56.889727  16.330303           1  \n",
       "4      36.987177   0.000000           0  \n",
       "...          ...        ...         ...  \n",
       "31642  19.540659   0.000000           0  \n",
       "31643  39.856899   0.000000           1  \n",
       "31644  10.165525   0.000000           0  \n",
       "31645   7.380832  34.715120           0  \n",
       "31646  86.836929   0.000000           1  \n",
       "\n",
       "[31647 rows x 11 columns]"
      ]
     },
     "execution_count": 65,
     "metadata": {},
     "output_type": "execute_result"
    }
   ],
   "source": [
    "df1"
   ]
  },
  {
   "cell_type": "code",
   "execution_count": 66,
   "id": "985ef15d",
   "metadata": {},
   "outputs": [
    {
     "data": {
      "text/plain": [
       "age           0.681607\n",
       "job           0.264817\n",
       "marital      -0.100071\n",
       "education     0.199441\n",
       "balance       1.867688\n",
       "housing      -0.223918\n",
       "contact       0.758602\n",
       "month        -0.486498\n",
       "duration      1.179872\n",
       "pdays         2.006395\n",
       "subscribed    2.377445\n",
       "dtype: float64"
      ]
     },
     "execution_count": 66,
     "metadata": {},
     "output_type": "execute_result"
    }
   ],
   "source": [
    "df1.skew()"
   ]
  },
  {
   "cell_type": "markdown",
   "id": "b63a8505",
   "metadata": {},
   "source": [
    "The skewness is now not much more and is enough for our further process."
   ]
  },
  {
   "cell_type": "code",
   "execution_count": 67,
   "id": "7fa163b9",
   "metadata": {},
   "outputs": [],
   "source": [
    "x=df1.iloc[:,0:-1]"
   ]
  },
  {
   "cell_type": "code",
   "execution_count": 68,
   "id": "7d1374e5",
   "metadata": {},
   "outputs": [
    {
     "data": {
      "text/plain": [
       "(31647, 10)"
      ]
     },
     "execution_count": 68,
     "metadata": {},
     "output_type": "execute_result"
    }
   ],
   "source": [
    "x.shape"
   ]
  },
  {
   "cell_type": "code",
   "execution_count": 69,
   "id": "4259ba4b",
   "metadata": {},
   "outputs": [],
   "source": [
    "y=df1.iloc[:,-1]"
   ]
  },
  {
   "cell_type": "code",
   "execution_count": 70,
   "id": "ef7c8b34",
   "metadata": {},
   "outputs": [
    {
     "data": {
      "text/plain": [
       "(31647,)"
      ]
     },
     "execution_count": 70,
     "metadata": {},
     "output_type": "execute_result"
    }
   ],
   "source": [
    "y.shape"
   ]
  },
  {
   "cell_type": "code",
   "execution_count": 71,
   "id": "48caa369",
   "metadata": {},
   "outputs": [],
   "source": [
    "lr=LogisticRegression()"
   ]
  },
  {
   "cell_type": "code",
   "execution_count": 72,
   "id": "00ba40cd",
   "metadata": {},
   "outputs": [
    {
     "name": "stdout",
     "output_type": "stream",
     "text": [
      "0.8886255924170616\n",
      "0.8868878357030016\n",
      "0.8883096366508689\n",
      "0.8873617693522907\n",
      "0.8890995260663507\n",
      "0.8919431279620853\n",
      "0.8860979462875197\n",
      "0.8872037914691943\n",
      "0.8921011058451817\n",
      "0.8894154818325435\n",
      "0.8938388625592417\n",
      "0.8846761453396524\n",
      "0.8867298578199052\n",
      "0.8837282780410742\n",
      "0.8911532385466034\n",
      "0.8968404423380727\n",
      "0.8842022116903634\n",
      "0.8870458135860979\n",
      "0.8889415481832543\n",
      "0.8848341232227488\n",
      "0.8879936808846761\n",
      "0.888783570300158\n",
      "0.8873617693522907\n",
      "0.8830963665086888\n",
      "0.8837282780410742\n",
      "0.8914691943127963\n",
      "0.8914691943127963\n",
      "0.8886255924170616\n",
      "0.8856240126382307\n",
      "0.8927330173775672\n",
      "0.8881516587677725\n",
      "0.8889415481832543\n",
      "0.8872037914691943\n",
      "0.8911532385466034\n",
      "0.885781990521327\n",
      "0.8830963665086888\n",
      "0.890521327014218\n",
      "0.8865718799368089\n",
      "0.8830963665086888\n",
      "0.890521327014218\n",
      "0.882780410742496\n",
      "0.8878357030015798\n",
      "0.8876777251184834\n",
      "0.8842022116903634\n",
      "0.8886255924170616\n",
      "0.8928909952606635\n",
      "0.8943127962085308\n",
      "0.8897314375987362\n",
      "0.8851500789889416\n",
      "0.8854660347551343\n"
     ]
    }
   ],
   "source": [
    "for i in range(0,50):\n",
    "    xtrain,xtest,ytrain,ytest=train_test_split(x,y,test_size=0.20,random_state=i)\n",
    "    lr.fit(xtrain,ytrain)\n",
    "    pred1=lr.predict(xtest)\n",
    "    ascore=accuracy_score(ytest,pred1)\n",
    "    print(ascore)"
   ]
  },
  {
   "cell_type": "code",
   "execution_count": 73,
   "id": "d2a1e291",
   "metadata": {},
   "outputs": [],
   "source": [
    "dt=DecisionTreeClassifier()"
   ]
  },
  {
   "cell_type": "code",
   "execution_count": 74,
   "id": "70105af2",
   "metadata": {},
   "outputs": [
    {
     "name": "stdout",
     "output_type": "stream",
     "text": [
      "0.8665086887835703\n",
      "0.8646129541864139\n",
      "0.863349131121643\n",
      "0.8660347551342812\n",
      "0.8671406003159557\n",
      "0.8703001579778831\n",
      "0.8674565560821484\n",
      "0.8699842022116904\n",
      "0.8671406003159557\n",
      "0.8641390205371248\n",
      "0.866824644549763\n",
      "0.8617693522906793\n",
      "0.859083728278041\n",
      "0.8671406003159557\n",
      "0.8644549763033176\n",
      "0.8666666666666667\n",
      "0.8671406003159557\n",
      "0.8614533965244866\n",
      "0.8703001579778831\n",
      "0.8687203791469195\n",
      "0.866824644549763\n",
      "0.8685624012638231\n",
      "0.868088467614534\n",
      "0.8688783570300158\n",
      "0.8582938388625593\n",
      "0.8622432859399684\n",
      "0.8720379146919431\n",
      "0.8661927330173775\n",
      "0.8649289099526066\n",
      "0.8723538704581358\n",
      "0.8717219589257504\n",
      "0.8663507109004739\n",
      "0.8649289099526066\n",
      "0.8747235387045813\n",
      "0.8646129541864139\n",
      "0.862085308056872\n",
      "0.8695102685624012\n",
      "0.8688783570300158\n",
      "0.8658767772511848\n",
      "0.8729857819905213\n",
      "0.8600315955766192\n",
      "0.8665086887835703\n",
      "0.863349131121643\n",
      "0.8672985781990521\n",
      "0.8663507109004739\n",
      "0.8709320695102686\n",
      "0.874565560821485\n",
      "0.8674565560821484\n",
      "0.8646129541864139\n",
      "0.8612954186413903\n"
     ]
    }
   ],
   "source": [
    "for i in range(0,50):\n",
    "    xtrain,xtest,ytrain,ytest=train_test_split(x,y,test_size=0.20,random_state=i)\n",
    "    dt.fit(xtrain,ytrain)\n",
    "    pred2=dt.predict(xtest)\n",
    "    ascore=accuracy_score(ytest,pred2)\n",
    "    print(ascore)"
   ]
  },
  {
   "cell_type": "code",
   "execution_count": 75,
   "id": "383ceb7a",
   "metadata": {},
   "outputs": [],
   "source": [
    "gnb=GaussianNB()"
   ]
  },
  {
   "cell_type": "code",
   "execution_count": 76,
   "id": "b501bbd3",
   "metadata": {},
   "outputs": [
    {
     "name": "stdout",
     "output_type": "stream",
     "text": [
      "0.8829383886255924\n",
      "0.885308056872038\n",
      "0.8807266982622433\n",
      "0.8816745655608215\n",
      "0.8807266982622433\n",
      "0.8883096366508689\n",
      "0.8837282780410742\n",
      "0.8805687203791469\n",
      "0.8867298578199052\n",
      "0.8843601895734597\n",
      "0.8875197472353871\n",
      "0.8774091627172196\n",
      "0.8830963665086888\n",
      "0.8805687203791469\n",
      "0.8906793048973144\n",
      "0.8883096366508689\n",
      "0.8848341232227488\n",
      "0.8842022116903634\n",
      "0.882306477093207\n",
      "0.8794628751974723\n",
      "0.885781990521327\n",
      "0.8807266982622433\n",
      "0.8837282780410742\n",
      "0.8780410742496051\n",
      "0.8819905213270142\n",
      "0.8894154818325435\n",
      "0.8870458135860979\n",
      "0.8840442338072669\n",
      "0.8785150078988941\n",
      "0.8886255924170616\n",
      "0.882780410742496\n",
      "0.8884676145339653\n",
      "0.8830963665086888\n",
      "0.8848341232227488\n",
      "0.8810426540284361\n",
      "0.8824644549763033\n",
      "0.8837282780410742\n",
      "0.8840442338072669\n",
      "0.8761453396524487\n",
      "0.8878357030015798\n",
      "0.8805687203791469\n",
      "0.8911532385466034\n",
      "0.8802527646129542\n",
      "0.8788309636650868\n",
      "0.8849921011058451\n",
      "0.8876777251184834\n",
      "0.888783570300158\n",
      "0.8856240126382307\n",
      "0.8840442338072669\n",
      "0.8789889415481833\n"
     ]
    }
   ],
   "source": [
    "for i in range(0,50):\n",
    "    xtrain,xtest,ytrain,ytest=train_test_split(x,y,test_size=0.20,random_state=i)\n",
    "    gnb.fit(xtrain,ytrain)\n",
    "    pred3=gnb.predict(xtest)\n",
    "    ascore=accuracy_score(ytest,pred3)\n",
    "    print(ascore)"
   ]
  },
  {
   "cell_type": "code",
   "execution_count": 77,
   "id": "096d1741",
   "metadata": {},
   "outputs": [],
   "source": [
    "bnb=BernoulliNB()"
   ]
  },
  {
   "cell_type": "code",
   "execution_count": 78,
   "id": "fe2c216d",
   "metadata": {},
   "outputs": [
    {
     "name": "stdout",
     "output_type": "stream",
     "text": [
      "0.8808846761453396\n",
      "0.8812006319115324\n",
      "0.8856240126382307\n",
      "0.8832543443917852\n",
      "0.8851500789889416\n",
      "0.8835703001579779\n",
      "0.8813586097946288\n",
      "0.8845181674565561\n",
      "0.8829383886255924\n",
      "0.8826224328593997\n",
      "0.8810426540284361\n",
      "0.8781990521327014\n",
      "0.8848341232227488\n",
      "0.8778830963665087\n",
      "0.885308056872038\n",
      "0.8837282780410742\n",
      "0.8766192733017377\n",
      "0.8775671406003159\n",
      "0.882780410742496\n",
      "0.8772511848341232\n",
      "0.8769352290679305\n",
      "0.8838862559241706\n",
      "0.8875197472353871\n",
      "0.879778830963665\n",
      "0.879778830963665\n",
      "0.8816745655608215\n",
      "0.8816745655608215\n",
      "0.8783570300157978\n",
      "0.8789889415481833\n",
      "0.8837282780410742\n",
      "0.8862559241706162\n",
      "0.8854660347551343\n",
      "0.8873617693522907\n",
      "0.8843601895734597\n",
      "0.879778830963665\n",
      "0.8770932069510269\n",
      "0.8830963665086888\n",
      "0.8818325434439178\n",
      "0.8800947867298579\n",
      "0.8815165876777251\n",
      "0.8777251184834123\n",
      "0.8804107424960506\n",
      "0.8846761453396524\n",
      "0.879778830963665\n",
      "0.8791469194312796\n",
      "0.8849921011058451\n",
      "0.8872037914691943\n",
      "0.8835703001579779\n",
      "0.8785150078988941\n",
      "0.8799368088467614\n"
     ]
    }
   ],
   "source": [
    "for i in range(0,50):\n",
    "    xtrain,xtest,ytrain,ytest=train_test_split(x,y,test_size=0.20,random_state=i)\n",
    "    bnb.fit(xtrain,ytrain)\n",
    "    pred4=bnb.predict(xtest)\n",
    "    ascore=accuracy_score(ytest,pred4)\n",
    "    print(ascore)"
   ]
  },
  {
   "cell_type": "code",
   "execution_count": 79,
   "id": "18d116f5",
   "metadata": {},
   "outputs": [],
   "source": [
    "rf=RandomForestClassifier()"
   ]
  },
  {
   "cell_type": "code",
   "execution_count": 80,
   "id": "df26a411",
   "metadata": {},
   "outputs": [
    {
     "name": "stdout",
     "output_type": "stream",
     "text": [
      "0.8951026856240126\n",
      "0.8990521327014218\n",
      "0.896998420221169\n",
      "0.8996840442338072\n",
      "0.9001579778830964\n",
      "0.9071090047393365\n",
      "0.9015797788309636\n",
      "0.9018957345971564\n",
      "0.9012638230647709\n",
      "0.8981042654028436\n"
     ]
    }
   ],
   "source": [
    "for i in range(0,10):\n",
    "    xtrain,xtest,ytrain,ytest=train_test_split(x,y,test_size=0.20,random_state=i)\n",
    "    rf.fit(xtrain,ytrain)\n",
    "    pred5=rf.predict(xtest)\n",
    "    ascore=accuracy_score(ytest,pred5)\n",
    "    print(ascore)"
   ]
  },
  {
   "cell_type": "code",
   "execution_count": 81,
   "id": "e80dc5a9",
   "metadata": {},
   "outputs": [],
   "source": [
    "kn=KNeighborsClassifier()"
   ]
  },
  {
   "cell_type": "code",
   "execution_count": 82,
   "id": "01711b5c",
   "metadata": {},
   "outputs": [
    {
     "name": "stdout",
     "output_type": "stream",
     "text": [
      "0.8789889415481833\n",
      "0.8826224328593997\n",
      "0.8838862559241706\n",
      "0.8843601895734597\n",
      "0.8838862559241706\n",
      "0.8846761453396524\n",
      "0.8832543443917852\n",
      "0.8843601895734597\n",
      "0.8813586097946288\n",
      "0.8832543443917852\n"
     ]
    }
   ],
   "source": [
    "for i in range(0,10):\n",
    "    xtrain,xtest,ytrain,ytest=train_test_split(x,y,test_size=0.20,random_state=i)\n",
    "    kn.fit(xtrain,ytrain)\n",
    "    pred6=kn.predict(xtest)\n",
    "    ascore=accuracy_score(ytest,pred6)\n",
    "    print(ascore)"
   ]
  },
  {
   "cell_type": "code",
   "execution_count": 83,
   "id": "b7711f46",
   "metadata": {},
   "outputs": [],
   "source": [
    "sg=SGDClassifier()"
   ]
  },
  {
   "cell_type": "code",
   "execution_count": 84,
   "id": "d5ea05a3",
   "metadata": {},
   "outputs": [
    {
     "name": "stdout",
     "output_type": "stream",
     "text": [
      "0.8600315955766192\n",
      "0.8090047393364929\n",
      "0.8860979462875197\n",
      "0.8756714060031595\n",
      "0.8260663507109005\n",
      "0.8061611374407583\n",
      "0.8593996840442338\n",
      "0.8601895734597157\n",
      "0.8846761453396524\n",
      "0.8537124802527646\n"
     ]
    }
   ],
   "source": [
    "for i in range(0,10):\n",
    "    xtrain,xtest,ytrain,ytest=train_test_split(x,y,test_size=0.20,random_state=i)\n",
    "    sg.fit(xtrain,ytrain)\n",
    "    pred7=sg.predict(xtest)\n",
    "    ascore=accuracy_score(ytest,pred7)\n",
    "    print(ascore)"
   ]
  },
  {
   "cell_type": "code",
   "execution_count": 85,
   "id": "6e425209",
   "metadata": {},
   "outputs": [],
   "source": [
    "rg=RidgeClassifier()"
   ]
  },
  {
   "cell_type": "code",
   "execution_count": 86,
   "id": "660d0925",
   "metadata": {},
   "outputs": [
    {
     "name": "stdout",
     "output_type": "stream",
     "text": [
      "0.8846761453396524\n",
      "0.8860979462875197\n",
      "0.8889415481832543\n",
      "0.8873617693522907\n",
      "0.8925750394944708\n",
      "0.8897314375987362\n",
      "0.8842022116903634\n",
      "0.8860979462875197\n",
      "0.8898894154818325\n",
      "0.8897314375987362\n"
     ]
    }
   ],
   "source": [
    "for i in range(0,10):\n",
    "    xtrain,xtest,ytrain,ytest=train_test_split(x,y,test_size=0.20,random_state=i)\n",
    "    rg.fit(xtrain,ytrain)\n",
    "    pred8=rg.predict(xtest)\n",
    "    ascore=accuracy_score(ytest,pred8)\n",
    "    print(ascore)"
   ]
  },
  {
   "cell_type": "markdown",
   "id": "f63a33fe",
   "metadata": {},
   "source": [
    "By testing the above algos with different random states, we found the algorithm Random Forest Classifier with 5 random state with above 90% accurate prediction. so we are doing the same below."
   ]
  },
  {
   "cell_type": "code",
   "execution_count": 87,
   "id": "14759260",
   "metadata": {},
   "outputs": [
    {
     "data": {
      "text/plain": [
       "RandomForestClassifier()"
      ]
     },
     "execution_count": 87,
     "metadata": {},
     "output_type": "execute_result"
    }
   ],
   "source": [
    "xtrain,xtest,ytrain,ytest=train_test_split(x,y,test_size=0.20,random_state=5)\n",
    "rf.fit(xtrain,ytrain)"
   ]
  },
  {
   "cell_type": "code",
   "execution_count": 88,
   "id": "10112c6c",
   "metadata": {},
   "outputs": [],
   "source": [
    "rfpred=rf.predict(xtest)"
   ]
  },
  {
   "cell_type": "code",
   "execution_count": 89,
   "id": "203b7d27",
   "metadata": {},
   "outputs": [
    {
     "data": {
      "text/plain": [
       "0.9058451816745655"
      ]
     },
     "execution_count": 89,
     "metadata": {},
     "output_type": "execute_result"
    }
   ],
   "source": [
    "accuracy_score(ytest,rfpred)"
   ]
  },
  {
   "cell_type": "code",
   "execution_count": 90,
   "id": "336e962c",
   "metadata": {},
   "outputs": [
    {
     "data": {
      "text/plain": [
       "array([[5430,  176],\n",
       "       [ 420,  304]], dtype=int64)"
      ]
     },
     "execution_count": 90,
     "metadata": {},
     "output_type": "execute_result"
    }
   ],
   "source": [
    "confusion_matrix(ytest,rfpred)"
   ]
  },
  {
   "cell_type": "markdown",
   "id": "310c739c",
   "metadata": {},
   "source": [
    "By the above confustion matrix, we found that out of approximately 10% of the not well predicted data, 185 rows are lying in False Positive and 415 Rows are lying in False Negative."
   ]
  },
  {
   "cell_type": "markdown",
   "id": "ac782b74",
   "metadata": {},
   "source": [
    "Now we are doing the Cross Validation with this model"
   ]
  },
  {
   "cell_type": "code",
   "execution_count": 91,
   "id": "80e3a966",
   "metadata": {},
   "outputs": [],
   "source": [
    "cv1=cross_val_score(rf,x,y,cv=KFold(n_splits=5))"
   ]
  },
  {
   "cell_type": "code",
   "execution_count": 92,
   "id": "3e82ff56",
   "metadata": {},
   "outputs": [
    {
     "data": {
      "text/plain": [
       "array([0.90126382, 0.90173776, 0.89840417, 0.89966819, 0.8999842 ])"
      ]
     },
     "execution_count": 92,
     "metadata": {},
     "output_type": "execute_result"
    }
   ],
   "source": [
    "cv1"
   ]
  },
  {
   "cell_type": "code",
   "execution_count": 93,
   "id": "6df7777c",
   "metadata": {},
   "outputs": [
    {
     "data": {
      "text/plain": [
       "0.9002116289594001"
      ]
     },
     "execution_count": 93,
     "metadata": {},
     "output_type": "execute_result"
    }
   ],
   "source": [
    "cv1.mean()"
   ]
  },
  {
   "cell_type": "code",
   "execution_count": 94,
   "id": "f1db7c6d",
   "metadata": {},
   "outputs": [],
   "source": [
    "cv2=cross_val_score(rf,x,y,cv=StratifiedKFold(n_splits=5))"
   ]
  },
  {
   "cell_type": "code",
   "execution_count": 95,
   "id": "89f271cd",
   "metadata": {},
   "outputs": [
    {
     "data": {
      "text/plain": [
       "array([0.89952607, 0.90157978, 0.89840417, 0.89856217, 0.89951019])"
      ]
     },
     "execution_count": 95,
     "metadata": {},
     "output_type": "execute_result"
    }
   ],
   "source": [
    "cv2"
   ]
  },
  {
   "cell_type": "code",
   "execution_count": 96,
   "id": "e29aadfd",
   "metadata": {},
   "outputs": [
    {
     "data": {
      "text/plain": [
       "0.8995164763518666"
      ]
     },
     "execution_count": 96,
     "metadata": {},
     "output_type": "execute_result"
    }
   ],
   "source": [
    "cv2.mean()"
   ]
  },
  {
   "cell_type": "code",
   "execution_count": 97,
   "id": "0e15532c",
   "metadata": {},
   "outputs": [],
   "source": [
    "cv3=cross_val_score(rf,x,y,cv=ShuffleSplit(train_size=0.8,test_size=0.2,n_splits=5))"
   ]
  },
  {
   "cell_type": "code",
   "execution_count": 98,
   "id": "1ed3b29e",
   "metadata": {},
   "outputs": [
    {
     "data": {
      "text/plain": [
       "array([0.9093207 , 0.90315956, 0.89952607, 0.90315956, 0.89873618])"
      ]
     },
     "execution_count": 98,
     "metadata": {},
     "output_type": "execute_result"
    }
   ],
   "source": [
    "cv3"
   ]
  },
  {
   "cell_type": "code",
   "execution_count": 99,
   "id": "ceae019e",
   "metadata": {},
   "outputs": [
    {
     "data": {
      "text/plain": [
       "0.9027804107424962"
      ]
     },
     "execution_count": 99,
     "metadata": {},
     "output_type": "execute_result"
    }
   ],
   "source": [
    "cv3.mean()"
   ]
  },
  {
   "cell_type": "markdown",
   "id": "61dea93b",
   "metadata": {},
   "source": [
    "By the above Cross Validation methods also we found approximately 90% accurate predictions. So now we are going to save our Random Forest Classifier ML Model"
   ]
  },
  {
   "cell_type": "code",
   "execution_count": 100,
   "id": "41fea895",
   "metadata": {},
   "outputs": [],
   "source": [
    "pickle.dump(rf, open('term_deposit', 'wb'))"
   ]
  },
  {
   "cell_type": "code",
   "execution_count": 101,
   "id": "9aeddbea",
   "metadata": {},
   "outputs": [],
   "source": [
    "rf_model=pickle.load(open('term_deposit', 'rb'))"
   ]
  },
  {
   "cell_type": "code",
   "execution_count": 102,
   "id": "9e8b4e24",
   "metadata": {},
   "outputs": [],
   "source": [
    "rf_model_pred=rf_model.predict(xtest)"
   ]
  },
  {
   "cell_type": "code",
   "execution_count": 103,
   "id": "445c99da",
   "metadata": {},
   "outputs": [
    {
     "data": {
      "text/plain": [
       "array([0, 0, 0, ..., 0, 1, 0])"
      ]
     },
     "execution_count": 103,
     "metadata": {},
     "output_type": "execute_result"
    }
   ],
   "source": [
    "rf_model_pred"
   ]
  },
  {
   "cell_type": "code",
   "execution_count": 104,
   "id": "457a9181",
   "metadata": {},
   "outputs": [
    {
     "data": {
      "text/plain": [
       "0.9058451816745655"
      ]
     },
     "execution_count": 104,
     "metadata": {},
     "output_type": "execute_result"
    }
   ],
   "source": [
    "accuracy_score(ytest,rf_model_pred)"
   ]
  },
  {
   "cell_type": "code",
   "execution_count": 105,
   "id": "e1bc48bf",
   "metadata": {},
   "outputs": [
    {
     "data": {
      "text/plain": [
       "array([[5430,  176],\n",
       "       [ 420,  304]], dtype=int64)"
      ]
     },
     "execution_count": 105,
     "metadata": {},
     "output_type": "execute_result"
    }
   ],
   "source": [
    "confusion_matrix(ytest,rf_model_pred)"
   ]
  },
  {
   "cell_type": "code",
   "execution_count": 106,
   "id": "6ea066d4",
   "metadata": {},
   "outputs": [
    {
     "data": {
      "text/plain": [
       "'              precision    recall  f1-score   support\\n\\n           0       0.93      0.97      0.95      5606\\n           1       0.63      0.42      0.50       724\\n\\n    accuracy                           0.91      6330\\n   macro avg       0.78      0.69      0.73      6330\\nweighted avg       0.89      0.91      0.90      6330\\n'"
      ]
     },
     "execution_count": 106,
     "metadata": {},
     "output_type": "execute_result"
    }
   ],
   "source": [
    "classification_report(ytest,rf_model_pred)"
   ]
  },
  {
   "cell_type": "markdown",
   "id": "41d94970",
   "metadata": {},
   "source": [
    "By using our saved ML Model, we are getting the same result with approx 90% accuracy as above. So now we are going to do the Hyper Parameter Tuning with this saved ML Model."
   ]
  },
  {
   "cell_type": "code",
   "execution_count": 107,
   "id": "128b6d67",
   "metadata": {},
   "outputs": [],
   "source": [
    "gs=GridSearchCV(estimator=rf,param_grid={'max_depth':[2,4,6],'max_features':[4,5],'min_samples_leaf':[2,3,4]},scoring='accuracy',cv=10,refit=True,return_train_score=True)"
   ]
  },
  {
   "cell_type": "code",
   "execution_count": 108,
   "id": "b00e9491",
   "metadata": {},
   "outputs": [
    {
     "data": {
      "text/plain": [
       "GridSearchCV(cv=10, estimator=RandomForestClassifier(),\n",
       "             param_grid={'max_depth': [2, 4, 6], 'max_features': [4, 5],\n",
       "                         'min_samples_leaf': [2, 3, 4]},\n",
       "             return_train_score=True, scoring='accuracy')"
      ]
     },
     "execution_count": 108,
     "metadata": {},
     "output_type": "execute_result"
    }
   ],
   "source": [
    "gs.fit(xtrain,ytrain)"
   ]
  },
  {
   "cell_type": "code",
   "execution_count": 109,
   "id": "7e6e502d",
   "metadata": {},
   "outputs": [],
   "source": [
    "HyPred=gs.best_estimator_.predict(xtest)"
   ]
  },
  {
   "cell_type": "code",
   "execution_count": 110,
   "id": "826a9884",
   "metadata": {},
   "outputs": [
    {
     "data": {
      "text/plain": [
       "array([0, 0, 0, ..., 0, 1, 0])"
      ]
     },
     "execution_count": 110,
     "metadata": {},
     "output_type": "execute_result"
    }
   ],
   "source": [
    "HyPred"
   ]
  },
  {
   "cell_type": "code",
   "execution_count": 111,
   "id": "b2ec071e",
   "metadata": {},
   "outputs": [
    {
     "data": {
      "text/plain": [
       "0.9015797788309636"
      ]
     },
     "execution_count": 111,
     "metadata": {},
     "output_type": "execute_result"
    }
   ],
   "source": [
    "accuracy_score(HyPred,ytest)"
   ]
  },
  {
   "cell_type": "markdown",
   "id": "ce681de1",
   "metadata": {},
   "source": [
    "The Hyper Parameter Tuning is also giving the same prediction of approximately 90% accuracy."
   ]
  },
  {
   "cell_type": "markdown",
   "id": "7c91fbab",
   "metadata": {},
   "source": [
    "So, for the prediction of Testing Data df2, first we have to drop the same columns, which we had droped from df1"
   ]
  },
  {
   "cell_type": "code",
   "execution_count": 112,
   "id": "c258a36d",
   "metadata": {},
   "outputs": [
    {
     "data": {
      "text/plain": [
       "Index(['age', 'job', 'marital', 'education', 'balance', 'housing', 'contact',\n",
       "       'month', 'duration', 'pdays', 'subscribed'],\n",
       "      dtype='object')"
      ]
     },
     "execution_count": 112,
     "metadata": {},
     "output_type": "execute_result"
    }
   ],
   "source": [
    "df1.columns"
   ]
  },
  {
   "cell_type": "code",
   "execution_count": 113,
   "id": "dd57e7ee",
   "metadata": {},
   "outputs": [
    {
     "data": {
      "text/html": [
       "<div>\n",
       "<style scoped>\n",
       "    .dataframe tbody tr th:only-of-type {\n",
       "        vertical-align: middle;\n",
       "    }\n",
       "\n",
       "    .dataframe tbody tr th {\n",
       "        vertical-align: top;\n",
       "    }\n",
       "\n",
       "    .dataframe thead th {\n",
       "        text-align: right;\n",
       "    }\n",
       "</style>\n",
       "<table border=\"1\" class=\"dataframe\">\n",
       "  <thead>\n",
       "    <tr style=\"text-align: right;\">\n",
       "      <th></th>\n",
       "      <th>age</th>\n",
       "      <th>job</th>\n",
       "      <th>marital</th>\n",
       "      <th>education</th>\n",
       "      <th>default</th>\n",
       "      <th>balance</th>\n",
       "      <th>housing</th>\n",
       "      <th>loan</th>\n",
       "      <th>contact</th>\n",
       "      <th>day</th>\n",
       "      <th>month</th>\n",
       "      <th>duration</th>\n",
       "      <th>campaign</th>\n",
       "      <th>pdays</th>\n",
       "      <th>previous</th>\n",
       "      <th>poutcome</th>\n",
       "    </tr>\n",
       "  </thead>\n",
       "  <tbody>\n",
       "    <tr>\n",
       "      <th>9060</th>\n",
       "      <td>30</td>\n",
       "      <td>9</td>\n",
       "      <td>0</td>\n",
       "      <td>1</td>\n",
       "      <td>0</td>\n",
       "      <td>3028</td>\n",
       "      <td>1</td>\n",
       "      <td>0</td>\n",
       "      <td>0</td>\n",
       "      <td>28</td>\n",
       "      <td>1</td>\n",
       "      <td>65</td>\n",
       "      <td>5</td>\n",
       "      <td>-1</td>\n",
       "      <td>0</td>\n",
       "      <td>3</td>\n",
       "    </tr>\n",
       "  </tbody>\n",
       "</table>\n",
       "</div>"
      ],
      "text/plain": [
       "      age  job  marital  education  default  balance  housing  loan  contact  \\\n",
       "9060   30    9        0          1        0     3028        1     0        0   \n",
       "\n",
       "      day  month  duration  campaign  pdays  previous  poutcome  \n",
       "9060   28      1        65         5     -1         0         3  "
      ]
     },
     "execution_count": 113,
     "metadata": {},
     "output_type": "execute_result"
    }
   ],
   "source": [
    "df2.sample()"
   ]
  },
  {
   "cell_type": "code",
   "execution_count": 114,
   "id": "dd4ddc07",
   "metadata": {},
   "outputs": [],
   "source": [
    "df2.drop(['default'],axis=1,inplace=True)\n",
    "df2.drop(['loan'],axis=1,inplace=True)\n",
    "df2.drop(['day'],axis=1,inplace=True)\n",
    "df2.drop(['campaign'],axis=1,inplace=True)\n",
    "df2.drop(['previous'],axis=1,inplace=True)\n",
    "df2.drop(['poutcome'],axis=1,inplace=True)"
   ]
  },
  {
   "cell_type": "code",
   "execution_count": 115,
   "id": "a55cb67f",
   "metadata": {},
   "outputs": [
    {
     "data": {
      "text/html": [
       "<div>\n",
       "<style scoped>\n",
       "    .dataframe tbody tr th:only-of-type {\n",
       "        vertical-align: middle;\n",
       "    }\n",
       "\n",
       "    .dataframe tbody tr th {\n",
       "        vertical-align: top;\n",
       "    }\n",
       "\n",
       "    .dataframe thead th {\n",
       "        text-align: right;\n",
       "    }\n",
       "</style>\n",
       "<table border=\"1\" class=\"dataframe\">\n",
       "  <thead>\n",
       "    <tr style=\"text-align: right;\">\n",
       "      <th></th>\n",
       "      <th>age</th>\n",
       "      <th>job</th>\n",
       "      <th>marital</th>\n",
       "      <th>education</th>\n",
       "      <th>balance</th>\n",
       "      <th>housing</th>\n",
       "      <th>contact</th>\n",
       "      <th>month</th>\n",
       "      <th>duration</th>\n",
       "      <th>pdays</th>\n",
       "    </tr>\n",
       "  </thead>\n",
       "  <tbody>\n",
       "    <tr>\n",
       "      <th>0</th>\n",
       "      <td>32</td>\n",
       "      <td>7</td>\n",
       "      <td>1</td>\n",
       "      <td>1</td>\n",
       "      <td>118</td>\n",
       "      <td>1</td>\n",
       "      <td>0</td>\n",
       "      <td>8</td>\n",
       "      <td>20</td>\n",
       "      <td>-1</td>\n",
       "    </tr>\n",
       "    <tr>\n",
       "      <th>1</th>\n",
       "      <td>78</td>\n",
       "      <td>5</td>\n",
       "      <td>0</td>\n",
       "      <td>0</td>\n",
       "      <td>2787</td>\n",
       "      <td>0</td>\n",
       "      <td>1</td>\n",
       "      <td>5</td>\n",
       "      <td>372</td>\n",
       "      <td>-1</td>\n",
       "    </tr>\n",
       "    <tr>\n",
       "      <th>2</th>\n",
       "      <td>31</td>\n",
       "      <td>6</td>\n",
       "      <td>2</td>\n",
       "      <td>2</td>\n",
       "      <td>144</td>\n",
       "      <td>1</td>\n",
       "      <td>2</td>\n",
       "      <td>8</td>\n",
       "      <td>676</td>\n",
       "      <td>-1</td>\n",
       "    </tr>\n",
       "    <tr>\n",
       "      <th>3</th>\n",
       "      <td>57</td>\n",
       "      <td>7</td>\n",
       "      <td>2</td>\n",
       "      <td>0</td>\n",
       "      <td>3777</td>\n",
       "      <td>1</td>\n",
       "      <td>1</td>\n",
       "      <td>8</td>\n",
       "      <td>65</td>\n",
       "      <td>-1</td>\n",
       "    </tr>\n",
       "    <tr>\n",
       "      <th>4</th>\n",
       "      <td>45</td>\n",
       "      <td>1</td>\n",
       "      <td>0</td>\n",
       "      <td>1</td>\n",
       "      <td>-705</td>\n",
       "      <td>0</td>\n",
       "      <td>2</td>\n",
       "      <td>5</td>\n",
       "      <td>111</td>\n",
       "      <td>-1</td>\n",
       "    </tr>\n",
       "    <tr>\n",
       "      <th>...</th>\n",
       "      <td>...</td>\n",
       "      <td>...</td>\n",
       "      <td>...</td>\n",
       "      <td>...</td>\n",
       "      <td>...</td>\n",
       "      <td>...</td>\n",
       "      <td>...</td>\n",
       "      <td>...</td>\n",
       "      <td>...</td>\n",
       "      <td>...</td>\n",
       "    </tr>\n",
       "    <tr>\n",
       "      <th>13559</th>\n",
       "      <td>39</td>\n",
       "      <td>4</td>\n",
       "      <td>1</td>\n",
       "      <td>2</td>\n",
       "      <td>45</td>\n",
       "      <td>0</td>\n",
       "      <td>0</td>\n",
       "      <td>1</td>\n",
       "      <td>148</td>\n",
       "      <td>-1</td>\n",
       "    </tr>\n",
       "    <tr>\n",
       "      <th>13560</th>\n",
       "      <td>54</td>\n",
       "      <td>1</td>\n",
       "      <td>1</td>\n",
       "      <td>0</td>\n",
       "      <td>2281</td>\n",
       "      <td>1</td>\n",
       "      <td>2</td>\n",
       "      <td>6</td>\n",
       "      <td>158</td>\n",
       "      <td>-1</td>\n",
       "    </tr>\n",
       "    <tr>\n",
       "      <th>13561</th>\n",
       "      <td>35</td>\n",
       "      <td>5</td>\n",
       "      <td>1</td>\n",
       "      <td>0</td>\n",
       "      <td>285</td>\n",
       "      <td>1</td>\n",
       "      <td>0</td>\n",
       "      <td>4</td>\n",
       "      <td>136</td>\n",
       "      <td>-1</td>\n",
       "    </tr>\n",
       "    <tr>\n",
       "      <th>13562</th>\n",
       "      <td>29</td>\n",
       "      <td>0</td>\n",
       "      <td>2</td>\n",
       "      <td>1</td>\n",
       "      <td>464</td>\n",
       "      <td>0</td>\n",
       "      <td>0</td>\n",
       "      <td>9</td>\n",
       "      <td>208</td>\n",
       "      <td>91</td>\n",
       "    </tr>\n",
       "    <tr>\n",
       "      <th>13563</th>\n",
       "      <td>29</td>\n",
       "      <td>0</td>\n",
       "      <td>1</td>\n",
       "      <td>1</td>\n",
       "      <td>2</td>\n",
       "      <td>1</td>\n",
       "      <td>0</td>\n",
       "      <td>8</td>\n",
       "      <td>339</td>\n",
       "      <td>362</td>\n",
       "    </tr>\n",
       "  </tbody>\n",
       "</table>\n",
       "<p>13564 rows × 10 columns</p>\n",
       "</div>"
      ],
      "text/plain": [
       "       age  job  marital  education  balance  housing  contact  month  \\\n",
       "0       32    7        1          1      118        1        0      8   \n",
       "1       78    5        0          0     2787        0        1      5   \n",
       "2       31    6        2          2      144        1        2      8   \n",
       "3       57    7        2          0     3777        1        1      8   \n",
       "4       45    1        0          1     -705        0        2      5   \n",
       "...    ...  ...      ...        ...      ...      ...      ...    ...   \n",
       "13559   39    4        1          2       45        0        0      1   \n",
       "13560   54    1        1          0     2281        1        2      6   \n",
       "13561   35    5        1          0      285        1        0      4   \n",
       "13562   29    0        2          1      464        0        0      9   \n",
       "13563   29    0        1          1        2        1        0      8   \n",
       "\n",
       "       duration  pdays  \n",
       "0            20     -1  \n",
       "1           372     -1  \n",
       "2           676     -1  \n",
       "3            65     -1  \n",
       "4           111     -1  \n",
       "...         ...    ...  \n",
       "13559       148     -1  \n",
       "13560       158     -1  \n",
       "13561       136     -1  \n",
       "13562       208     91  \n",
       "13563       339    362  \n",
       "\n",
       "[13564 rows x 10 columns]"
      ]
     },
     "execution_count": 115,
     "metadata": {},
     "output_type": "execute_result"
    }
   ],
   "source": [
    "df2"
   ]
  },
  {
   "cell_type": "markdown",
   "id": "293af5cb",
   "metadata": {},
   "source": [
    "Now the df2 traing data is same as df1 except the target variable as above"
   ]
  },
  {
   "cell_type": "markdown",
   "id": "9d95103b",
   "metadata": {},
   "source": [
    "So we are predicting our Testing dataset df2 by our save ML Model"
   ]
  },
  {
   "cell_type": "code",
   "execution_count": 116,
   "id": "d2d05cb5",
   "metadata": {},
   "outputs": [],
   "source": [
    "df2pred=rf_model.predict(df2)"
   ]
  },
  {
   "cell_type": "code",
   "execution_count": 117,
   "id": "13643348",
   "metadata": {},
   "outputs": [
    {
     "data": {
      "text/plain": [
       "array([0, 1, 1, ..., 1, 1, 1])"
      ]
     },
     "execution_count": 117,
     "metadata": {},
     "output_type": "execute_result"
    }
   ],
   "source": [
    "df2pred"
   ]
  },
  {
   "cell_type": "markdown",
   "id": "c11d2b9d",
   "metadata": {},
   "source": [
    "As we are unable to check the accuracy of our testing data prediction due to the target variable is not available. We are appending our testing dataset df2 with its own target variable predicted by the saved ML Model."
   ]
  },
  {
   "cell_type": "code",
   "execution_count": 118,
   "id": "f221cb50",
   "metadata": {},
   "outputs": [],
   "source": [
    "df2.insert(10, 'subscribed', df2pred)"
   ]
  },
  {
   "cell_type": "code",
   "execution_count": 119,
   "id": "ceec0eb7",
   "metadata": {},
   "outputs": [
    {
     "data": {
      "text/html": [
       "<div>\n",
       "<style scoped>\n",
       "    .dataframe tbody tr th:only-of-type {\n",
       "        vertical-align: middle;\n",
       "    }\n",
       "\n",
       "    .dataframe tbody tr th {\n",
       "        vertical-align: top;\n",
       "    }\n",
       "\n",
       "    .dataframe thead th {\n",
       "        text-align: right;\n",
       "    }\n",
       "</style>\n",
       "<table border=\"1\" class=\"dataframe\">\n",
       "  <thead>\n",
       "    <tr style=\"text-align: right;\">\n",
       "      <th></th>\n",
       "      <th>age</th>\n",
       "      <th>job</th>\n",
       "      <th>marital</th>\n",
       "      <th>education</th>\n",
       "      <th>balance</th>\n",
       "      <th>housing</th>\n",
       "      <th>contact</th>\n",
       "      <th>month</th>\n",
       "      <th>duration</th>\n",
       "      <th>pdays</th>\n",
       "      <th>subscribed</th>\n",
       "    </tr>\n",
       "  </thead>\n",
       "  <tbody>\n",
       "    <tr>\n",
       "      <th>0</th>\n",
       "      <td>32</td>\n",
       "      <td>7</td>\n",
       "      <td>1</td>\n",
       "      <td>1</td>\n",
       "      <td>118</td>\n",
       "      <td>1</td>\n",
       "      <td>0</td>\n",
       "      <td>8</td>\n",
       "      <td>20</td>\n",
       "      <td>-1</td>\n",
       "      <td>0</td>\n",
       "    </tr>\n",
       "    <tr>\n",
       "      <th>1</th>\n",
       "      <td>78</td>\n",
       "      <td>5</td>\n",
       "      <td>0</td>\n",
       "      <td>0</td>\n",
       "      <td>2787</td>\n",
       "      <td>0</td>\n",
       "      <td>1</td>\n",
       "      <td>5</td>\n",
       "      <td>372</td>\n",
       "      <td>-1</td>\n",
       "      <td>1</td>\n",
       "    </tr>\n",
       "    <tr>\n",
       "      <th>2</th>\n",
       "      <td>31</td>\n",
       "      <td>6</td>\n",
       "      <td>2</td>\n",
       "      <td>2</td>\n",
       "      <td>144</td>\n",
       "      <td>1</td>\n",
       "      <td>2</td>\n",
       "      <td>8</td>\n",
       "      <td>676</td>\n",
       "      <td>-1</td>\n",
       "      <td>1</td>\n",
       "    </tr>\n",
       "    <tr>\n",
       "      <th>3</th>\n",
       "      <td>57</td>\n",
       "      <td>7</td>\n",
       "      <td>2</td>\n",
       "      <td>0</td>\n",
       "      <td>3777</td>\n",
       "      <td>1</td>\n",
       "      <td>1</td>\n",
       "      <td>8</td>\n",
       "      <td>65</td>\n",
       "      <td>-1</td>\n",
       "      <td>1</td>\n",
       "    </tr>\n",
       "    <tr>\n",
       "      <th>4</th>\n",
       "      <td>45</td>\n",
       "      <td>1</td>\n",
       "      <td>0</td>\n",
       "      <td>1</td>\n",
       "      <td>-705</td>\n",
       "      <td>0</td>\n",
       "      <td>2</td>\n",
       "      <td>5</td>\n",
       "      <td>111</td>\n",
       "      <td>-1</td>\n",
       "      <td>1</td>\n",
       "    </tr>\n",
       "    <tr>\n",
       "      <th>...</th>\n",
       "      <td>...</td>\n",
       "      <td>...</td>\n",
       "      <td>...</td>\n",
       "      <td>...</td>\n",
       "      <td>...</td>\n",
       "      <td>...</td>\n",
       "      <td>...</td>\n",
       "      <td>...</td>\n",
       "      <td>...</td>\n",
       "      <td>...</td>\n",
       "      <td>...</td>\n",
       "    </tr>\n",
       "    <tr>\n",
       "      <th>13559</th>\n",
       "      <td>39</td>\n",
       "      <td>4</td>\n",
       "      <td>1</td>\n",
       "      <td>2</td>\n",
       "      <td>45</td>\n",
       "      <td>0</td>\n",
       "      <td>0</td>\n",
       "      <td>1</td>\n",
       "      <td>148</td>\n",
       "      <td>-1</td>\n",
       "      <td>0</td>\n",
       "    </tr>\n",
       "    <tr>\n",
       "      <th>13560</th>\n",
       "      <td>54</td>\n",
       "      <td>1</td>\n",
       "      <td>1</td>\n",
       "      <td>0</td>\n",
       "      <td>2281</td>\n",
       "      <td>1</td>\n",
       "      <td>2</td>\n",
       "      <td>6</td>\n",
       "      <td>158</td>\n",
       "      <td>-1</td>\n",
       "      <td>1</td>\n",
       "    </tr>\n",
       "    <tr>\n",
       "      <th>13561</th>\n",
       "      <td>35</td>\n",
       "      <td>5</td>\n",
       "      <td>1</td>\n",
       "      <td>0</td>\n",
       "      <td>285</td>\n",
       "      <td>1</td>\n",
       "      <td>0</td>\n",
       "      <td>4</td>\n",
       "      <td>136</td>\n",
       "      <td>-1</td>\n",
       "      <td>1</td>\n",
       "    </tr>\n",
       "    <tr>\n",
       "      <th>13562</th>\n",
       "      <td>29</td>\n",
       "      <td>0</td>\n",
       "      <td>2</td>\n",
       "      <td>1</td>\n",
       "      <td>464</td>\n",
       "      <td>0</td>\n",
       "      <td>0</td>\n",
       "      <td>9</td>\n",
       "      <td>208</td>\n",
       "      <td>91</td>\n",
       "      <td>1</td>\n",
       "    </tr>\n",
       "    <tr>\n",
       "      <th>13563</th>\n",
       "      <td>29</td>\n",
       "      <td>0</td>\n",
       "      <td>1</td>\n",
       "      <td>1</td>\n",
       "      <td>2</td>\n",
       "      <td>1</td>\n",
       "      <td>0</td>\n",
       "      <td>8</td>\n",
       "      <td>339</td>\n",
       "      <td>362</td>\n",
       "      <td>1</td>\n",
       "    </tr>\n",
       "  </tbody>\n",
       "</table>\n",
       "<p>13564 rows × 11 columns</p>\n",
       "</div>"
      ],
      "text/plain": [
       "       age  job  marital  education  balance  housing  contact  month  \\\n",
       "0       32    7        1          1      118        1        0      8   \n",
       "1       78    5        0          0     2787        0        1      5   \n",
       "2       31    6        2          2      144        1        2      8   \n",
       "3       57    7        2          0     3777        1        1      8   \n",
       "4       45    1        0          1     -705        0        2      5   \n",
       "...    ...  ...      ...        ...      ...      ...      ...    ...   \n",
       "13559   39    4        1          2       45        0        0      1   \n",
       "13560   54    1        1          0     2281        1        2      6   \n",
       "13561   35    5        1          0      285        1        0      4   \n",
       "13562   29    0        2          1      464        0        0      9   \n",
       "13563   29    0        1          1        2        1        0      8   \n",
       "\n",
       "       duration  pdays  subscribed  \n",
       "0            20     -1           0  \n",
       "1           372     -1           1  \n",
       "2           676     -1           1  \n",
       "3            65     -1           1  \n",
       "4           111     -1           1  \n",
       "...         ...    ...         ...  \n",
       "13559       148     -1           0  \n",
       "13560       158     -1           1  \n",
       "13561       136     -1           1  \n",
       "13562       208     91           1  \n",
       "13563       339    362           1  \n",
       "\n",
       "[13564 rows x 11 columns]"
      ]
     },
     "execution_count": 119,
     "metadata": {},
     "output_type": "execute_result"
    }
   ],
   "source": [
    "df2"
   ]
  },
  {
   "cell_type": "markdown",
   "id": "449c8869",
   "metadata": {},
   "source": [
    "Now we will concatenate both our traing and testing data and will apply our saved ML model on this combined data to see the predictions."
   ]
  },
  {
   "cell_type": "code",
   "execution_count": 120,
   "id": "e3ef7a12",
   "metadata": {},
   "outputs": [],
   "source": [
    "df=pd.concat([df1,df2],axis=0)"
   ]
  },
  {
   "cell_type": "code",
   "execution_count": 121,
   "id": "bd76e228",
   "metadata": {},
   "outputs": [
    {
     "data": {
      "text/html": [
       "<div>\n",
       "<style scoped>\n",
       "    .dataframe tbody tr th:only-of-type {\n",
       "        vertical-align: middle;\n",
       "    }\n",
       "\n",
       "    .dataframe tbody tr th {\n",
       "        vertical-align: top;\n",
       "    }\n",
       "\n",
       "    .dataframe thead th {\n",
       "        text-align: right;\n",
       "    }\n",
       "</style>\n",
       "<table border=\"1\" class=\"dataframe\">\n",
       "  <thead>\n",
       "    <tr style=\"text-align: right;\">\n",
       "      <th></th>\n",
       "      <th>age</th>\n",
       "      <th>job</th>\n",
       "      <th>marital</th>\n",
       "      <th>education</th>\n",
       "      <th>balance</th>\n",
       "      <th>housing</th>\n",
       "      <th>contact</th>\n",
       "      <th>month</th>\n",
       "      <th>duration</th>\n",
       "      <th>pdays</th>\n",
       "      <th>subscribed</th>\n",
       "    </tr>\n",
       "  </thead>\n",
       "  <tbody>\n",
       "    <tr>\n",
       "      <th>0</th>\n",
       "      <td>56</td>\n",
       "      <td>0</td>\n",
       "      <td>1</td>\n",
       "      <td>3</td>\n",
       "      <td>85.931792</td>\n",
       "      <td>0</td>\n",
       "      <td>1</td>\n",
       "      <td>9</td>\n",
       "      <td>11.266499</td>\n",
       "      <td>0.000000</td>\n",
       "      <td>0</td>\n",
       "    </tr>\n",
       "    <tr>\n",
       "      <th>1</th>\n",
       "      <td>31</td>\n",
       "      <td>11</td>\n",
       "      <td>1</td>\n",
       "      <td>1</td>\n",
       "      <td>1.464102</td>\n",
       "      <td>0</td>\n",
       "      <td>0</td>\n",
       "      <td>5</td>\n",
       "      <td>17.078784</td>\n",
       "      <td>0.000000</td>\n",
       "      <td>0</td>\n",
       "    </tr>\n",
       "    <tr>\n",
       "      <th>2</th>\n",
       "      <td>27</td>\n",
       "      <td>7</td>\n",
       "      <td>1</td>\n",
       "      <td>1</td>\n",
       "      <td>57.699246</td>\n",
       "      <td>1</td>\n",
       "      <td>0</td>\n",
       "      <td>5</td>\n",
       "      <td>28.983867</td>\n",
       "      <td>0.000000</td>\n",
       "      <td>0</td>\n",
       "    </tr>\n",
       "    <tr>\n",
       "      <th>3</th>\n",
       "      <td>57</td>\n",
       "      <td>4</td>\n",
       "      <td>0</td>\n",
       "      <td>2</td>\n",
       "      <td>112.664729</td>\n",
       "      <td>0</td>\n",
       "      <td>0</td>\n",
       "      <td>6</td>\n",
       "      <td>56.889727</td>\n",
       "      <td>16.330303</td>\n",
       "      <td>1</td>\n",
       "    </tr>\n",
       "    <tr>\n",
       "      <th>4</th>\n",
       "      <td>31</td>\n",
       "      <td>9</td>\n",
       "      <td>1</td>\n",
       "      <td>1</td>\n",
       "      <td>19.817424</td>\n",
       "      <td>1</td>\n",
       "      <td>0</td>\n",
       "      <td>3</td>\n",
       "      <td>36.987177</td>\n",
       "      <td>0.000000</td>\n",
       "      <td>0</td>\n",
       "    </tr>\n",
       "    <tr>\n",
       "      <th>...</th>\n",
       "      <td>...</td>\n",
       "      <td>...</td>\n",
       "      <td>...</td>\n",
       "      <td>...</td>\n",
       "      <td>...</td>\n",
       "      <td>...</td>\n",
       "      <td>...</td>\n",
       "      <td>...</td>\n",
       "      <td>...</td>\n",
       "      <td>...</td>\n",
       "      <td>...</td>\n",
       "    </tr>\n",
       "    <tr>\n",
       "      <th>13559</th>\n",
       "      <td>39</td>\n",
       "      <td>4</td>\n",
       "      <td>1</td>\n",
       "      <td>2</td>\n",
       "      <td>45.000000</td>\n",
       "      <td>0</td>\n",
       "      <td>0</td>\n",
       "      <td>1</td>\n",
       "      <td>148.000000</td>\n",
       "      <td>-1.000000</td>\n",
       "      <td>0</td>\n",
       "    </tr>\n",
       "    <tr>\n",
       "      <th>13560</th>\n",
       "      <td>54</td>\n",
       "      <td>1</td>\n",
       "      <td>1</td>\n",
       "      <td>0</td>\n",
       "      <td>2281.000000</td>\n",
       "      <td>1</td>\n",
       "      <td>2</td>\n",
       "      <td>6</td>\n",
       "      <td>158.000000</td>\n",
       "      <td>-1.000000</td>\n",
       "      <td>1</td>\n",
       "    </tr>\n",
       "    <tr>\n",
       "      <th>13561</th>\n",
       "      <td>35</td>\n",
       "      <td>5</td>\n",
       "      <td>1</td>\n",
       "      <td>0</td>\n",
       "      <td>285.000000</td>\n",
       "      <td>1</td>\n",
       "      <td>0</td>\n",
       "      <td>4</td>\n",
       "      <td>136.000000</td>\n",
       "      <td>-1.000000</td>\n",
       "      <td>1</td>\n",
       "    </tr>\n",
       "    <tr>\n",
       "      <th>13562</th>\n",
       "      <td>29</td>\n",
       "      <td>0</td>\n",
       "      <td>2</td>\n",
       "      <td>1</td>\n",
       "      <td>464.000000</td>\n",
       "      <td>0</td>\n",
       "      <td>0</td>\n",
       "      <td>9</td>\n",
       "      <td>208.000000</td>\n",
       "      <td>91.000000</td>\n",
       "      <td>1</td>\n",
       "    </tr>\n",
       "    <tr>\n",
       "      <th>13563</th>\n",
       "      <td>29</td>\n",
       "      <td>0</td>\n",
       "      <td>1</td>\n",
       "      <td>1</td>\n",
       "      <td>2.000000</td>\n",
       "      <td>1</td>\n",
       "      <td>0</td>\n",
       "      <td>8</td>\n",
       "      <td>339.000000</td>\n",
       "      <td>362.000000</td>\n",
       "      <td>1</td>\n",
       "    </tr>\n",
       "  </tbody>\n",
       "</table>\n",
       "<p>45211 rows × 11 columns</p>\n",
       "</div>"
      ],
      "text/plain": [
       "       age  job  marital  education      balance  housing  contact  month  \\\n",
       "0       56    0        1          3    85.931792        0        1      9   \n",
       "1       31   11        1          1     1.464102        0        0      5   \n",
       "2       27    7        1          1    57.699246        1        0      5   \n",
       "3       57    4        0          2   112.664729        0        0      6   \n",
       "4       31    9        1          1    19.817424        1        0      3   \n",
       "...    ...  ...      ...        ...          ...      ...      ...    ...   \n",
       "13559   39    4        1          2    45.000000        0        0      1   \n",
       "13560   54    1        1          0  2281.000000        1        2      6   \n",
       "13561   35    5        1          0   285.000000        1        0      4   \n",
       "13562   29    0        2          1   464.000000        0        0      9   \n",
       "13563   29    0        1          1     2.000000        1        0      8   \n",
       "\n",
       "         duration       pdays  subscribed  \n",
       "0       11.266499    0.000000           0  \n",
       "1       17.078784    0.000000           0  \n",
       "2       28.983867    0.000000           0  \n",
       "3       56.889727   16.330303           1  \n",
       "4       36.987177    0.000000           0  \n",
       "...           ...         ...         ...  \n",
       "13559  148.000000   -1.000000           0  \n",
       "13560  158.000000   -1.000000           1  \n",
       "13561  136.000000   -1.000000           1  \n",
       "13562  208.000000   91.000000           1  \n",
       "13563  339.000000  362.000000           1  \n",
       "\n",
       "[45211 rows x 11 columns]"
      ]
     },
     "execution_count": 121,
     "metadata": {},
     "output_type": "execute_result"
    }
   ],
   "source": [
    "df"
   ]
  },
  {
   "cell_type": "code",
   "execution_count": 122,
   "id": "ece1edcc",
   "metadata": {},
   "outputs": [
    {
     "data": {
      "text/plain": [
       "age           0\n",
       "job           0\n",
       "marital       0\n",
       "education     0\n",
       "balance       0\n",
       "housing       0\n",
       "contact       0\n",
       "month         0\n",
       "duration      0\n",
       "pdays         0\n",
       "subscribed    0\n",
       "dtype: int64"
      ]
     },
     "execution_count": 122,
     "metadata": {},
     "output_type": "execute_result"
    }
   ],
   "source": [
    "df.isnull().sum()"
   ]
  },
  {
   "cell_type": "code",
   "execution_count": 123,
   "id": "78bb0629",
   "metadata": {},
   "outputs": [
    {
     "data": {
      "text/plain": [
       "(45211, 11)"
      ]
     },
     "execution_count": 123,
     "metadata": {},
     "output_type": "execute_result"
    }
   ],
   "source": [
    "df.shape"
   ]
  },
  {
   "cell_type": "code",
   "execution_count": 124,
   "id": "707f11d3",
   "metadata": {},
   "outputs": [],
   "source": [
    "dfx=df.iloc[:,0:-1]"
   ]
  },
  {
   "cell_type": "code",
   "execution_count": 125,
   "id": "ccf307ab",
   "metadata": {},
   "outputs": [],
   "source": [
    "dfy=df.iloc[:,-1]"
   ]
  },
  {
   "cell_type": "code",
   "execution_count": 126,
   "id": "96361b53",
   "metadata": {},
   "outputs": [
    {
     "data": {
      "text/plain": [
       "(45211, 10)"
      ]
     },
     "execution_count": 126,
     "metadata": {},
     "output_type": "execute_result"
    }
   ],
   "source": [
    "dfx.shape"
   ]
  },
  {
   "cell_type": "code",
   "execution_count": 127,
   "id": "106e9aaf",
   "metadata": {},
   "outputs": [
    {
     "data": {
      "text/plain": [
       "(45211,)"
      ]
     },
     "execution_count": 127,
     "metadata": {},
     "output_type": "execute_result"
    }
   ],
   "source": [
    "dfy.shape"
   ]
  },
  {
   "cell_type": "code",
   "execution_count": 128,
   "id": "5c230f21",
   "metadata": {},
   "outputs": [],
   "source": [
    "dfpred=rf_model.predict(dfx)"
   ]
  },
  {
   "cell_type": "code",
   "execution_count": 129,
   "id": "76927c14",
   "metadata": {},
   "outputs": [
    {
     "data": {
      "text/plain": [
       "0.986817367454823"
      ]
     },
     "execution_count": 129,
     "metadata": {},
     "output_type": "execute_result"
    }
   ],
   "source": [
    "accuracy_score(dfy,dfpred)"
   ]
  },
  {
   "cell_type": "code",
   "execution_count": 130,
   "id": "31b19e01",
   "metadata": {},
   "outputs": [
    {
     "data": {
      "text/plain": [
       "array([[32173,   176],\n",
       "       [  420, 12442]], dtype=int64)"
      ]
     },
     "execution_count": 130,
     "metadata": {},
     "output_type": "execute_result"
    }
   ],
   "source": [
    "confusion_matrix(dfy,dfpred)"
   ]
  },
  {
   "cell_type": "markdown",
   "id": "23abd81e",
   "metadata": {},
   "source": [
    "By applying our combined dataset to the saved ML Model, we are getting the prediction accuracy of 99% approx as above."
   ]
  },
  {
   "cell_type": "markdown",
   "id": "b4e46b48",
   "metadata": {},
   "source": [
    "We may also apply the cross validation on the combined dataset to see the results."
   ]
  },
  {
   "cell_type": "code",
   "execution_count": 131,
   "id": "2a6870a8",
   "metadata": {},
   "outputs": [],
   "source": [
    "cv1=cross_val_score(rf,dfx,dfy,cv=KFold(n_splits=5))"
   ]
  },
  {
   "cell_type": "code",
   "execution_count": 132,
   "id": "a1a73ad0",
   "metadata": {},
   "outputs": [
    {
     "data": {
      "text/plain": [
       "0.8981883308490733"
      ]
     },
     "execution_count": 132,
     "metadata": {},
     "output_type": "execute_result"
    }
   ],
   "source": [
    "cv1.mean()"
   ]
  },
  {
   "cell_type": "code",
   "execution_count": 133,
   "id": "de77d719",
   "metadata": {},
   "outputs": [],
   "source": [
    "cv2=cross_val_score(rf,dfx,dfy,cv=StratifiedKFold(n_splits=5))"
   ]
  },
  {
   "cell_type": "code",
   "execution_count": 134,
   "id": "f8fa9e09",
   "metadata": {},
   "outputs": [
    {
     "data": {
      "text/plain": [
       "0.8105564989294066"
      ]
     },
     "execution_count": 134,
     "metadata": {},
     "output_type": "execute_result"
    }
   ],
   "source": [
    "cv2.mean()"
   ]
  },
  {
   "cell_type": "code",
   "execution_count": 135,
   "id": "e7b4c690",
   "metadata": {},
   "outputs": [],
   "source": [
    "cv3=cross_val_score(rf,dfx,dfy,cv=ShuffleSplit(train_size=0.7,test_size=0.3,n_splits=5))"
   ]
  },
  {
   "cell_type": "code",
   "execution_count": 136,
   "id": "e1cc799b",
   "metadata": {},
   "outputs": [
    {
     "data": {
      "text/plain": [
       "0.9006782659982306"
      ]
     },
     "execution_count": 136,
     "metadata": {},
     "output_type": "execute_result"
    }
   ],
   "source": [
    "cv3.mean()"
   ]
  },
  {
   "cell_type": "markdown",
   "id": "d4ddbf66",
   "metadata": {},
   "source": [
    "So by cross validation, we are getting prediction accuracy of nearby 90%"
   ]
  },
  {
   "cell_type": "markdown",
   "id": "637fefd9",
   "metadata": {},
   "source": [
    "We have saved & used the Random Forest Classifier model, did the Hyper Parameter Tuning & Cross Validations, and got the results of prediction accuracy between 90% to 99% approximately on our Training, Testing & Combined Datasets."
   ]
  }
 ],
 "metadata": {
  "kernelspec": {
   "display_name": "Python 3 (ipykernel)",
   "language": "python",
   "name": "python3"
  },
  "language_info": {
   "codemirror_mode": {
    "name": "ipython",
    "version": 3
   },
   "file_extension": ".py",
   "mimetype": "text/x-python",
   "name": "python",
   "nbconvert_exporter": "python",
   "pygments_lexer": "ipython3",
   "version": "3.9.13"
  }
 },
 "nbformat": 4,
 "nbformat_minor": 5
}
